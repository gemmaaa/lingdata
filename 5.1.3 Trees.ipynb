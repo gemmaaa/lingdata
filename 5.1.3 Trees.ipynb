{
 "cells": [
  {
   "cell_type": "code",
   "execution_count": 4,
   "metadata": {},
   "outputs": [],
   "source": [
    "import pandas as pd\n",
    "import numpy as np\n",
    "import random"
   ]
  },
  {
   "cell_type": "markdown",
   "metadata": {},
   "source": [
    "Implement a binary tree, which is filled with 15 pieces of random data. Your job is to then write a program to traverse the tree using a breadth first traversal. If you want additional practice, try other forms of traversal."
   ]
  },
  {
   "cell_type": "code",
   "execution_count": 2,
   "metadata": {},
   "outputs": [],
   "source": [
    "class Node:\n",
    "    def __init__(self, val):\n",
    "        self.left = None\n",
    "        self.right = None\n",
    "        self.val = val"
   ]
  },
  {
   "cell_type": "code",
   "execution_count": 79,
   "metadata": {},
   "outputs": [
    {
     "name": "stdout",
     "output_type": "stream",
     "text": [
      "[40, 28, 43, 47, 20, 6, 9, 37, 1, 48, 24, 41, 32, 38, 42]\n"
     ]
    }
   ],
   "source": [
    "rando = random.sample(range(1,50),15)\n",
    "print(rando)"
   ]
  },
  {
   "cell_type": "code",
   "execution_count": 80,
   "metadata": {},
   "outputs": [
    {
     "data": {
      "text/plain": [
       "[1, 6, 9, 20, 24, 28, 32, 37, 38, 40, 41, 42, 43, 47, 48]"
      ]
     },
     "execution_count": 80,
     "metadata": {},
     "output_type": "execute_result"
    }
   ],
   "source": [
    "sorted(rando)"
   ]
  },
  {
   "cell_type": "code",
   "execution_count": 71,
   "metadata": {},
   "outputs": [],
   "source": [
    "def create_bsn(array):\n",
    "    \n",
    "    # get the middle value of the array so the tree will be evenly split\n",
    "    order = sorted(array)\n",
    "    midpoint = array[(len(array)//2)]\n",
    " \n",
    "    # make the root the midpoint\n",
    "    root = Node(midpoint)\n",
    "    # and remove that from the array so as to not duplicate it in the tree\n",
    "    array.remove(midpoint)\n",
    "    \n",
    "    # go through the rest of the items and insert them into the tree\n",
    "    for item in array:\n",
    "        insert(item, root)\n",
    "    \n",
    "    return root\n",
    "  \n",
    "# recursively insert\n",
    "# if the value is greater than or equal to root, it will go to the right\n",
    "\n",
    "def insert(value, root):\n",
    "    if isinstance(value,Node):\n",
    "        Noded = value\n",
    "    else:\n",
    "        Noded = Node(value)\n",
    "    \n",
    "    if root == None:\n",
    "        root = Noded\n",
    "        print (root.val)\n",
    "        \n",
    "    elif Noded.val < root.val:\n",
    "        if root.left == None:\n",
    "            root.left = Noded\n",
    "        else:\n",
    "            return insert(Noded, root.left)\n",
    "    else:\n",
    "        if root.right == None:\n",
    "            root.right = Noded\n",
    "        else:\n",
    "            return insert(Noded, root.right)\n",
    "            "
   ]
  },
  {
   "cell_type": "code",
   "execution_count": 81,
   "metadata": {},
   "outputs": [],
   "source": [
    "# create the tree with the random list generated above\n",
    "\n",
    "bsn_root = Node(28)\n",
    "\n",
    "for item in rando:\n",
    "    insert(item, bsn_root)"
   ]
  },
  {
   "cell_type": "markdown",
   "metadata": {},
   "source": [
    " Your job is to then write a program to traverse the tree using a breadth first traversal."
   ]
  },
  {
   "cell_type": "code",
   "execution_count": 82,
   "metadata": {},
   "outputs": [],
   "source": [
    "bsn_root_v2 = create_bsn(rando)"
   ]
  },
  {
   "cell_type": "code",
   "execution_count": 83,
   "metadata": {},
   "outputs": [],
   "source": [
    "def print_breadth(root):\n",
    "    if root != None:\n",
    "        print(root.val)\n",
    "        return print_breadth(root.left), print_breadth(root.right)\n"
   ]
  },
  {
   "cell_type": "code",
   "execution_count": 84,
   "metadata": {},
   "outputs": [
    {
     "name": "stdout",
     "output_type": "stream",
     "text": [
      "28\n",
      "20\n",
      "6\n",
      "1\n",
      "9\n",
      "24\n",
      "40\n",
      "28\n",
      "37\n",
      "32\n",
      "38\n",
      "43\n",
      "41\n",
      "42\n",
      "47\n",
      "48\n"
     ]
    },
    {
     "data": {
      "text/plain": [
       "((((None, None), (None, None)), (None, None)),\n",
       " ((None, ((None, None), (None, None))),\n",
       "  ((None, (None, None)), (None, (None, None)))))"
      ]
     },
     "execution_count": 84,
     "metadata": {},
     "output_type": "execute_result"
    }
   ],
   "source": [
    "print_breadth(bsn_root)"
   ]
  },
  {
   "cell_type": "code",
   "execution_count": 85,
   "metadata": {},
   "outputs": [
    {
     "name": "stdout",
     "output_type": "stream",
     "text": [
      "37\n",
      "28\n",
      "20\n",
      "6\n",
      "1\n",
      "9\n",
      "24\n",
      "32\n",
      "40\n",
      "38\n",
      "43\n",
      "41\n",
      "42\n",
      "47\n",
      "48\n"
     ]
    },
    {
     "data": {
      "text/plain": [
       "(((((None, None), (None, None)), (None, None)), (None, None)),\n",
       " ((None, None), ((None, (None, None)), (None, (None, None)))))"
      ]
     },
     "execution_count": 85,
     "metadata": {},
     "output_type": "execute_result"
    }
   ],
   "source": [
    "print_breadth(bsn_root_v2)"
   ]
  },
  {
   "cell_type": "code",
   "execution_count": null,
   "metadata": {},
   "outputs": [],
   "source": []
  }
 ],
 "metadata": {
  "kernelspec": {
   "display_name": "Python 3",
   "language": "python",
   "name": "python3"
  },
  "language_info": {
   "codemirror_mode": {
    "name": "ipython",
    "version": 3
   },
   "file_extension": ".py",
   "mimetype": "text/x-python",
   "name": "python",
   "nbconvert_exporter": "python",
   "pygments_lexer": "ipython3",
   "version": "3.6.5"
  }
 },
 "nbformat": 4,
 "nbformat_minor": 2
}
