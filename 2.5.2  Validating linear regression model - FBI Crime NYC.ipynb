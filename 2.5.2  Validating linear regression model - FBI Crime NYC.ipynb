{
 "cells": [
  {
   "cell_type": "markdown",
   "metadata": {},
   "source": [
    "## 2.5.2. Validating a linear regression model\n"
   ]
  },
  {
   "cell_type": "code",
   "execution_count": 1,
   "metadata": {},
   "outputs": [],
   "source": [
    "%matplotlib inline\n",
    "import numpy as np\n",
    "import pandas as pd\n",
    "import scipy\n",
    "import sklearn\n",
    "import matplotlib.pyplot as plt\n",
    "import seaborn as sns\n",
    "from sklearn import linear_model\n",
    "import math"
   ]
  },
  {
   "cell_type": "code",
   "execution_count": 2,
   "metadata": {},
   "outputs": [],
   "source": [
    "path = (\"/Users/gemma/Documents/data science/DS bootcamp/table_8_offenses_known_to_law_enforcement_new_york_by_city_2013.csv\"\n",
    "            )\n",
    "df = pd.read_csv(path, delimiter= ',', encoding='latin-1',header=0)\n"
   ]
  },
  {
   "cell_type": "code",
   "execution_count": 3,
   "metadata": {},
   "outputs": [
    {
     "name": "stdout",
     "output_type": "stream",
     "text": [
      "['City' 'Population' 'Violent\\ncrime'\n",
      " 'Murder and\\nnonnegligent\\nmanslaughter' 'Rape\\n(revised\\ndefinition)1'\n",
      " 'Rape\\n(legacy\\ndefinition)2' 'Robbery' 'Aggravated\\nassault'\n",
      " 'Property\\ncrime' 'Burglary' 'Larceny-\\ntheft' 'Motor\\nvehicle\\ntheft'\n",
      " 'Arson3']\n"
     ]
    }
   ],
   "source": [
    "# getting names of columns to access them more easily\n",
    "# and renaming murder because the name is messy\n",
    "\n",
    "colnames = df.columns.values\n",
    "print(colnames)\n",
    "\n",
    "# renamed it originally but later on wasn't necessary bc i dropped the columns\n",
    "#df.rename({'Murder and\\nnonnegligent\\nmanslaughter' : 'Murder etc'}, axis='columns', inplace=True)\n"
   ]
  },
  {
   "cell_type": "code",
   "execution_count": 4,
   "metadata": {},
   "outputs": [
    {
     "data": {
      "text/html": [
       "<div>\n",
       "<style scoped>\n",
       "    .dataframe tbody tr th:only-of-type {\n",
       "        vertical-align: middle;\n",
       "    }\n",
       "\n",
       "    .dataframe tbody tr th {\n",
       "        vertical-align: top;\n",
       "    }\n",
       "\n",
       "    .dataframe thead th {\n",
       "        text-align: right;\n",
       "    }\n",
       "</style>\n",
       "<table border=\"1\" class=\"dataframe\">\n",
       "  <thead>\n",
       "    <tr style=\"text-align: right;\">\n",
       "      <th></th>\n",
       "      <th>City</th>\n",
       "      <th>Population</th>\n",
       "      <th>Violent\n",
       "crime</th>\n",
       "      <th>Murder and\n",
       "nonnegligent\n",
       "manslaughter</th>\n",
       "      <th>Rape\n",
       "(revised\n",
       "definition)1</th>\n",
       "      <th>Rape\n",
       "(legacy\n",
       "definition)2</th>\n",
       "      <th>Robbery</th>\n",
       "      <th>Aggravated\n",
       "assault</th>\n",
       "      <th>Property\n",
       "crime</th>\n",
       "      <th>Burglary</th>\n",
       "      <th>Larceny-\n",
       "theft</th>\n",
       "      <th>Motor\n",
       "vehicle\n",
       "theft</th>\n",
       "      <th>Arson3</th>\n",
       "    </tr>\n",
       "  </thead>\n",
       "  <tbody>\n",
       "    <tr>\n",
       "      <th>0</th>\n",
       "      <td>Adams Village</td>\n",
       "      <td>1,861</td>\n",
       "      <td>0</td>\n",
       "      <td>0.0</td>\n",
       "      <td>NaN</td>\n",
       "      <td>0</td>\n",
       "      <td>0</td>\n",
       "      <td>0</td>\n",
       "      <td>12</td>\n",
       "      <td>2</td>\n",
       "      <td>10</td>\n",
       "      <td>0</td>\n",
       "      <td>0.0</td>\n",
       "    </tr>\n",
       "    <tr>\n",
       "      <th>1</th>\n",
       "      <td>Addison Town and Village</td>\n",
       "      <td>2,577</td>\n",
       "      <td>3</td>\n",
       "      <td>0.0</td>\n",
       "      <td>NaN</td>\n",
       "      <td>0</td>\n",
       "      <td>0</td>\n",
       "      <td>3</td>\n",
       "      <td>24</td>\n",
       "      <td>3</td>\n",
       "      <td>20</td>\n",
       "      <td>1</td>\n",
       "      <td>0.0</td>\n",
       "    </tr>\n",
       "    <tr>\n",
       "      <th>2</th>\n",
       "      <td>Akron Village</td>\n",
       "      <td>2,846</td>\n",
       "      <td>3</td>\n",
       "      <td>0.0</td>\n",
       "      <td>NaN</td>\n",
       "      <td>0</td>\n",
       "      <td>0</td>\n",
       "      <td>3</td>\n",
       "      <td>16</td>\n",
       "      <td>1</td>\n",
       "      <td>15</td>\n",
       "      <td>0</td>\n",
       "      <td>0.0</td>\n",
       "    </tr>\n",
       "  </tbody>\n",
       "</table>\n",
       "</div>"
      ],
      "text/plain": [
       "                       City Population Violent\\ncrime  \\\n",
       "0             Adams Village      1,861              0   \n",
       "1  Addison Town and Village      2,577              3   \n",
       "2             Akron Village      2,846              3   \n",
       "\n",
       "   Murder and\\nnonnegligent\\nmanslaughter  Rape\\n(revised\\ndefinition)1  \\\n",
       "0                                     0.0                           NaN   \n",
       "1                                     0.0                           NaN   \n",
       "2                                     0.0                           NaN   \n",
       "\n",
       "  Rape\\n(legacy\\ndefinition)2 Robbery Aggravated\\nassault Property\\ncrime  \\\n",
       "0                           0       0                   0              12   \n",
       "1                           0       0                   3              24   \n",
       "2                           0       0                   3              16   \n",
       "\n",
       "  Burglary Larceny-\\ntheft Motor\\nvehicle\\ntheft  Arson3  \n",
       "0        2              10                     0     0.0  \n",
       "1        3              20                     1     0.0  \n",
       "2        1              15                     0     0.0  "
      ]
     },
     "execution_count": 4,
     "metadata": {},
     "output_type": "execute_result"
    }
   ],
   "source": [
    "df.head(3)\n"
   ]
  },
  {
   "cell_type": "markdown",
   "metadata": {},
   "source": [
    "A glimpse at the data"
   ]
  },
  {
   "cell_type": "code",
   "execution_count": 5,
   "metadata": {},
   "outputs": [],
   "source": [
    "# adding binary features - murder (or robbery) > 0 = 1, else 0\n",
    "\n",
    "df['Murder bin'] = np.where(df[colnames[3]]==0, 0, 1)\n",
    "df['Robbery bin'] = np.where(df['Robbery'] == 0, 0, 1)\n",
    "df['Aggravated asault bin'] = np.where(df['Aggravated\\nassault'] == 0,0,1)"
   ]
  },
  {
   "cell_type": "code",
   "execution_count": 6,
   "metadata": {
    "scrolled": true
   },
   "outputs": [],
   "source": [
    "# making the data frame i'll use for the regression\n",
    "\n",
    "crime = df.drop(labels=colnames[2:8], axis=1)\n",
    "crime.drop(labels=colnames[10:13], axis=1, inplace=True)"
   ]
  },
  {
   "cell_type": "code",
   "execution_count": 7,
   "metadata": {},
   "outputs": [],
   "source": [
    "# renaming the weirdly named columns\n",
    "\n",
    "crime.rename({'Murder bin': 'Murder', 'Robbery bin':'Robbery', \n",
    "              'Property\\ncrime': 'Property crime', 'Aggravated asault bin': 'A. assault'}, axis='columns',inplace=True)\n"
   ]
  },
  {
   "cell_type": "code",
   "execution_count": 8,
   "metadata": {},
   "outputs": [
    {
     "data": {
      "text/plain": [
       "City              object\n",
       "Population         int64\n",
       "Property crime     int64\n",
       "Burglary           int64\n",
       "Murder             int64\n",
       "Robbery            int64\n",
       "A. assault         int64\n",
       "dtype: object"
      ]
     },
     "execution_count": 8,
     "metadata": {},
     "output_type": "execute_result"
    }
   ],
   "source": [
    "# cleaning up population and property crime \n",
    "\n",
    "num_cleanup = ['Population', 'Property crime','Burglary'] \n",
    "\n",
    "# there's at least one cell (in Population) with just a space, so filling blanks with NaN\n",
    "crime = crime.replace(r'^\\s*$', np.nan, regex=True)\n",
    "\n",
    "# now dropping the row(s) that contain(s) the nan \n",
    "crime.dropna(axis=0, how='any', inplace=True)\n",
    "\n",
    "# dropping commas and making integers\n",
    "\n",
    "def cleanup(data_fr, numeric_str):\n",
    "    # getting rid of commas\n",
    "    data_fr[numeric_str] = data_fr[numeric_str].apply(lambda x: ''.join(list(filter(str.isdigit, str(x)))))\n",
    "\n",
    "    # finally! the series is an integer (checked in the cell below)\n",
    "    data_fr[numeric_str] = data_fr[numeric_str].astype(int)\n",
    "    \n",
    "    return\n",
    "\n",
    "for one in num_cleanup:\n",
    "    cleanup(crime, one)\n",
    "\n",
    "# double checking\n",
    "crime.dtypes\n"
   ]
  },
  {
   "cell_type": "markdown",
   "metadata": {},
   "source": [
    "Double checking the conversion of the columns to integers worked correctly"
   ]
  },
  {
   "cell_type": "code",
   "execution_count": 9,
   "metadata": {},
   "outputs": [],
   "source": [
    "# adding pop ^2 bc i didnt do that yet\n",
    "\n",
    "crime.insert(2, 'Popˆ2', crime['Population']**2, allow_duplicates=False)"
   ]
  },
  {
   "cell_type": "code",
   "execution_count": 10,
   "metadata": {},
   "outputs": [
    {
     "data": {
      "text/html": [
       "<div>\n",
       "<style scoped>\n",
       "    .dataframe tbody tr th:only-of-type {\n",
       "        vertical-align: middle;\n",
       "    }\n",
       "\n",
       "    .dataframe tbody tr th {\n",
       "        vertical-align: top;\n",
       "    }\n",
       "\n",
       "    .dataframe thead th {\n",
       "        text-align: right;\n",
       "    }\n",
       "</style>\n",
       "<table border=\"1\" class=\"dataframe\">\n",
       "  <thead>\n",
       "    <tr style=\"text-align: right;\">\n",
       "      <th></th>\n",
       "      <th>City</th>\n",
       "      <th>Population</th>\n",
       "      <th>Popˆ2</th>\n",
       "      <th>Property crime</th>\n",
       "      <th>Burglary</th>\n",
       "      <th>Murder</th>\n",
       "      <th>Robbery</th>\n",
       "      <th>A. assault</th>\n",
       "    </tr>\n",
       "  </thead>\n",
       "  <tbody>\n",
       "    <tr>\n",
       "      <th>0</th>\n",
       "      <td>Adams Village</td>\n",
       "      <td>1861</td>\n",
       "      <td>3463321</td>\n",
       "      <td>12</td>\n",
       "      <td>2</td>\n",
       "      <td>0</td>\n",
       "      <td>1</td>\n",
       "      <td>1</td>\n",
       "    </tr>\n",
       "    <tr>\n",
       "      <th>1</th>\n",
       "      <td>Addison Town and Village</td>\n",
       "      <td>2577</td>\n",
       "      <td>6640929</td>\n",
       "      <td>24</td>\n",
       "      <td>3</td>\n",
       "      <td>0</td>\n",
       "      <td>1</td>\n",
       "      <td>1</td>\n",
       "    </tr>\n",
       "    <tr>\n",
       "      <th>2</th>\n",
       "      <td>Akron Village</td>\n",
       "      <td>2846</td>\n",
       "      <td>8099716</td>\n",
       "      <td>16</td>\n",
       "      <td>1</td>\n",
       "      <td>0</td>\n",
       "      <td>1</td>\n",
       "      <td>1</td>\n",
       "    </tr>\n",
       "  </tbody>\n",
       "</table>\n",
       "</div>"
      ],
      "text/plain": [
       "                       City  Population    Popˆ2  Property crime  Burglary  \\\n",
       "0             Adams Village        1861  3463321              12         2   \n",
       "1  Addison Town and Village        2577  6640929              24         3   \n",
       "2             Akron Village        2846  8099716              16         1   \n",
       "\n",
       "   Murder  Robbery  A. assault  \n",
       "0       0        1           1  \n",
       "1       0        1           1  \n",
       "2       0        1           1  "
      ]
     },
     "execution_count": 10,
     "metadata": {},
     "output_type": "execute_result"
    }
   ],
   "source": [
    "crime.head(3)"
   ]
  },
  {
   "cell_type": "markdown",
   "metadata": {},
   "source": [
    "Added the feature \"Population squared\" as required for the initial formula"
   ]
  },
  {
   "cell_type": "code",
   "execution_count": 11,
   "metadata": {},
   "outputs": [
    {
     "name": "stdout",
     "output_type": "stream",
     "text": [
      "With 20% Holdout: -432.9860601786066\n",
      "Testing on Sample: 0.999576580943301\n"
     ]
    },
    {
     "name": "stderr",
     "output_type": "stream",
     "text": [
      "/Library/Frameworks/Python.framework/Versions/3.6/lib/python3.6/site-packages/scipy/linalg/basic.py:1226: RuntimeWarning: internal gelsd driver lwork query error, required iwork dimension not returned. This is likely the result of LAPACK bug 0038, fixed in LAPACK 3.2.2 (released July 21, 2010). Falling back to 'gelss' driver.\n",
      "  warnings.warn(mesg, RuntimeWarning)\n"
     ]
    }
   ],
   "source": [
    "# holdout groups\n",
    "\n",
    "data = crime[['Population','Popˆ2','Murder','Robbery','Burglary']]\n",
    "target = crime['Property crime'] \n",
    "\n",
    "from sklearn.model_selection import train_test_split\n",
    "# Use train_test_split to create the necessary training and test groups\n",
    "X_train, X_test, y_train, y_test = train_test_split(data, target, test_size=0.2, random_state=20)\n",
    "\n",
    "regr = linear_model.LinearRegression()\n",
    "\n",
    "print('With 20% Holdout: ' + str(regr.fit(X_train, y_train).score(X_test, y_test)))\n",
    "print('Testing on Sample: ' + str(regr.fit(data, target).score(data, target)))"
   ]
  },
  {
   "cell_type": "markdown",
   "metadata": {},
   "source": [
    "Running the model with just the basic initial features, using 20% holdout. It looks like there might be overfitting due to the 99%% on the sample, and the strange holdout number."
   ]
  },
  {
   "cell_type": "code",
   "execution_count": 12,
   "metadata": {},
   "outputs": [
    {
     "data": {
      "text/plain": [
       "array([   0.938554  ,    0.98519169,    0.84341985,    0.89958785,\n",
       "          0.89559403,    0.93098549, -299.41182903,    0.99072378,\n",
       "          0.99333016,    0.79445254])"
      ]
     },
     "execution_count": 12,
     "metadata": {},
     "output_type": "execute_result"
    }
   ],
   "source": [
    "from sklearn.model_selection import cross_val_score\n",
    "cross_val_score(regr, data, target, cv=10)\n",
    "\n"
   ]
  },
  {
   "cell_type": "markdown",
   "metadata": {},
   "source": [
    "Also tried to run cross validation with the same data, to see very mixed results."
   ]
  },
  {
   "cell_type": "code",
   "execution_count": 13,
   "metadata": {},
   "outputs": [
    {
     "name": "stdout",
     "output_type": "stream",
     "text": [
      "\n",
      "Coefficients: \n",
      " [[ 3.42007759e-02 -2.05708444e-09 -9.55478272e+00  0.00000000e+00]]\n",
      "\n",
      "Intercept: \n",
      " [-156.63730133]\n",
      "\n",
      "R-squared:\n",
      "0.9960922903725817\n"
     ]
    }
   ],
   "source": [
    "# Instantiate and fit our model.\n",
    "regr = linear_model.LinearRegression()\n",
    "Y = crime['Property crime'].values.reshape(-1, 1)\n",
    "X = crime[['Population','Popˆ2','Murder','Robbery']]\n",
    "regr.fit(X, Y)\n",
    "\n",
    "# Inspect the results.\n",
    "print('\\nCoefficients: \\n', regr.coef_)\n",
    "print('\\nIntercept: \\n', regr.intercept_)\n",
    "print('\\nR-squared:')\n",
    "print(regr.score(X, Y))"
   ]
  },
  {
   "cell_type": "markdown",
   "metadata": {},
   "source": [
    "Running the model to see the r squared and all of the coefficients"
   ]
  },
  {
   "cell_type": "code",
   "execution_count": 14,
   "metadata": {},
   "outputs": [
    {
     "data": {
      "image/png": "[encoded data removed]",
      "text/plain": [
       "<matplotlib.figure.Figure at 0x113d8e940>"
      ]
     },
     "metadata": {},
     "output_type": "display_data"
    }
   ],
   "source": [
    "# checking if the data fits the assumtion of being linear...\n",
    "\n",
    "labels = ['Population', 'Popˆ2']\n",
    "Y = crime['Property crime'].values.reshape(-1, 1)\n",
    "\n",
    "#,'Murder','Robbery']  #theyre binary so this is silly\n",
    "\n",
    "plt.figure(figsize=(10,8))\n",
    "\n",
    "for i, label in enumerate(labels):\n",
    "\n",
    "    plt.subplot(2,2,i+1)\n",
    "    plt.scatter(crime[label], Y)\n",
    "    plt.xlabel(label)\n",
    "    plt.ylabel('Property crime')\n",
    "    plt.title('Raw values based on {}'.format(label))\n",
    "\n",
    "plt.show()"
   ]
  },
  {
   "cell_type": "markdown",
   "metadata": {},
   "source": [
    "Checking for linearity in the features of population and population squared compared to proprety crime.\n",
    "\n",
    "From the plots, it looks like there is an outlier. I wanted to find what it was, in order to remove it from the model and prevent skewed data. Below, first i am finding the value of the outlier, and in the next cell, I am determining which city it is associated with. Finally, I am dropping it from the dataframe."
   ]
  },
  {
   "cell_type": "code",
   "execution_count": 15,
   "metadata": {},
   "outputs": [
    {
     "data": {
      "text/plain": [
       "141971"
      ]
     },
     "execution_count": 15,
     "metadata": {},
     "output_type": "execute_result"
    }
   ],
   "source": [
    "# looks like there's an outlier skewing the results\n",
    "\n",
    "max(crime['Property crime'].unique().tolist())"
   ]
  },
  {
   "cell_type": "code",
   "execution_count": 16,
   "metadata": {},
   "outputs": [
    {
     "data": {
      "text/html": [
       "<div>\n",
       "<style scoped>\n",
       "    .dataframe tbody tr th:only-of-type {\n",
       "        vertical-align: middle;\n",
       "    }\n",
       "\n",
       "    .dataframe tbody tr th {\n",
       "        vertical-align: top;\n",
       "    }\n",
       "\n",
       "    .dataframe thead th {\n",
       "        text-align: right;\n",
       "    }\n",
       "</style>\n",
       "<table border=\"1\" class=\"dataframe\">\n",
       "  <thead>\n",
       "    <tr style=\"text-align: right;\">\n",
       "      <th></th>\n",
       "      <th>City</th>\n",
       "      <th>Population</th>\n",
       "      <th>Popˆ2</th>\n",
       "      <th>Property crime</th>\n",
       "      <th>Burglary</th>\n",
       "      <th>Murder</th>\n",
       "      <th>Robbery</th>\n",
       "      <th>A. assault</th>\n",
       "    </tr>\n",
       "  </thead>\n",
       "  <tbody>\n",
       "    <tr>\n",
       "      <th>216</th>\n",
       "      <td>New York</td>\n",
       "      <td>8396126</td>\n",
       "      <td>70494931807876</td>\n",
       "      <td>141971</td>\n",
       "      <td>16606</td>\n",
       "      <td>1</td>\n",
       "      <td>1</td>\n",
       "      <td>1</td>\n",
       "    </tr>\n",
       "  </tbody>\n",
       "</table>\n",
       "</div>"
      ],
      "text/plain": [
       "         City  Population           Popˆ2  Property crime  Burglary  Murder  \\\n",
       "216  New York     8396126  70494931807876          141971     16606       1   \n",
       "\n",
       "     Robbery  A. assault  \n",
       "216        1           1  "
      ]
     },
     "execution_count": 16,
     "metadata": {},
     "output_type": "execute_result"
    }
   ],
   "source": [
    "# finding where the outlier is\n",
    "\n",
    "crime[crime['Property crime'] == 141971]"
   ]
  },
  {
   "cell_type": "code",
   "execution_count": 17,
   "metadata": {},
   "outputs": [],
   "source": [
    "# dropping it\n",
    "\n",
    "crime.drop([216], inplace=True)"
   ]
  },
  {
   "cell_type": "code",
   "execution_count": 18,
   "metadata": {},
   "outputs": [
    {
     "data": {
      "image/png": "[encoded data removed]",
      "text/plain": [
       "<matplotlib.figure.Figure at 0x113d78198>"
      ]
     },
     "metadata": {},
     "output_type": "display_data"
    }
   ],
   "source": [
    "# to check again for linearity of data\n",
    "\n",
    "plt.figure(figsize=(10,8))\n",
    "\n",
    "for i, label in enumerate(labels):\n",
    "\n",
    "    plt.subplot(2,2,i+1)\n",
    "    plt.scatter(crime['Property crime'].values.reshape(-1, 1), crime[label])\n",
    "    plt.title('Raw values based on {}'.format(label))\n",
    "\n",
    "plt.show()"
   ]
  },
  {
   "cell_type": "markdown",
   "metadata": {},
   "source": [
    "After removing the outlier, I checked the linearity again of these two features. It is much easier to see them without the outlier, and they look for the most part linear, although they could use a little improvement."
   ]
  },
  {
   "cell_type": "code",
   "execution_count": 19,
   "metadata": {},
   "outputs": [
    {
     "data": {
      "image/png": "[encoded data removed]",
      "text/plain": [
       "<matplotlib.figure.Figure at 0x1140d6748>"
      ]
     },
     "metadata": {},
     "output_type": "display_data"
    }
   ],
   "source": [
    "def myformula(value):\n",
    "    return value**.4\n",
    "\n",
    "crime['popˆ2 ftd'] = crime['Popˆ2'].apply(myformula)\n",
    "\n",
    "plt.scatter(crime['popˆ2 ftd'],  crime['Property crime'].values.reshape(-1, 1))\n",
    "plt.title('Transforming data to improve linearity')\n",
    "plt.xlabel('Transformed population squared')\n",
    "plt.ylabel('Property crime')\n",
    "plt.show()"
   ]
  },
  {
   "cell_type": "markdown",
   "metadata": {},
   "source": [
    "Above and below, I am trying different formulas to make the population and population squared more linear."
   ]
  },
  {
   "cell_type": "code",
   "execution_count": 20,
   "metadata": {},
   "outputs": [
    {
     "data": {
      "image/png": "[encoded data removed]",
      "text/plain": [
       "<matplotlib.figure.Figure at 0x114080b00>"
      ]
     },
     "metadata": {},
     "output_type": "display_data"
    }
   ],
   "source": [
    "def my2ndform(value):\n",
    "#    return 1/math.sqrt(math.log(value))\n",
    "#    return math.sqrt(value**3)\n",
    "    return value**1/3\n",
    "    \n",
    "\n",
    "crime['cube rt pop'] = crime['Population'].apply(my2ndform)\n",
    "\n",
    "plt.scatter(crime['cube rt pop'],  crime['Property crime'].values.reshape(-1, 1))\n",
    "plt.title('Transformed values linearity')\n",
    "plt.xlabel('Transformed population - cubed root of population')\n",
    "plt.ylabel('Property crime')\n",
    "plt.show()"
   ]
  },
  {
   "cell_type": "code",
   "execution_count": 21,
   "metadata": {},
   "outputs": [
    {
     "data": {
      "text/html": [
       "<div>\n",
       "<style scoped>\n",
       "    .dataframe tbody tr th:only-of-type {\n",
       "        vertical-align: middle;\n",
       "    }\n",
       "\n",
       "    .dataframe tbody tr th {\n",
       "        vertical-align: top;\n",
       "    }\n",
       "\n",
       "    .dataframe thead th {\n",
       "        text-align: right;\n",
       "    }\n",
       "</style>\n",
       "<table border=\"1\" class=\"dataframe\">\n",
       "  <thead>\n",
       "    <tr style=\"text-align: right;\">\n",
       "      <th></th>\n",
       "      <th>City</th>\n",
       "      <th>Population</th>\n",
       "      <th>Popˆ2</th>\n",
       "      <th>Property crime</th>\n",
       "      <th>Burglary</th>\n",
       "      <th>Murder</th>\n",
       "      <th>Robbery</th>\n",
       "      <th>A. assault</th>\n",
       "      <th>popˆ2 ftd</th>\n",
       "      <th>cube rt pop</th>\n",
       "    </tr>\n",
       "  </thead>\n",
       "  <tbody>\n",
       "    <tr>\n",
       "      <th>0</th>\n",
       "      <td>Adams Village</td>\n",
       "      <td>1861</td>\n",
       "      <td>3463321</td>\n",
       "      <td>12</td>\n",
       "      <td>2</td>\n",
       "      <td>0</td>\n",
       "      <td>1</td>\n",
       "      <td>1</td>\n",
       "      <td>412.854572</td>\n",
       "      <td>620.333333</td>\n",
       "    </tr>\n",
       "    <tr>\n",
       "      <th>1</th>\n",
       "      <td>Addison Town and Village</td>\n",
       "      <td>2577</td>\n",
       "      <td>6640929</td>\n",
       "      <td>24</td>\n",
       "      <td>3</td>\n",
       "      <td>0</td>\n",
       "      <td>1</td>\n",
       "      <td>1</td>\n",
       "      <td>535.662859</td>\n",
       "      <td>859.000000</td>\n",
       "    </tr>\n",
       "    <tr>\n",
       "      <th>2</th>\n",
       "      <td>Akron Village</td>\n",
       "      <td>2846</td>\n",
       "      <td>8099716</td>\n",
       "      <td>16</td>\n",
       "      <td>1</td>\n",
       "      <td>0</td>\n",
       "      <td>1</td>\n",
       "      <td>1</td>\n",
       "      <td>579.946480</td>\n",
       "      <td>948.666667</td>\n",
       "    </tr>\n",
       "    <tr>\n",
       "      <th>3</th>\n",
       "      <td>Albany</td>\n",
       "      <td>97956</td>\n",
       "      <td>9595377936</td>\n",
       "      <td>4090</td>\n",
       "      <td>705</td>\n",
       "      <td>1</td>\n",
       "      <td>1</td>\n",
       "      <td>1</td>\n",
       "      <td>9836.143001</td>\n",
       "      <td>32652.000000</td>\n",
       "    </tr>\n",
       "  </tbody>\n",
       "</table>\n",
       "</div>"
      ],
      "text/plain": [
       "                       City  Population       Popˆ2  Property crime  Burglary  \\\n",
       "0             Adams Village        1861     3463321              12         2   \n",
       "1  Addison Town and Village        2577     6640929              24         3   \n",
       "2             Akron Village        2846     8099716              16         1   \n",
       "3                    Albany       97956  9595377936            4090       705   \n",
       "\n",
       "   Murder  Robbery  A. assault    popˆ2 ftd   cube rt pop  \n",
       "0       0        1           1   412.854572    620.333333  \n",
       "1       0        1           1   535.662859    859.000000  \n",
       "2       0        1           1   579.946480    948.666667  \n",
       "3       1        1           1  9836.143001  32652.000000  "
      ]
     },
     "execution_count": 21,
     "metadata": {},
     "output_type": "execute_result"
    }
   ],
   "source": [
    "crime.head(4)"
   ]
  },
  {
   "cell_type": "markdown",
   "metadata": {},
   "source": [
    "Above, looking at the table with the transformed variables"
   ]
  },
  {
   "cell_type": "code",
   "execution_count": 22,
   "metadata": {},
   "outputs": [
    {
     "name": "stdout",
     "output_type": "stream",
     "text": [
      "347\n",
      "347\n"
     ]
    }
   ],
   "source": [
    "# trying to figure out the error below\n",
    "print(len(crime[['Population','popˆ2 ftd']]))\n",
    "\n",
    "actual = crime['Property crime']\n",
    "\n",
    "print(len(actual))"
   ]
  },
  {
   "cell_type": "code",
   "execution_count": 23,
   "metadata": {},
   "outputs": [
    {
     "data": {
      "image/png": "[encoded data removed]",
      "text/plain": [
       "<matplotlib.figure.Figure at 0x1143678d0>"
      ]
     },
     "metadata": {},
     "output_type": "display_data"
    }
   ],
   "source": [
    "\n",
    "X4 = crime[['Population','popˆ2 ftd', 'Murder', 'Burglary', 'cube rt pop' ]]\n",
    "actual2 = crime['Property crime']\n",
    "#.values.reshape(-1, 1)\n",
    "\n",
    "regr = linear_model.LinearRegression()\n",
    "regr.fit(X4, actual)\n",
    "\n",
    "\n",
    "# Extract predicted values.\n",
    "predicted2 = regr.predict(X4).ravel()\n",
    "\n",
    "\n",
    "# Calculate the error, also called the residual.\n",
    "residual2 = actual2 - predicted2\n",
    "\n",
    "# This looks a bit concerning.\n",
    "plt.hist(residual2)\n",
    "plt.title('Residual counts')\n",
    "plt.xlabel('Residual')\n",
    "plt.ylabel('Count')\n",
    "#plt.ylim([-100, 100])\n",
    "#plt.xlim([-7800,7800])\n",
    "plt.show()"
   ]
  },
  {
   "cell_type": "markdown",
   "metadata": {},
   "source": [
    "Reviewing the residual counts with the transformed data and the features that impact the model the most"
   ]
  },
  {
   "cell_type": "code",
   "execution_count": 24,
   "metadata": {},
   "outputs": [
    {
     "data": {
      "image/png": "[encoded data removed]",
      "text/plain": [
       "<matplotlib.figure.Figure at 0x11422d978>"
      ]
     },
     "metadata": {},
     "output_type": "display_data"
    }
   ],
   "source": [
    "plt.scatter(predicted2, residual2)\n",
    "plt.xlabel('Predicted')\n",
    "plt.ylabel('Residual')\n",
    "plt.axhline(y=0)\n",
    "plt.title('Residual vs. Predicted')\n",
    "plt.show()\n"
   ]
  },
  {
   "cell_type": "markdown",
   "metadata": {},
   "source": [
    "Looking at the residual vs predicted values variance"
   ]
  },
  {
   "cell_type": "code",
   "execution_count": 25,
   "metadata": {
    "scrolled": true
   },
   "outputs": [
    {
     "data": {
      "image/png": "[encoded data removed]",
      "text/plain": [
       "<matplotlib.figure.Figure at 0x113d78ac8>"
      ]
     },
     "metadata": {},
     "output_type": "display_data"
    }
   ],
   "source": [
    "plt.boxplot(crime['cube rt pop'])\n",
    "plt.show()"
   ]
  },
  {
   "cell_type": "markdown",
   "metadata": {},
   "source": [
    "This is another look at the variance, paying attention to the outliers and the general range"
   ]
  },
  {
   "cell_type": "code",
   "execution_count": 26,
   "metadata": {
    "scrolled": true
   },
   "outputs": [
    {
     "data": {
      "text/plain": [
       "<matplotlib.axes._subplots.AxesSubplot at 0x1146ffb00>"
      ]
     },
     "execution_count": 26,
     "metadata": {},
     "output_type": "execute_result"
    },
    {
     "data": {
      "image/png": "[encoded data removed]",
      "text/plain": [
       "<matplotlib.figure.Figure at 0x11468deb8>"
      ]
     },
     "metadata": {},
     "output_type": "display_data"
    }
   ],
   "source": [
    "crime['cube rt pop'].hist()"
   ]
  },
  {
   "cell_type": "markdown",
   "metadata": {},
   "source": [
    "A histogram of the transformed population variable"
   ]
  },
  {
   "cell_type": "code",
   "execution_count": 27,
   "metadata": {},
   "outputs": [
    {
     "name": "stdout",
     "output_type": "stream",
     "text": [
      "With 20% Holdout: 0.9197121314124477\n",
      "Testing on Sample: 0.9804961989284375\n"
     ]
    }
   ],
   "source": [
    "# w/ holdout groups\n",
    "target2 = crime['Property crime']\n",
    "data2 = crime[['cube rt pop','Popˆ2','popˆ2 ftd', 'Murder', 'Burglary', 'A. assault']]\n",
    "\n",
    "X_train2, X_test2, y_train2, y_test2 = train_test_split(data2, target2, test_size=0.2, random_state=20)\n",
    "\n",
    "print('With 20% Holdout: ' + str(regr.fit(X_train2, y_train2).score(X_test2, y_test2)))\n",
    "print('Testing on Sample: ' + str(regr.fit(data2, target2).score(data2, target2)))\n",
    "\n"
   ]
  },
  {
   "cell_type": "markdown",
   "metadata": {},
   "source": [
    "Trying the model with the improved features. It looks like it is much better, because the holdout % is much closer to the value on the test sample."
   ]
  },
  {
   "cell_type": "code",
   "execution_count": 28,
   "metadata": {},
   "outputs": [
    {
     "data": {
      "text/plain": [
       "array([0.95393861, 0.99146737, 0.88822266, 0.91530184, 0.8677339 ,\n",
       "       0.90168402, 0.9169564 , 0.99073716, 0.9599027 , 0.85963183])"
      ]
     },
     "execution_count": 28,
     "metadata": {},
     "output_type": "execute_result"
    }
   ],
   "source": [
    "# cross val\n",
    "\n",
    "cross_val_score(regr, data2,target2, cv=10)"
   ]
  },
  {
   "cell_type": "markdown",
   "metadata": {},
   "source": [
    "Also trying to cross validate the score. It also looks like the model is much improved over the original version."
   ]
  },
  {
   "cell_type": "code",
   "execution_count": 29,
   "metadata": {},
   "outputs": [
    {
     "name": "stdout",
     "output_type": "stream",
     "text": [
      "\n",
      "Coefficients: \n",
      " [[ 9.83344424e-02 -5.98089426e-08 -1.67175364e-01 -4.24672645e+01\n",
      "   0.00000000e+00  0.00000000e+00  3.32451134e+00]]\n",
      "\n",
      "Intercept: \n",
      " [29.35433768]\n",
      "\n",
      "R-squared:\n",
      "0.9804961989284375\n"
     ]
    }
   ],
   "source": [
    "regr = linear_model.LinearRegression()\n",
    "Y3 = crime['Property crime'].values.reshape(-1, 1)\n",
    "X3 = crime[['cube rt pop','Popˆ2','popˆ2 ftd','Murder','Robbery', 'A. assault','Burglary']]\n",
    "regr.fit(X3, Y3)\n",
    "\n",
    "# Inspect the results.\n",
    "print('\\nCoefficients: \\n', regr.coef_)\n",
    "print('\\nIntercept: \\n', regr.intercept_)\n",
    "print('\\nR-squared:')\n",
    "print(regr.score(X3, Y3))"
   ]
  },
  {
   "cell_type": "markdown",
   "metadata": {},
   "source": [
    "Above, the model is run in full again and shows the coefficients in addition to the r squared value and the intercept."
   ]
  },
  {
   "cell_type": "code",
   "execution_count": 30,
   "metadata": {},
   "outputs": [
    {
     "data": {
      "text/plain": [
       "64697.25"
      ]
     },
     "execution_count": 30,
     "metadata": {},
     "output_type": "execute_result"
    }
   ],
   "source": [
    "max(set(crime['Population'].tolist()))\n",
    "\n",
    "258789/4"
   ]
  },
  {
   "cell_type": "markdown",
   "metadata": {},
   "source": [
    "Looking at the population values in order to improve the chart below, and see the data more clearly."
   ]
  },
  {
   "cell_type": "code",
   "execution_count": 31,
   "metadata": {},
   "outputs": [
    {
     "data": {
      "image/png": "[encoded data removed]",
      "text/plain": [
       "<matplotlib.figure.Figure at 0x11442f198>"
      ]
     },
     "metadata": {},
     "output_type": "display_data"
    }
   ],
   "source": [
    "plt.scatter(crime['Property crime'], crime['cube rt pop'])\n",
    "plt.scatter(crime['Property crime'], crime['Popˆ2'])\n",
    "plt.scatter(crime['Property crime'], crime['popˆ2 ftd'])\n",
    "plt.scatter(crime['Property crime'], crime['Murder'], alpha=0.4)\n",
    "plt.scatter(crime['Property crime'], crime['Robbery'], alpha=0.2)\n",
    "plt.scatter(crime['Property crime'], crime['A. assault'], alpha=0.3)\n",
    "plt.scatter(crime['Property crime'], crime['Burglary'])\n",
    "plt.legend()\n",
    "plt.xlabel('Property crime')\n",
    "plt.title('Property crime and neighborhood features')\n",
    "plt.ylim([0,64697])\n",
    "plt.show()\n"
   ]
  },
  {
   "cell_type": "markdown",
   "metadata": {},
   "source": [
    "I wanted to look at the variance of the features and variables that I selected, to see which ones were most significant in the model. The population squared doesn't show up on this chart becasue I narrowed the y range too much, in order to get a better view of the other variables."
   ]
  },
  {
   "cell_type": "code",
   "execution_count": 32,
   "metadata": {},
   "outputs": [
    {
     "data": {
      "text/html": [
       "<div>\n",
       "<style scoped>\n",
       "    .dataframe tbody tr th:only-of-type {\n",
       "        vertical-align: middle;\n",
       "    }\n",
       "\n",
       "    .dataframe tbody tr th {\n",
       "        vertical-align: top;\n",
       "    }\n",
       "\n",
       "    .dataframe thead th {\n",
       "        text-align: right;\n",
       "    }\n",
       "</style>\n",
       "<table border=\"1\" class=\"dataframe\">\n",
       "  <thead>\n",
       "    <tr style=\"text-align: right;\">\n",
       "      <th></th>\n",
       "      <th>cube rt pop</th>\n",
       "      <th>Popˆ2</th>\n",
       "      <th>popˆ2 ftd</th>\n",
       "      <th>Murder</th>\n",
       "      <th>Robbery</th>\n",
       "      <th>A. assault</th>\n",
       "      <th>Burglary</th>\n",
       "    </tr>\n",
       "  </thead>\n",
       "  <tbody>\n",
       "    <tr>\n",
       "      <th>cube rt pop</th>\n",
       "      <td>1.000000</td>\n",
       "      <td>0.888582</td>\n",
       "      <td>0.989268</td>\n",
       "      <td>0.502713</td>\n",
       "      <td>NaN</td>\n",
       "      <td>NaN</td>\n",
       "      <td>0.819673</td>\n",
       "    </tr>\n",
       "    <tr>\n",
       "      <th>Popˆ2</th>\n",
       "      <td>0.888582</td>\n",
       "      <td>1.000000</td>\n",
       "      <td>0.817208</td>\n",
       "      <td>0.344873</td>\n",
       "      <td>NaN</td>\n",
       "      <td>NaN</td>\n",
       "      <td>0.892961</td>\n",
       "    </tr>\n",
       "    <tr>\n",
       "      <th>popˆ2 ftd</th>\n",
       "      <td>0.989268</td>\n",
       "      <td>0.817208</td>\n",
       "      <td>1.000000</td>\n",
       "      <td>0.529482</td>\n",
       "      <td>NaN</td>\n",
       "      <td>NaN</td>\n",
       "      <td>0.766474</td>\n",
       "    </tr>\n",
       "    <tr>\n",
       "      <th>Murder</th>\n",
       "      <td>0.502713</td>\n",
       "      <td>0.344873</td>\n",
       "      <td>0.529482</td>\n",
       "      <td>1.000000</td>\n",
       "      <td>NaN</td>\n",
       "      <td>NaN</td>\n",
       "      <td>0.401800</td>\n",
       "    </tr>\n",
       "    <tr>\n",
       "      <th>Robbery</th>\n",
       "      <td>NaN</td>\n",
       "      <td>NaN</td>\n",
       "      <td>NaN</td>\n",
       "      <td>NaN</td>\n",
       "      <td>NaN</td>\n",
       "      <td>NaN</td>\n",
       "      <td>NaN</td>\n",
       "    </tr>\n",
       "    <tr>\n",
       "      <th>A. assault</th>\n",
       "      <td>NaN</td>\n",
       "      <td>NaN</td>\n",
       "      <td>NaN</td>\n",
       "      <td>NaN</td>\n",
       "      <td>NaN</td>\n",
       "      <td>NaN</td>\n",
       "      <td>NaN</td>\n",
       "    </tr>\n",
       "    <tr>\n",
       "      <th>Burglary</th>\n",
       "      <td>0.819673</td>\n",
       "      <td>0.892961</td>\n",
       "      <td>0.766474</td>\n",
       "      <td>0.401800</td>\n",
       "      <td>NaN</td>\n",
       "      <td>NaN</td>\n",
       "      <td>1.000000</td>\n",
       "    </tr>\n",
       "  </tbody>\n",
       "</table>\n",
       "</div>"
      ],
      "text/plain": [
       "             cube rt pop     Popˆ2  popˆ2 ftd    Murder  Robbery  A. assault  \\\n",
       "cube rt pop     1.000000  0.888582   0.989268  0.502713      NaN         NaN   \n",
       "Popˆ2           0.888582  1.000000   0.817208  0.344873      NaN         NaN   \n",
       "popˆ2 ftd       0.989268  0.817208   1.000000  0.529482      NaN         NaN   \n",
       "Murder          0.502713  0.344873   0.529482  1.000000      NaN         NaN   \n",
       "Robbery              NaN       NaN        NaN       NaN      NaN         NaN   \n",
       "A. assault           NaN       NaN        NaN       NaN      NaN         NaN   \n",
       "Burglary        0.819673  0.892961   0.766474  0.401800      NaN         NaN   \n",
       "\n",
       "             Burglary  \n",
       "cube rt pop  0.819673  \n",
       "Popˆ2        0.892961  \n",
       "popˆ2 ftd    0.766474  \n",
       "Murder       0.401800  \n",
       "Robbery           NaN  \n",
       "A. assault        NaN  \n",
       "Burglary     1.000000  "
      ]
     },
     "metadata": {},
     "output_type": "display_data"
    }
   ],
   "source": [
    "correlation_matrix = X3.corr()\n",
    "display(correlation_matrix)\n"
   ]
  },
  {
   "cell_type": "markdown",
   "metadata": {},
   "source": [
    "Taking a look at the correlation matrix to get numeric vlaues for what's visible in the chart above. It looks like robbery and aggravated assault don't add anything significant to the model, whereas burglary does seem to be significant to the model, as well as the transofmred population variable, and murder.\n",
    "\n",
    "However, at the same time, there is a very high correlation between cube rt pop, and popˆ2 ftd - 98.9%. It might be a good idea to just pick one of the two in order to avoid overlapping features."
   ]
  },
  {
   "cell_type": "markdown",
   "metadata": {},
   "source": [
    "# Validating the model above"
   ]
  },
  {
   "cell_type": "code",
   "execution_count": 33,
   "metadata": {},
   "outputs": [],
   "source": [
    "# renaming the col so its 1 word\n",
    "\n",
    "crime.rename({'Property crime' : 'Propertycrime', 'cube rt pop': 'cubeRTpop', \n",
    "             'A. assault' : 'A.assault', 'popˆ2 ftd': 'popˆ2ftd'}, axis='columns', inplace=True)\n"
   ]
  },
  {
   "cell_type": "code",
   "execution_count": 34,
   "metadata": {},
   "outputs": [],
   "source": [
    "import statsmodels.formula.api as smf\n",
    "from statsmodels.sandbox.regression.predstd import wls_prediction_std\n"
   ]
  },
  {
   "cell_type": "code",
   "execution_count": 35,
   "metadata": {},
   "outputs": [
    {
     "name": "stdout",
     "output_type": "stream",
     "text": [
      "Parameters \n",
      "\n",
      "Intercept    2.935434e+01\n",
      "cubeRTpop    9.833444e-02\n",
      "Popˆ2       -5.980894e-08\n",
      "popˆ2ftd    -1.671754e-01\n",
      "Murder      -4.246726e+01\n",
      "Burglary     3.324511e+00\n",
      "dtype: float64\n",
      "\n",
      "\n",
      "P values \n",
      "\n",
      "Intercept     1.760355e-01\n",
      "cubeRTpop     7.753926e-07\n",
      "Popˆ2         1.910850e-09\n",
      "popˆ2ftd      3.032815e-03\n",
      "Murder        1.243738e-01\n",
      "Burglary     5.998567e-156\n",
      "dtype: float64\n",
      "\n",
      "R Squared\n",
      "\n",
      "0.9804961989284375\n"
     ]
    }
   ],
   "source": [
    "linear_formula = 'Propertycrime ~ cubeRTpop+Popˆ2+popˆ2ftd+Murder+Burglary'\n",
    "\n",
    "# Fit the model to our data using the formula.\n",
    "lm = smf.ols(formula=linear_formula, data=crime).fit()\n",
    "\n",
    "print('Parameters \\n\\n{}'.format(lm.params))\n",
    "print('\\n\\nP values \\n\\n{}'.format(lm.pvalues))\n",
    "print('\\nR Squared\\n\\n{}'.format(lm.rsquared))\n"
   ]
  },
  {
   "cell_type": "markdown",
   "metadata": {},
   "source": [
    "Looking at the coefficients of each parameter, the p values - which looks like they are all significant - and the r squared value."
   ]
  },
  {
   "cell_type": "code",
   "execution_count": 36,
   "metadata": {},
   "outputs": [
    {
     "data": {
      "text/html": [
       "<div>\n",
       "<style scoped>\n",
       "    .dataframe tbody tr th:only-of-type {\n",
       "        vertical-align: middle;\n",
       "    }\n",
       "\n",
       "    .dataframe tbody tr th {\n",
       "        vertical-align: top;\n",
       "    }\n",
       "\n",
       "    .dataframe thead th {\n",
       "        text-align: right;\n",
       "    }\n",
       "</style>\n",
       "<table border=\"1\" class=\"dataframe\">\n",
       "  <thead>\n",
       "    <tr style=\"text-align: right;\">\n",
       "      <th></th>\n",
       "      <th>0</th>\n",
       "      <th>1</th>\n",
       "    </tr>\n",
       "  </thead>\n",
       "  <tbody>\n",
       "    <tr>\n",
       "      <th>Intercept</th>\n",
       "      <td>-1.322945e+01</td>\n",
       "      <td>7.193812e+01</td>\n",
       "    </tr>\n",
       "    <tr>\n",
       "      <th>cubeRTpop</th>\n",
       "      <td>5.992009e-02</td>\n",
       "      <td>1.367488e-01</td>\n",
       "    </tr>\n",
       "    <tr>\n",
       "      <th>Popˆ2</th>\n",
       "      <td>-7.886856e-08</td>\n",
       "      <td>-4.074932e-08</td>\n",
       "    </tr>\n",
       "    <tr>\n",
       "      <th>popˆ2ftd</th>\n",
       "      <td>-2.773047e-01</td>\n",
       "      <td>-5.704602e-02</td>\n",
       "    </tr>\n",
       "    <tr>\n",
       "      <th>Murder</th>\n",
       "      <td>-9.669156e+01</td>\n",
       "      <td>1.175703e+01</td>\n",
       "    </tr>\n",
       "    <tr>\n",
       "      <th>Burglary</th>\n",
       "      <td>3.190575e+00</td>\n",
       "      <td>3.458448e+00</td>\n",
       "    </tr>\n",
       "  </tbody>\n",
       "</table>\n",
       "</div>"
      ],
      "text/plain": [
       "                      0             1\n",
       "Intercept -1.322945e+01  7.193812e+01\n",
       "cubeRTpop  5.992009e-02  1.367488e-01\n",
       "Popˆ2     -7.886856e-08 -4.074932e-08\n",
       "popˆ2ftd  -2.773047e-01 -5.704602e-02\n",
       "Murder    -9.669156e+01  1.175703e+01\n",
       "Burglary   3.190575e+00  3.458448e+00"
      ]
     },
     "execution_count": 36,
     "metadata": {},
     "output_type": "execute_result"
    }
   ],
   "source": [
    "lm.conf_int()"
   ]
  },
  {
   "cell_type": "markdown",
   "metadata": {},
   "source": [
    "Looking at the confidence intervals, Murder crosses 0, so it appears to have too much variance to be useful. I'll drop Murder and then run the statitiscal tests again to see if that improves the model."
   ]
  },
  {
   "cell_type": "code",
   "execution_count": 37,
   "metadata": {},
   "outputs": [
    {
     "name": "stdout",
     "output_type": "stream",
     "text": [
      "Parameters \n",
      "\n",
      "Intercept   -5.904076e+01\n",
      "Popˆ2       -1.394893e-08\n",
      "popˆ2ftd     1.093207e-01\n",
      "Burglary     3.257088e+00\n",
      "dtype: float64\n",
      "\n",
      "\n",
      "P values \n",
      "\n",
      "Intercept     2.723105e-06\n",
      "Popˆ2         5.527259e-04\n",
      "popˆ2ftd      8.852594e-57\n",
      "Burglary     9.847688e-153\n",
      "dtype: float64\n",
      "\n",
      "R Squared\n",
      "\n",
      "0.9789351963161581\n"
     ]
    },
    {
     "data": {
      "text/html": [
       "<div>\n",
       "<style scoped>\n",
       "    .dataframe tbody tr th:only-of-type {\n",
       "        vertical-align: middle;\n",
       "    }\n",
       "\n",
       "    .dataframe tbody tr th {\n",
       "        vertical-align: top;\n",
       "    }\n",
       "\n",
       "    .dataframe thead th {\n",
       "        text-align: right;\n",
       "    }\n",
       "</style>\n",
       "<table border=\"1\" class=\"dataframe\">\n",
       "  <thead>\n",
       "    <tr style=\"text-align: right;\">\n",
       "      <th></th>\n",
       "      <th>0</th>\n",
       "      <th>1</th>\n",
       "    </tr>\n",
       "  </thead>\n",
       "  <tbody>\n",
       "    <tr>\n",
       "      <th>Intercept</th>\n",
       "      <td>-8.338370e+01</td>\n",
       "      <td>-3.469781e+01</td>\n",
       "    </tr>\n",
       "    <tr>\n",
       "      <th>Popˆ2</th>\n",
       "      <td>-2.181789e-08</td>\n",
       "      <td>-6.079965e-09</td>\n",
       "    </tr>\n",
       "    <tr>\n",
       "      <th>popˆ2ftd</th>\n",
       "      <td>9.818905e-02</td>\n",
       "      <td>1.204524e-01</td>\n",
       "    </tr>\n",
       "    <tr>\n",
       "      <th>Burglary</th>\n",
       "      <td>3.122037e+00</td>\n",
       "      <td>3.392139e+00</td>\n",
       "    </tr>\n",
       "  </tbody>\n",
       "</table>\n",
       "</div>"
      ],
      "text/plain": [
       "                      0             1\n",
       "Intercept -8.338370e+01 -3.469781e+01\n",
       "Popˆ2     -2.181789e-08 -6.079965e-09\n",
       "popˆ2ftd   9.818905e-02  1.204524e-01\n",
       "Burglary   3.122037e+00  3.392139e+00"
      ]
     },
     "execution_count": 37,
     "metadata": {},
     "output_type": "execute_result"
    }
   ],
   "source": [
    "# going to drop murder\n",
    "# and also\n",
    "# going to try it dropping cube rt pop 1x, then another time, dropping popˆ2 ft\n",
    "\n",
    "linear_formula2 = 'Propertycrime ~ Popˆ2+popˆ2ftd+Burglary'\n",
    "\n",
    "# Fit the model to our data using the formula.\n",
    "lm2 = smf.ols(formula=linear_formula2, data=crime).fit()\n",
    "\n",
    "print('Parameters \\n\\n{}'.format(lm2.params))\n",
    "print('\\n\\nP values \\n\\n{}'.format(lm2.pvalues))\n",
    "print('\\nR Squared\\n\\n{}'.format(lm2.rsquared))\n",
    "\n",
    "lm2.conf_int()"
   ]
  },
  {
   "cell_type": "markdown",
   "metadata": {},
   "source": [
    "Using the features pop ^2, popˆ2 ftd (the transformed popˆ2), and burglary, it looks like the r squared value dropped down to 97.89%, and also, when looking at the confidence intervals, the variance is greater for the popˆ2 ftd and popˆ2 when compared to the previous model."
   ]
  },
  {
   "cell_type": "code",
   "execution_count": 38,
   "metadata": {},
   "outputs": [
    {
     "name": "stdout",
     "output_type": "stream",
     "text": [
      "Parameters \n",
      "\n",
      "Intercept   -2.571851e+01\n",
      "cubeRTpop    3.886825e-02\n",
      "Popˆ2       -3.198701e-08\n",
      "Burglary     3.273647e+00\n",
      "dtype: float64\n",
      "\n",
      "\n",
      "P values \n",
      "\n",
      "Intercept     1.825364e-02\n",
      "cubeRTpop     4.645915e-60\n",
      "Popˆ2         1.917243e-12\n",
      "Burglary     1.671612e-156\n",
      "dtype: float64\n",
      "\n",
      "R Squared\n",
      "\n",
      "0.9798404615320767\n"
     ]
    },
    {
     "data": {
      "text/html": [
       "<div>\n",
       "<style scoped>\n",
       "    .dataframe tbody tr th:only-of-type {\n",
       "        vertical-align: middle;\n",
       "    }\n",
       "\n",
       "    .dataframe tbody tr th {\n",
       "        vertical-align: top;\n",
       "    }\n",
       "\n",
       "    .dataframe thead th {\n",
       "        text-align: right;\n",
       "    }\n",
       "</style>\n",
       "<table border=\"1\" class=\"dataframe\">\n",
       "  <thead>\n",
       "    <tr style=\"text-align: right;\">\n",
       "      <th></th>\n",
       "      <th>0</th>\n",
       "      <th>1</th>\n",
       "    </tr>\n",
       "  </thead>\n",
       "  <tbody>\n",
       "    <tr>\n",
       "      <th>Intercept</th>\n",
       "      <td>-4.704663e+01</td>\n",
       "      <td>-4.390383e+00</td>\n",
       "    </tr>\n",
       "    <tr>\n",
       "      <th>cubeRTpop</th>\n",
       "      <td>3.507072e-02</td>\n",
       "      <td>4.266578e-02</td>\n",
       "    </tr>\n",
       "    <tr>\n",
       "      <th>Popˆ2</th>\n",
       "      <td>-4.059588e-08</td>\n",
       "      <td>-2.337813e-08</td>\n",
       "    </tr>\n",
       "    <tr>\n",
       "      <th>Burglary</th>\n",
       "      <td>3.141795e+00</td>\n",
       "      <td>3.405498e+00</td>\n",
       "    </tr>\n",
       "  </tbody>\n",
       "</table>\n",
       "</div>"
      ],
      "text/plain": [
       "                      0             1\n",
       "Intercept -4.704663e+01 -4.390383e+00\n",
       "cubeRTpop  3.507072e-02  4.266578e-02\n",
       "Popˆ2     -4.059588e-08 -2.337813e-08\n",
       "Burglary   3.141795e+00  3.405498e+00"
      ]
     },
     "execution_count": 38,
     "metadata": {},
     "output_type": "execute_result"
    }
   ],
   "source": [
    "# going to drop murder\n",
    "# and also\n",
    "# now for dropping popˆ2 ft\n",
    "\n",
    "linear_formula3 = 'Propertycrime ~ cubeRTpop+Popˆ2+Burglary'\n",
    "\n",
    "# Fit the model to our data using the formula.\n",
    "lm3 = smf.ols(formula=linear_formula3, data=crime).fit()\n",
    "\n",
    "print('Parameters \\n\\n{}'.format(lm3.params))\n",
    "print('\\n\\nP values \\n\\n{}'.format(lm3.pvalues))\n",
    "print('\\nR Squared\\n\\n{}'.format(lm3.rsquared))\n",
    "\n",
    "lm3.conf_int()"
   ]
  },
  {
   "cell_type": "markdown",
   "metadata": {},
   "source": [
    "Using the features cube root of population, popˆ2, and burglary, the r squared value was lower than the original model, but slightly greater than the 2 second version, being 97.98% (compared to the last model's 97.89%). Also the variance in the confidence intervals is much smaller and shows greater accuracy of this model."
   ]
  },
  {
   "cell_type": "code",
   "execution_count": 39,
   "metadata": {},
   "outputs": [
    {
     "data": {
      "text/html": [
       "<div>\n",
       "<style scoped>\n",
       "    .dataframe tbody tr th:only-of-type {\n",
       "        vertical-align: middle;\n",
       "    }\n",
       "\n",
       "    .dataframe tbody tr th {\n",
       "        vertical-align: top;\n",
       "    }\n",
       "\n",
       "    .dataframe thead th {\n",
       "        text-align: right;\n",
       "    }\n",
       "</style>\n",
       "<table border=\"1\" class=\"dataframe\">\n",
       "  <thead>\n",
       "    <tr style=\"text-align: right;\">\n",
       "      <th></th>\n",
       "      <th>City</th>\n",
       "      <th>Population</th>\n",
       "      <th>Violent\n",
       "crime</th>\n",
       "      <th>Murder and\n",
       "nonnegligent\n",
       "manslaughter</th>\n",
       "      <th>Rape\n",
       "(revised\n",
       "definition)1</th>\n",
       "      <th>Rape\n",
       "(legacy\n",
       "definition)2</th>\n",
       "      <th>Robbery</th>\n",
       "      <th>Aggravated\n",
       "assault</th>\n",
       "      <th>Property\n",
       "crime</th>\n",
       "      <th>Burglary</th>\n",
       "      <th>Larceny-\n",
       "theft</th>\n",
       "      <th>Motor\n",
       "vehicle\n",
       "theft</th>\n",
       "      <th>Arson3</th>\n",
       "    </tr>\n",
       "  </thead>\n",
       "  <tbody>\n",
       "    <tr>\n",
       "      <th>0</th>\n",
       "      <td>Adams Village</td>\n",
       "      <td>1,851</td>\n",
       "      <td>0</td>\n",
       "      <td>0.0</td>\n",
       "      <td>NaN</td>\n",
       "      <td>0.0</td>\n",
       "      <td>0</td>\n",
       "      <td>0</td>\n",
       "      <td>11</td>\n",
       "      <td>1</td>\n",
       "      <td>10</td>\n",
       "      <td>0</td>\n",
       "      <td>0.0</td>\n",
       "    </tr>\n",
       "    <tr>\n",
       "      <th>1</th>\n",
       "      <td>Addison Town and Village</td>\n",
       "      <td>2,568</td>\n",
       "      <td>2</td>\n",
       "      <td>0.0</td>\n",
       "      <td>NaN</td>\n",
       "      <td>0.0</td>\n",
       "      <td>1</td>\n",
       "      <td>1</td>\n",
       "      <td>49</td>\n",
       "      <td>1</td>\n",
       "      <td>47</td>\n",
       "      <td>1</td>\n",
       "      <td>0.0</td>\n",
       "    </tr>\n",
       "  </tbody>\n",
       "</table>\n",
       "</div>"
      ],
      "text/plain": [
       "                       City Population Violent\\ncrime  \\\n",
       "0             Adams Village      1,851              0   \n",
       "1  Addison Town and Village      2,568              2   \n",
       "\n",
       "   Murder and\\nnonnegligent\\nmanslaughter Rape\\n(revised\\ndefinition)1  \\\n",
       "0                                     0.0                          NaN   \n",
       "1                                     0.0                          NaN   \n",
       "\n",
       "   Rape\\n(legacy\\ndefinition)2 Robbery Aggravated\\nassault Property\\ncrime  \\\n",
       "0                          0.0       0                   0              11   \n",
       "1                          0.0       1                   1              49   \n",
       "\n",
       "  Burglary Larceny-\\ntheft Motor\\nvehicle\\ntheft  Arson3  \n",
       "0        1              10                     0     0.0  \n",
       "1        1              47                     1     0.0  "
      ]
     },
     "execution_count": 39,
     "metadata": {},
     "output_type": "execute_result"
    }
   ],
   "source": [
    "newone = (\"/Users/gemma/Documents/data science/DS bootcamp/Table_8_Offenses_Known_to_Law_Enforcement_by_New_York_by_City_2014.csv\"\n",
    ")\n",
    "\n",
    "df2 = pd.read_csv(newone, delimiter= ',', encoding='latin-1',header=0)\n",
    "\n",
    "df2.head(2)\n"
   ]
  },
  {
   "cell_type": "markdown",
   "metadata": {},
   "source": [
    "Looking at data from 2014 to test the model on a new dataset.\n",
    "After loading the data (above), I'll add the transformations necessary to run the model (below)."
   ]
  },
  {
   "cell_type": "code",
   "execution_count": 40,
   "metadata": {},
   "outputs": [],
   "source": [
    "colnames2 = df2.columns.values\n",
    "\n",
    "# adding binary features - murder (or robbery) > 0 = 1, else 0\n",
    "\n",
    "df2['Murder bin'] = np.where(df2[colnames2[3]]==0, 0, 1)"
   ]
  },
  {
   "cell_type": "code",
   "execution_count": 41,
   "metadata": {},
   "outputs": [],
   "source": [
    "# renaming the weirdly named columns\n",
    "\n",
    "df2.rename({'Property\\ncrime': 'Propertycrime'}, axis='columns',inplace=True)\n"
   ]
  },
  {
   "cell_type": "code",
   "execution_count": 43,
   "metadata": {},
   "outputs": [
    {
     "data": {
      "text/plain": [
       "City                                       object\n",
       "Population                                  int64\n",
       "Violent\\ncrime                             object\n",
       "Murder and\\nnonnegligent\\nmanslaughter    float64\n",
       "Rape\\n(revised\\ndefinition)1               object\n",
       "Rape\\n(legacy\\ndefinition)2               float64\n",
       "Robbery                                    object\n",
       "Aggravated\\nassault                        object\n",
       "Propertycrime                               int64\n",
       "Burglary                                    int64\n",
       "Larceny-\\ntheft                            object\n",
       "Motor\\nvehicle\\ntheft                      object\n",
       "Arson3                                    float64\n",
       "Murder bin                                  int64\n",
       "dtype: object"
      ]
     },
     "execution_count": 43,
     "metadata": {},
     "output_type": "execute_result"
    }
   ],
   "source": [
    "# cleaning up population and property crime \n",
    "\n",
    "num_cleanup2 = ['Population', 'Propertycrime','Burglary'] \n",
    "\n",
    "# filling blanks with 0\n",
    "#df2 = df2.replace(r'^\\s*$\\n%' , 0, regex=True)\n",
    "\n",
    "# now dropping the row(s) that contained the nan \n",
    "#df2.dropna(axis=0, how='any', inplace=True)\n",
    "\n",
    "# dropping commas and making integers\n",
    "\n",
    "def cleanup(data_fr, numeric_str):\n",
    "    \n",
    "    data_fr[numeric_str].replace(r'^\\s*$\\n% ', np.nan, regex=True)\n",
    "#    data_fr[numeric_str].dropna(axis=0, how='any', inplace=True)\n",
    "    \n",
    "#    import  re\n",
    "#    r = re.compile(\"\\d+\")\n",
    "#    data_fr[numeric_str].apply(lambda x: int(r.search(x).group()))\n",
    "    \n",
    "    # getting rid of commas\n",
    "    data_fr[numeric_str] = data_fr[numeric_str].apply(lambda x: ''.join(list(filter(str.isdigit, str(x)))))\n",
    "    \n",
    "    data_fr[numeric_str] = data_fr[numeric_str].replace('', 0)\n",
    "    data_fr[numeric_str].dropna(axis=0, how='any', inplace=True)\n",
    "    # finally! the series is an integer (checked in the cell below)\n",
    "    \n",
    "    data_fr[numeric_str] = data_fr[numeric_str].astype(int)\n",
    "    \n",
    "    return\n",
    "\n",
    "for one in num_cleanup2:\n",
    "    cleanup(df2, one)\n",
    "\n",
    "# double checking\n",
    "df2.dtypes\n"
   ]
  },
  {
   "cell_type": "markdown",
   "metadata": {},
   "source": [
    "Above, I was converting some of the columns to floats and integers. I printed out the dtypes to make sure the conversion was successful."
   ]
  },
  {
   "cell_type": "code",
   "execution_count": 44,
   "metadata": {},
   "outputs": [],
   "source": [
    "# adding the cubed root of population feature\n",
    "df2['cubeRTpop'] = df2['Population'].apply(my2ndform)\n",
    "\n",
    "#also adding pop ˆ2\n",
    "df2.insert(2, 'Popˆ2', df2['Population']**2, allow_duplicates=False)"
   ]
  },
  {
   "cell_type": "code",
   "execution_count": 45,
   "metadata": {},
   "outputs": [
    {
     "data": {
      "text/html": [
       "<div>\n",
       "<style scoped>\n",
       "    .dataframe tbody tr th:only-of-type {\n",
       "        vertical-align: middle;\n",
       "    }\n",
       "\n",
       "    .dataframe tbody tr th {\n",
       "        vertical-align: top;\n",
       "    }\n",
       "\n",
       "    .dataframe thead th {\n",
       "        text-align: right;\n",
       "    }\n",
       "</style>\n",
       "<table border=\"1\" class=\"dataframe\">\n",
       "  <thead>\n",
       "    <tr style=\"text-align: right;\">\n",
       "      <th></th>\n",
       "      <th>City</th>\n",
       "      <th>Population</th>\n",
       "      <th>Popˆ2</th>\n",
       "      <th>Violent\n",
       "crime</th>\n",
       "      <th>Murder and\n",
       "nonnegligent\n",
       "manslaughter</th>\n",
       "      <th>Rape\n",
       "(revised\n",
       "definition)1</th>\n",
       "      <th>Rape\n",
       "(legacy\n",
       "definition)2</th>\n",
       "      <th>Robbery</th>\n",
       "      <th>Aggravated\n",
       "assault</th>\n",
       "      <th>Propertycrime</th>\n",
       "      <th>Burglary</th>\n",
       "      <th>Larceny-\n",
       "theft</th>\n",
       "      <th>Motor\n",
       "vehicle\n",
       "theft</th>\n",
       "      <th>Arson3</th>\n",
       "      <th>Murder bin</th>\n",
       "      <th>cubeRTpop</th>\n",
       "    </tr>\n",
       "  </thead>\n",
       "  <tbody>\n",
       "    <tr>\n",
       "      <th>0</th>\n",
       "      <td>Adams Village</td>\n",
       "      <td>1851</td>\n",
       "      <td>3426201</td>\n",
       "      <td>0</td>\n",
       "      <td>0.0</td>\n",
       "      <td>NaN</td>\n",
       "      <td>0.0</td>\n",
       "      <td>0</td>\n",
       "      <td>0</td>\n",
       "      <td>11</td>\n",
       "      <td>1</td>\n",
       "      <td>10</td>\n",
       "      <td>0</td>\n",
       "      <td>0.0</td>\n",
       "      <td>0</td>\n",
       "      <td>617.000000</td>\n",
       "    </tr>\n",
       "    <tr>\n",
       "      <th>1</th>\n",
       "      <td>Addison Town and Village</td>\n",
       "      <td>2568</td>\n",
       "      <td>6594624</td>\n",
       "      <td>2</td>\n",
       "      <td>0.0</td>\n",
       "      <td>NaN</td>\n",
       "      <td>0.0</td>\n",
       "      <td>1</td>\n",
       "      <td>1</td>\n",
       "      <td>49</td>\n",
       "      <td>1</td>\n",
       "      <td>47</td>\n",
       "      <td>1</td>\n",
       "      <td>0.0</td>\n",
       "      <td>0</td>\n",
       "      <td>856.000000</td>\n",
       "    </tr>\n",
       "    <tr>\n",
       "      <th>2</th>\n",
       "      <td>Afton Village4</td>\n",
       "      <td>820</td>\n",
       "      <td>672400</td>\n",
       "      <td>0</td>\n",
       "      <td>0.0</td>\n",
       "      <td>0</td>\n",
       "      <td>NaN</td>\n",
       "      <td>0</td>\n",
       "      <td>0</td>\n",
       "      <td>1</td>\n",
       "      <td>0</td>\n",
       "      <td>1</td>\n",
       "      <td>0</td>\n",
       "      <td>0.0</td>\n",
       "      <td>0</td>\n",
       "      <td>273.333333</td>\n",
       "    </tr>\n",
       "  </tbody>\n",
       "</table>\n",
       "</div>"
      ],
      "text/plain": [
       "                       City  Population    Popˆ2 Violent\\ncrime  \\\n",
       "0             Adams Village        1851  3426201              0   \n",
       "1  Addison Town and Village        2568  6594624              2   \n",
       "2            Afton Village4         820   672400              0   \n",
       "\n",
       "   Murder and\\nnonnegligent\\nmanslaughter Rape\\n(revised\\ndefinition)1  \\\n",
       "0                                     0.0                          NaN   \n",
       "1                                     0.0                          NaN   \n",
       "2                                     0.0                            0   \n",
       "\n",
       "   Rape\\n(legacy\\ndefinition)2 Robbery Aggravated\\nassault  Propertycrime  \\\n",
       "0                          0.0       0                   0             11   \n",
       "1                          0.0       1                   1             49   \n",
       "2                          NaN       0                   0              1   \n",
       "\n",
       "   Burglary Larceny-\\ntheft Motor\\nvehicle\\ntheft  Arson3  Murder bin  \\\n",
       "0         1              10                     0     0.0           0   \n",
       "1         1              47                     1     0.0           0   \n",
       "2         0               1                     0     0.0           0   \n",
       "\n",
       "    cubeRTpop  \n",
       "0  617.000000  \n",
       "1  856.000000  \n",
       "2  273.333333  "
      ]
     },
     "execution_count": 45,
     "metadata": {},
     "output_type": "execute_result"
    }
   ],
   "source": [
    "df2.head(3)"
   ]
  },
  {
   "cell_type": "markdown",
   "metadata": {},
   "source": [
    "Another look at the data with the new columns - cubed root of population and population squared"
   ]
  },
  {
   "cell_type": "code",
   "execution_count": 46,
   "metadata": {},
   "outputs": [
    {
     "name": "stdout",
     "output_type": "stream",
     "text": [
      "With 20% Holdout: -2.0033499590908983\n",
      "Testing on Sample: 0.9995097514078446\n"
     ]
    }
   ],
   "source": [
    "# w/ holdout groups\n",
    "target_m2 = df2['Propertycrime']\n",
    "data_m2 = df2[['cubeRTpop','Popˆ2', 'Burglary']]\n",
    "\n",
    "X_train_m2, X_test_m2, y_train_m2, y_test_m2 = train_test_split(data_m2, target_m2, test_size=0.2, random_state=20)\n",
    "\n",
    "print('With 20% Holdout: ' + str(regr.fit(X_train_m2, y_train_m2).score(X_test_m2, y_test_m2)))\n",
    "print('Testing on Sample: ' + str(regr.fit(data_m2, target_m2).score(data_m2, target_m2)))\n",
    "\n"
   ]
  },
  {
   "cell_type": "markdown",
   "metadata": {},
   "source": [
    "Testing the model with 20% holdout on this new dataset. It looks like it continues to have a high r squared value."
   ]
  },
  {
   "cell_type": "code",
   "execution_count": 47,
   "metadata": {},
   "outputs": [
    {
     "name": "stdout",
     "output_type": "stream",
     "text": [
      "Parameters \n",
      "\n",
      "Intercept    2.859310e+00\n",
      "cubeRTpop    2.733858e-02\n",
      "Popˆ2        8.488870e-11\n",
      "Burglary     3.293927e+00\n",
      "dtype: float64\n",
      "\n",
      "\n",
      "P values \n",
      "\n",
      "Intercept     7.678627e-01\n",
      "cubeRTpop     3.636902e-48\n",
      "Popˆ2         1.078361e-01\n",
      "Burglary     4.141141e-173\n",
      "dtype: float64\n",
      "\n",
      "R Squared\n",
      "\n",
      "0.9995097514078446\n"
     ]
    },
    {
     "data": {
      "text/html": [
       "<div>\n",
       "<style scoped>\n",
       "    .dataframe tbody tr th:only-of-type {\n",
       "        vertical-align: middle;\n",
       "    }\n",
       "\n",
       "    .dataframe tbody tr th {\n",
       "        vertical-align: top;\n",
       "    }\n",
       "\n",
       "    .dataframe thead th {\n",
       "        text-align: right;\n",
       "    }\n",
       "</style>\n",
       "<table border=\"1\" class=\"dataframe\">\n",
       "  <thead>\n",
       "    <tr style=\"text-align: right;\">\n",
       "      <th></th>\n",
       "      <th>0</th>\n",
       "      <th>1</th>\n",
       "    </tr>\n",
       "  </thead>\n",
       "  <tbody>\n",
       "    <tr>\n",
       "      <th>Intercept</th>\n",
       "      <td>-1.617480e+01</td>\n",
       "      <td>2.189342e+01</td>\n",
       "    </tr>\n",
       "    <tr>\n",
       "      <th>cubeRTpop</th>\n",
       "      <td>2.416730e-02</td>\n",
       "      <td>3.050985e-02</td>\n",
       "    </tr>\n",
       "    <tr>\n",
       "      <th>Popˆ2</th>\n",
       "      <td>-1.866855e-11</td>\n",
       "      <td>1.884460e-10</td>\n",
       "    </tr>\n",
       "    <tr>\n",
       "      <th>Burglary</th>\n",
       "      <td>3.169703e+00</td>\n",
       "      <td>3.418151e+00</td>\n",
       "    </tr>\n",
       "  </tbody>\n",
       "</table>\n",
       "</div>"
      ],
      "text/plain": [
       "                      0             1\n",
       "Intercept -1.617480e+01  2.189342e+01\n",
       "cubeRTpop  2.416730e-02  3.050985e-02\n",
       "Popˆ2     -1.866855e-11  1.884460e-10\n",
       "Burglary   3.169703e+00  3.418151e+00"
      ]
     },
     "execution_count": 47,
     "metadata": {},
     "output_type": "execute_result"
    }
   ],
   "source": [
    "lm4 = smf.ols(formula=linear_formula3, data=df2).fit()\n",
    "\n",
    "print('Parameters \\n\\n{}'.format(lm4.params))\n",
    "print('\\n\\nP values \\n\\n{}'.format(lm4.pvalues))\n",
    "print('\\nR Squared\\n\\n{}'.format(lm4.rsquared))\n",
    "\n",
    "lm4.conf_int()"
   ]
  },
  {
   "cell_type": "markdown",
   "metadata": {},
   "source": [
    "Here I used the original model to run the tests to show the coefficients for each feature, their p values, the r squared value, and the confidence intervals. It looks like population squared crosses 0 so I will drop that feature and re-test the model. \n",
    "\n",
    "Another reason I dropped population squared is because the correleation between population squared and cubed root of population was very high (above, there is a correlation matrix showing this), so only one of the two is necessary in the model."
   ]
  },
  {
   "cell_type": "code",
   "execution_count": 48,
   "metadata": {
    "scrolled": true
   },
   "outputs": [
    {
     "name": "stdout",
     "output_type": "stream",
     "text": [
      "Parameters \n",
      "\n",
      "Intercept   -5.409016\n",
      "cubeRTpop    0.029905\n",
      "Burglary     3.221343\n",
      "dtype: float64\n",
      "\n",
      "\n",
      "P values \n",
      "\n",
      "Intercept     5.112585e-01\n",
      "cubeRTpop    1.751366e-294\n",
      "Burglary     4.969449e-222\n",
      "dtype: float64\n",
      "\n",
      "R Squared\n",
      "\n",
      "0.9995063273681382\n"
     ]
    },
    {
     "data": {
      "text/html": [
       "<div>\n",
       "<style scoped>\n",
       "    .dataframe tbody tr th:only-of-type {\n",
       "        vertical-align: middle;\n",
       "    }\n",
       "\n",
       "    .dataframe tbody tr th {\n",
       "        vertical-align: top;\n",
       "    }\n",
       "\n",
       "    .dataframe thead th {\n",
       "        text-align: right;\n",
       "    }\n",
       "</style>\n",
       "<table border=\"1\" class=\"dataframe\">\n",
       "  <thead>\n",
       "    <tr style=\"text-align: right;\">\n",
       "      <th></th>\n",
       "      <th>0</th>\n",
       "      <th>1</th>\n",
       "    </tr>\n",
       "  </thead>\n",
       "  <tbody>\n",
       "    <tr>\n",
       "      <th>Intercept</th>\n",
       "      <td>-21.585175</td>\n",
       "      <td>10.767143</td>\n",
       "    </tr>\n",
       "    <tr>\n",
       "      <th>cubeRTpop</th>\n",
       "      <td>0.029397</td>\n",
       "      <td>0.030413</td>\n",
       "    </tr>\n",
       "    <tr>\n",
       "      <th>Burglary</th>\n",
       "      <td>3.134031</td>\n",
       "      <td>3.308655</td>\n",
       "    </tr>\n",
       "  </tbody>\n",
       "</table>\n",
       "</div>"
      ],
      "text/plain": [
       "                   0          1\n",
       "Intercept -21.585175  10.767143\n",
       "cubeRTpop   0.029397   0.030413\n",
       "Burglary    3.134031   3.308655"
      ]
     },
     "execution_count": 48,
     "metadata": {},
     "output_type": "execute_result"
    }
   ],
   "source": [
    "linear_formula4 = 'Propertycrime ~ cubeRTpop+Burglary'\n",
    "\n",
    "lm5 = smf.ols(formula=linear_formula4, data=df2).fit()\n",
    "\n",
    "print('Parameters \\n\\n{}'.format(lm5.params))\n",
    "print('\\n\\nP values \\n\\n{}'.format(lm5.pvalues))\n",
    "print('\\nR Squared\\n\\n{}'.format(lm5.rsquared))\n",
    "\n",
    "lm5.conf_int()"
   ]
  },
  {
   "cell_type": "markdown",
   "metadata": {},
   "source": [
    "Afer dropping population squared and reducing the model to 1 degree of freedom, the r squared value had no change, so it appears that the model is just as effective."
   ]
  },
  {
   "cell_type": "markdown",
   "metadata": {},
   "source": [
    "## a brief writeup of the reasoning behind the validation method you chose and the changes you made \n",
    "\n",
    "I looked at the p values of each feature in the model, as well as the confidence intervals, and tested it on multiple holdout groups as well as an entirely different dataset. When I saw that one feature crossed 0 in the confidence intervals, I dropped it and used features with a smaller range in their confidence intervals. Ultimately, the final version of the model consists of the cubed root of the population of the neighborhood, and the number of burglaries, in order to determine the number of property crimes.\n",
    "\n"
   ]
  },
  {
   "cell_type": "code",
   "execution_count": null,
   "metadata": {},
   "outputs": [],
   "source": []
  }
 ],
 "metadata": {
  "kernelspec": {
   "display_name": "Python 3",
   "language": "python",
   "name": "python3"
  },
  "language_info": {
   "codemirror_mode": {
    "name": "ipython",
    "version": 3
   },
   "file_extension": ".py",
   "mimetype": "text/x-python",
   "name": "python",
   "nbconvert_exporter": "python",
   "pygments_lexer": "ipython3",
   "version": "3.6.0"
  }
 },
 "nbformat": 4,
 "nbformat_minor": 2
}
