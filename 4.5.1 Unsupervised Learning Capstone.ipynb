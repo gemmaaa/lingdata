{
 "cells": [
  {
   "cell_type": "markdown",
   "metadata": {},
   "source": [
    "# 4.5.1 Unsupervised Learning Capstone"
   ]
  },
  {
   "cell_type": "markdown",
   "metadata": {},
   "source": [
    "1. Pick a set of texts, - at least 100 should be good. There should also be at least 10 different authors, but try to keep the texts related."
   ]
  },
  {
   "cell_type": "code",
   "execution_count": 1,
   "metadata": {},
   "outputs": [],
   "source": [
    "import numpy as np\n",
    "import pandas as pd\n",
    "import scipy\n",
    "import matplotlib.pyplot as plt\n",
    "import seaborn as sns\n",
    "%matplotlib inline\n",
    "\n",
    "import spacy\n",
    "from collections import Counter\n",
    "\n",
    "import re\n",
    "from sklearn.model_selection import train_test_split\n",
    "\n",
    "import xml.etree.ElementTree as ET\n",
    "import os\n",
    "from time import time"
   ]
  },
  {
   "cell_type": "markdown",
   "metadata": {},
   "source": [
    "## Exploring corpora to use for this project\n",
    "\n",
    "The following corpora are from the [University of Oxford Text Archive](https://ota.ox.ac.uk/) :\n",
    "* 2518 is [The Electronic Text Corpus of Sumerian Literature. Revised edition](https://ota.ox.ac.uk/desc/2518)\n",
    "* 2554 is [British National Corpus](https://ota.ox.ac.uk/desc/2554)\n",
    "\n",
    "There is also a corpus of blog entries: [Blog Authorship Corpus](https://u.cs.biu.ac.il/~koppel/BlogCorpus.htm)\n"
   ]
  },
  {
   "cell_type": "code",
   "execution_count": 2,
   "metadata": {},
   "outputs": [],
   "source": [
    "path_s = '/Users/gemma/Documents/data science/2518_from_oxford/2518/etcsl/translations/'\n",
    "\n",
    "files_s = os.listdir(path_s)"
   ]
  },
  {
   "cell_type": "code",
   "execution_count": 3,
   "metadata": {},
   "outputs": [],
   "source": [
    "path_BNC = '/Users/gemma/Documents/data science/2554_from_oxford/2554/download/Texts/'\n",
    "\n",
    "# levels are:  download/ Texts / 1 letter /  2 letters / XML files\n",
    "\n",
    "one_letter = os.listdir(path_BNC)\n",
    "\n",
    "filenames_BNC = []\n",
    "\n",
    "for i, letter in enumerate(one_letter):\n",
    "    # ignore the .DS_store file \n",
    "    if one_letter[i][0] != '.':\n",
    "        two_letters = os.listdir(path_BNC+letter+'/')\n",
    "\n",
    "        for pair in two_letters:\n",
    "            if pair[0] != '.': # ignore the .DS_store file again\n",
    "                all_files = os.listdir(path_BNC+letter+'/'+pair+'/')\n",
    "                \n",
    "                for file in all_files:\n",
    "                    filenames_BNC.append(path_BNC+letter+'/'+pair+'/'+file)\n",
    "        "
   ]
  },
  {
   "cell_type": "markdown",
   "metadata": {},
   "source": [
    "After taking a look at the Sumerian translations, it seems like the text is fragmented and as a result may be difficult to parse.\n",
    "\n",
    "The BNC covers many different topics and that won't fulfill the requirements of this project.\n",
    "\n",
    "Looking at the blog posts, let's first get the file path and create a list of the filenames to read in from.\n",
    "\n",
    "# Part 1 - Getting and organizing the data"
   ]
  },
  {
   "cell_type": "code",
   "execution_count": 4,
   "metadata": {},
   "outputs": [],
   "source": [
    "path_blogs = '/Users/gemma/Documents/data science/blogs/'\n",
    "blog_files = os.listdir(path_blogs)"
   ]
  },
  {
   "cell_type": "code",
   "execution_count": 5,
   "metadata": {},
   "outputs": [
    {
     "data": {
      "text/plain": [
       "'3954575.female.23.BusinessServices.Gemini.xml'"
      ]
     },
     "execution_count": 5,
     "metadata": {},
     "output_type": "execute_result"
    }
   ],
   "source": [
    "# looking at the structure of the filename\n",
    "blog_files[2]"
   ]
  },
  {
   "cell_type": "markdown",
   "metadata": {},
   "source": [
    "Let's see how many blogs we're working with:"
   ]
  },
  {
   "cell_type": "code",
   "execution_count": 6,
   "metadata": {},
   "outputs": [
    {
     "data": {
      "text/plain": [
       "19320"
      ]
     },
     "execution_count": 6,
     "metadata": {},
     "output_type": "execute_result"
    }
   ],
   "source": [
    "len(blog_files)"
   ]
  },
  {
   "cell_type": "markdown",
   "metadata": {},
   "source": [
    "Next, I'll try to read one blog in and take a look at the structure inside the file."
   ]
  },
  {
   "cell_type": "code",
   "execution_count": 7,
   "metadata": {},
   "outputs": [
    {
     "name": "stdout",
     "output_type": "stream",
     "text": [
      "/Users/gemma/Documents/data science/blogs/3364931.male.16.Student.Virgo.xml\n"
     ]
    }
   ],
   "source": [
    "#file = filenames_BNC[5]   # the BNC\n",
    "\n",
    "file = path_blogs+blog_files[3] # blogs\n",
    "\n",
    "#file = path_s+files_s[0]   # sumerian texts\n",
    "\n",
    "print(file)\n",
    "\n",
    "# parse the tree and get the root to iterate from later\n",
    "\n",
    "tree = ET.parse(file)\n",
    "root = tree.getroot()"
   ]
  },
  {
   "cell_type": "markdown",
   "metadata": {},
   "source": [
    "It looks like there is an issue parsing in the file to the tree due to the character <code>& nbsp;</code>. Let's go through the files, replace all the <code>& nbsp;</code>s with spaces, and then see if it'll work.\n",
    "\n",
    "Some useful info on reading in files in general and the different modes you can read them in / write them in: [here](https://www.guru99.com/reading-and-writing-files-in-python.html#3).\n",
    "\n",
    "Also info about how to make the tree from a string was found on [stack overflow](https://stackoverflow.com/questions/647071/python-xml-elementtree-from-a-string-source)."
   ]
  },
  {
   "cell_type": "code",
   "execution_count": 8,
   "metadata": {},
   "outputs": [],
   "source": [
    "def file_to_string(filename):\n",
    "    \n",
    "    f=open(filename, \"r\") #open the file in read mode. don't change it2 write, otherwise... :D\n",
    "\n",
    "    if f.mode == 'r': # double check that it's in read mode\n",
    "        text = f.read() # read the file to the text\n",
    "    \n",
    "    space = re.compile('&nbsp;') # this was preventing it from parsing straight from the file\n",
    "    text = re.sub(space, \" \", text) # sub the problem char out with a space\n",
    "    \n",
    "    #sometimes & is used as and or is just in the text - accounting for those situations\n",
    "    \n",
    "    andd = re.compile('& ')\n",
    "    text = re.sub(andd, \"and \", text) #\n",
    "    \n",
    "    randomand = re.compile('&')\n",
    "    text = re.sub(randomand, \"\", text)\n",
    "    \n",
    "    ugh = re.compile('<>')\n",
    "    text = re.sub(ugh, \"\", text)\n",
    "    \n",
    "    face = re.compile('>.<')\n",
    "    text = re.sub(face, \"\", text)\n",
    "    \n",
    "    return text"
   ]
  },
  {
   "cell_type": "markdown",
   "metadata": {},
   "source": [
    "Let's take a look at all of the elements in the tree."
   ]
  },
  {
   "cell_type": "code",
   "execution_count": 9,
   "metadata": {},
   "outputs": [
    {
     "data": {
      "text/plain": [
       "{'Blog', 'date', 'post'}"
      ]
     },
     "execution_count": 9,
     "metadata": {},
     "output_type": "execute_result"
    }
   ],
   "source": [
    "set([elem.tag for elem in root.iter()])\n",
    "\n",
    "# another way to look at the structure of the doc: \n",
    "\n",
    "#for thing in root.getiterator():\n",
    "#    print(thing)"
   ]
  },
  {
   "cell_type": "markdown",
   "metadata": {},
   "source": [
    "Next, in order to create the dataframe, let's create a function to get the data out of each xml file that has been parsed to a string with the function defined above.\n",
    "\n",
    "Let's also use the previously used text cleaner function to clean up the text in each post."
   ]
  },
  {
   "cell_type": "code",
   "execution_count": 10,
   "metadata": {},
   "outputs": [],
   "source": [
    "def text_cleaner(text):\n",
    "    # Visual inspection identifies a form of punctuation spaCy does not\n",
    "    # recognize: the double dash '--'.  Better get rid of it now!\n",
    "    text = re.sub(r'--',' ',text)\n",
    "    text = re.sub(\"[\\[].*?[\\]]\", \"\", text)\n",
    "    text = ' '.join(text.split())\n",
    "    return text"
   ]
  },
  {
   "cell_type": "code",
   "execution_count": 11,
   "metadata": {},
   "outputs": [],
   "source": [
    "# before using this function, i'll have to remember to define the 3 lists \n",
    "\n",
    "def split_data(filename, dates, posts, authors):\n",
    "\n",
    "    file_as_text = file_to_string(path_blogs+filename)\n",
    "    #file_as_text = file_to_string(filename)\n",
    "        \n",
    "    # since we are going to get the tree from a string and not a file \n",
    "    # we can't use ET.parse, and will use the following\n",
    "    \n",
    "    tree = ET.ElementTree(ET.fromstring(file_as_text))\n",
    "    root = tree.getroot()\n",
    "\n",
    "    for post_date in root.findall('date'):\n",
    "        \n",
    "        # replace the , with . so the structure is consistent\n",
    "        date_split = re.sub(r\",\", \"-\", post_date.text)\n",
    "        dates.append(date_split)\n",
    "        \n",
    "        authors.append(filename)\n",
    "        \n",
    "    for post_itself in root.findall('post'):\n",
    "        \n",
    "        cleaned = text_cleaner(post_itself.text)\n",
    "        posts.append(cleaned)\n",
    "    \n",
    "    return "
   ]
  },
  {
   "cell_type": "markdown",
   "metadata": {},
   "source": [
    "We'll pick 250 files randomly to try to read in data from, to use in the dataframe. Then we'll have extra files in case a significant amount of them have errors and can't be read in on a first try. "
   ]
  },
  {
   "cell_type": "code",
   "execution_count": 82,
   "metadata": {},
   "outputs": [],
   "source": [
    "selected = np.random.choice(blog_files,250)"
   ]
  },
  {
   "cell_type": "markdown",
   "metadata": {},
   "source": [
    "<em>Info about error handling from [here](https://docs.python.org/3/tutorial/errors.html)</em>"
   ]
  },
  {
   "cell_type": "code",
   "execution_count": 83,
   "metadata": {
    "scrolled": true
   },
   "outputs": [
    {
     "name": "stdout",
     "output_type": "stream",
     "text": [
      "Error with 0\n",
      "Error with 2\n",
      "Error with 3\n",
      "Error with 4\n",
      "Error with 5\n",
      "Error with 6\n",
      "Error with 9\n",
      "Error with 13\n",
      "Error with 14\n",
      "Error with 17\n",
      "Error with 23\n",
      "Error with 29\n",
      "Error with 31\n",
      "Error with 37\n",
      "Error with 39\n",
      "Error with 40\n",
      "Error with 44\n",
      "Error with 46\n",
      "Error with 47\n",
      "Error with 48\n",
      "Error with 51\n",
      "Error with 55\n",
      "Error with 57\n",
      "Error with 61\n",
      "Error with 62\n",
      "Error with 67\n",
      "Error with 68\n",
      "Error with 70\n",
      "Error with 73\n",
      "Error with 75\n",
      "Error with 77\n",
      "Error with 78\n",
      "Error with 79\n",
      "Error with 81\n",
      "Error with 82\n",
      "Error with 90\n",
      "Error with 91\n",
      "Error with 96\n",
      "Error with 100\n",
      "Error with 102\n",
      "Error with 103\n",
      "Error with 107\n",
      "Error with 112\n",
      "Error with 115\n",
      "Error with 116\n",
      "Error with 121\n",
      "Error with 123\n",
      "Error with 125\n",
      "Error with 127\n",
      "Error with 128\n",
      "Error with 129\n",
      "Error with 133\n",
      "Error with 137\n",
      "Error with 138\n",
      "Error with 141\n",
      "Error with 143\n",
      "Error with 144\n",
      "Error with 150\n",
      "Error with 154\n",
      "Error with 158\n",
      "Error with 161\n",
      "Error with 162\n",
      "Error with 163\n",
      "Error with 169\n",
      "Error with 174\n",
      "Error with 176\n",
      "Error with 182\n",
      "Error with 183\n",
      "Error with 187\n",
      "Error with 192\n",
      "Error with 193\n",
      "Error with 199\n",
      "Error with 208\n",
      "Error with 210\n",
      "Error with 214\n",
      "Error with 220\n",
      "Error with 221\n",
      "Error with 222\n",
      "Error with 235\n",
      "Error with 242\n",
      "Error with 246\n",
      "error count = 81\n"
     ]
    }
   ],
   "source": [
    "# the lists (and 1 dict) are \n",
    "\n",
    "dates = []\n",
    "posts = []\n",
    "authors = []\n",
    "\n",
    "count = 0\n",
    "\n",
    "for i, file in enumerate(selected):\n",
    "    try:\n",
    "        split_data(file, dates, posts, authors)    \n",
    "    except:\n",
    "        #UnicodeDecodeError:\n",
    "        print('Error with {}'.format(i))\n",
    "        count+=1\n",
    "    \n",
    "print('error count = {}'.format(count))"
   ]
  },
  {
   "cell_type": "code",
   "execution_count": 84,
   "metadata": {},
   "outputs": [],
   "source": [
    "# make a dictionary from authors to create the dataframe from there\n",
    "\n",
    "author_dict = {}\n",
    "\n",
    "for i, value in enumerate(authors):\n",
    "    separated = value.split(\".\")\n",
    "    author_dict[i] = separated[:-1]\n"
   ]
  },
  {
   "cell_type": "code",
   "execution_count": 85,
   "metadata": {},
   "outputs": [],
   "source": [
    "df = pd.DataFrame.from_dict(data=author_dict, orient='index', columns=['author_id', 'gender', \n",
    "                                                       'age', 'industry', 'sign'] )\n",
    "\n",
    "df['date'] = dates\n",
    "df['post'] = posts"
   ]
  },
  {
   "cell_type": "code",
   "execution_count": 86,
   "metadata": {},
   "outputs": [
    {
     "data": {
      "text/html": [
       "<div>\n",
       "<style scoped>\n",
       "    .dataframe tbody tr th:only-of-type {\n",
       "        vertical-align: middle;\n",
       "    }\n",
       "\n",
       "    .dataframe tbody tr th {\n",
       "        vertical-align: top;\n",
       "    }\n",
       "\n",
       "    .dataframe thead th {\n",
       "        text-align: right;\n",
       "    }\n",
       "</style>\n",
       "<table border=\"1\" class=\"dataframe\">\n",
       "  <thead>\n",
       "    <tr style=\"text-align: right;\">\n",
       "      <th></th>\n",
       "      <th>author_id</th>\n",
       "      <th>gender</th>\n",
       "      <th>age</th>\n",
       "      <th>industry</th>\n",
       "      <th>sign</th>\n",
       "      <th>date</th>\n",
       "      <th>post</th>\n",
       "    </tr>\n",
       "  </thead>\n",
       "  <tbody>\n",
       "    <tr>\n",
       "      <th>0</th>\n",
       "      <td>3537375</td>\n",
       "      <td>male</td>\n",
       "      <td>23</td>\n",
       "      <td>Student</td>\n",
       "      <td>Leo</td>\n",
       "      <td>25-June-2004</td>\n",
       "      <td>It was going to be a boring, depressing (See b...</td>\n",
       "    </tr>\n",
       "    <tr>\n",
       "      <th>1</th>\n",
       "      <td>3537375</td>\n",
       "      <td>male</td>\n",
       "      <td>23</td>\n",
       "      <td>Student</td>\n",
       "      <td>Leo</td>\n",
       "      <td>23-June-2004</td>\n",
       "      <td>It seems that RIAA has once again cranked up t...</td>\n",
       "    </tr>\n",
       "    <tr>\n",
       "      <th>2</th>\n",
       "      <td>3537375</td>\n",
       "      <td>male</td>\n",
       "      <td>23</td>\n",
       "      <td>Student</td>\n",
       "      <td>Leo</td>\n",
       "      <td>22-June-2004</td>\n",
       "      <td>Am I the only one who'd like to know what the ...</td>\n",
       "    </tr>\n",
       "    <tr>\n",
       "      <th>3</th>\n",
       "      <td>3537375</td>\n",
       "      <td>male</td>\n",
       "      <td>23</td>\n",
       "      <td>Student</td>\n",
       "      <td>Leo</td>\n",
       "      <td>18-June-2004</td>\n",
       "      <td>As the link will show, the number one selling ...</td>\n",
       "    </tr>\n",
       "    <tr>\n",
       "      <th>4</th>\n",
       "      <td>3537375</td>\n",
       "      <td>male</td>\n",
       "      <td>23</td>\n",
       "      <td>Student</td>\n",
       "      <td>Leo</td>\n",
       "      <td>15-June-2004</td>\n",
       "      <td>urlLink Supreme Court Ruling The Court nicely ...</td>\n",
       "    </tr>\n",
       "  </tbody>\n",
       "</table>\n",
       "</div>"
      ],
      "text/plain": [
       "  author_id gender age industry sign          date  \\\n",
       "0   3537375   male  23  Student  Leo  25-June-2004   \n",
       "1   3537375   male  23  Student  Leo  23-June-2004   \n",
       "2   3537375   male  23  Student  Leo  22-June-2004   \n",
       "3   3537375   male  23  Student  Leo  18-June-2004   \n",
       "4   3537375   male  23  Student  Leo  15-June-2004   \n",
       "\n",
       "                                                post  \n",
       "0  It was going to be a boring, depressing (See b...  \n",
       "1  It seems that RIAA has once again cranked up t...  \n",
       "2  Am I the only one who'd like to know what the ...  \n",
       "3  As the link will show, the number one selling ...  \n",
       "4  urlLink Supreme Court Ruling The Court nicely ...  "
      ]
     },
     "execution_count": 86,
     "metadata": {},
     "output_type": "execute_result"
    }
   ],
   "source": [
    "df.head()"
   ]
  },
  {
   "cell_type": "markdown",
   "metadata": {},
   "source": [
    "After separating and re combining the data into the dataframe, I'll use spacy to parse the blog posts."
   ]
  },
  {
   "cell_type": "code",
   "execution_count": 87,
   "metadata": {},
   "outputs": [],
   "source": [
    "nlp = spacy.load('en_core_web_lg')\n",
    "\n",
    "df['parsed'] = df['post'].apply(nlp)"
   ]
  },
  {
   "cell_type": "markdown",
   "metadata": {},
   "source": [
    "I found that some of the months are not in English, which leads to the assumption that some of the posts are not in English. Originally I just replaced the months with the english but the analysis of the text won't work since we are only loading the English language.\n",
    "\n",
    "I'll use Google Cloud API to check the language of each row, and then drop rows that aren't in English. I used these resources: [Translation API Client Libraries](https://cloud.google.com/translate/docs/reference/libraries) (and [explicitly adding credentials](https://cloud.google.com/docs/authentication/production)) and [Detecting the lang of a string](https://cloud.google.com/translate/docs/detecting-language#translate_detect_language-python) . \n",
    "\n",
    "Another resource - [lang detect](https://pypi.org/project/langdetect/)."
   ]
  },
  {
   "cell_type": "code",
   "execution_count": 88,
   "metadata": {},
   "outputs": [],
   "source": [
    "#export GOOGLE_APPLICATION_CREDENTIALS=\"\"\"/Users/gemma/Documents/data science/DS Bootcamp/\n",
    "#                                         My First Project-901fbdcc624d.json\"\"\"\n",
    "\n",
    "# Imports the Google Cloud client library\n",
    "from google.cloud import translate\n",
    "\n",
    "# Instantiates a client\n",
    "translate_client = translate.Client.from_service_account_json(\n",
    "        '/Users/gemma/Documents/data science/DS Bootcamp/My First Project-901fbdcc624d.json')\n"
   ]
  },
  {
   "cell_type": "code",
   "execution_count": 89,
   "metadata": {},
   "outputs": [],
   "source": [
    "# running this on the whole sries made me hit the quota on the79th row, so im\n",
    "# just going to look at the first 50 char of each post\n",
    "\n",
    "def check_fifty_char(series):\n",
    "    return translate_client.detect_language(series[:15])\n",
    "\n",
    "df['lang'] = df['post'].apply(check_fifty_char)\n"
   ]
  },
  {
   "cell_type": "code",
   "execution_count": 90,
   "metadata": {},
   "outputs": [],
   "source": [
    "def check_lang(series):\n",
    "    if series['language'] != \"en\":\n",
    "        series = np.nan\n",
    "    return\n",
    "\n",
    "# substitute non english with NaN\n",
    "df['lang'].apply(check_lang)\n",
    "\n",
    "# drop the rows of NaN - can't use non English data in this analysis \n",
    "df.dropna(axis=0, how='any', inplace=True)\n"
   ]
  },
  {
   "cell_type": "code",
   "execution_count": 91,
   "metadata": {},
   "outputs": [],
   "source": [
    "# now that we're done with the language column, let's drop it \n",
    "\n",
    "df.drop('lang', axis=1, inplace=True)"
   ]
  },
  {
   "cell_type": "code",
   "execution_count": 92,
   "metadata": {},
   "outputs": [
    {
     "data": {
      "text/html": [
       "<div>\n",
       "<style scoped>\n",
       "    .dataframe tbody tr th:only-of-type {\n",
       "        vertical-align: middle;\n",
       "    }\n",
       "\n",
       "    .dataframe tbody tr th {\n",
       "        vertical-align: top;\n",
       "    }\n",
       "\n",
       "    .dataframe thead th {\n",
       "        text-align: right;\n",
       "    }\n",
       "</style>\n",
       "<table border=\"1\" class=\"dataframe\">\n",
       "  <thead>\n",
       "    <tr style=\"text-align: right;\">\n",
       "      <th></th>\n",
       "      <th>author_id</th>\n",
       "      <th>gender</th>\n",
       "      <th>age</th>\n",
       "      <th>industry</th>\n",
       "      <th>sign</th>\n",
       "      <th>date</th>\n",
       "      <th>post</th>\n",
       "      <th>parsed</th>\n",
       "    </tr>\n",
       "  </thead>\n",
       "  <tbody>\n",
       "  </tbody>\n",
       "</table>\n",
       "</div>"
      ],
      "text/plain": [
       "Empty DataFrame\n",
       "Columns: [author_id, gender, age, industry, sign, date, post, parsed]\n",
       "Index: []"
      ]
     },
     "execution_count": 92,
     "metadata": {},
     "output_type": "execute_result"
    }
   ],
   "source": [
    "# someone has julio, agosto, and maj in their date but the post is still in english\n",
    "df[df['date'].str.contains(\"maj\")]"
   ]
  },
  {
   "cell_type": "markdown",
   "metadata": {},
   "source": [
    "Even after checking the language, and dropping all non English posts, some of the months are still spelt incorrectly and are causing errors. I double checked the erroneous rows to make sure the posts were in English, and then I will replace the strings that flag as errors when trying to run cell 94 below."
   ]
  },
  {
   "cell_type": "code",
   "execution_count": 93,
   "metadata": {},
   "outputs": [],
   "source": [
    "# some months either in other langs (which will bring some other issues later on) or \n",
    "# just spelled wrong\n",
    "replacing = {\"Mai\":\"May\", \"mayo\": \"May\", \"mei\": \"May\", \"Agosto\":\"August\", \"juli\":\"July\", \n",
    "             \"Julho\":\"July\", \"Juli\":\"July\", \"mars\":\"March\", \"juni\": \"June\", \"Juni\":\"June\", \n",
    "             \"augustus\": \"August\", \"agosto\":\"August\", 'augusti':'Agusut', \"Agusut\":\"August\",\n",
    "            \"Dezember\": \"December\", \"Januar\": \"January\", \"Januaryy\": \"January\",\n",
    "            \"Januaryy\": \"Jan\", \"Jany\": \"Jan\", \"Februar\": \"Feb\", \"Feby\": \"Feb\",\n",
    "              \"julio\": \"July\", \"maj\": \"May\", \"juni\": \"June\", \"juin\": \"June\", \"juillet\":\"July\"}\n",
    "                            \n",
    "for k in replacing.keys():\n",
    "    df['date'] = df['date'].str.replace(k,replacing[k],regex=False)"
   ]
  },
  {
   "cell_type": "code",
   "execution_count": 94,
   "metadata": {},
   "outputs": [],
   "source": [
    "df['date'] = pd.to_datetime(df['date'])"
   ]
  },
  {
   "cell_type": "code",
   "execution_count": 95,
   "metadata": {},
   "outputs": [],
   "source": [
    "df['month'] = df['date'].dt.month"
   ]
  },
  {
   "cell_type": "code",
   "execution_count": 96,
   "metadata": {},
   "outputs": [],
   "source": [
    "df['day'] = df['date'].dt.day\n",
    "df['year'] = df['date'].dt.year"
   ]
  },
  {
   "cell_type": "code",
   "execution_count": 97,
   "metadata": {},
   "outputs": [],
   "source": [
    "df['gender'] = np.where(df['gender'] == 'male', 1, 0)\n",
    "\n",
    "#binarize gender since only male or female are options here"
   ]
  },
  {
   "cell_type": "code",
   "execution_count": 98,
   "metadata": {},
   "outputs": [
    {
     "data": {
      "text/html": [
       "<div>\n",
       "<style scoped>\n",
       "    .dataframe tbody tr th:only-of-type {\n",
       "        vertical-align: middle;\n",
       "    }\n",
       "\n",
       "    .dataframe tbody tr th {\n",
       "        vertical-align: top;\n",
       "    }\n",
       "\n",
       "    .dataframe thead th {\n",
       "        text-align: right;\n",
       "    }\n",
       "</style>\n",
       "<table border=\"1\" class=\"dataframe\">\n",
       "  <thead>\n",
       "    <tr style=\"text-align: right;\">\n",
       "      <th></th>\n",
       "      <th>author_id</th>\n",
       "      <th>gender</th>\n",
       "      <th>age</th>\n",
       "      <th>industry</th>\n",
       "      <th>sign</th>\n",
       "      <th>date</th>\n",
       "      <th>post</th>\n",
       "      <th>parsed</th>\n",
       "      <th>month</th>\n",
       "      <th>day</th>\n",
       "      <th>year</th>\n",
       "    </tr>\n",
       "  </thead>\n",
       "  <tbody>\n",
       "    <tr>\n",
       "      <th>0</th>\n",
       "      <td>3537375</td>\n",
       "      <td>1</td>\n",
       "      <td>23</td>\n",
       "      <td>Student</td>\n",
       "      <td>Leo</td>\n",
       "      <td>2004-06-25</td>\n",
       "      <td>It was going to be a boring, depressing (See b...</td>\n",
       "      <td>(It, was, going, to, be, a, boring, ,, depress...</td>\n",
       "      <td>6</td>\n",
       "      <td>25</td>\n",
       "      <td>2004</td>\n",
       "    </tr>\n",
       "    <tr>\n",
       "      <th>1</th>\n",
       "      <td>3537375</td>\n",
       "      <td>1</td>\n",
       "      <td>23</td>\n",
       "      <td>Student</td>\n",
       "      <td>Leo</td>\n",
       "      <td>2004-06-23</td>\n",
       "      <td>It seems that RIAA has once again cranked up t...</td>\n",
       "      <td>(It, seems, that, RIAA, has, once, again, cran...</td>\n",
       "      <td>6</td>\n",
       "      <td>23</td>\n",
       "      <td>2004</td>\n",
       "    </tr>\n",
       "    <tr>\n",
       "      <th>2</th>\n",
       "      <td>3537375</td>\n",
       "      <td>1</td>\n",
       "      <td>23</td>\n",
       "      <td>Student</td>\n",
       "      <td>Leo</td>\n",
       "      <td>2004-06-22</td>\n",
       "      <td>Am I the only one who'd like to know what the ...</td>\n",
       "      <td>(Am, I, the, only, one, who, 'd, like, to, kno...</td>\n",
       "      <td>6</td>\n",
       "      <td>22</td>\n",
       "      <td>2004</td>\n",
       "    </tr>\n",
       "  </tbody>\n",
       "</table>\n",
       "</div>"
      ],
      "text/plain": [
       "  author_id  gender age industry sign       date  \\\n",
       "0   3537375       1  23  Student  Leo 2004-06-25   \n",
       "1   3537375       1  23  Student  Leo 2004-06-23   \n",
       "2   3537375       1  23  Student  Leo 2004-06-22   \n",
       "\n",
       "                                                post  \\\n",
       "0  It was going to be a boring, depressing (See b...   \n",
       "1  It seems that RIAA has once again cranked up t...   \n",
       "2  Am I the only one who'd like to know what the ...   \n",
       "\n",
       "                                              parsed  month  day  year  \n",
       "0  (It, was, going, to, be, a, boring, ,, depress...      6   25  2004  \n",
       "1  (It, seems, that, RIAA, has, once, again, cran...      6   23  2004  \n",
       "2  (Am, I, the, only, one, who, 'd, like, to, kno...      6   22  2004  "
      ]
     },
     "execution_count": 98,
     "metadata": {},
     "output_type": "execute_result"
    }
   ],
   "source": [
    "df.head(3)"
   ]
  },
  {
   "cell_type": "markdown",
   "metadata": {},
   "source": [
    "## Part 1.2 - Features\n",
    "\n",
    "I'll binarize the categorical data (indsustry and sign), drop the redundant columns, and create some new features."
   ]
  },
  {
   "cell_type": "code",
   "execution_count": 99,
   "metadata": {},
   "outputs": [],
   "source": [
    "binned = pd.get_dummies(df.loc[:,['industry','sign']])\n",
    "\n",
    "df = pd.concat([df.drop(['industry','sign','date'], 1), \n",
    "                     binned], axis=1) \n"
   ]
  },
  {
   "cell_type": "code",
   "execution_count": 101,
   "metadata": {},
   "outputs": [
    {
     "data": {
      "text/html": [
       "<div>\n",
       "<style scoped>\n",
       "    .dataframe tbody tr th:only-of-type {\n",
       "        vertical-align: middle;\n",
       "    }\n",
       "\n",
       "    .dataframe tbody tr th {\n",
       "        vertical-align: top;\n",
       "    }\n",
       "\n",
       "    .dataframe thead th {\n",
       "        text-align: right;\n",
       "    }\n",
       "</style>\n",
       "<table border=\"1\" class=\"dataframe\">\n",
       "  <thead>\n",
       "    <tr style=\"text-align: right;\">\n",
       "      <th></th>\n",
       "      <th>author_id</th>\n",
       "      <th>gender</th>\n",
       "      <th>age</th>\n",
       "      <th>post</th>\n",
       "      <th>parsed</th>\n",
       "      <th>month</th>\n",
       "      <th>day</th>\n",
       "      <th>year</th>\n",
       "      <th>industry_Accounting</th>\n",
       "      <th>industry_Advertising</th>\n",
       "      <th>...</th>\n",
       "      <th>sign_Cancer</th>\n",
       "      <th>sign_Capricorn</th>\n",
       "      <th>sign_Gemini</th>\n",
       "      <th>sign_Leo</th>\n",
       "      <th>sign_Libra</th>\n",
       "      <th>sign_Pisces</th>\n",
       "      <th>sign_Sagittarius</th>\n",
       "      <th>sign_Scorpio</th>\n",
       "      <th>sign_Taurus</th>\n",
       "      <th>sign_Virgo</th>\n",
       "    </tr>\n",
       "  </thead>\n",
       "  <tbody>\n",
       "    <tr>\n",
       "      <th>0</th>\n",
       "      <td>3537375</td>\n",
       "      <td>1</td>\n",
       "      <td>23</td>\n",
       "      <td>It was going to be a boring, depressing (See b...</td>\n",
       "      <td>(It, was, going, to, be, a, boring, ,, depress...</td>\n",
       "      <td>6</td>\n",
       "      <td>25</td>\n",
       "      <td>2004</td>\n",
       "      <td>0</td>\n",
       "      <td>0</td>\n",
       "      <td>...</td>\n",
       "      <td>0</td>\n",
       "      <td>0</td>\n",
       "      <td>0</td>\n",
       "      <td>1</td>\n",
       "      <td>0</td>\n",
       "      <td>0</td>\n",
       "      <td>0</td>\n",
       "      <td>0</td>\n",
       "      <td>0</td>\n",
       "      <td>0</td>\n",
       "    </tr>\n",
       "    <tr>\n",
       "      <th>1</th>\n",
       "      <td>3537375</td>\n",
       "      <td>1</td>\n",
       "      <td>23</td>\n",
       "      <td>It seems that RIAA has once again cranked up t...</td>\n",
       "      <td>(It, seems, that, RIAA, has, once, again, cran...</td>\n",
       "      <td>6</td>\n",
       "      <td>23</td>\n",
       "      <td>2004</td>\n",
       "      <td>0</td>\n",
       "      <td>0</td>\n",
       "      <td>...</td>\n",
       "      <td>0</td>\n",
       "      <td>0</td>\n",
       "      <td>0</td>\n",
       "      <td>1</td>\n",
       "      <td>0</td>\n",
       "      <td>0</td>\n",
       "      <td>0</td>\n",
       "      <td>0</td>\n",
       "      <td>0</td>\n",
       "      <td>0</td>\n",
       "    </tr>\n",
       "  </tbody>\n",
       "</table>\n",
       "<p>2 rows × 51 columns</p>\n",
       "</div>"
      ],
      "text/plain": [
       "  author_id  gender age                                               post  \\\n",
       "0   3537375       1  23  It was going to be a boring, depressing (See b...   \n",
       "1   3537375       1  23  It seems that RIAA has once again cranked up t...   \n",
       "\n",
       "                                              parsed  month  day  year  \\\n",
       "0  (It, was, going, to, be, a, boring, ,, depress...      6   25  2004   \n",
       "1  (It, seems, that, RIAA, has, once, again, cran...      6   23  2004   \n",
       "\n",
       "   industry_Accounting  industry_Advertising     ...      sign_Cancer  \\\n",
       "0                    0                     0     ...                0   \n",
       "1                    0                     0     ...                0   \n",
       "\n",
       "   sign_Capricorn  sign_Gemini  sign_Leo  sign_Libra  sign_Pisces  \\\n",
       "0               0            0         1           0            0   \n",
       "1               0            0         1           0            0   \n",
       "\n",
       "   sign_Sagittarius  sign_Scorpio  sign_Taurus  sign_Virgo  \n",
       "0                 0             0            0           0  \n",
       "1                 0             0            0           0  \n",
       "\n",
       "[2 rows x 51 columns]"
      ]
     },
     "execution_count": 101,
     "metadata": {},
     "output_type": "execute_result"
    }
   ],
   "source": [
    "df.head(2)"
   ]
  },
  {
   "cell_type": "markdown",
   "metadata": {},
   "source": [
    "For features, I'll add a word count, a vector of the entire blog post, a pronoun count per post, and then use Bag of Words and add the most common 150 words as features as well."
   ]
  },
  {
   "cell_type": "code",
   "execution_count": 102,
   "metadata": {},
   "outputs": [],
   "source": [
    "df[\"word_count\"] = len(df['parsed'])"
   ]
  },
  {
   "cell_type": "code",
   "execution_count": 103,
   "metadata": {},
   "outputs": [],
   "source": [
    "# getting vectors with spacy, will also get vectors with unsupervised methods later on\n",
    "\n",
    "def get_post_vector(post):\n",
    "    span = post\n",
    "    if span.has_vector:\n",
    "        return span.vector_norm\n",
    "    else:\n",
    "        return 0\n",
    "\n",
    "df['vector'] = df['parsed'].apply(get_post_vector)"
   ]
  },
  {
   "cell_type": "code",
   "execution_count": 104,
   "metadata": {},
   "outputs": [],
   "source": [
    "def get_pron_count(text):\n",
    "    count = 0\n",
    "    for token in text:\n",
    "        if token.pos_ == \"PRON\":\n",
    "            count+=1\n",
    "    return count\n",
    "\n",
    "df['pronoun_count'] = df['parsed'].apply(get_pron_count)"
   ]
  },
  {
   "cell_type": "markdown",
   "metadata": {},
   "source": [
    "Bag of Words"
   ]
  },
  {
   "cell_type": "code",
   "execution_count": 105,
   "metadata": {},
   "outputs": [
    {
     "name": "stdout",
     "output_type": "stream",
     "text": [
      "570555\n"
     ]
    }
   ],
   "source": [
    "def bag_of_words(text, all_words):\n",
    "    \n",
    "    # Filter out punctuation and stop words.\n",
    "    all_words += ([token.lemma_\n",
    "                for token in text\n",
    "                if not token.is_punct\n",
    "                and not token.is_stop])\n",
    "    \n",
    "    # Return the most common words.\n",
    "    #return [item[0] for item in Counter(allwords).most_common(1000)]\n",
    "    \n",
    "all_words = []\n",
    "df['parsed'].apply(bag_of_words, args=(all_words,))\n",
    "\n",
    "print(len(all_words))\n",
    "\n",
    "common_words = [item[0] for item in Counter(all_words).most_common(150)]"
   ]
  },
  {
   "cell_type": "code",
   "execution_count": 106,
   "metadata": {},
   "outputs": [
    {
     "data": {
      "text/html": [
       "<div>\n",
       "<style scoped>\n",
       "    .dataframe tbody tr th:only-of-type {\n",
       "        vertical-align: middle;\n",
       "    }\n",
       "\n",
       "    .dataframe tbody tr th {\n",
       "        vertical-align: top;\n",
       "    }\n",
       "\n",
       "    .dataframe thead th {\n",
       "        text-align: right;\n",
       "    }\n",
       "</style>\n",
       "<table border=\"1\" class=\"dataframe\">\n",
       "  <thead>\n",
       "    <tr style=\"text-align: right;\">\n",
       "      <th></th>\n",
       "      <th>author_id</th>\n",
       "      <th>gender</th>\n",
       "      <th>age</th>\n",
       "      <th>post</th>\n",
       "      <th>parsed</th>\n",
       "      <th>month</th>\n",
       "      <th>day</th>\n",
       "      <th>year</th>\n",
       "      <th>industry_Accounting</th>\n",
       "      <th>industry_Advertising</th>\n",
       "      <th>...</th>\n",
       "      <th>sign_Leo</th>\n",
       "      <th>sign_Libra</th>\n",
       "      <th>sign_Pisces</th>\n",
       "      <th>sign_Sagittarius</th>\n",
       "      <th>sign_Scorpio</th>\n",
       "      <th>sign_Taurus</th>\n",
       "      <th>sign_Virgo</th>\n",
       "      <th>word_count</th>\n",
       "      <th>vector</th>\n",
       "      <th>pronoun_count</th>\n",
       "    </tr>\n",
       "  </thead>\n",
       "  <tbody>\n",
       "    <tr>\n",
       "      <th>0</th>\n",
       "      <td>3537375</td>\n",
       "      <td>1</td>\n",
       "      <td>23</td>\n",
       "      <td>It was going to be a boring, depressing (See b...</td>\n",
       "      <td>(It, was, going, to, be, a, boring, ,, depress...</td>\n",
       "      <td>6</td>\n",
       "      <td>25</td>\n",
       "      <td>2004</td>\n",
       "      <td>0</td>\n",
       "      <td>0</td>\n",
       "      <td>...</td>\n",
       "      <td>1</td>\n",
       "      <td>0</td>\n",
       "      <td>0</td>\n",
       "      <td>0</td>\n",
       "      <td>0</td>\n",
       "      <td>0</td>\n",
       "      <td>0</td>\n",
       "      <td>2848</td>\n",
       "      <td>2.962753</td>\n",
       "      <td>19</td>\n",
       "    </tr>\n",
       "    <tr>\n",
       "      <th>1</th>\n",
       "      <td>3537375</td>\n",
       "      <td>1</td>\n",
       "      <td>23</td>\n",
       "      <td>It seems that RIAA has once again cranked up t...</td>\n",
       "      <td>(It, seems, that, RIAA, has, once, again, cran...</td>\n",
       "      <td>6</td>\n",
       "      <td>23</td>\n",
       "      <td>2004</td>\n",
       "      <td>0</td>\n",
       "      <td>0</td>\n",
       "      <td>...</td>\n",
       "      <td>1</td>\n",
       "      <td>0</td>\n",
       "      <td>0</td>\n",
       "      <td>0</td>\n",
       "      <td>0</td>\n",
       "      <td>0</td>\n",
       "      <td>0</td>\n",
       "      <td>2848</td>\n",
       "      <td>2.997476</td>\n",
       "      <td>1</td>\n",
       "    </tr>\n",
       "  </tbody>\n",
       "</table>\n",
       "<p>2 rows × 54 columns</p>\n",
       "</div>"
      ],
      "text/plain": [
       "  author_id  gender age                                               post  \\\n",
       "0   3537375       1  23  It was going to be a boring, depressing (See b...   \n",
       "1   3537375       1  23  It seems that RIAA has once again cranked up t...   \n",
       "\n",
       "                                              parsed  month  day  year  \\\n",
       "0  (It, was, going, to, be, a, boring, ,, depress...      6   25  2004   \n",
       "1  (It, seems, that, RIAA, has, once, again, cran...      6   23  2004   \n",
       "\n",
       "   industry_Accounting  industry_Advertising      ...        sign_Leo  \\\n",
       "0                    0                     0      ...               1   \n",
       "1                    0                     0      ...               1   \n",
       "\n",
       "   sign_Libra  sign_Pisces  sign_Sagittarius  sign_Scorpio  sign_Taurus  \\\n",
       "0           0            0                 0             0            0   \n",
       "1           0            0                 0             0            0   \n",
       "\n",
       "   sign_Virgo  word_count    vector  pronoun_count  \n",
       "0           0        2848  2.962753             19  \n",
       "1           0        2848  2.997476              1  \n",
       "\n",
       "[2 rows x 54 columns]"
      ]
     },
     "execution_count": 106,
     "metadata": {},
     "output_type": "execute_result"
    }
   ],
   "source": [
    "df.head(2)"
   ]
  },
  {
   "cell_type": "code",
   "execution_count": 107,
   "metadata": {
    "scrolled": true
   },
   "outputs": [
    {
     "name": "stdout",
     "output_type": "stream",
     "text": [
      "Processing row 0\n",
      "Processing row 500\n",
      "Processing row 1000\n",
      "Processing row 1500\n",
      "Processing row 2000\n",
      "Processing row 2500\n"
     ]
    }
   ],
   "source": [
    "for word in common_words:\n",
    "    df[word] = 0\n",
    "    \n",
    "for i, sentence in enumerate(df['parsed']):\n",
    "        \n",
    "        # I already converted the sentence to lemmas, and filtered out punctuation and stop words.\n",
    "        # Now I'm just going to get a list of the words in each line that are in the common words list.\n",
    "        words = [token.lemma_\n",
    "                 for token in sentence\n",
    "                 if token.lemma_ in common_words\n",
    "                ]\n",
    "        \n",
    "        # Populate the row with word counts\n",
    "        for word in words:\n",
    "            df.loc[i, word] += 1\n",
    "        \n",
    "        # This counter is just to make sure the kernel didn't hang.\n",
    "        if i % 500 == 0:\n",
    "            print(\"Processing row {}\".format(i))"
   ]
  },
  {
   "cell_type": "code",
   "execution_count": 108,
   "metadata": {},
   "outputs": [
    {
     "data": {
      "text/html": [
       "<div>\n",
       "<style scoped>\n",
       "    .dataframe tbody tr th:only-of-type {\n",
       "        vertical-align: middle;\n",
       "    }\n",
       "\n",
       "    .dataframe tbody tr th {\n",
       "        vertical-align: top;\n",
       "    }\n",
       "\n",
       "    .dataframe thead th {\n",
       "        text-align: right;\n",
       "    }\n",
       "</style>\n",
       "<table border=\"1\" class=\"dataframe\">\n",
       "  <thead>\n",
       "    <tr style=\"text-align: right;\">\n",
       "      <th></th>\n",
       "      <th>author_id</th>\n",
       "      <th>gender</th>\n",
       "      <th>age</th>\n",
       "      <th>post</th>\n",
       "      <th>parsed</th>\n",
       "      <th>month</th>\n",
       "      <th>day</th>\n",
       "      <th>year</th>\n",
       "      <th>industry_Accounting</th>\n",
       "      <th>industry_Advertising</th>\n",
       "      <th>...</th>\n",
       "      <th>play</th>\n",
       "      <th>two</th>\n",
       "      <th>man</th>\n",
       "      <th>long</th>\n",
       "      <th>2</th>\n",
       "      <th>keep</th>\n",
       "      <th>these</th>\n",
       "      <th>lot</th>\n",
       "      <th>girl</th>\n",
       "      <th>read</th>\n",
       "    </tr>\n",
       "  </thead>\n",
       "  <tbody>\n",
       "    <tr>\n",
       "      <th>0</th>\n",
       "      <td>3537375</td>\n",
       "      <td>1</td>\n",
       "      <td>23</td>\n",
       "      <td>It was going to be a boring, depressing (See b...</td>\n",
       "      <td>(It, was, going, to, be, a, boring, ,, depress...</td>\n",
       "      <td>6</td>\n",
       "      <td>0</td>\n",
       "      <td>0</td>\n",
       "      <td>0</td>\n",
       "      <td>0</td>\n",
       "      <td>...</td>\n",
       "      <td>0</td>\n",
       "      <td>0</td>\n",
       "      <td>0</td>\n",
       "      <td>0</td>\n",
       "      <td>2</td>\n",
       "      <td>0</td>\n",
       "      <td>0</td>\n",
       "      <td>0</td>\n",
       "      <td>0</td>\n",
       "      <td>1</td>\n",
       "    </tr>\n",
       "    <tr>\n",
       "      <th>1</th>\n",
       "      <td>3537375</td>\n",
       "      <td>1</td>\n",
       "      <td>23</td>\n",
       "      <td>It seems that RIAA has once again cranked up t...</td>\n",
       "      <td>(It, seems, that, RIAA, has, once, again, cran...</td>\n",
       "      <td>6</td>\n",
       "      <td>0</td>\n",
       "      <td>2</td>\n",
       "      <td>0</td>\n",
       "      <td>0</td>\n",
       "      <td>...</td>\n",
       "      <td>0</td>\n",
       "      <td>0</td>\n",
       "      <td>0</td>\n",
       "      <td>0</td>\n",
       "      <td>0</td>\n",
       "      <td>0</td>\n",
       "      <td>0</td>\n",
       "      <td>0</td>\n",
       "      <td>0</td>\n",
       "      <td>0</td>\n",
       "    </tr>\n",
       "    <tr>\n",
       "      <th>2</th>\n",
       "      <td>3537375</td>\n",
       "      <td>1</td>\n",
       "      <td>23</td>\n",
       "      <td>Am I the only one who'd like to know what the ...</td>\n",
       "      <td>(Am, I, the, only, one, who, 'd, like, to, kno...</td>\n",
       "      <td>6</td>\n",
       "      <td>0</td>\n",
       "      <td>1</td>\n",
       "      <td>0</td>\n",
       "      <td>0</td>\n",
       "      <td>...</td>\n",
       "      <td>0</td>\n",
       "      <td>0</td>\n",
       "      <td>0</td>\n",
       "      <td>0</td>\n",
       "      <td>0</td>\n",
       "      <td>0</td>\n",
       "      <td>0</td>\n",
       "      <td>0</td>\n",
       "      <td>0</td>\n",
       "      <td>0</td>\n",
       "    </tr>\n",
       "    <tr>\n",
       "      <th>3</th>\n",
       "      <td>3537375</td>\n",
       "      <td>1</td>\n",
       "      <td>23</td>\n",
       "      <td>As the link will show, the number one selling ...</td>\n",
       "      <td>(As, the, link, will, show, ,, the, number, on...</td>\n",
       "      <td>6</td>\n",
       "      <td>0</td>\n",
       "      <td>0</td>\n",
       "      <td>0</td>\n",
       "      <td>0</td>\n",
       "      <td>...</td>\n",
       "      <td>3</td>\n",
       "      <td>0</td>\n",
       "      <td>0</td>\n",
       "      <td>0</td>\n",
       "      <td>1</td>\n",
       "      <td>1</td>\n",
       "      <td>1</td>\n",
       "      <td>0</td>\n",
       "      <td>0</td>\n",
       "      <td>1</td>\n",
       "    </tr>\n",
       "    <tr>\n",
       "      <th>4</th>\n",
       "      <td>3537375</td>\n",
       "      <td>1</td>\n",
       "      <td>23</td>\n",
       "      <td>urlLink Supreme Court Ruling The Court nicely ...</td>\n",
       "      <td>(urlLink, Supreme, Court, Ruling, The, Court, ...</td>\n",
       "      <td>6</td>\n",
       "      <td>0</td>\n",
       "      <td>0</td>\n",
       "      <td>0</td>\n",
       "      <td>0</td>\n",
       "      <td>...</td>\n",
       "      <td>0</td>\n",
       "      <td>0</td>\n",
       "      <td>0</td>\n",
       "      <td>0</td>\n",
       "      <td>0</td>\n",
       "      <td>0</td>\n",
       "      <td>0</td>\n",
       "      <td>0</td>\n",
       "      <td>0</td>\n",
       "      <td>0</td>\n",
       "    </tr>\n",
       "  </tbody>\n",
       "</table>\n",
       "<p>5 rows × 202 columns</p>\n",
       "</div>"
      ],
      "text/plain": [
       "  author_id  gender age                                               post  \\\n",
       "0   3537375       1  23  It was going to be a boring, depressing (See b...   \n",
       "1   3537375       1  23  It seems that RIAA has once again cranked up t...   \n",
       "2   3537375       1  23  Am I the only one who'd like to know what the ...   \n",
       "3   3537375       1  23  As the link will show, the number one selling ...   \n",
       "4   3537375       1  23  urlLink Supreme Court Ruling The Court nicely ...   \n",
       "\n",
       "                                              parsed  month  day  year  \\\n",
       "0  (It, was, going, to, be, a, boring, ,, depress...      6    0     0   \n",
       "1  (It, seems, that, RIAA, has, once, again, cran...      6    0     2   \n",
       "2  (Am, I, the, only, one, who, 'd, like, to, kno...      6    0     1   \n",
       "3  (As, the, link, will, show, ,, the, number, on...      6    0     0   \n",
       "4  (urlLink, Supreme, Court, Ruling, The, Court, ...      6    0     0   \n",
       "\n",
       "   industry_Accounting  industry_Advertising  ...   play  two  man  long  2  \\\n",
       "0                    0                     0  ...      0    0    0     0  2   \n",
       "1                    0                     0  ...      0    0    0     0  0   \n",
       "2                    0                     0  ...      0    0    0     0  0   \n",
       "3                    0                     0  ...      3    0    0     0  1   \n",
       "4                    0                     0  ...      0    0    0     0  0   \n",
       "\n",
       "   keep  these  lot  girl  read  \n",
       "0     0      0    0     0     1  \n",
       "1     0      0    0     0     0  \n",
       "2     0      0    0     0     0  \n",
       "3     1      1    0     0     1  \n",
       "4     0      0    0     0     0  \n",
       "\n",
       "[5 rows x 202 columns]"
      ]
     },
     "execution_count": 108,
     "metadata": {},
     "output_type": "execute_result"
    }
   ],
   "source": [
    "df.head()"
   ]
  },
  {
   "cell_type": "markdown",
   "metadata": {},
   "source": [
    "Now the dataframe is quite large. I'm going to go through and create a correlation matrix, and then drop words with high correlations (over 90%)."
   ]
  },
  {
   "cell_type": "code",
   "execution_count": 109,
   "metadata": {},
   "outputs": [],
   "source": [
    "corr_m = df.drop(['post', 'parsed'],1).corr()"
   ]
  },
  {
   "cell_type": "code",
   "execution_count": 110,
   "metadata": {
    "scrolled": true
   },
   "outputs": [
    {
     "name": "stdout",
     "output_type": "stream",
     "text": [
      "['pronoun_count', '-PRON-']\n"
     ]
    }
   ],
   "source": [
    "flds = corr_m.columns.values\n",
    "\n",
    "to_drop = []\n",
    "\n",
    "for i in range(corr_m.shape[1]):\n",
    "    for j in range(i+1, corr_m.shape[1]):\n",
    "        if corr_m.iloc[i,j] > 0.90:\n",
    "            if flds[i] not in to_drop:\n",
    "                to_drop.append(flds[i])\n",
    "\n",
    "\n",
    "#even = range(len(to_drop)-1, 0,-2)\n",
    "\n",
    "#for i in even:\n",
    "#    to_drop.remove(to_drop[i])\n",
    "print(to_drop)"
   ]
  },
  {
   "cell_type": "code",
   "execution_count": 111,
   "metadata": {},
   "outputs": [],
   "source": [
    "# let's drop them\n",
    "\n",
    "df.drop(to_drop,1, inplace=True)"
   ]
  },
  {
   "cell_type": "code",
   "execution_count": 112,
   "metadata": {},
   "outputs": [
    {
     "data": {
      "text/html": [
       "<div>\n",
       "<style scoped>\n",
       "    .dataframe tbody tr th:only-of-type {\n",
       "        vertical-align: middle;\n",
       "    }\n",
       "\n",
       "    .dataframe tbody tr th {\n",
       "        vertical-align: top;\n",
       "    }\n",
       "\n",
       "    .dataframe thead th {\n",
       "        text-align: right;\n",
       "    }\n",
       "</style>\n",
       "<table border=\"1\" class=\"dataframe\">\n",
       "  <thead>\n",
       "    <tr style=\"text-align: right;\">\n",
       "      <th></th>\n",
       "      <th>author_id</th>\n",
       "      <th>gender</th>\n",
       "      <th>age</th>\n",
       "      <th>post</th>\n",
       "      <th>parsed</th>\n",
       "      <th>month</th>\n",
       "      <th>day</th>\n",
       "      <th>year</th>\n",
       "      <th>industry_Accounting</th>\n",
       "      <th>industry_Advertising</th>\n",
       "      <th>...</th>\n",
       "      <th>play</th>\n",
       "      <th>two</th>\n",
       "      <th>man</th>\n",
       "      <th>long</th>\n",
       "      <th>2</th>\n",
       "      <th>keep</th>\n",
       "      <th>these</th>\n",
       "      <th>lot</th>\n",
       "      <th>girl</th>\n",
       "      <th>read</th>\n",
       "    </tr>\n",
       "  </thead>\n",
       "  <tbody>\n",
       "    <tr>\n",
       "      <th>0</th>\n",
       "      <td>3537375</td>\n",
       "      <td>1</td>\n",
       "      <td>23</td>\n",
       "      <td>It was going to be a boring, depressing (See b...</td>\n",
       "      <td>(It, was, going, to, be, a, boring, ,, depress...</td>\n",
       "      <td>6</td>\n",
       "      <td>0</td>\n",
       "      <td>0</td>\n",
       "      <td>0</td>\n",
       "      <td>0</td>\n",
       "      <td>...</td>\n",
       "      <td>0</td>\n",
       "      <td>0</td>\n",
       "      <td>0</td>\n",
       "      <td>0</td>\n",
       "      <td>2</td>\n",
       "      <td>0</td>\n",
       "      <td>0</td>\n",
       "      <td>0</td>\n",
       "      <td>0</td>\n",
       "      <td>1</td>\n",
       "    </tr>\n",
       "    <tr>\n",
       "      <th>1</th>\n",
       "      <td>3537375</td>\n",
       "      <td>1</td>\n",
       "      <td>23</td>\n",
       "      <td>It seems that RIAA has once again cranked up t...</td>\n",
       "      <td>(It, seems, that, RIAA, has, once, again, cran...</td>\n",
       "      <td>6</td>\n",
       "      <td>0</td>\n",
       "      <td>2</td>\n",
       "      <td>0</td>\n",
       "      <td>0</td>\n",
       "      <td>...</td>\n",
       "      <td>0</td>\n",
       "      <td>0</td>\n",
       "      <td>0</td>\n",
       "      <td>0</td>\n",
       "      <td>0</td>\n",
       "      <td>0</td>\n",
       "      <td>0</td>\n",
       "      <td>0</td>\n",
       "      <td>0</td>\n",
       "      <td>0</td>\n",
       "    </tr>\n",
       "    <tr>\n",
       "      <th>2</th>\n",
       "      <td>3537375</td>\n",
       "      <td>1</td>\n",
       "      <td>23</td>\n",
       "      <td>Am I the only one who'd like to know what the ...</td>\n",
       "      <td>(Am, I, the, only, one, who, 'd, like, to, kno...</td>\n",
       "      <td>6</td>\n",
       "      <td>0</td>\n",
       "      <td>1</td>\n",
       "      <td>0</td>\n",
       "      <td>0</td>\n",
       "      <td>...</td>\n",
       "      <td>0</td>\n",
       "      <td>0</td>\n",
       "      <td>0</td>\n",
       "      <td>0</td>\n",
       "      <td>0</td>\n",
       "      <td>0</td>\n",
       "      <td>0</td>\n",
       "      <td>0</td>\n",
       "      <td>0</td>\n",
       "      <td>0</td>\n",
       "    </tr>\n",
       "    <tr>\n",
       "      <th>3</th>\n",
       "      <td>3537375</td>\n",
       "      <td>1</td>\n",
       "      <td>23</td>\n",
       "      <td>As the link will show, the number one selling ...</td>\n",
       "      <td>(As, the, link, will, show, ,, the, number, on...</td>\n",
       "      <td>6</td>\n",
       "      <td>0</td>\n",
       "      <td>0</td>\n",
       "      <td>0</td>\n",
       "      <td>0</td>\n",
       "      <td>...</td>\n",
       "      <td>3</td>\n",
       "      <td>0</td>\n",
       "      <td>0</td>\n",
       "      <td>0</td>\n",
       "      <td>1</td>\n",
       "      <td>1</td>\n",
       "      <td>1</td>\n",
       "      <td>0</td>\n",
       "      <td>0</td>\n",
       "      <td>1</td>\n",
       "    </tr>\n",
       "    <tr>\n",
       "      <th>4</th>\n",
       "      <td>3537375</td>\n",
       "      <td>1</td>\n",
       "      <td>23</td>\n",
       "      <td>urlLink Supreme Court Ruling The Court nicely ...</td>\n",
       "      <td>(urlLink, Supreme, Court, Ruling, The, Court, ...</td>\n",
       "      <td>6</td>\n",
       "      <td>0</td>\n",
       "      <td>0</td>\n",
       "      <td>0</td>\n",
       "      <td>0</td>\n",
       "      <td>...</td>\n",
       "      <td>0</td>\n",
       "      <td>0</td>\n",
       "      <td>0</td>\n",
       "      <td>0</td>\n",
       "      <td>0</td>\n",
       "      <td>0</td>\n",
       "      <td>0</td>\n",
       "      <td>0</td>\n",
       "      <td>0</td>\n",
       "      <td>0</td>\n",
       "    </tr>\n",
       "  </tbody>\n",
       "</table>\n",
       "<p>5 rows × 200 columns</p>\n",
       "</div>"
      ],
      "text/plain": [
       "  author_id  gender age                                               post  \\\n",
       "0   3537375       1  23  It was going to be a boring, depressing (See b...   \n",
       "1   3537375       1  23  It seems that RIAA has once again cranked up t...   \n",
       "2   3537375       1  23  Am I the only one who'd like to know what the ...   \n",
       "3   3537375       1  23  As the link will show, the number one selling ...   \n",
       "4   3537375       1  23  urlLink Supreme Court Ruling The Court nicely ...   \n",
       "\n",
       "                                              parsed  month  day  year  \\\n",
       "0  (It, was, going, to, be, a, boring, ,, depress...      6    0     0   \n",
       "1  (It, seems, that, RIAA, has, once, again, cran...      6    0     2   \n",
       "2  (Am, I, the, only, one, who, 'd, like, to, kno...      6    0     1   \n",
       "3  (As, the, link, will, show, ,, the, number, on...      6    0     0   \n",
       "4  (urlLink, Supreme, Court, Ruling, The, Court, ...      6    0     0   \n",
       "\n",
       "   industry_Accounting  industry_Advertising  ...   play  two  man  long  2  \\\n",
       "0                    0                     0  ...      0    0    0     0  2   \n",
       "1                    0                     0  ...      0    0    0     0  0   \n",
       "2                    0                     0  ...      0    0    0     0  0   \n",
       "3                    0                     0  ...      3    0    0     0  1   \n",
       "4                    0                     0  ...      0    0    0     0  0   \n",
       "\n",
       "   keep  these  lot  girl  read  \n",
       "0     0      0    0     0     1  \n",
       "1     0      0    0     0     0  \n",
       "2     0      0    0     0     0  \n",
       "3     1      1    0     0     1  \n",
       "4     0      0    0     0     0  \n",
       "\n",
       "[5 rows x 200 columns]"
      ]
     },
     "execution_count": 112,
     "metadata": {},
     "output_type": "execute_result"
    }
   ],
   "source": [
    "df.head()"
   ]
  },
  {
   "cell_type": "markdown",
   "metadata": {},
   "source": [
    "# Part 2 - Test set\n",
    "\n",
    "Reserve 25% of the corpus as a test set.\n"
   ]
  },
  {
   "cell_type": "code",
   "execution_count": 113,
   "metadata": {},
   "outputs": [],
   "source": [
    "X = df.drop(['author_id','post','parsed'], 1)\n",
    "Y = df['author_id']\n",
    "\n",
    "X_train, X_test, y_train, y_test = train_test_split(X,Y, test_size=0.25, random_state=0)\n"
   ]
  },
  {
   "cell_type": "markdown",
   "metadata": {},
   "source": [
    "\n",
    "<hr width=\"50%\"/>\n",
    "\n",
    "# Part 3 - Clustering\n",
    "\n",
    "The clustering algorithms I'm going to use - K means and mean shift - require normalized data, which will be the next step. "
   ]
  },
  {
   "cell_type": "code",
   "execution_count": 114,
   "metadata": {},
   "outputs": [],
   "source": [
    "from sklearn.preprocessing import normalize"
   ]
  },
  {
   "cell_type": "code",
   "execution_count": 115,
   "metadata": {},
   "outputs": [],
   "source": [
    "X_train_norm = normalize(X_train)"
   ]
  },
  {
   "cell_type": "markdown",
   "metadata": {},
   "source": [
    "## Clustering - K Means\n"
   ]
  },
  {
   "cell_type": "code",
   "execution_count": 116,
   "metadata": {},
   "outputs": [],
   "source": [
    "from sklearn.cluster import KMeans\n",
    "from sklearn.decomposition import PCA\n",
    "from sklearn.cluster import MiniBatchKMeans"
   ]
  },
  {
   "cell_type": "markdown",
   "metadata": {},
   "source": [
    "I'll try k means with different values for n, number of clusters. First I'm trying this with 5 clusters."
   ]
  },
  {
   "cell_type": "code",
   "execution_count": 117,
   "metadata": {},
   "outputs": [
    {
     "data": {
      "image/png": "[encoded data removed]",
      "text/plain": [
       "<Figure size 432x288 with 1 Axes>"
      ]
     },
     "metadata": {},
     "output_type": "display_data"
    },
    {
     "name": "stdout",
     "output_type": "stream",
     "text": [
      "Time: 0.9554281234741211 seconds \n",
      "Comparing k-means clusters against the data:\n",
      "author_id  1340343  1383289  1492818  1558100  1703038  1846741  1874629  \\\n",
      "row_0                                                                      \n",
      "0                0       23        1        1        6        0        0   \n",
      "1                0        0        0       11       11        2        0   \n",
      "2               63       58        0        0        0        0       15   \n",
      "3                0        0        0        0        0        0        1   \n",
      "4                1        6        3        0        8        0        1   \n",
      "\n",
      "author_id  2460557  2556543  2579472   ...    4275352  4287988  4295475  \\\n",
      "row_0                                  ...                                \n",
      "0                9        0        1   ...          2        3        2   \n",
      "1                0        0       12   ...          3        1        0   \n",
      "2               26       22        0   ...          0        0        0   \n",
      "3                0        0        0   ...          0        0        0   \n",
      "4                5        0        1   ...          1        1        1   \n",
      "\n",
      "author_id  4304499  4309214  4323836  511887  732730  828046  880688  \n",
      "row_0                                                                 \n",
      "0                0        0        2       3       8       0       4  \n",
      "1                0        8        0       4       0      10      46  \n",
      "2                0        0        0       0      32       0       0  \n",
      "3                1        0        0       0       0       0       0  \n",
      "4                0        0        0       0       2       0       0  \n",
      "\n",
      "[5 rows x 166 columns]\n"
     ]
    }
   ],
   "source": [
    "start = time()\n",
    "# Calculate predicted values.\n",
    "y_pred = KMeans(n_clusters=5, random_state=42).fit_predict(X_train_norm)\n",
    "\n",
    "# Plot the solution.\n",
    "plt.scatter(X_train_norm[:, 0], X_train_norm[:, 1], c=y_pred)\n",
    "plt.show()\n",
    "\n",
    "print('Time: {} seconds '.format(time()-start))\n",
    "# Check the solution against the data.\n",
    "print('Comparing k-means clusters against the data:')\n",
    "print(pd.crosstab(y_pred, y_train))"
   ]
  },
  {
   "cell_type": "markdown",
   "metadata": {},
   "source": [
    "This looks pretty good, at most an author is spread across 3 clusters, with 1 or 2 being the average. Let's try another amount of clusters to see if performance can be improved. I tried 2 clusters already and it was less effective."
   ]
  },
  {
   "cell_type": "code",
   "execution_count": 118,
   "metadata": {},
   "outputs": [
    {
     "data": {
      "image/png": "[encoded data removed]",
      "text/plain": [
       "<Figure size 432x288 with 1 Axes>"
      ]
     },
     "metadata": {},
     "output_type": "display_data"
    },
    {
     "name": "stdout",
     "output_type": "stream",
     "text": [
      "Time: 0.7545499801635742 seconds \n",
      "Comparing k-means clusters against the data:\n",
      "author_id  1340343  1383289  1492818  1558100  1703038  1846741  1874629  \\\n",
      "row_0                                                                      \n",
      "0                0       23        2        1        7        0        0   \n",
      "1                1        4        2        0        6        0        2   \n",
      "2               63       60        0       11       12        2       15   \n",
      "\n",
      "author_id  2460557  2556543  2579472   ...    4275352  4287988  4295475  \\\n",
      "row_0                                  ...                                \n",
      "0               11        0        1   ...          3        2        3   \n",
      "1                2        0        1   ...          1        1        0   \n",
      "2               27       22       12   ...          2        2        0   \n",
      "\n",
      "author_id  4304499  4309214  4323836  511887  732730  828046  880688  \n",
      "row_0                                                                 \n",
      "0                0        0        2       3       6       0       2  \n",
      "1                1        0        0       0       1       0       0  \n",
      "2                0        8        0       4      35      10      48  \n",
      "\n",
      "[3 rows x 166 columns]\n"
     ]
    }
   ],
   "source": [
    "start = time()\n",
    "# Calculate predicted values.\n",
    "y_pred = KMeans(n_clusters=3, random_state=42).fit_predict(X_train_norm)\n",
    "\n",
    "#km = KMeans(n_clusters=num_clusters)\n",
    "\n",
    "# Plot the solution.\n",
    "plt.scatter(X_train_norm[:, 0], X_train_norm[:, 1], c=y_pred)\n",
    "plt.show()\n",
    "\n",
    "print('Time: {} seconds '.format(time()-start))\n",
    "# Check the solution against the data.\n",
    "print('Comparing k-means clusters against the data:')\n",
    "print(pd.crosstab(y_pred, y_train))\n",
    "\n",
    "# going to add the info back into the dataframe later\n",
    "kmeans_clusters = y_pred"
   ]
  },
  {
   "cell_type": "markdown",
   "metadata": {},
   "source": [
    "3 clusters seems pretty comparable to 5. Let's try one more value of n."
   ]
  },
  {
   "cell_type": "code",
   "execution_count": 119,
   "metadata": {
    "scrolled": true
   },
   "outputs": [
    {
     "data": {
      "image/png": "[encoded data removed]",
      "text/plain": [
       "<Figure size 432x288 with 1 Axes>"
      ]
     },
     "metadata": {},
     "output_type": "display_data"
    },
    {
     "name": "stdout",
     "output_type": "stream",
     "text": [
      "Time: 0.8064920902252197 seconds \n",
      "Comparing k-means clusters against the data:\n",
      "author_id  1340343  1383289  1492818  1558100  1703038  1846741  1874629  \\\n",
      "row_0                                                                      \n",
      "0                1        2        1        0        6        0        1   \n",
      "1               63       50        0        0        0        0       15   \n",
      "2                0        0        0        4       11        2        0   \n",
      "3                0       22        0        0        0        0        0   \n",
      "4                0        0        0        0        0        0        1   \n",
      "5                0       13        0        8        2        0        0   \n",
      "6                0        0        3        0        6        0        0   \n",
      "7                0        0        0        0        0        0        0   \n",
      "\n",
      "author_id  2460557  2556543  2579472   ...    4275352  4287988  4295475  \\\n",
      "row_0                                  ...                                \n",
      "0                1        0        0   ...          1        1        0   \n",
      "1               23       19        0   ...          0        0        0   \n",
      "2                0        0       12   ...          2        1        0   \n",
      "3                2        0        0   ...          0        0        0   \n",
      "4                0        0        0   ...          0        0        0   \n",
      "5                8        3        1   ...          2        1        1   \n",
      "6                6        0        1   ...          1        2        2   \n",
      "7                0        0        0   ...          0        0        0   \n",
      "\n",
      "author_id  4304499  4309214  4323836  511887  732730  828046  880688  \n",
      "row_0                                                                 \n",
      "0                0        0        0       0       1       0       0  \n",
      "1                0        0        0       0      25       0       0  \n",
      "2                0        8        0       2       0      10      44  \n",
      "3                0        0        0       0       0       0       0  \n",
      "4                1        0        0       0       0       0       0  \n",
      "5                0        0        0       3      15       0       5  \n",
      "6                0        0        2       2       1       0       1  \n",
      "7                0        0        0       0       0       0       0  \n",
      "\n",
      "[8 rows x 166 columns]\n"
     ]
    }
   ],
   "source": [
    "\n",
    "start = time()\n",
    "# Calculate predicted values.\n",
    "y_pred = KMeans(n_clusters=8, random_state=42).fit_predict(X_train_norm)\n",
    "\n",
    "# Plot the solution.\n",
    "plt.scatter(X_train_norm[:, 0], X_train_norm[:, 1], c=y_pred)\n",
    "plt.show()\n",
    "\n",
    "print('Time: {} seconds '.format(time()-start))\n",
    "# Check the solution against the data.\n",
    "print('Comparing k-means clusters against the data:')\n",
    "print(pd.crosstab(y_pred, y_train))"
   ]
  },
  {
   "cell_type": "markdown",
   "metadata": {},
   "source": [
    "8 clusters looks a little bit better because the authors for the most part are only spread across 1 or 2 clusters. Let's try mean shift and then move on with whichever is better -  kmeans with 8 clusters, or meanshift."
   ]
  },
  {
   "cell_type": "code",
   "execution_count": 120,
   "metadata": {},
   "outputs": [
    {
     "name": "stdout",
     "output_type": "stream",
     "text": [
      "Number of estimated clusters: 2\n"
     ]
    }
   ],
   "source": [
    "from sklearn.cluster import MeanShift, estimate_bandwidth\n",
    "\n",
    "# Here we set the bandwidth. This function automatically derives a bandwidth\n",
    "# number based on an inspection of the distances among points in the data.\n",
    "bandwidth = estimate_bandwidth(X_train_norm, quantile=0.2, n_samples=500)\n",
    "\n",
    "# Declare and fit the model.\n",
    "ms = MeanShift(bandwidth=bandwidth, bin_seeding=True)\n",
    "ms.fit(X_train_norm)\n",
    "\n",
    "# Extract cluster assignments for each data point.\n",
    "labels = ms.labels_\n",
    "\n",
    "# Coordinates of the cluster centers.\n",
    "cluster_centers = ms.cluster_centers_\n",
    "\n",
    "# Count our clusters.\n",
    "n_clusters_ = len(np.unique(labels))\n",
    "\n",
    "print(\"Number of estimated clusters: {}\".format(n_clusters_))\n"
   ]
  },
  {
   "cell_type": "code",
   "execution_count": 121,
   "metadata": {},
   "outputs": [
    {
     "data": {
      "image/png": "[encoded data removed]",
      "text/plain": [
       "<Figure size 432x288 with 1 Axes>"
      ]
     },
     "metadata": {},
     "output_type": "display_data"
    },
    {
     "name": "stdout",
     "output_type": "stream",
     "text": [
      "Comparing the assigned categories to the ones in the data:\n",
      "col_0       0   1\n",
      "author_id        \n",
      "1340343    63   1\n",
      "1383289    82   5\n",
      "1492818     1   3\n",
      "1558100    12   0\n",
      "1703038    18   7\n",
      "1846741     2   0\n",
      "1874629    15   2\n",
      "2460557    38   2\n",
      "2556543    22   0\n",
      "2579472    13   1\n",
      "2874698    27  14\n",
      "2879658    39  13\n",
      "2898040     2   3\n",
      "3059270     2   0\n",
      "3060073     7   0\n"
     ]
    }
   ],
   "source": [
    "plt.scatter(X_train_norm[:, 0], X_train_norm[:, 1], c=labels)\n",
    "plt.show()\n",
    "\n",
    "print('Comparing the assigned categories to the ones in the data:')\n",
    "print(pd.crosstab(y_train,labels).head(15))"
   ]
  },
  {
   "cell_type": "markdown",
   "metadata": {},
   "source": [
    "This is not really better than kmeans with 8 clusters, from a quick glance."
   ]
  },
  {
   "cell_type": "code",
   "execution_count": 122,
   "metadata": {},
   "outputs": [],
   "source": [
    "clusters = ms.labels_.tolist()"
   ]
  },
  {
   "cell_type": "code",
   "execution_count": 123,
   "metadata": {},
   "outputs": [
    {
     "name": "stdout",
     "output_type": "stream",
     "text": [
      "2136 {0, 1}\n"
     ]
    }
   ],
   "source": [
    "print(len(clusters), set(clusters))"
   ]
  },
  {
   "cell_type": "code",
   "execution_count": 124,
   "metadata": {},
   "outputs": [
    {
     "name": "stderr",
     "output_type": "stream",
     "text": [
      "/anaconda3/lib/python3.6/site-packages/ipykernel_launcher.py:3: SettingWithCopyWarning: \n",
      "A value is trying to be set on a copy of a slice from a DataFrame.\n",
      "Try using .loc[row_indexer,col_indexer] = value instead\n",
      "\n",
      "See the caveats in the documentation: http://pandas.pydata.org/pandas-docs/stable/indexing.html#indexing-view-versus-copy\n",
      "  This is separate from the ipykernel package so we can avoid doing imports until\n"
     ]
    }
   ],
   "source": [
    "# put the clusters genereated from the Mean shift algorithm into the dataframe so we\n",
    "# can analyze the clusters a little better\n",
    "X_train['cluster'] = clusters"
   ]
  },
  {
   "cell_type": "code",
   "execution_count": 125,
   "metadata": {},
   "outputs": [
    {
     "name": "stderr",
     "output_type": "stream",
     "text": [
      "/anaconda3/lib/python3.6/site-packages/ipykernel_launcher.py:2: SettingWithCopyWarning: \n",
      "A value is trying to be set on a copy of a slice from a DataFrame.\n",
      "Try using .loc[row_indexer,col_indexer] = value instead\n",
      "\n",
      "See the caveats in the documentation: http://pandas.pydata.org/pandas-docs/stable/indexing.html#indexing-view-versus-copy\n",
      "  \n"
     ]
    }
   ],
   "source": [
    "\n",
    "X_train['kmeans_cluster'] = kmeans_clusters"
   ]
  },
  {
   "cell_type": "code",
   "execution_count": 126,
   "metadata": {},
   "outputs": [
    {
     "data": {
      "text/html": [
       "<div>\n",
       "<style scoped>\n",
       "    .dataframe tbody tr th:only-of-type {\n",
       "        vertical-align: middle;\n",
       "    }\n",
       "\n",
       "    .dataframe tbody tr th {\n",
       "        vertical-align: top;\n",
       "    }\n",
       "\n",
       "    .dataframe thead th {\n",
       "        text-align: right;\n",
       "    }\n",
       "</style>\n",
       "<table border=\"1\" class=\"dataframe\">\n",
       "  <thead>\n",
       "    <tr style=\"text-align: right;\">\n",
       "      <th></th>\n",
       "      <th>gender</th>\n",
       "      <th>age</th>\n",
       "      <th>month</th>\n",
       "      <th>day</th>\n",
       "      <th>year</th>\n",
       "      <th>industry_Accounting</th>\n",
       "      <th>industry_Advertising</th>\n",
       "      <th>industry_Architecture</th>\n",
       "      <th>industry_Arts</th>\n",
       "      <th>industry_Biotech</th>\n",
       "      <th>...</th>\n",
       "      <th>man</th>\n",
       "      <th>long</th>\n",
       "      <th>2</th>\n",
       "      <th>keep</th>\n",
       "      <th>these</th>\n",
       "      <th>lot</th>\n",
       "      <th>girl</th>\n",
       "      <th>read</th>\n",
       "      <th>cluster</th>\n",
       "      <th>kmeans_cluster</th>\n",
       "    </tr>\n",
       "  </thead>\n",
       "  <tbody>\n",
       "    <tr>\n",
       "      <th>2671</th>\n",
       "      <td>1</td>\n",
       "      <td>27</td>\n",
       "      <td>7</td>\n",
       "      <td>0</td>\n",
       "      <td>0</td>\n",
       "      <td>0</td>\n",
       "      <td>0</td>\n",
       "      <td>0</td>\n",
       "      <td>0</td>\n",
       "      <td>0</td>\n",
       "      <td>...</td>\n",
       "      <td>0</td>\n",
       "      <td>0</td>\n",
       "      <td>0</td>\n",
       "      <td>0</td>\n",
       "      <td>1</td>\n",
       "      <td>0</td>\n",
       "      <td>0</td>\n",
       "      <td>0</td>\n",
       "      <td>0</td>\n",
       "      <td>2</td>\n",
       "    </tr>\n",
       "    <tr>\n",
       "      <th>379</th>\n",
       "      <td>1</td>\n",
       "      <td>46</td>\n",
       "      <td>8</td>\n",
       "      <td>1</td>\n",
       "      <td>0</td>\n",
       "      <td>0</td>\n",
       "      <td>0</td>\n",
       "      <td>0</td>\n",
       "      <td>0</td>\n",
       "      <td>0</td>\n",
       "      <td>...</td>\n",
       "      <td>0</td>\n",
       "      <td>0</td>\n",
       "      <td>0</td>\n",
       "      <td>0</td>\n",
       "      <td>0</td>\n",
       "      <td>0</td>\n",
       "      <td>0</td>\n",
       "      <td>0</td>\n",
       "      <td>1</td>\n",
       "      <td>0</td>\n",
       "    </tr>\n",
       "    <tr>\n",
       "      <th>1555</th>\n",
       "      <td>1</td>\n",
       "      <td>15</td>\n",
       "      <td>5</td>\n",
       "      <td>1</td>\n",
       "      <td>0</td>\n",
       "      <td>0</td>\n",
       "      <td>0</td>\n",
       "      <td>0</td>\n",
       "      <td>0</td>\n",
       "      <td>0</td>\n",
       "      <td>...</td>\n",
       "      <td>0</td>\n",
       "      <td>0</td>\n",
       "      <td>0</td>\n",
       "      <td>0</td>\n",
       "      <td>0</td>\n",
       "      <td>0</td>\n",
       "      <td>2</td>\n",
       "      <td>1</td>\n",
       "      <td>0</td>\n",
       "      <td>2</td>\n",
       "    </tr>\n",
       "    <tr>\n",
       "      <th>1190</th>\n",
       "      <td>0</td>\n",
       "      <td>15</td>\n",
       "      <td>8</td>\n",
       "      <td>0</td>\n",
       "      <td>0</td>\n",
       "      <td>0</td>\n",
       "      <td>0</td>\n",
       "      <td>0</td>\n",
       "      <td>0</td>\n",
       "      <td>0</td>\n",
       "      <td>...</td>\n",
       "      <td>0</td>\n",
       "      <td>0</td>\n",
       "      <td>0</td>\n",
       "      <td>0</td>\n",
       "      <td>0</td>\n",
       "      <td>0</td>\n",
       "      <td>0</td>\n",
       "      <td>1</td>\n",
       "      <td>0</td>\n",
       "      <td>2</td>\n",
       "    </tr>\n",
       "    <tr>\n",
       "      <th>1486</th>\n",
       "      <td>1</td>\n",
       "      <td>24</td>\n",
       "      <td>6</td>\n",
       "      <td>0</td>\n",
       "      <td>0</td>\n",
       "      <td>0</td>\n",
       "      <td>0</td>\n",
       "      <td>0</td>\n",
       "      <td>0</td>\n",
       "      <td>0</td>\n",
       "      <td>...</td>\n",
       "      <td>0</td>\n",
       "      <td>0</td>\n",
       "      <td>0</td>\n",
       "      <td>0</td>\n",
       "      <td>0</td>\n",
       "      <td>0</td>\n",
       "      <td>0</td>\n",
       "      <td>2</td>\n",
       "      <td>0</td>\n",
       "      <td>2</td>\n",
       "    </tr>\n",
       "  </tbody>\n",
       "</table>\n",
       "<p>5 rows × 199 columns</p>\n",
       "</div>"
      ],
      "text/plain": [
       "      gender age  month  day  year  industry_Accounting  industry_Advertising  \\\n",
       "2671       1  27      7    0     0                    0                     0   \n",
       "379        1  46      8    1     0                    0                     0   \n",
       "1555       1  15      5    1     0                    0                     0   \n",
       "1190       0  15      8    0     0                    0                     0   \n",
       "1486       1  24      6    0     0                    0                     0   \n",
       "\n",
       "      industry_Architecture  industry_Arts  industry_Biotech       ...        \\\n",
       "2671                      0              0                 0       ...         \n",
       "379                       0              0                 0       ...         \n",
       "1555                      0              0                 0       ...         \n",
       "1190                      0              0                 0       ...         \n",
       "1486                      0              0                 0       ...         \n",
       "\n",
       "      man  long  2  keep  these  lot  girl  read  cluster  kmeans_cluster  \n",
       "2671    0     0  0     0      1    0     0     0        0               2  \n",
       "379     0     0  0     0      0    0     0     0        1               0  \n",
       "1555    0     0  0     0      0    0     2     1        0               2  \n",
       "1190    0     0  0     0      0    0     0     1        0               2  \n",
       "1486    0     0  0     0      0    0     0     2        0               2  \n",
       "\n",
       "[5 rows x 199 columns]"
      ]
     },
     "execution_count": 126,
     "metadata": {},
     "output_type": "execute_result"
    }
   ],
   "source": [
    "X_train.head()"
   ]
  },
  {
   "cell_type": "code",
   "execution_count": 127,
   "metadata": {},
   "outputs": [
    {
     "data": {
      "text/html": [
       "<div>\n",
       "<style scoped>\n",
       "    .dataframe tbody tr th:only-of-type {\n",
       "        vertical-align: middle;\n",
       "    }\n",
       "\n",
       "    .dataframe tbody tr th {\n",
       "        vertical-align: top;\n",
       "    }\n",
       "\n",
       "    .dataframe thead th {\n",
       "        text-align: right;\n",
       "    }\n",
       "</style>\n",
       "<table border=\"1\" class=\"dataframe\">\n",
       "  <thead>\n",
       "    <tr style=\"text-align: right;\">\n",
       "      <th></th>\n",
       "      <th>author_id</th>\n",
       "      <th>gender</th>\n",
       "      <th>age</th>\n",
       "      <th>post</th>\n",
       "      <th>parsed</th>\n",
       "      <th>month</th>\n",
       "      <th>day</th>\n",
       "      <th>year</th>\n",
       "      <th>industry_Accounting</th>\n",
       "      <th>industry_Advertising</th>\n",
       "      <th>...</th>\n",
       "      <th>play</th>\n",
       "      <th>two</th>\n",
       "      <th>man</th>\n",
       "      <th>long</th>\n",
       "      <th>2</th>\n",
       "      <th>keep</th>\n",
       "      <th>these</th>\n",
       "      <th>lot</th>\n",
       "      <th>girl</th>\n",
       "      <th>read</th>\n",
       "    </tr>\n",
       "  </thead>\n",
       "  <tbody>\n",
       "    <tr>\n",
       "      <th>0</th>\n",
       "      <td>3537375</td>\n",
       "      <td>1</td>\n",
       "      <td>23</td>\n",
       "      <td>It was going to be a boring, depressing (See b...</td>\n",
       "      <td>(It, was, going, to, be, a, boring, ,, depress...</td>\n",
       "      <td>6</td>\n",
       "      <td>0</td>\n",
       "      <td>0</td>\n",
       "      <td>0</td>\n",
       "      <td>0</td>\n",
       "      <td>...</td>\n",
       "      <td>0</td>\n",
       "      <td>0</td>\n",
       "      <td>0</td>\n",
       "      <td>0</td>\n",
       "      <td>2</td>\n",
       "      <td>0</td>\n",
       "      <td>0</td>\n",
       "      <td>0</td>\n",
       "      <td>0</td>\n",
       "      <td>1</td>\n",
       "    </tr>\n",
       "    <tr>\n",
       "      <th>1</th>\n",
       "      <td>3537375</td>\n",
       "      <td>1</td>\n",
       "      <td>23</td>\n",
       "      <td>It seems that RIAA has once again cranked up t...</td>\n",
       "      <td>(It, seems, that, RIAA, has, once, again, cran...</td>\n",
       "      <td>6</td>\n",
       "      <td>0</td>\n",
       "      <td>2</td>\n",
       "      <td>0</td>\n",
       "      <td>0</td>\n",
       "      <td>...</td>\n",
       "      <td>0</td>\n",
       "      <td>0</td>\n",
       "      <td>0</td>\n",
       "      <td>0</td>\n",
       "      <td>0</td>\n",
       "      <td>0</td>\n",
       "      <td>0</td>\n",
       "      <td>0</td>\n",
       "      <td>0</td>\n",
       "      <td>0</td>\n",
       "    </tr>\n",
       "    <tr>\n",
       "      <th>2</th>\n",
       "      <td>3537375</td>\n",
       "      <td>1</td>\n",
       "      <td>23</td>\n",
       "      <td>Am I the only one who'd like to know what the ...</td>\n",
       "      <td>(Am, I, the, only, one, who, 'd, like, to, kno...</td>\n",
       "      <td>6</td>\n",
       "      <td>0</td>\n",
       "      <td>1</td>\n",
       "      <td>0</td>\n",
       "      <td>0</td>\n",
       "      <td>...</td>\n",
       "      <td>0</td>\n",
       "      <td>0</td>\n",
       "      <td>0</td>\n",
       "      <td>0</td>\n",
       "      <td>0</td>\n",
       "      <td>0</td>\n",
       "      <td>0</td>\n",
       "      <td>0</td>\n",
       "      <td>0</td>\n",
       "      <td>0</td>\n",
       "    </tr>\n",
       "    <tr>\n",
       "      <th>3</th>\n",
       "      <td>3537375</td>\n",
       "      <td>1</td>\n",
       "      <td>23</td>\n",
       "      <td>As the link will show, the number one selling ...</td>\n",
       "      <td>(As, the, link, will, show, ,, the, number, on...</td>\n",
       "      <td>6</td>\n",
       "      <td>0</td>\n",
       "      <td>0</td>\n",
       "      <td>0</td>\n",
       "      <td>0</td>\n",
       "      <td>...</td>\n",
       "      <td>3</td>\n",
       "      <td>0</td>\n",
       "      <td>0</td>\n",
       "      <td>0</td>\n",
       "      <td>1</td>\n",
       "      <td>1</td>\n",
       "      <td>1</td>\n",
       "      <td>0</td>\n",
       "      <td>0</td>\n",
       "      <td>1</td>\n",
       "    </tr>\n",
       "    <tr>\n",
       "      <th>4</th>\n",
       "      <td>3537375</td>\n",
       "      <td>1</td>\n",
       "      <td>23</td>\n",
       "      <td>urlLink Supreme Court Ruling The Court nicely ...</td>\n",
       "      <td>(urlLink, Supreme, Court, Ruling, The, Court, ...</td>\n",
       "      <td>6</td>\n",
       "      <td>0</td>\n",
       "      <td>0</td>\n",
       "      <td>0</td>\n",
       "      <td>0</td>\n",
       "      <td>...</td>\n",
       "      <td>0</td>\n",
       "      <td>0</td>\n",
       "      <td>0</td>\n",
       "      <td>0</td>\n",
       "      <td>0</td>\n",
       "      <td>0</td>\n",
       "      <td>0</td>\n",
       "      <td>0</td>\n",
       "      <td>0</td>\n",
       "      <td>0</td>\n",
       "    </tr>\n",
       "  </tbody>\n",
       "</table>\n",
       "<p>5 rows × 200 columns</p>\n",
       "</div>"
      ],
      "text/plain": [
       "  author_id  gender age                                               post  \\\n",
       "0   3537375       1  23  It was going to be a boring, depressing (See b...   \n",
       "1   3537375       1  23  It seems that RIAA has once again cranked up t...   \n",
       "2   3537375       1  23  Am I the only one who'd like to know what the ...   \n",
       "3   3537375       1  23  As the link will show, the number one selling ...   \n",
       "4   3537375       1  23  urlLink Supreme Court Ruling The Court nicely ...   \n",
       "\n",
       "                                              parsed  month  day  year  \\\n",
       "0  (It, was, going, to, be, a, boring, ,, depress...      6    0     0   \n",
       "1  (It, seems, that, RIAA, has, once, again, cran...      6    0     2   \n",
       "2  (Am, I, the, only, one, who, 'd, like, to, kno...      6    0     1   \n",
       "3  (As, the, link, will, show, ,, the, number, on...      6    0     0   \n",
       "4  (urlLink, Supreme, Court, Ruling, The, Court, ...      6    0     0   \n",
       "\n",
       "   industry_Accounting  industry_Advertising  ...   play  two  man  long  2  \\\n",
       "0                    0                     0  ...      0    0    0     0  2   \n",
       "1                    0                     0  ...      0    0    0     0  0   \n",
       "2                    0                     0  ...      0    0    0     0  0   \n",
       "3                    0                     0  ...      3    0    0     0  1   \n",
       "4                    0                     0  ...      0    0    0     0  0   \n",
       "\n",
       "   keep  these  lot  girl  read  \n",
       "0     0      0    0     0     1  \n",
       "1     0      0    0     0     0  \n",
       "2     0      0    0     0     0  \n",
       "3     1      1    0     0     1  \n",
       "4     0      0    0     0     0  \n",
       "\n",
       "[5 rows x 200 columns]"
      ]
     },
     "execution_count": 127,
     "metadata": {},
     "output_type": "execute_result"
    }
   ],
   "source": [
    "df.head()"
   ]
  },
  {
   "cell_type": "markdown",
   "metadata": {},
   "source": [
    "# Part 4 - Features and models\n",
    "\n",
    "I'm going to generate some more features using unsupervised techniques and then try to use some models."
   ]
  },
  {
   "cell_type": "code",
   "execution_count": 128,
   "metadata": {},
   "outputs": [
    {
     "data": {
      "text/html": [
       "<div>\n",
       "<style scoped>\n",
       "    .dataframe tbody tr th:only-of-type {\n",
       "        vertical-align: middle;\n",
       "    }\n",
       "\n",
       "    .dataframe tbody tr th {\n",
       "        vertical-align: top;\n",
       "    }\n",
       "\n",
       "    .dataframe thead th {\n",
       "        text-align: right;\n",
       "    }\n",
       "</style>\n",
       "<table border=\"1\" class=\"dataframe\">\n",
       "  <thead>\n",
       "    <tr style=\"text-align: right;\">\n",
       "      <th></th>\n",
       "      <th>gender</th>\n",
       "      <th>age</th>\n",
       "      <th>month</th>\n",
       "      <th>day</th>\n",
       "      <th>year</th>\n",
       "      <th>industry_Accounting</th>\n",
       "      <th>industry_Advertising</th>\n",
       "      <th>industry_Architecture</th>\n",
       "      <th>industry_Arts</th>\n",
       "      <th>industry_Biotech</th>\n",
       "      <th>...</th>\n",
       "      <th>man</th>\n",
       "      <th>long</th>\n",
       "      <th>2</th>\n",
       "      <th>keep</th>\n",
       "      <th>these</th>\n",
       "      <th>lot</th>\n",
       "      <th>girl</th>\n",
       "      <th>read</th>\n",
       "      <th>cluster</th>\n",
       "      <th>kmeans_cluster</th>\n",
       "    </tr>\n",
       "  </thead>\n",
       "  <tbody>\n",
       "    <tr>\n",
       "      <th>2671</th>\n",
       "      <td>1</td>\n",
       "      <td>27</td>\n",
       "      <td>7</td>\n",
       "      <td>0</td>\n",
       "      <td>0</td>\n",
       "      <td>0</td>\n",
       "      <td>0</td>\n",
       "      <td>0</td>\n",
       "      <td>0</td>\n",
       "      <td>0</td>\n",
       "      <td>...</td>\n",
       "      <td>0</td>\n",
       "      <td>0</td>\n",
       "      <td>0</td>\n",
       "      <td>0</td>\n",
       "      <td>1</td>\n",
       "      <td>0</td>\n",
       "      <td>0</td>\n",
       "      <td>0</td>\n",
       "      <td>0</td>\n",
       "      <td>2</td>\n",
       "    </tr>\n",
       "    <tr>\n",
       "      <th>379</th>\n",
       "      <td>1</td>\n",
       "      <td>46</td>\n",
       "      <td>8</td>\n",
       "      <td>1</td>\n",
       "      <td>0</td>\n",
       "      <td>0</td>\n",
       "      <td>0</td>\n",
       "      <td>0</td>\n",
       "      <td>0</td>\n",
       "      <td>0</td>\n",
       "      <td>...</td>\n",
       "      <td>0</td>\n",
       "      <td>0</td>\n",
       "      <td>0</td>\n",
       "      <td>0</td>\n",
       "      <td>0</td>\n",
       "      <td>0</td>\n",
       "      <td>0</td>\n",
       "      <td>0</td>\n",
       "      <td>1</td>\n",
       "      <td>0</td>\n",
       "    </tr>\n",
       "    <tr>\n",
       "      <th>1555</th>\n",
       "      <td>1</td>\n",
       "      <td>15</td>\n",
       "      <td>5</td>\n",
       "      <td>1</td>\n",
       "      <td>0</td>\n",
       "      <td>0</td>\n",
       "      <td>0</td>\n",
       "      <td>0</td>\n",
       "      <td>0</td>\n",
       "      <td>0</td>\n",
       "      <td>...</td>\n",
       "      <td>0</td>\n",
       "      <td>0</td>\n",
       "      <td>0</td>\n",
       "      <td>0</td>\n",
       "      <td>0</td>\n",
       "      <td>0</td>\n",
       "      <td>2</td>\n",
       "      <td>1</td>\n",
       "      <td>0</td>\n",
       "      <td>2</td>\n",
       "    </tr>\n",
       "  </tbody>\n",
       "</table>\n",
       "<p>3 rows × 199 columns</p>\n",
       "</div>"
      ],
      "text/plain": [
       "      gender age  month  day  year  industry_Accounting  industry_Advertising  \\\n",
       "2671       1  27      7    0     0                    0                     0   \n",
       "379        1  46      8    1     0                    0                     0   \n",
       "1555       1  15      5    1     0                    0                     0   \n",
       "\n",
       "      industry_Architecture  industry_Arts  industry_Biotech       ...        \\\n",
       "2671                      0              0                 0       ...         \n",
       "379                       0              0                 0       ...         \n",
       "1555                      0              0                 0       ...         \n",
       "\n",
       "      man  long  2  keep  these  lot  girl  read  cluster  kmeans_cluster  \n",
       "2671    0     0  0     0      1    0     0     0        0               2  \n",
       "379     0     0  0     0      0    0     0     0        1               0  \n",
       "1555    0     0  0     0      0    0     2     1        0               2  \n",
       "\n",
       "[3 rows x 199 columns]"
      ]
     },
     "execution_count": 128,
     "metadata": {},
     "output_type": "execute_result"
    }
   ],
   "source": [
    "# ok so recap, X_train is the X_train withOUT normalization \n",
    "\n",
    "X_train.head(3)"
   ]
  },
  {
   "cell_type": "markdown",
   "metadata": {},
   "source": [
    "###  tf-idf  (vectors for each post)\n",
    "\n",
    "We already got a single span vector with the supervised learning technique, but I'll also try it using an unsupervised learning technique."
   ]
  },
  {
   "cell_type": "code",
   "execution_count": 129,
   "metadata": {},
   "outputs": [
    {
     "name": "stdout",
     "output_type": "stream",
     "text": [
      "Number of features: 5653\n"
     ]
    }
   ],
   "source": [
    "from sklearn.feature_extraction.text import TfidfVectorizer\n",
    "\n",
    "\n",
    "vectorizer = TfidfVectorizer(max_df=0.75, # drop words that occur in more than 75 percent of the paragraphs\n",
    "                             min_df=5, # only use words that appear at least n times\n",
    "                             stop_words='english', \n",
    "                             lowercase=True, #convert everything to lower case \n",
    "                             use_idf=True,#we definitely want to use inverse document frequencies in our weighting\n",
    "                             norm=u'l2', #Applies a correction factor so that longer paragraphs and shorter paragraphs get treated equally\n",
    "                             smooth_idf=True #Adds 1 to all document frequencies, as if an extra document existed that used every word once.  Prevents divide-by-zero errors\n",
    "                            )\n",
    "\n",
    "\n",
    "#Applying the vectorizer\n",
    "lines_tfidf=vectorizer.fit_transform(df['post'])\n",
    "print(\"Number of features: %d\" % lines_tfidf.get_shape()[1])\n",
    "\n",
    "# inititally tried model with parameters: max_df 0.75, min_df 10, # of features was 187"
   ]
  },
  {
   "cell_type": "code",
   "execution_count": 130,
   "metadata": {},
   "outputs": [
    {
     "name": "stdout",
     "output_type": "stream",
     "text": [
      "(2848, 5653)\n"
     ]
    }
   ],
   "source": [
    "print(lines_tfidf.shape)"
   ]
  },
  {
   "cell_type": "code",
   "execution_count": 131,
   "metadata": {},
   "outputs": [],
   "source": [
    "terms = vectorizer.get_feature_names()"
   ]
  },
  {
   "cell_type": "code",
   "execution_count": 132,
   "metadata": {},
   "outputs": [],
   "source": [
    "lines_csr = lines_tfidf.tocsr()"
   ]
  },
  {
   "cell_type": "code",
   "execution_count": 133,
   "metadata": {},
   "outputs": [],
   "source": [
    "#number of paragraphs\n",
    "n = lines_csr.shape[0]\n",
    "#A list of dictionaries, one per paragraph\n",
    "tfidf_bypara = [{} for _ in range(0,n)]\n",
    "#List of features\n",
    "terms = vectorizer.get_feature_names()\n",
    "#for each paragraph, lists the feature words and their tf-idf scores\n",
    "for i, j in zip(*lines_csr.nonzero()):\n",
    "    tfidf_bypara[i][terms[j]] = lines_csr[i, j]"
   ]
  },
  {
   "cell_type": "code",
   "execution_count": 134,
   "metadata": {},
   "outputs": [
    {
     "name": "stdout",
     "output_type": "stream",
     "text": [
      "Original sentence: It was going to be a boring, depressing (See below) rather sleep deprived Friday until I read that story. In other news, my Handspring Treo 270 crapped out....again. On to the third device, the second one lasted barely 3 months. My phone tripped into a spectacular death this morning with a plethora of software and hardware failures: 1. call waiting ceased to work 2. battery refused to hold a charge 3. handsfree crapped out 4. voice quality had deteriorated significantly (from the less than stellar quality it had when it was new) 5. dropped calls galore and bad RF performance. I must admit I had low expectations for Handspring's build quality as their reputation on web boards was less than stellar. But this Treo device has exceeded my wildest dreams, more accurately my wildest nightmares. I give the new (who am I kidding?)..... refurbished device 2 months max before it kicks the bucket. I thought paying $50 for the device was a bargain, in reality it seems that I have merely broke even as the device has much to be desired in reliability. Of course, I may be too harsh on Handspring, this was a first generation convergence device and I shouldn't expect much. What I did expect was a device that retails for $400 to last longer than 3 months under normal use. Shit, this phone couldn't out last a typical Jennifer Lopez marriage for that matter. And from what I have heard about the Treo 600, the new $500 second generation convergence device from Handspring, Handspring has done little to improve their build quality. One plus, major props to T-Mobile for sending me a newly refurbished Treo 270 and providing a free loaner Nokia to tide me over while it gets here.\n",
      "Tf_idf vector: {'going': 0.042705900053481086, 'boring': 0.07352736590453458, 'depressing': 0.10275394821659409, 'sleep': 0.07182405888735434, 'deprived': 0.12246056502075124, 'friday': 0.07453332391499573, 'read': 0.06234109595429919, 'story': 0.07110258669341735, 'news': 0.07541934361470516, 'second': 0.14609149324599377, 'lasted': 0.11982515044864829, 'barely': 0.09875998605078774, 'months': 0.20509963755472316, 'phone': 0.14546408651011833, 'spectacular': 0.1155285900493467, 'death': 0.07817644093446487, 'morning': 0.06268303443001398, 'software': 0.10367830056436493, 'hardware': 0.11754225050717404, 'waiting': 0.07505940708082423, 'work': 0.04930563849352011, 'refused': 0.11754225050717404, 'hold': 0.07713998094646933, 'charge': 0.10679533441800557, 'voice': 0.07997772159440145, 'quality': 0.38209855142927135, 'significantly': 0.12246056502075124, 'new': 0.1502183456455171, 'dropped': 0.10024756334278657, 'calls': 0.09045957262403677, 'bad': 0.054529371722966874, 'performance': 0.10569196102219229, 'admit': 0.08554125811045957, 'low': 0.0822606215358757, 'expectations': 0.11982515044864829, 'build': 0.2093110020683935, 'reputation': 0.11982515044864829, 'web': 0.09494504493302382, 'boards': 0.12246056502075124, 'dreams': 0.08655718193517731, 'kidding': 0.09739154759544132, 'max': 0.11372730938941011, 'kicks': 0.1155285900493467, 'thought': 0.05421079690496823, 'paying': 0.09384167153721054, '50': 0.08655718193517731, 'reality': 0.08839727385780483, 'merely': 0.10569196102219229, 'broke': 0.08281216465260915, 'desired': 0.11982515044864829, 'course': 0.06338813864388493, 'harsh': 0.1155285900493467, 'generation': 0.22419570565553662, 'shouldn': 0.08521560342859712, 'expect': 0.17602613992323854, 'did': 0.04819733037292929, '400': 0.1155285900493467, 'longer': 0.07860928313905503, 'normal': 0.08172631699269566, 'use': 0.06479411027319347, 'shit': 0.06312030516820566, 'couldn': 0.06885504633822534, 'typical': 0.10104288599226201, 'jennifer': 0.12246056502075124, 'marriage': 0.09806207878666445, 'matter': 0.07054655869893703, 'heard': 0.0709618751676274, '600': 0.11754225050717404, '500': 0.1155285900493467, 'little': 0.04978612971238225, 'improve': 0.10569196102219229, 'plus': 0.08587323657781046, 'major': 0.09280521154921502, 'mobile': 0.11209785282776831, 'sending': 0.09739154759544132, 'newly': 0.11982515044864829, 'providing': 0.12246056502075124, 'free': 0.06848736864330061, 'gets': 0.07273204325505916}\n",
      "Original sentence: It seems that RIAA has once again cranked up the P2P law suit machine. Given their recent defeat in the US COA, the Record Industry entity is now suing John Does by the hundreds. Will this slow down P2P usage? Probably not. An interesting exercise in futility that produces countless false suits against 80 year old grand mothers who don't use computers and 8 year olds.\n",
      "Tf_idf vector: {'use': 0.1258466638518226, 'law': 0.1765580565125983, 'suit': 0.1995743367126873, 'machine': 0.19787111859520784, 'given': 0.16194926589055408, 'recent': 0.1783533841851304, 'defeat': 0.22829698603150522, 'record': 0.1855331748412088, 'industry': 0.21217546921549846, 'suing': 0.23784960540845132, 'john': 0.1475606017083216, 'does': 0.1153586171717979, 'hundreds': 0.22829698603150522, 'slow': 0.1694998532252691, 'probably': 0.12294160152946938, 'interesting': 0.13649230165095277, 'exercise': 0.1879060035620765, 'countless': 0.21772257916416873, 'false': 0.22438594458530842, 'suits': 0.23273095912459538, '80': 0.1932302571487013, 'year': 0.23412367057855477, 'old': 0.11706183528927738, 'grand': 0.19046153135899946, 'mothers': 0.21483332520836232, 'don': 0.07967209836007466, 'computers': 0.20528070583141622, 'olds': 0.23273095912459538}\n",
      "Original sentence: Am I the only one who'd like to know what the first year rankings are? They are only mildly important to our careers in the law; nonetheless, I think one month after grades posting the rankings should be updated. I officially protest!\n",
      "Tf_idf vector: {'law': 0.28898608374107176, 'year': 0.19160406499703841, 'like': 0.10607248746192174, 'know': 0.12085824492582709, 'important': 0.25131357641577573, 'nonetheless': 0.32665859106636785, 'think': 0.12739774137665935, 'month': 0.2471837469689726, 'grades': 0.3563632084394236, 'posting': 0.28619829629455495, 'updated': 0.34325606524268093, 'officially': 0.36726964859642336, 'protest': 0.3809285725679769}\n"
     ]
    }
   ],
   "source": [
    "#Keep in mind that the log base 2 of 1 is 0, so a tf-idf score of 0 indicates that the word was\n",
    "# present once in that sentence.\n",
    "for i in range(3):\n",
    "    print('Original sentence:', df.loc[i,'post'])\n",
    "    print('Tf_idf vector:', tfidf_bypara[i])"
   ]
  },
  {
   "cell_type": "code",
   "execution_count": 137,
   "metadata": {},
   "outputs": [
    {
     "name": "stdout",
     "output_type": "stream",
     "text": [
      "Percent variance captured by all components: 90.65913848608426\n"
     ]
    }
   ],
   "source": [
    " # dimension reduction\n",
    "    \n",
    "from sklearn.decomposition import TruncatedSVD\n",
    "from sklearn.pipeline import make_pipeline\n",
    "from sklearn.preprocessing import Normalizer\n",
    "\n",
    "#Our SVD data reducer.  We are going to reduce the feature space from 4931 to the number below.\n",
    "svd= TruncatedSVD(1500)\n",
    "lsa = make_pipeline(svd, Normalizer(copy=False))\n",
    "# Run SVD on the training data, then project the training data.\n",
    "lines_lsa = lsa.fit_transform(lines_tfidf)\n",
    "\n",
    "variance_explained=svd.explained_variance_ratio_\n",
    "total_variance = variance_explained.sum()\n",
    "print(\"Percent variance captured by all components:\",total_variance*100)\n",
    "\n",
    "#Looking at what sorts of paragraphs our solution considers similar, for the first five identified topics\n",
    "paras_by_component=pd.DataFrame(lines_lsa, #index=df['post']\n",
    "                               )\n",
    "#for i in range(5):\n",
    "#    print('Component {}:'.format(i))\n",
    "#    print(paras_by_component.loc[:50,i].sort_values(ascending=False)[0:5])   "
   ]
  },
  {
   "cell_type": "code",
   "execution_count": 138,
   "metadata": {},
   "outputs": [
    {
     "data": {
      "text/html": [
       "<div>\n",
       "<style scoped>\n",
       "    .dataframe tbody tr th:only-of-type {\n",
       "        vertical-align: middle;\n",
       "    }\n",
       "\n",
       "    .dataframe tbody tr th {\n",
       "        vertical-align: top;\n",
       "    }\n",
       "\n",
       "    .dataframe thead th {\n",
       "        text-align: right;\n",
       "    }\n",
       "</style>\n",
       "<table border=\"1\" class=\"dataframe\">\n",
       "  <thead>\n",
       "    <tr style=\"text-align: right;\">\n",
       "      <th></th>\n",
       "      <th>0</th>\n",
       "      <th>1</th>\n",
       "      <th>2</th>\n",
       "      <th>3</th>\n",
       "      <th>4</th>\n",
       "      <th>5</th>\n",
       "      <th>6</th>\n",
       "      <th>7</th>\n",
       "      <th>8</th>\n",
       "      <th>9</th>\n",
       "      <th>...</th>\n",
       "      <th>1490</th>\n",
       "      <th>1491</th>\n",
       "      <th>1492</th>\n",
       "      <th>1493</th>\n",
       "      <th>1494</th>\n",
       "      <th>1495</th>\n",
       "      <th>1496</th>\n",
       "      <th>1497</th>\n",
       "      <th>1498</th>\n",
       "      <th>1499</th>\n",
       "    </tr>\n",
       "  </thead>\n",
       "  <tbody>\n",
       "    <tr>\n",
       "      <th>0</th>\n",
       "      <td>0.017638</td>\n",
       "      <td>0.108386</td>\n",
       "      <td>-0.062508</td>\n",
       "      <td>-0.031602</td>\n",
       "      <td>0.041406</td>\n",
       "      <td>0.028374</td>\n",
       "      <td>0.033221</td>\n",
       "      <td>-0.054175</td>\n",
       "      <td>0.006604</td>\n",
       "      <td>-0.014231</td>\n",
       "      <td>...</td>\n",
       "      <td>0.008533</td>\n",
       "      <td>-0.001164</td>\n",
       "      <td>0.014098</td>\n",
       "      <td>0.004835</td>\n",
       "      <td>-0.016246</td>\n",
       "      <td>0.004579</td>\n",
       "      <td>0.009575</td>\n",
       "      <td>0.000872</td>\n",
       "      <td>0.015124</td>\n",
       "      <td>-0.014570</td>\n",
       "    </tr>\n",
       "    <tr>\n",
       "      <th>1</th>\n",
       "      <td>0.008643</td>\n",
       "      <td>0.064058</td>\n",
       "      <td>-0.041346</td>\n",
       "      <td>0.023336</td>\n",
       "      <td>-0.004799</td>\n",
       "      <td>0.024753</td>\n",
       "      <td>0.055289</td>\n",
       "      <td>-0.036965</td>\n",
       "      <td>-0.026980</td>\n",
       "      <td>0.025389</td>\n",
       "      <td>...</td>\n",
       "      <td>0.019090</td>\n",
       "      <td>-0.000465</td>\n",
       "      <td>0.000638</td>\n",
       "      <td>0.011132</td>\n",
       "      <td>-0.012936</td>\n",
       "      <td>-0.001847</td>\n",
       "      <td>-0.010096</td>\n",
       "      <td>0.014757</td>\n",
       "      <td>0.006880</td>\n",
       "      <td>-0.014597</td>\n",
       "    </tr>\n",
       "    <tr>\n",
       "      <th>2</th>\n",
       "      <td>0.010861</td>\n",
       "      <td>0.098842</td>\n",
       "      <td>0.027477</td>\n",
       "      <td>0.043451</td>\n",
       "      <td>-0.043193</td>\n",
       "      <td>0.013637</td>\n",
       "      <td>0.050813</td>\n",
       "      <td>0.048954</td>\n",
       "      <td>-0.041930</td>\n",
       "      <td>-0.000009</td>\n",
       "      <td>...</td>\n",
       "      <td>0.012537</td>\n",
       "      <td>-0.023603</td>\n",
       "      <td>-0.004512</td>\n",
       "      <td>-0.016131</td>\n",
       "      <td>-0.009711</td>\n",
       "      <td>0.003818</td>\n",
       "      <td>-0.004550</td>\n",
       "      <td>-0.010593</td>\n",
       "      <td>-0.004528</td>\n",
       "      <td>0.008739</td>\n",
       "    </tr>\n",
       "  </tbody>\n",
       "</table>\n",
       "<p>3 rows × 1500 columns</p>\n",
       "</div>"
      ],
      "text/plain": [
       "       0         1         2         3         4         5         6     \\\n",
       "0  0.017638  0.108386 -0.062508 -0.031602  0.041406  0.028374  0.033221   \n",
       "1  0.008643  0.064058 -0.041346  0.023336 -0.004799  0.024753  0.055289   \n",
       "2  0.010861  0.098842  0.027477  0.043451 -0.043193  0.013637  0.050813   \n",
       "\n",
       "       7         8         9       ...         1490      1491      1492  \\\n",
       "0 -0.054175  0.006604 -0.014231    ...     0.008533 -0.001164  0.014098   \n",
       "1 -0.036965 -0.026980  0.025389    ...     0.019090 -0.000465  0.000638   \n",
       "2  0.048954 -0.041930 -0.000009    ...     0.012537 -0.023603 -0.004512   \n",
       "\n",
       "       1493      1494      1495      1496      1497      1498      1499  \n",
       "0  0.004835 -0.016246  0.004579  0.009575  0.000872  0.015124 -0.014570  \n",
       "1  0.011132 -0.012936 -0.001847 -0.010096  0.014757  0.006880 -0.014597  \n",
       "2 -0.016131 -0.009711  0.003818 -0.004550 -0.010593 -0.004528  0.008739  \n",
       "\n",
       "[3 rows x 1500 columns]"
      ]
     },
     "execution_count": 138,
     "metadata": {},
     "output_type": "execute_result"
    }
   ],
   "source": [
    "paras_by_component.head(3)"
   ]
  },
  {
   "cell_type": "code",
   "execution_count": 139,
   "metadata": {},
   "outputs": [
    {
     "data": {
      "text/html": [
       "<div>\n",
       "<style scoped>\n",
       "    .dataframe tbody tr th:only-of-type {\n",
       "        vertical-align: middle;\n",
       "    }\n",
       "\n",
       "    .dataframe tbody tr th {\n",
       "        vertical-align: top;\n",
       "    }\n",
       "\n",
       "    .dataframe thead th {\n",
       "        text-align: right;\n",
       "    }\n",
       "</style>\n",
       "<table border=\"1\" class=\"dataframe\">\n",
       "  <thead>\n",
       "    <tr style=\"text-align: right;\">\n",
       "      <th></th>\n",
       "      <th>author_id</th>\n",
       "      <th>gender</th>\n",
       "      <th>age</th>\n",
       "      <th>post</th>\n",
       "      <th>parsed</th>\n",
       "      <th>month</th>\n",
       "      <th>day</th>\n",
       "      <th>year</th>\n",
       "      <th>industry_Accounting</th>\n",
       "      <th>industry_Advertising</th>\n",
       "      <th>...</th>\n",
       "      <th>1490</th>\n",
       "      <th>1491</th>\n",
       "      <th>1492</th>\n",
       "      <th>1493</th>\n",
       "      <th>1494</th>\n",
       "      <th>1495</th>\n",
       "      <th>1496</th>\n",
       "      <th>1497</th>\n",
       "      <th>1498</th>\n",
       "      <th>1499</th>\n",
       "    </tr>\n",
       "  </thead>\n",
       "  <tbody>\n",
       "    <tr>\n",
       "      <th>0</th>\n",
       "      <td>3537375</td>\n",
       "      <td>1</td>\n",
       "      <td>23</td>\n",
       "      <td>It was going to be a boring, depressing (See b...</td>\n",
       "      <td>(It, was, going, to, be, a, boring, ,, depress...</td>\n",
       "      <td>6</td>\n",
       "      <td>0</td>\n",
       "      <td>0</td>\n",
       "      <td>0</td>\n",
       "      <td>0</td>\n",
       "      <td>...</td>\n",
       "      <td>0.008533</td>\n",
       "      <td>-0.001164</td>\n",
       "      <td>0.014098</td>\n",
       "      <td>0.004835</td>\n",
       "      <td>-0.016246</td>\n",
       "      <td>0.004579</td>\n",
       "      <td>0.009575</td>\n",
       "      <td>0.000872</td>\n",
       "      <td>0.015124</td>\n",
       "      <td>-0.014570</td>\n",
       "    </tr>\n",
       "    <tr>\n",
       "      <th>1</th>\n",
       "      <td>3537375</td>\n",
       "      <td>1</td>\n",
       "      <td>23</td>\n",
       "      <td>It seems that RIAA has once again cranked up t...</td>\n",
       "      <td>(It, seems, that, RIAA, has, once, again, cran...</td>\n",
       "      <td>6</td>\n",
       "      <td>0</td>\n",
       "      <td>2</td>\n",
       "      <td>0</td>\n",
       "      <td>0</td>\n",
       "      <td>...</td>\n",
       "      <td>0.019090</td>\n",
       "      <td>-0.000465</td>\n",
       "      <td>0.000638</td>\n",
       "      <td>0.011132</td>\n",
       "      <td>-0.012936</td>\n",
       "      <td>-0.001847</td>\n",
       "      <td>-0.010096</td>\n",
       "      <td>0.014757</td>\n",
       "      <td>0.006880</td>\n",
       "      <td>-0.014597</td>\n",
       "    </tr>\n",
       "    <tr>\n",
       "      <th>2</th>\n",
       "      <td>3537375</td>\n",
       "      <td>1</td>\n",
       "      <td>23</td>\n",
       "      <td>Am I the only one who'd like to know what the ...</td>\n",
       "      <td>(Am, I, the, only, one, who, 'd, like, to, kno...</td>\n",
       "      <td>6</td>\n",
       "      <td>0</td>\n",
       "      <td>1</td>\n",
       "      <td>0</td>\n",
       "      <td>0</td>\n",
       "      <td>...</td>\n",
       "      <td>0.012537</td>\n",
       "      <td>-0.023603</td>\n",
       "      <td>-0.004512</td>\n",
       "      <td>-0.016131</td>\n",
       "      <td>-0.009711</td>\n",
       "      <td>0.003818</td>\n",
       "      <td>-0.004550</td>\n",
       "      <td>-0.010593</td>\n",
       "      <td>-0.004528</td>\n",
       "      <td>0.008739</td>\n",
       "    </tr>\n",
       "    <tr>\n",
       "      <th>3</th>\n",
       "      <td>3537375</td>\n",
       "      <td>1</td>\n",
       "      <td>23</td>\n",
       "      <td>As the link will show, the number one selling ...</td>\n",
       "      <td>(As, the, link, will, show, ,, the, number, on...</td>\n",
       "      <td>6</td>\n",
       "      <td>0</td>\n",
       "      <td>0</td>\n",
       "      <td>0</td>\n",
       "      <td>0</td>\n",
       "      <td>...</td>\n",
       "      <td>0.005157</td>\n",
       "      <td>0.006150</td>\n",
       "      <td>0.012663</td>\n",
       "      <td>0.004732</td>\n",
       "      <td>-0.017302</td>\n",
       "      <td>-0.007846</td>\n",
       "      <td>-0.019639</td>\n",
       "      <td>-0.006088</td>\n",
       "      <td>0.011755</td>\n",
       "      <td>0.017238</td>\n",
       "    </tr>\n",
       "    <tr>\n",
       "      <th>4</th>\n",
       "      <td>3537375</td>\n",
       "      <td>1</td>\n",
       "      <td>23</td>\n",
       "      <td>urlLink Supreme Court Ruling The Court nicely ...</td>\n",
       "      <td>(urlLink, Supreme, Court, Ruling, The, Court, ...</td>\n",
       "      <td>6</td>\n",
       "      <td>0</td>\n",
       "      <td>0</td>\n",
       "      <td>0</td>\n",
       "      <td>0</td>\n",
       "      <td>...</td>\n",
       "      <td>0.009192</td>\n",
       "      <td>0.024520</td>\n",
       "      <td>-0.008543</td>\n",
       "      <td>-0.004394</td>\n",
       "      <td>-0.028703</td>\n",
       "      <td>0.023151</td>\n",
       "      <td>0.017935</td>\n",
       "      <td>0.001490</td>\n",
       "      <td>-0.013207</td>\n",
       "      <td>-0.001788</td>\n",
       "    </tr>\n",
       "  </tbody>\n",
       "</table>\n",
       "<p>5 rows × 1700 columns</p>\n",
       "</div>"
      ],
      "text/plain": [
       "  author_id  gender age                                               post  \\\n",
       "0   3537375       1  23  It was going to be a boring, depressing (See b...   \n",
       "1   3537375       1  23  It seems that RIAA has once again cranked up t...   \n",
       "2   3537375       1  23  Am I the only one who'd like to know what the ...   \n",
       "3   3537375       1  23  As the link will show, the number one selling ...   \n",
       "4   3537375       1  23  urlLink Supreme Court Ruling The Court nicely ...   \n",
       "\n",
       "                                              parsed  month  day  year  \\\n",
       "0  (It, was, going, to, be, a, boring, ,, depress...      6    0     0   \n",
       "1  (It, seems, that, RIAA, has, once, again, cran...      6    0     2   \n",
       "2  (Am, I, the, only, one, who, 'd, like, to, kno...      6    0     1   \n",
       "3  (As, the, link, will, show, ,, the, number, on...      6    0     0   \n",
       "4  (urlLink, Supreme, Court, Ruling, The, Court, ...      6    0     0   \n",
       "\n",
       "   industry_Accounting  industry_Advertising    ...         1490      1491  \\\n",
       "0                    0                     0    ...     0.008533 -0.001164   \n",
       "1                    0                     0    ...     0.019090 -0.000465   \n",
       "2                    0                     0    ...     0.012537 -0.023603   \n",
       "3                    0                     0    ...     0.005157  0.006150   \n",
       "4                    0                     0    ...     0.009192  0.024520   \n",
       "\n",
       "       1492      1493      1494      1495      1496      1497      1498  \\\n",
       "0  0.014098  0.004835 -0.016246  0.004579  0.009575  0.000872  0.015124   \n",
       "1  0.000638  0.011132 -0.012936 -0.001847 -0.010096  0.014757  0.006880   \n",
       "2 -0.004512 -0.016131 -0.009711  0.003818 -0.004550 -0.010593 -0.004528   \n",
       "3  0.012663  0.004732 -0.017302 -0.007846 -0.019639 -0.006088  0.011755   \n",
       "4 -0.008543 -0.004394 -0.028703  0.023151  0.017935  0.001490 -0.013207   \n",
       "\n",
       "       1499  \n",
       "0 -0.014570  \n",
       "1 -0.014597  \n",
       "2  0.008739  \n",
       "3  0.017238  \n",
       "4 -0.001788  \n",
       "\n",
       "[5 rows x 1700 columns]"
      ]
     },
     "execution_count": 139,
     "metadata": {},
     "output_type": "execute_result"
    }
   ],
   "source": [
    "# add the components back into the dataframe as features\n",
    "\n",
    "df = df.reset_index(drop=True)\n",
    "paras_by_component = paras_by_component.reset_index(drop=True)\n",
    "\n",
    "df = df.join(paras_by_component)\n",
    "\n",
    "df.head()"
   ]
  },
  {
   "cell_type": "markdown",
   "metadata": {},
   "source": [
    "Document similarity"
   ]
  },
  {
   "cell_type": "code",
   "execution_count": 144,
   "metadata": {},
   "outputs": [
    {
     "data": {
      "image/png": "[encoded data removed]",
      "text/plain": [
       "<Figure size 432x288 with 2 Axes>"
      ]
     },
     "metadata": {},
     "output_type": "display_data"
    },
    {
     "name": "stdout",
     "output_type": "stream",
     "text": [
      "Key:\n",
      "0 It was going to be a boring, depressing (See below) rather sleep deprived Friday until I r\n",
      "1 It seems that RIAA has once again cranked up the P2P law suit machine. Given their recent \n",
      "2 Am I the only one who'd like to know what the first year rankings are? They are only mildl\n",
      "3 As the link will show, the number one selling album in the U.S. is the new Velvet Revolver\n",
      "4 urlLink Supreme Court Ruling The Court nicely upheld the pledge without actually upholding\n",
      "5 It has been a scorcher of a week, it has been hot and humid. As an engineer, I work best i\n",
      "6 NOTHING, on the front page, not even a blurb. not even a 4 font by line. Hmmm, interesting\n",
      "7 President George W. Bush: This is a sad hour in the life of America. A great American life\n",
      "8 Productivity has ground to a halt for jack today. The most useful thing I have done today \n",
      "9 Hi everybody, Ok, I would be remiss not to mention the plague of biblical proportions that\n"
     ]
    }
   ],
   "source": [
    "# Compute document similarity using LSA components\n",
    "similarity = np.asarray(np.asmatrix(lines_lsa) * np.asmatrix(lines_lsa).T)\n",
    "#Only taking the first 10 sentences\n",
    "sim_matrix=pd.DataFrame(similarity,index=df['post']).iloc[0:10,0:10]\n",
    "#Making a plot\n",
    "ax = sns.heatmap(sim_matrix,yticklabels=range(10))\n",
    "plt.show()\n",
    "\n",
    "#Generating a key for the plot.\n",
    "print('Key:')\n",
    "for i in range(10):\n",
    "    print(i,sim_matrix.index[i][:90])"
   ]
  },
  {
   "cell_type": "code",
   "execution_count": 145,
   "metadata": {},
   "outputs": [
    {
     "name": "stdout",
     "output_type": "stream",
     "text": [
      "(2848, 2848) (2848, 1700)\n"
     ]
    }
   ],
   "source": [
    "print(similarity.shape, df.shape)\n"
   ]
  },
  {
   "cell_type": "code",
   "execution_count": 146,
   "metadata": {},
   "outputs": [
    {
     "data": {
      "text/html": [
       "<div>\n",
       "<style scoped>\n",
       "    .dataframe tbody tr th:only-of-type {\n",
       "        vertical-align: middle;\n",
       "    }\n",
       "\n",
       "    .dataframe tbody tr th {\n",
       "        vertical-align: top;\n",
       "    }\n",
       "\n",
       "    .dataframe thead th {\n",
       "        text-align: right;\n",
       "    }\n",
       "</style>\n",
       "<table border=\"1\" class=\"dataframe\">\n",
       "  <thead>\n",
       "    <tr style=\"text-align: right;\">\n",
       "      <th></th>\n",
       "      <th>author_id</th>\n",
       "      <th>gender</th>\n",
       "      <th>age</th>\n",
       "      <th>post</th>\n",
       "      <th>parsed</th>\n",
       "    </tr>\n",
       "  </thead>\n",
       "  <tbody>\n",
       "    <tr>\n",
       "      <th>0</th>\n",
       "      <td>3537375</td>\n",
       "      <td>1</td>\n",
       "      <td>23</td>\n",
       "      <td>It was going to be a boring, depressing (See b...</td>\n",
       "      <td>(It, was, going, to, be, a, boring, ,, depress...</td>\n",
       "    </tr>\n",
       "    <tr>\n",
       "      <th>1</th>\n",
       "      <td>3537375</td>\n",
       "      <td>1</td>\n",
       "      <td>23</td>\n",
       "      <td>It seems that RIAA has once again cranked up t...</td>\n",
       "      <td>(It, seems, that, RIAA, has, once, again, cran...</td>\n",
       "    </tr>\n",
       "    <tr>\n",
       "      <th>2</th>\n",
       "      <td>3537375</td>\n",
       "      <td>1</td>\n",
       "      <td>23</td>\n",
       "      <td>Am I the only one who'd like to know what the ...</td>\n",
       "      <td>(Am, I, the, only, one, who, 'd, like, to, kno...</td>\n",
       "    </tr>\n",
       "  </tbody>\n",
       "</table>\n",
       "</div>"
      ],
      "text/plain": [
       "  author_id  gender age                                               post  \\\n",
       "0   3537375       1  23  It was going to be a boring, depressing (See b...   \n",
       "1   3537375       1  23  It seems that RIAA has once again cranked up t...   \n",
       "2   3537375       1  23  Am I the only one who'd like to know what the ...   \n",
       "\n",
       "                                              parsed  \n",
       "0  (It, was, going, to, be, a, boring, ,, depress...  \n",
       "1  (It, seems, that, RIAA, has, once, again, cran...  \n",
       "2  (Am, I, the, only, one, who, 'd, like, to, kno...  "
      ]
     },
     "execution_count": 146,
     "metadata": {},
     "output_type": "execute_result"
    }
   ],
   "source": [
    "df.iloc[:3,:5]"
   ]
  },
  {
   "cell_type": "code",
   "execution_count": 148,
   "metadata": {},
   "outputs": [],
   "source": [
    "# add the features back to the training and test sets\n",
    "\n",
    "X_train = X_train.join(df.iloc[:,200:])\n",
    "X_test = X_test.join(df.iloc[:,200:])"
   ]
  },
  {
   "cell_type": "markdown",
   "metadata": {},
   "source": [
    "## models\n",
    "\n",
    "a - gradient boosting"
   ]
  },
  {
   "cell_type": "code",
   "execution_count": 149,
   "metadata": {},
   "outputs": [],
   "source": [
    "from sklearn.model_selection import cross_val_score"
   ]
  },
  {
   "cell_type": "code",
   "execution_count": 150,
   "metadata": {},
   "outputs": [],
   "source": [
    "from sklearn import ensemble"
   ]
  },
  {
   "cell_type": "code",
   "execution_count": 151,
   "metadata": {},
   "outputs": [],
   "source": [
    "#X_train_smaller = withbin.drop(['post','parsed'], 1)\n",
    "#y_train\n",
    "\n",
    "# training on smaller portions of X_train so I can test it on itself\n",
    "\n",
    "X_train_smaller, X_test_smaller, y_train_smaller, y_test_smaller = train_test_split(X_train,\n",
    "                                                                y_train, test_size=.25)"
   ]
  },
  {
   "cell_type": "code",
   "execution_count": 152,
   "metadata": {},
   "outputs": [],
   "source": [
    "# with defaults - Training set score: 0.00846262341325811\n",
    "#Test set score: 0.004739336492890996\n",
    "\n",
    "clf = ensemble.GradientBoostingClassifier(n_estimators=200)\n"
   ]
  },
  {
   "cell_type": "code",
   "execution_count": 153,
   "metadata": {},
   "outputs": [
    {
     "data": {
      "text/plain": [
       "GradientBoostingClassifier(criterion='friedman_mse', init=None,\n",
       "              learning_rate=0.1, loss='deviance', max_depth=3,\n",
       "              max_features=None, max_leaf_nodes=None,\n",
       "              min_impurity_decrease=0.0, min_impurity_split=None,\n",
       "              min_samples_leaf=1, min_samples_split=2,\n",
       "              min_weight_fraction_leaf=0.0, n_estimators=200,\n",
       "              presort='auto', random_state=None, subsample=1.0, verbose=0,\n",
       "              warm_start=False)"
      ]
     },
     "execution_count": 153,
     "metadata": {},
     "output_type": "execute_result"
    }
   ],
   "source": [
    "clf.fit(X_train_smaller, y_train_smaller)\n"
   ]
  },
  {
   "cell_type": "code",
   "execution_count": 154,
   "metadata": {},
   "outputs": [],
   "source": [
    "training_score = clf.score(X_train_smaller, y_train_smaller)"
   ]
  },
  {
   "cell_type": "code",
   "execution_count": 155,
   "metadata": {},
   "outputs": [],
   "source": [
    "# need to get the clusters before i can run this\n",
    "testing_score = clf.score(X_test_smaller, y_test_smaller)\n"
   ]
  },
  {
   "cell_type": "code",
   "execution_count": 156,
   "metadata": {},
   "outputs": [
    {
     "name": "stdout",
     "output_type": "stream",
     "text": [
      "Training set score: 0.9993757802746567\n",
      "\n",
      "Test set score: 0.5749063670411985\n"
     ]
    }
   ],
   "source": [
    "print('Training set score:', training_score)\n",
    "print('\\nTest set score:', testing_score)"
   ]
  },
  {
   "cell_type": "code",
   "execution_count": 157,
   "metadata": {
    "scrolled": true
   },
   "outputs": [
    {
     "name": "stderr",
     "output_type": "stream",
     "text": [
      "/anaconda3/lib/python3.6/site-packages/sklearn/model_selection/_split.py:605: Warning: The least populated class in y has only 1 members, which is too few. The minimum number of members in any class cannot be less than n_splits=5.\n",
      "  % (min_groups, self.n_splits)), Warning)\n"
     ]
    },
    {
     "name": "stdout",
     "output_type": "stream",
     "text": [
      "Accuracy: 0.59 (+/- 0.11)\n"
     ]
    }
   ],
   "source": [
    "scores = cross_val_score(clf, X_train,y_train,cv=5)\n",
    "\n",
    "print(\"Accuracy: %0.2f (+/- %0.2f)\" % (scores.mean(), scores.std() * 2))"
   ]
  },
  {
   "cell_type": "code",
   "execution_count": 158,
   "metadata": {},
   "outputs": [
    {
     "name": "stderr",
     "output_type": "stream",
     "text": [
      "/anaconda3/lib/python3.6/site-packages/sklearn/model_selection/_split.py:605: Warning: The least populated class in y has only 1 members, which is too few. The minimum number of members in any class cannot be less than n_splits=5.\n",
      "  % (min_groups, self.n_splits)), Warning)\n"
     ]
    },
    {
     "name": "stdout",
     "output_type": "stream",
     "text": [
      "Accuracy: 0.55 (+/- 0.09)\n"
     ]
    }
   ],
   "source": [
    "scores = cross_val_score(clf,X_train_smaller,y_train_smaller,cv=5)\n",
    "\n",
    "print(\"Accuracy: %0.2f (+/- %0.2f)\"% (scores.mean(), scores.std() *2))"
   ]
  },
  {
   "cell_type": "markdown",
   "metadata": {},
   "source": [
    "b - logistic regression"
   ]
  },
  {
   "cell_type": "code",
   "execution_count": 159,
   "metadata": {},
   "outputs": [],
   "source": [
    "from sklearn.linear_model import LogisticRegression"
   ]
  },
  {
   "cell_type": "code",
   "execution_count": 160,
   "metadata": {},
   "outputs": [],
   "source": [
    "lr = LogisticRegression()\n",
    "\n",
    "train = lr.fit(X_train_smaller, y_train_smaller)\n"
   ]
  },
  {
   "cell_type": "code",
   "execution_count": 161,
   "metadata": {},
   "outputs": [
    {
     "data": {
      "text/plain": [
       "0.9975031210986267"
      ]
     },
     "execution_count": 161,
     "metadata": {},
     "output_type": "execute_result"
    }
   ],
   "source": [
    "lr.score(X_train_smaller,y_train_smaller)"
   ]
  },
  {
   "cell_type": "code",
   "execution_count": 162,
   "metadata": {},
   "outputs": [
    {
     "data": {
      "text/plain": [
       "0.7097378277153558"
      ]
     },
     "execution_count": 162,
     "metadata": {},
     "output_type": "execute_result"
    }
   ],
   "source": [
    "lr.score(X_test_smaller, y_test_smaller)"
   ]
  },
  {
   "cell_type": "code",
   "execution_count": 163,
   "metadata": {},
   "outputs": [
    {
     "name": "stderr",
     "output_type": "stream",
     "text": [
      "/anaconda3/lib/python3.6/site-packages/sklearn/model_selection/_split.py:605: Warning: The least populated class in y has only 1 members, which is too few. The minimum number of members in any class cannot be less than n_splits=10.\n",
      "  % (min_groups, self.n_splits)), Warning)\n"
     ]
    },
    {
     "name": "stdout",
     "output_type": "stream",
     "text": [
      "Accuracy: 0.67 (+/- 0.39)\n"
     ]
    }
   ],
   "source": [
    "scores = cross_val_score(lr, X_test_smaller,y_test_smaller,cv=10)\n",
    "\n",
    "print(\"Accuracy: %0.2f (+/- %0.2f)\" % (scores.mean(), scores.std() * 2))"
   ]
  },
  {
   "cell_type": "markdown",
   "metadata": {},
   "source": [
    "c. random forest"
   ]
  },
  {
   "cell_type": "code",
   "execution_count": 164,
   "metadata": {},
   "outputs": [
    {
     "data": {
      "text/plain": [
       "RandomForestClassifier(bootstrap=True, class_weight=None, criterion='gini',\n",
       "            max_depth=None, max_features='auto', max_leaf_nodes=None,\n",
       "            min_impurity_decrease=0.0, min_impurity_split=None,\n",
       "            min_samples_leaf=1, min_samples_split=2,\n",
       "            min_weight_fraction_leaf=0.0, n_estimators=10, n_jobs=1,\n",
       "            oob_score=False, random_state=None, verbose=0,\n",
       "            warm_start=False)"
      ]
     },
     "execution_count": 164,
     "metadata": {},
     "output_type": "execute_result"
    }
   ],
   "source": [
    "rfc = ensemble.RandomForestClassifier()\n",
    "\n",
    "rfc.fit(X_train_smaller,y_train_smaller)"
   ]
  },
  {
   "cell_type": "code",
   "execution_count": 165,
   "metadata": {},
   "outputs": [],
   "source": [
    "train = rfc.score(X_train_smaller,y_train_smaller)"
   ]
  },
  {
   "cell_type": "code",
   "execution_count": 166,
   "metadata": {},
   "outputs": [],
   "source": [
    "test = rfc.score(X_test_smaller,y_test_smaller)"
   ]
  },
  {
   "cell_type": "code",
   "execution_count": 167,
   "metadata": {},
   "outputs": [
    {
     "name": "stdout",
     "output_type": "stream",
     "text": [
      "Training set score: 1.0\n",
      "\n",
      "Test set score: 0.4943820224719101\n"
     ]
    }
   ],
   "source": [
    "print('Training set score:', train)\n",
    "print('\\nTest set score:', test)"
   ]
  },
  {
   "cell_type": "code",
   "execution_count": 168,
   "metadata": {},
   "outputs": [
    {
     "name": "stderr",
     "output_type": "stream",
     "text": [
      "/anaconda3/lib/python3.6/site-packages/sklearn/model_selection/_split.py:605: Warning: The least populated class in y has only 1 members, which is too few. The minimum number of members in any class cannot be less than n_splits=10.\n",
      "  % (min_groups, self.n_splits)), Warning)\n"
     ]
    },
    {
     "name": "stdout",
     "output_type": "stream",
     "text": [
      "Accuracy: 0.45 (+/- 0.40)\n"
     ]
    }
   ],
   "source": [
    "scores = cross_val_score(rfc, X_test_smaller,y_test_smaller,cv=10)\n",
    "\n",
    "print(\"Accuracy: %0.2f (+/- %0.2f)\" % (scores.mean(), scores.std() * 2))"
   ]
  },
  {
   "cell_type": "markdown",
   "metadata": {},
   "source": [
    "# Part 5 - back to holdout group\n",
    "\n",
    "Lastly return to your holdout group. Does your clustering on those members perform as you'd expect? Have your clusters remained stable or changed dramatically? What about your model? Is it's performance consistent?\n",
    "\n",
    "### clustering on holdout group\n",
    "\n",
    "first i need to normalize the data"
   ]
  },
  {
   "cell_type": "code",
   "execution_count": 169,
   "metadata": {},
   "outputs": [],
   "source": [
    "X_test_norm = normalize(X_test)"
   ]
  },
  {
   "cell_type": "markdown",
   "metadata": {},
   "source": [
    "K Means"
   ]
  },
  {
   "cell_type": "code",
   "execution_count": 170,
   "metadata": {},
   "outputs": [
    {
     "data": {
      "image/png": "[encoded data removed]",
      "text/plain": [
       "<Figure size 432x288 with 1 Axes>"
      ]
     },
     "metadata": {},
     "output_type": "display_data"
    },
    {
     "name": "stdout",
     "output_type": "stream",
     "text": [
      "Time: 0.8692121505737305 seconds \n",
      "Comparing k-means clusters against the data:\n",
      "author_id  1340343  1383289  1492818  1558100  1703038  1846741  1874629  \\\n",
      "row_0                                                                      \n",
      "0               20       29        0        4        6        1        4   \n",
      "1                0       11        1        0        2        0        0   \n",
      "2                0        1        0        0        0        0        0   \n",
      "\n",
      "author_id  2460557  2556543  2579472   ...    4251949  4275352  4287988  \\\n",
      "row_0                                  ...                                \n",
      "0               11        6        2   ...          0        2        1   \n",
      "1                0        0        0   ...          1        0        0   \n",
      "2                0        0        0   ...          0        0        0   \n",
      "\n",
      "author_id  4295475  4304499  4309214  511887  732730  828046  880688  \n",
      "row_0                                                                 \n",
      "0                0        1        1       1      10       2      11  \n",
      "1                1        0        0       0       2       0       1  \n",
      "2                0        0        0       0       0       0       0  \n",
      "\n",
      "[3 rows x 146 columns]\n"
     ]
    }
   ],
   "source": [
    "start = time()\n",
    "# Calculate predicted values.\n",
    "y_pred = KMeans(n_clusters=3, random_state=42).fit_predict(X_test_norm)\n",
    "\n",
    "# Plot the solution.\n",
    "plt.scatter(X_test_norm[:, 0], X_test_norm[:, 1], c=y_pred)\n",
    "plt.show()\n",
    "\n",
    "print('Time: {} seconds '.format(time()-start))\n",
    "# Check the solution against the data.\n",
    "print('Comparing k-means clusters against the data:')\n",
    "print(pd.crosstab(y_pred, y_test))\n",
    "\n",
    "# going to add the info back into the dataframe later\n",
    "kmeans_clusters = y_pred"
   ]
  },
  {
   "cell_type": "markdown",
   "metadata": {},
   "source": [
    "Mean shift"
   ]
  },
  {
   "cell_type": "code",
   "execution_count": 171,
   "metadata": {},
   "outputs": [
    {
     "name": "stdout",
     "output_type": "stream",
     "text": [
      "Number of estimated clusters: 1\n"
     ]
    },
    {
     "data": {
      "image/png": "[encoded data removed]",
      "text/plain": [
       "<Figure size 432x288 with 1 Axes>"
      ]
     },
     "metadata": {},
     "output_type": "display_data"
    },
    {
     "name": "stdout",
     "output_type": "stream",
     "text": [
      "Comparing the assigned categories to the ones in the data:\n",
      "col_0       0\n",
      "author_id    \n",
      "1340343    20\n",
      "1383289    41\n",
      "1492818     1\n",
      "1558100     4\n",
      "1703038     8\n",
      "1846741     1\n",
      "1874629     4\n",
      "2460557    11\n",
      "2556543     6\n",
      "2579472     2\n",
      "2874698    17\n",
      "2879658    19\n",
      "2898040     2\n",
      "3060073     1\n",
      "3081158    12\n"
     ]
    }
   ],
   "source": [
    "ms.fit(X_test_norm)\n",
    "\n",
    "# Extract cluster assignments for each data point.\n",
    "labels = ms.labels_\n",
    "\n",
    "# Coordinates of the cluster centers.\n",
    "cluster_centers = ms.cluster_centers_\n",
    "\n",
    "# Count our clusters.\n",
    "n_clusters_ = len(np.unique(labels))\n",
    "\n",
    "print(\"Number of estimated clusters: {}\".format(n_clusters_))\n",
    "\n",
    "plt.scatter(X_test_norm[:, 0], X_test_norm[:, 1], c=labels)\n",
    "plt.show()\n",
    "\n",
    "print('Comparing the assigned categories to the ones in the data:')\n",
    "print(pd.crosstab(y_test,labels).head(15))\n"
   ]
  },
  {
   "cell_type": "code",
   "execution_count": 172,
   "metadata": {},
   "outputs": [],
   "source": [
    "clusters = ms.labels_.tolist()"
   ]
  },
  {
   "cell_type": "code",
   "execution_count": null,
   "metadata": {},
   "outputs": [],
   "source": []
  },
  {
   "cell_type": "code",
   "execution_count": 173,
   "metadata": {},
   "outputs": [],
   "source": [
    "# add the clusters as features for the next step\n",
    "\n",
    "X_test['cluster'] = clusters\n",
    "X_test['kmeans_cluster'] = kmeans_clusters"
   ]
  },
  {
   "cell_type": "markdown",
   "metadata": {},
   "source": [
    "## modelling\n",
    "\n",
    "same steps to add the features, then using the previously fit models on the holdout data to see how it works"
   ]
  },
  {
   "cell_type": "code",
   "execution_count": 174,
   "metadata": {},
   "outputs": [],
   "source": [
    "#X_test.columns.values"
   ]
  },
  {
   "cell_type": "markdown",
   "metadata": {},
   "source": [
    "The model below won't work because a column is missing. Let's see what it is and add it if that is feasible."
   ]
  },
  {
   "cell_type": "code",
   "execution_count": 175,
   "metadata": {},
   "outputs": [],
   "source": [
    "#test_cols = X_test_bin.columns.values\n",
    "#with_cols = withbin.columns.values\n",
    "\n",
    "#for col in with_cols:\n",
    "#    if col not in test_cols:\n",
    "#        print(col)"
   ]
  },
  {
   "cell_type": "code",
   "execution_count": 176,
   "metadata": {},
   "outputs": [],
   "source": [
    "# X_test_bin['industry_Advertising'] = 0"
   ]
  },
  {
   "cell_type": "markdown",
   "metadata": {},
   "source": [
    "gradient boosting\n"
   ]
  },
  {
   "cell_type": "code",
   "execution_count": 177,
   "metadata": {},
   "outputs": [
    {
     "name": "stdout",
     "output_type": "stream",
     "text": [
      "Holdout score: 0.49719101123595505\n"
     ]
    }
   ],
   "source": [
    "new_testing_score = clf.score(X_test, y_test)\n",
    "\n",
    "print('Holdout score:', new_testing_score)"
   ]
  },
  {
   "cell_type": "code",
   "execution_count": 178,
   "metadata": {},
   "outputs": [
    {
     "name": "stderr",
     "output_type": "stream",
     "text": [
      "/anaconda3/lib/python3.6/site-packages/sklearn/model_selection/_split.py:605: Warning: The least populated class in y has only 1 members, which is too few. The minimum number of members in any class cannot be less than n_splits=10.\n",
      "  % (min_groups, self.n_splits)), Warning)\n"
     ]
    },
    {
     "name": "stdout",
     "output_type": "stream",
     "text": [
      "Accuracy: 0.50 (+/-  0.31)\n"
     ]
    }
   ],
   "source": [
    "scores_gb = cross_val_score(clf,X_test,y_test,cv=10)\n",
    "\n",
    "print(\"Accuracy: %0.2f (+/-  %0.2f)\" % (scores_gb.mean(), scores_gb.std()*2 ))"
   ]
  },
  {
   "cell_type": "markdown",
   "metadata": {},
   "source": [
    "logistic regression"
   ]
  },
  {
   "cell_type": "code",
   "execution_count": 179,
   "metadata": {},
   "outputs": [
    {
     "data": {
      "text/plain": [
       "0.6952247191011236"
      ]
     },
     "execution_count": 179,
     "metadata": {},
     "output_type": "execute_result"
    }
   ],
   "source": [
    "lr.score(X_test, y_test)"
   ]
  },
  {
   "cell_type": "code",
   "execution_count": 180,
   "metadata": {},
   "outputs": [
    {
     "name": "stderr",
     "output_type": "stream",
     "text": [
      "/anaconda3/lib/python3.6/site-packages/sklearn/model_selection/_split.py:605: Warning: The least populated class in y has only 1 members, which is too few. The minimum number of members in any class cannot be less than n_splits=10.\n",
      "  % (min_groups, self.n_splits)), Warning)\n"
     ]
    },
    {
     "name": "stdout",
     "output_type": "stream",
     "text": [
      "Accuracy: 0.66 (+/- 0.33)\n"
     ]
    }
   ],
   "source": [
    "lr_cv = cross_val_score(lr,X_test,y_test,cv=10)\n",
    "\n",
    "print(\"Accuracy: %0.2f (+/- %0.2f)\" % (lr_cv.mean(), lr_cv.std() * 2 ))"
   ]
  },
  {
   "cell_type": "markdown",
   "metadata": {},
   "source": [
    "random forest"
   ]
  },
  {
   "cell_type": "code",
   "execution_count": 181,
   "metadata": {},
   "outputs": [
    {
     "data": {
      "text/plain": [
       "0.3497191011235955"
      ]
     },
     "execution_count": 181,
     "metadata": {},
     "output_type": "execute_result"
    }
   ],
   "source": [
    "rfc.score(X_test,y_test)"
   ]
  },
  {
   "cell_type": "code",
   "execution_count": 182,
   "metadata": {},
   "outputs": [
    {
     "name": "stderr",
     "output_type": "stream",
     "text": [
      "/anaconda3/lib/python3.6/site-packages/sklearn/model_selection/_split.py:605: Warning: The least populated class in y has only 1 members, which is too few. The minimum number of members in any class cannot be less than n_splits=10.\n",
      "  % (min_groups, self.n_splits)), Warning)\n"
     ]
    },
    {
     "name": "stdout",
     "output_type": "stream",
     "text": [
      "Accuracy: 0.48 (+/- 0.34)\n"
     ]
    }
   ],
   "source": [
    "scores = cross_val_score(rfc, X_test,y_test,cv=10)\n",
    "\n",
    "print(\"Accuracy: %0.2f (+/- %0.2f)\" % (scores.mean(), scores.std() * 2))"
   ]
  },
  {
   "cell_type": "markdown",
   "metadata": {},
   "source": [
    "<hr width=\"50%\" />\n",
    "\n",
    "## Summary\n",
    "\n",
    "The clusters generated on the test group seem the most different when comparing the test group to the training group, possibly because the amount of data is so much less, and as a result the variance and distinct features are also less.\n",
    "\n",
    "The models are not especially great for both the training and testing groups. It looks like they are either overfit or have a lack of accuracy that is concerning and makes their usefulness questionable.\n",
    "\n",
    "When comparing clustering to modeling, in terms of classifying these texts, it appears like modelling is better for isolating specific features and would be good if you had an idea of what specific features would be most useful to generate, or if you had the patience to do that.\n",
    "\n",
    "Clustering on the other hand was approximately as accurate but didn't require knowing much about the contents of the posts in order to organize them by author.\n",
    "\n",
    "In consideration of that, I think in this case clustering was the best method, because it didn't require knowledge of the contents of the text. However, I imagine if someone did have an idea of the contexts of the text, they would be able to generate more specifically targeted features, and potentially in that case, modelling could perform significantly better.\n",
    "\n"
   ]
  },
  {
   "cell_type": "code",
   "execution_count": null,
   "metadata": {},
   "outputs": [],
   "source": []
  }
 ],
 "metadata": {
  "kernelspec": {
   "display_name": "Python 3",
   "language": "python",
   "name": "python3"
  },
  "language_info": {
   "codemirror_mode": {
    "name": "ipython",
    "version": 3
   },
   "file_extension": ".py",
   "mimetype": "text/x-python",
   "name": "python",
   "nbconvert_exporter": "python",
   "pygments_lexer": "ipython3",
   "version": "3.6.5"
  }
 },
 "nbformat": 4,
 "nbformat_minor": 2
}
