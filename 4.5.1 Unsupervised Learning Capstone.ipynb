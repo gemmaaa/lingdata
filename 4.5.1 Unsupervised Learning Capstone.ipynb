{
 "cells": [
  {
   "cell_type": "markdown",
   "metadata": {},
   "source": [
    "# 4.5.1 Unsupervised Learning Capstone"
   ]
  },
  {
   "cell_type": "markdown",
   "metadata": {},
   "source": [
    "1. pick a set of texts. This can be either a series of novels, chapters, or articles. Anything you'd like. It just has to have multiple entries of varying characteristics. At least 100 should be good. There should also be at least 10 different authors, but try to keep the texts related"
   ]
  },
  {
   "cell_type": "code",
   "execution_count": 1,
   "metadata": {},
   "outputs": [],
   "source": [
    "import numpy as np\n",
    "import pandas as pd\n",
    "import scipy\n",
    "import matplotlib.pyplot as plt\n",
    "import seaborn as sns\n",
    "%matplotlib inline\n",
    "\n",
    "import spacy\n",
    "from collections import Counter\n",
    "\n",
    "import re\n",
    "from sklearn.model_selection import train_test_split\n",
    "\n",
    "import xml.etree.ElementTree as ET\n",
    "import os\n",
    "from time import time"
   ]
  },
  {
   "cell_type": "markdown",
   "metadata": {},
   "source": [
    "## Exploring corpora to use for this project\n",
    "\n",
    "The following corpora are from the [University of Oxford Text Archive](https://ota.ox.ac.uk/) :\n",
    "* 2518 is [The Electronic Text Corpus of Sumerian Literature. Revised edition](https://ota.ox.ac.uk/desc/2518)\n",
    "* 2554 is [British National Corpus](https://ota.ox.ac.uk/desc/2554)\n",
    "\n",
    "There is also a corpus of blog entries: [Blog Authorship Corpus](https://u.cs.biu.ac.il/~koppel/BlogCorpus.htm)\n"
   ]
  },
  {
   "cell_type": "code",
   "execution_count": 2,
   "metadata": {},
   "outputs": [],
   "source": [
    "path_s = '/Users/gemma/Documents/data science/2518_from_oxford/2518/etcsl/translations/'\n",
    "\n",
    "files_s = os.listdir(path_s)"
   ]
  },
  {
   "cell_type": "code",
   "execution_count": 3,
   "metadata": {},
   "outputs": [],
   "source": [
    "path_BNC = '/Users/gemma/Documents/data science/2554_from_oxford/2554/download/Texts/'\n",
    "\n",
    "# levels are:  download/ Texts / 1 letter /  2 letters / XML files\n",
    "\n",
    "one_letter = os.listdir(path_BNC)\n",
    "\n",
    "filenames_BNC = []\n",
    "\n",
    "for i, letter in enumerate(one_letter):\n",
    "    # ignore the .DS_store file \n",
    "    if one_letter[i][0] != '.':\n",
    "        two_letters = os.listdir(path_BNC+letter+'/')\n",
    "\n",
    "        for pair in two_letters:\n",
    "            if pair[0] != '.': # ignore the .DS_store file again\n",
    "                all_files = os.listdir(path_BNC+letter+'/'+pair+'/')\n",
    "                \n",
    "                for file in all_files:\n",
    "                    filenames_BNC.append(path_BNC+letter+'/'+pair+'/'+file)\n",
    "        "
   ]
  },
  {
   "cell_type": "markdown",
   "metadata": {},
   "source": [
    "After taking a look at the Sumerian translations, it seems like the text is fragmented and as a result may be difficult to parse.\n",
    "\n",
    "The BNC covers many different topics and that won't fulfill the requirements of this project.\n",
    "\n",
    "Looking at the blog posts, let's first get the file path and create a list of the filenames to read in from.\n",
    "\n",
    "# Part 1 - Getting and organizing the data"
   ]
  },
  {
   "cell_type": "code",
   "execution_count": 4,
   "metadata": {},
   "outputs": [],
   "source": [
    "path_blogs = '/Users/gemma/Documents/data science/blogs/'\n",
    "blog_files = os.listdir(path_blogs)"
   ]
  },
  {
   "cell_type": "code",
   "execution_count": 5,
   "metadata": {},
   "outputs": [
    {
     "data": {
      "text/plain": [
       "'3954575.female.23.BusinessServices.Gemini.xml'"
      ]
     },
     "execution_count": 5,
     "metadata": {},
     "output_type": "execute_result"
    }
   ],
   "source": [
    "# looking at the structure of the filename\n",
    "blog_files[2]"
   ]
  },
  {
   "cell_type": "markdown",
   "metadata": {},
   "source": [
    "Let's see how many blogs we're working with:"
   ]
  },
  {
   "cell_type": "code",
   "execution_count": 6,
   "metadata": {},
   "outputs": [
    {
     "data": {
      "text/plain": [
       "19320"
      ]
     },
     "execution_count": 6,
     "metadata": {},
     "output_type": "execute_result"
    }
   ],
   "source": [
    "len(blog_files)"
   ]
  },
  {
   "cell_type": "markdown",
   "metadata": {},
   "source": [
    "Next, I'll try to read one blog in and take a look at the structure inside the file."
   ]
  },
  {
   "cell_type": "code",
   "execution_count": 7,
   "metadata": {},
   "outputs": [
    {
     "name": "stdout",
     "output_type": "stream",
     "text": [
      "/Users/gemma/Documents/data science/blogs/3364931.male.16.Student.Virgo.xml\n"
     ]
    }
   ],
   "source": [
    "#file = filenames_BNC[5]   # the BNC\n",
    "\n",
    "file = path_blogs+blog_files[3] # blogs\n",
    "\n",
    "#file = path_s+files_s[0]   # sumerian texts\n",
    "\n",
    "print(file)\n",
    "\n",
    "# parse the tree and get the root to iterate from later\n",
    "\n",
    "tree = ET.parse(file)\n",
    "root = tree.getroot()"
   ]
  },
  {
   "cell_type": "markdown",
   "metadata": {},
   "source": [
    "It looks like there is an issue parsing in the file to the tree due to the character <code>& nbsp;</code>. Let's go through the files, replace all the <code>& nbsp;</code>s with spaces, and then see if it'll work.\n",
    "\n",
    "Some useful info on reading in files in general and the different modes you can read them in / write them in: [here](https://www.guru99.com/reading-and-writing-files-in-python.html#3).\n",
    "\n",
    "Also info about how to make the tree from a string was found on [stack overflow](https://stackoverflow.com/questions/647071/python-xml-elementtree-from-a-string-source)."
   ]
  },
  {
   "cell_type": "code",
   "execution_count": 8,
   "metadata": {},
   "outputs": [],
   "source": [
    "def file_to_string(filename):\n",
    "    \n",
    "    f=open(filename, \"r\") #open the file in read mode. don't change it2 write, otherwise... :D\n",
    "\n",
    "    if f.mode == 'r': # double check that it's in read mode\n",
    "        text = f.read() # read the file to the text\n",
    "    \n",
    "    space = re.compile('&nbsp;') # this was preventing it from parsing straight from the file\n",
    "    text = re.sub(space, \" \", text) # sub the problem char out with a space\n",
    "    \n",
    "    #sometimes & is used as and or is just in the text - accounting for those situations\n",
    "    \n",
    "    andd = re.compile('& _&_<>_>.<')\n",
    "    text = re.sub(andd, \"and \", text) #\n",
    "    \n",
    "    #randomand = re.compile('&')\n",
    "    #text = re.sub(randomand, \"\", text)\n",
    "    \n",
    "    #ugh = re.compile('<>')\n",
    "    #text = re.sub(ugh, \"\", text)\n",
    "    \n",
    "    #face = re.compile('>.<')\n",
    "    #text = re.sub(face, \"\", text)\n",
    "    \n",
    "    return text"
   ]
  },
  {
   "cell_type": "markdown",
   "metadata": {},
   "source": [
    "Let's take a look at all of the elements in the tree."
   ]
  },
  {
   "cell_type": "code",
   "execution_count": 9,
   "metadata": {},
   "outputs": [
    {
     "data": {
      "text/plain": [
       "{'Blog', 'date', 'post'}"
      ]
     },
     "execution_count": 9,
     "metadata": {},
     "output_type": "execute_result"
    }
   ],
   "source": [
    "set([elem.tag for elem in root.iter()])\n",
    "\n",
    "# another way to look at the structure of the doc: \n",
    "\n",
    "#for thing in root.getiterator():\n",
    "#    print(thing)"
   ]
  },
  {
   "cell_type": "markdown",
   "metadata": {},
   "source": [
    "Next, in order to create the dataframe, let's create a function to get the data out of each xml file that has been parsed to a string with the function defined above.\n",
    "\n",
    "Let's also use the previously used text cleaner function to clean up the text in each post."
   ]
  },
  {
   "cell_type": "code",
   "execution_count": 10,
   "metadata": {},
   "outputs": [],
   "source": [
    "def text_cleaner(text):\n",
    "    # Visual inspection identifies a form of punctuation spaCy does not\n",
    "    # recognize: the double dash '--'.  Better get rid of it now!\n",
    "    text = re.sub(r'--',' ',text)\n",
    "    text = re.sub(\"[\\[].*?[\\]]\", \"\", text)\n",
    "    text = ' '.join(text.split())\n",
    "    return text"
   ]
  },
  {
   "cell_type": "code",
   "execution_count": 11,
   "metadata": {},
   "outputs": [],
   "source": [
    "# before using this function, i'll have to remember to define the 3 lists \n",
    "\n",
    "def split_data(filename, dates, posts, authors):\n",
    "\n",
    "    file_as_text = file_to_string(path_blogs+filename)\n",
    "    #file_as_text = file_to_string(filename)\n",
    "        \n",
    "    # since we are going to get the tree from a string and not a file \n",
    "    # we can't use ET.parse, and will use the following\n",
    "    \n",
    "    tree = ET.ElementTree(ET.fromstring(file_as_text))\n",
    "    root = tree.getroot()\n",
    "\n",
    "    for post_date in root.findall('date'):\n",
    "        \n",
    "        # replace the , with . so the structure is consistent\n",
    "        date_split = re.sub(r\",\", \"-\", post_date.text)\n",
    "        dates.append(date_split)\n",
    "        \n",
    "        authors.append(filename)\n",
    "        \n",
    "    for post_itself in root.findall('post'):\n",
    "        \n",
    "        cleaned = text_cleaner(post_itself.text)\n",
    "        posts.append(cleaned)\n",
    "    \n",
    "    return "
   ]
  },
  {
   "cell_type": "markdown",
   "metadata": {},
   "source": [
    "We'll pick 250 files randomly to try to read in data from, to use in the dataframe. Then we'll have extra files in case a significant amount of them have errors and can't be read in on a first try. "
   ]
  },
  {
   "cell_type": "code",
   "execution_count": 12,
   "metadata": {},
   "outputs": [],
   "source": [
    "selected = np.random.choice(blog_files,250)"
   ]
  },
  {
   "cell_type": "markdown",
   "metadata": {},
   "source": [
    "<em>Info about error handling from [here](https://docs.python.org/3/tutorial/errors.html)</em>"
   ]
  },
  {
   "cell_type": "code",
   "execution_count": 13,
   "metadata": {
    "scrolled": true
   },
   "outputs": [
    {
     "name": "stdout",
     "output_type": "stream",
     "text": [
      "Error with 2\n",
      "Error with 3\n",
      "Error with 5\n",
      "Error with 6\n",
      "Error with 11\n",
      "Error with 14\n",
      "Error with 17\n",
      "Error with 20\n",
      "Error with 22\n",
      "Error with 24\n",
      "Error with 25\n",
      "Error with 33\n",
      "Error with 35\n",
      "Error with 36\n",
      "Error with 37\n",
      "Error with 43\n",
      "Error with 44\n",
      "Error with 47\n",
      "Error with 48\n",
      "Error with 49\n",
      "Error with 50\n",
      "Error with 53\n",
      "Error with 54\n",
      "Error with 56\n",
      "Error with 57\n",
      "Error with 61\n",
      "Error with 63\n",
      "Error with 64\n",
      "Error with 66\n",
      "Error with 74\n",
      "Error with 76\n",
      "Error with 78\n",
      "Error with 87\n",
      "Error with 88\n",
      "Error with 91\n",
      "Error with 97\n",
      "Error with 98\n",
      "Error with 101\n",
      "Error with 102\n",
      "Error with 105\n",
      "Error with 106\n",
      "Error with 107\n",
      "Error with 108\n",
      "Error with 109\n",
      "Error with 115\n",
      "Error with 121\n",
      "Error with 126\n",
      "Error with 128\n",
      "Error with 131\n",
      "Error with 132\n",
      "Error with 134\n",
      "Error with 135\n",
      "Error with 136\n",
      "Error with 139\n",
      "Error with 140\n",
      "Error with 151\n",
      "Error with 152\n",
      "Error with 155\n",
      "Error with 160\n",
      "Error with 164\n",
      "Error with 165\n",
      "Error with 168\n",
      "Error with 172\n",
      "Error with 182\n",
      "Error with 187\n",
      "Error with 188\n",
      "Error with 190\n",
      "Error with 191\n",
      "Error with 194\n",
      "Error with 195\n",
      "Error with 197\n",
      "Error with 205\n",
      "Error with 217\n",
      "Error with 218\n",
      "Error with 222\n",
      "Error with 223\n",
      "Error with 225\n",
      "Error with 229\n",
      "Error with 233\n",
      "Error with 234\n",
      "Error with 239\n",
      "Error with 249\n",
      "error count = 82\n"
     ]
    }
   ],
   "source": [
    "# the lists (and 1 dict) are \n",
    "\n",
    "dates = []\n",
    "posts = []\n",
    "authors = []\n",
    "\n",
    "count = 0\n",
    "\n",
    "for i, file in enumerate(selected):\n",
    "    try:\n",
    "        split_data(file, dates, posts, authors)    \n",
    "    except:\n",
    "        #UnicodeDecodeError:\n",
    "        print('Error with {}'.format(i))\n",
    "        count+=1\n",
    "    \n",
    "print('error count = {}'.format(count))"
   ]
  },
  {
   "cell_type": "code",
   "execution_count": 14,
   "metadata": {},
   "outputs": [],
   "source": [
    "# make a dictionary from authors to create the dataframe from there\n",
    "\n",
    "author_dict = {}\n",
    "\n",
    "for i, value in enumerate(authors):\n",
    "    separated = value.split(\".\")\n",
    "    author_dict[i] = separated[:-1]\n"
   ]
  },
  {
   "cell_type": "code",
   "execution_count": 15,
   "metadata": {},
   "outputs": [],
   "source": [
    "df = pd.DataFrame.from_dict(data=author_dict, orient='index', columns=['author_id', 'gender', \n",
    "                                                       'age', 'industry', 'sign'] )\n",
    "\n",
    "df['date'] = dates\n",
    "df['post'] = posts"
   ]
  },
  {
   "cell_type": "code",
   "execution_count": 16,
   "metadata": {},
   "outputs": [
    {
     "data": {
      "text/html": [
       "<div>\n",
       "<style scoped>\n",
       "    .dataframe tbody tr th:only-of-type {\n",
       "        vertical-align: middle;\n",
       "    }\n",
       "\n",
       "    .dataframe tbody tr th {\n",
       "        vertical-align: top;\n",
       "    }\n",
       "\n",
       "    .dataframe thead th {\n",
       "        text-align: right;\n",
       "    }\n",
       "</style>\n",
       "<table border=\"1\" class=\"dataframe\">\n",
       "  <thead>\n",
       "    <tr style=\"text-align: right;\">\n",
       "      <th></th>\n",
       "      <th>author_id</th>\n",
       "      <th>gender</th>\n",
       "      <th>age</th>\n",
       "      <th>industry</th>\n",
       "      <th>sign</th>\n",
       "      <th>date</th>\n",
       "      <th>post</th>\n",
       "    </tr>\n",
       "  </thead>\n",
       "  <tbody>\n",
       "    <tr>\n",
       "      <th>0</th>\n",
       "      <td>2237917</td>\n",
       "      <td>male</td>\n",
       "      <td>48</td>\n",
       "      <td>Technology</td>\n",
       "      <td>Cancer</td>\n",
       "      <td>30-June-2004</td>\n",
       "      <td>urlLink Are the Browser Wars Back? - How Mozil...</td>\n",
       "    </tr>\n",
       "    <tr>\n",
       "      <th>1</th>\n",
       "      <td>2237917</td>\n",
       "      <td>male</td>\n",
       "      <td>48</td>\n",
       "      <td>Technology</td>\n",
       "      <td>Cancer</td>\n",
       "      <td>29-June-2004</td>\n",
       "      <td>urlLink Feds warn against Microsoft's browser ...</td>\n",
       "    </tr>\n",
       "    <tr>\n",
       "      <th>2</th>\n",
       "      <td>2237917</td>\n",
       "      <td>male</td>\n",
       "      <td>48</td>\n",
       "      <td>Technology</td>\n",
       "      <td>Cancer</td>\n",
       "      <td>29-June-2004</td>\n",
       "      <td>urlLink Business 2.0 - Magazine Article - The ...</td>\n",
       "    </tr>\n",
       "    <tr>\n",
       "      <th>3</th>\n",
       "      <td>2237917</td>\n",
       "      <td>male</td>\n",
       "      <td>48</td>\n",
       "      <td>Technology</td>\n",
       "      <td>Cancer</td>\n",
       "      <td>29-June-2004</td>\n",
       "      <td>urlLink Fast Growth Database NICE!!! GHA Techn...</td>\n",
       "    </tr>\n",
       "    <tr>\n",
       "      <th>4</th>\n",
       "      <td>2237917</td>\n",
       "      <td>male</td>\n",
       "      <td>48</td>\n",
       "      <td>Technology</td>\n",
       "      <td>Cancer</td>\n",
       "      <td>28-June-2004</td>\n",
       "      <td>urlLink Survey: Dell customer satisfaction uns...</td>\n",
       "    </tr>\n",
       "  </tbody>\n",
       "</table>\n",
       "</div>"
      ],
      "text/plain": [
       "  author_id gender age    industry    sign          date  \\\n",
       "0   2237917   male  48  Technology  Cancer  30-June-2004   \n",
       "1   2237917   male  48  Technology  Cancer  29-June-2004   \n",
       "2   2237917   male  48  Technology  Cancer  29-June-2004   \n",
       "3   2237917   male  48  Technology  Cancer  29-June-2004   \n",
       "4   2237917   male  48  Technology  Cancer  28-June-2004   \n",
       "\n",
       "                                                post  \n",
       "0  urlLink Are the Browser Wars Back? - How Mozil...  \n",
       "1  urlLink Feds warn against Microsoft's browser ...  \n",
       "2  urlLink Business 2.0 - Magazine Article - The ...  \n",
       "3  urlLink Fast Growth Database NICE!!! GHA Techn...  \n",
       "4  urlLink Survey: Dell customer satisfaction uns...  "
      ]
     },
     "execution_count": 16,
     "metadata": {},
     "output_type": "execute_result"
    }
   ],
   "source": [
    "df.head()"
   ]
  },
  {
   "cell_type": "code",
   "execution_count": 17,
   "metadata": {},
   "outputs": [],
   "source": [
    "nlp = spacy.load('en_core_web_lg')\n",
    "\n",
    "df['parsed'] = df['post'].apply(nlp)"
   ]
  },
  {
   "cell_type": "markdown",
   "metadata": {},
   "source": [
    "I found that some of the months are not in English, which leads to the assumption that some of the posts are not in English. Originally I just replaced the months with the english but the analysis of the text won't work since we are only loading the English language.\n",
    "\n",
    "I'll use Google Cloud API to check the language of each row, and then drop rows that aren't in English. I used these resources: [Translation API Client Libraries](https://cloud.google.com/translate/docs/reference/libraries) (and [explicitly adding credentials](https://cloud.google.com/docs/authentication/production)) and [Detecting the lang of a string](https://cloud.google.com/translate/docs/detecting-language#translate_detect_language-python) . \n",
    "\n",
    "Another resource - [lang detect](https://pypi.org/project/langdetect/)."
   ]
  },
  {
   "cell_type": "code",
   "execution_count": 18,
   "metadata": {},
   "outputs": [],
   "source": [
    "#export GOOGLE_APPLICATION_CREDENTIALS=\"\"\"/Users/gemma/Documents/data science/DS Bootcamp/\n",
    "#                                         My First Project-901fbdcc624d.json\"\"\"\n",
    "\n",
    "# Imports the Google Cloud client library\n",
    "from google.cloud import translate\n",
    "\n",
    "# Instantiates a client\n",
    "translate_client = translate.Client.from_service_account_json(\n",
    "        '/Users/gemma/Documents/data science/DS Bootcamp/My First Project-901fbdcc624d.json')\n"
   ]
  },
  {
   "cell_type": "code",
   "execution_count": 19,
   "metadata": {},
   "outputs": [],
   "source": [
    "# running this on the whole sries made me hit the quota on the79th row, so im\n",
    "# just going to look at the first 50 char of each post\n",
    "\n",
    "def check_fifty_char(series):\n",
    "    return translate_client.detect_language(series[:15])\n",
    "\n",
    "df['lang'] = df['post'].apply(check_fifty_char)\n"
   ]
  },
  {
   "cell_type": "code",
   "execution_count": 20,
   "metadata": {},
   "outputs": [],
   "source": [
    "def check_lang(series):\n",
    "    if series['language'] != \"en\":\n",
    "        series = np.nan\n",
    "    return\n",
    "\n",
    "# substitute non english with NaN\n",
    "df['lang'].apply(check_lang)\n",
    "\n",
    "# drop the rows of NaN - can't use non English data in this analysis \n",
    "df.dropna(axis=0, how='any', inplace=True)\n"
   ]
  },
  {
   "cell_type": "code",
   "execution_count": 21,
   "metadata": {},
   "outputs": [],
   "source": [
    "# now that we're done with the language column, let's drop it \n",
    "\n",
    "df.drop('lang', axis=1, inplace=True)"
   ]
  },
  {
   "cell_type": "code",
   "execution_count": 22,
   "metadata": {},
   "outputs": [
    {
     "data": {
      "text/html": [
       "<div>\n",
       "<style scoped>\n",
       "    .dataframe tbody tr th:only-of-type {\n",
       "        vertical-align: middle;\n",
       "    }\n",
       "\n",
       "    .dataframe tbody tr th {\n",
       "        vertical-align: top;\n",
       "    }\n",
       "\n",
       "    .dataframe thead th {\n",
       "        text-align: right;\n",
       "    }\n",
       "</style>\n",
       "<table border=\"1\" class=\"dataframe\">\n",
       "  <thead>\n",
       "    <tr style=\"text-align: right;\">\n",
       "      <th></th>\n",
       "      <th>author_id</th>\n",
       "      <th>gender</th>\n",
       "      <th>age</th>\n",
       "      <th>industry</th>\n",
       "      <th>sign</th>\n",
       "      <th>date</th>\n",
       "      <th>post</th>\n",
       "      <th>parsed</th>\n",
       "    </tr>\n",
       "  </thead>\n",
       "  <tbody>\n",
       "  </tbody>\n",
       "</table>\n",
       "</div>"
      ],
      "text/plain": [
       "Empty DataFrame\n",
       "Columns: [author_id, gender, age, industry, sign, date, post, parsed]\n",
       "Index: []"
      ]
     },
     "execution_count": 22,
     "metadata": {},
     "output_type": "execute_result"
    }
   ],
   "source": [
    "# someone has julio, agosto, and maj in their date but the post is still in english\n",
    "df[df['date'].str.contains(\"maj\")]"
   ]
  },
  {
   "cell_type": "code",
   "execution_count": 27,
   "metadata": {},
   "outputs": [],
   "source": [
    "# some months either in other langs (which will bring some other issues later on) or \n",
    "# just spelled wrong\n",
    "#replacing = {\"Mai\":\"May\", \"mayo\": \"May\", \"mei\": \"May\", \"Agosto\":\"August\", \"juli\":\"July\", \n",
    "#             \"Julho\":\"July\", \"Juli\":\"July\", \"mars\":\"March\", \"juni\": \"June\", \"Juni\":\"June\", \n",
    "#             \"augustus\": \"August\", \n",
    "#            \"Dezember\": \"December\", \"Januar\": \"January\", \"Januaryy\": \"January\",\n",
    "#            \"Januaryy\": \"Jan\", \"Jany\": \"Jan\", \"Februar\": \"Feb\", \"Feby\": \"Feb\"}\n",
    "\n",
    "replacing = { \"agosto\":\"August\", 'augusti':'Agusut', \"Agusut\":\"August\",\n",
    "             \"julio\": \"July\", \"maj\": \"May\", \"juni\": \"June\"}\n",
    "\n",
    "                            \n",
    "for k in replacing.keys():\n",
    "    df['date'] = df['date'].str.replace(k,replacing[k],regex=False)"
   ]
  },
  {
   "cell_type": "code",
   "execution_count": 28,
   "metadata": {},
   "outputs": [],
   "source": [
    "df['date'] = pd.to_datetime(df['date'])"
   ]
  },
  {
   "cell_type": "code",
   "execution_count": 29,
   "metadata": {},
   "outputs": [],
   "source": [
    "df['month'] = df['date'].dt.month"
   ]
  },
  {
   "cell_type": "code",
   "execution_count": 30,
   "metadata": {},
   "outputs": [],
   "source": [
    "df['day'] = df['date'].dt.day\n",
    "df['year'] = df['date'].dt.year"
   ]
  },
  {
   "cell_type": "code",
   "execution_count": 31,
   "metadata": {},
   "outputs": [],
   "source": [
    "df['gender'] = np.where(df['gender'] == 'male', 1, 0)\n",
    "\n",
    "#binarize gender since only male or female are options here"
   ]
  },
  {
   "cell_type": "code",
   "execution_count": 32,
   "metadata": {},
   "outputs": [
    {
     "data": {
      "text/html": [
       "<div>\n",
       "<style scoped>\n",
       "    .dataframe tbody tr th:only-of-type {\n",
       "        vertical-align: middle;\n",
       "    }\n",
       "\n",
       "    .dataframe tbody tr th {\n",
       "        vertical-align: top;\n",
       "    }\n",
       "\n",
       "    .dataframe thead th {\n",
       "        text-align: right;\n",
       "    }\n",
       "</style>\n",
       "<table border=\"1\" class=\"dataframe\">\n",
       "  <thead>\n",
       "    <tr style=\"text-align: right;\">\n",
       "      <th></th>\n",
       "      <th>author_id</th>\n",
       "      <th>gender</th>\n",
       "      <th>age</th>\n",
       "      <th>industry</th>\n",
       "      <th>sign</th>\n",
       "      <th>date</th>\n",
       "      <th>post</th>\n",
       "      <th>parsed</th>\n",
       "      <th>month</th>\n",
       "      <th>day</th>\n",
       "      <th>year</th>\n",
       "    </tr>\n",
       "  </thead>\n",
       "  <tbody>\n",
       "    <tr>\n",
       "      <th>0</th>\n",
       "      <td>2237917</td>\n",
       "      <td>1</td>\n",
       "      <td>48</td>\n",
       "      <td>Technology</td>\n",
       "      <td>Cancer</td>\n",
       "      <td>2004-06-30</td>\n",
       "      <td>urlLink Are the Browser Wars Back? - How Mozil...</td>\n",
       "      <td>(urlLink, Are, the, Browser, Wars, Back, ?, -,...</td>\n",
       "      <td>6</td>\n",
       "      <td>30</td>\n",
       "      <td>2004</td>\n",
       "    </tr>\n",
       "    <tr>\n",
       "      <th>1</th>\n",
       "      <td>2237917</td>\n",
       "      <td>1</td>\n",
       "      <td>48</td>\n",
       "      <td>Technology</td>\n",
       "      <td>Cancer</td>\n",
       "      <td>2004-06-29</td>\n",
       "      <td>urlLink Feds warn against Microsoft's browser ...</td>\n",
       "      <td>(urlLink, Feds, warn, against, Microsoft, 's, ...</td>\n",
       "      <td>6</td>\n",
       "      <td>29</td>\n",
       "      <td>2004</td>\n",
       "    </tr>\n",
       "    <tr>\n",
       "      <th>2</th>\n",
       "      <td>2237917</td>\n",
       "      <td>1</td>\n",
       "      <td>48</td>\n",
       "      <td>Technology</td>\n",
       "      <td>Cancer</td>\n",
       "      <td>2004-06-29</td>\n",
       "      <td>urlLink Business 2.0 - Magazine Article - The ...</td>\n",
       "      <td>(urlLink, Business, 2.0, -, Magazine, Article,...</td>\n",
       "      <td>6</td>\n",
       "      <td>29</td>\n",
       "      <td>2004</td>\n",
       "    </tr>\n",
       "  </tbody>\n",
       "</table>\n",
       "</div>"
      ],
      "text/plain": [
       "  author_id  gender age    industry    sign       date  \\\n",
       "0   2237917       1  48  Technology  Cancer 2004-06-30   \n",
       "1   2237917       1  48  Technology  Cancer 2004-06-29   \n",
       "2   2237917       1  48  Technology  Cancer 2004-06-29   \n",
       "\n",
       "                                                post  \\\n",
       "0  urlLink Are the Browser Wars Back? - How Mozil...   \n",
       "1  urlLink Feds warn against Microsoft's browser ...   \n",
       "2  urlLink Business 2.0 - Magazine Article - The ...   \n",
       "\n",
       "                                              parsed  month  day  year  \n",
       "0  (urlLink, Are, the, Browser, Wars, Back, ?, -,...      6   30  2004  \n",
       "1  (urlLink, Feds, warn, against, Microsoft, 's, ...      6   29  2004  \n",
       "2  (urlLink, Business, 2.0, -, Magazine, Article,...      6   29  2004  "
      ]
     },
     "execution_count": 32,
     "metadata": {},
     "output_type": "execute_result"
    }
   ],
   "source": [
    "df.head(3)"
   ]
  },
  {
   "cell_type": "markdown",
   "metadata": {},
   "source": [
    "## Also part 1 - features\n",
    "\n",
    "binarizing categorical data and adding some features from the text"
   ]
  },
  {
   "cell_type": "code",
   "execution_count": 33,
   "metadata": {},
   "outputs": [],
   "source": [
    "binned = pd.get_dummies(df.loc[:,['industry','sign']])\n",
    "\n",
    "df = pd.concat([df.drop(['industry','sign','date'], 1), \n",
    "                     binned], axis=1) \n"
   ]
  },
  {
   "cell_type": "code",
   "execution_count": 34,
   "metadata": {},
   "outputs": [],
   "source": [
    "df[\"word_count\"] = len(df['parsed'])"
   ]
  },
  {
   "cell_type": "code",
   "execution_count": 35,
   "metadata": {},
   "outputs": [],
   "source": [
    "# getting vectors with spacy, will also get vectors with unsupervised methods later on\n",
    "\n",
    "def get_post_vector(post):\n",
    "    span = post\n",
    "    if span.has_vector:\n",
    "        return span.vector_norm\n",
    "    else:\n",
    "        return 0\n",
    "\n",
    "df['vector'] = df['parsed'].apply(get_post_vector)"
   ]
  },
  {
   "cell_type": "code",
   "execution_count": 36,
   "metadata": {},
   "outputs": [],
   "source": [
    "def get_pron_count(text):\n",
    "    count = 0\n",
    "    for token in text:\n",
    "        if token.pos_ == \"PRON\":\n",
    "            count+=1\n",
    "    return count\n",
    "\n",
    "df['pronoun_count'] = df['parsed'].apply(get_pron_count)"
   ]
  },
  {
   "cell_type": "markdown",
   "metadata": {},
   "source": [
    "Bag of Words"
   ]
  },
  {
   "cell_type": "code",
   "execution_count": 37,
   "metadata": {},
   "outputs": [
    {
     "name": "stdout",
     "output_type": "stream",
     "text": [
      "501343\n"
     ]
    }
   ],
   "source": [
    "def bag_of_words(text, all_words):\n",
    "    \n",
    "    # Filter out punctuation and stop words.\n",
    "    all_words += ([token.lemma_\n",
    "                for token in text\n",
    "                if not token.is_punct\n",
    "                and not token.is_stop])\n",
    "    \n",
    "    # Return the most common words.\n",
    "    #return [item[0] for item in Counter(allwords).most_common(1000)]\n",
    "    \n",
    "all_words = []\n",
    "df['parsed'].apply(bag_of_words, args=(all_words,))\n",
    "\n",
    "print(len(all_words))\n",
    "\n",
    "common_words = [item[0] for item in Counter(all_words).most_common(150)]"
   ]
  },
  {
   "cell_type": "code",
   "execution_count": 38,
   "metadata": {
    "scrolled": true
   },
   "outputs": [
    {
     "name": "stdout",
     "output_type": "stream",
     "text": [
      "Processing row 0\n",
      "Processing row 500\n",
      "Processing row 1000\n",
      "Processing row 1500\n",
      "Processing row 2000\n"
     ]
    }
   ],
   "source": [
    "for word in common_words:\n",
    "    df[word] = 0\n",
    "    \n",
    "for i, sentence in enumerate(df['parsed']):\n",
    "        \n",
    "        # I already converted the sentence to lemmas, and filtered out punctuation and stop words.\n",
    "        # Now I'm just going to get a list of the words in each line that are in the common words list.\n",
    "        words = [token.lemma_\n",
    "                 for token in sentence\n",
    "                 if token.lemma_ in common_words\n",
    "                ]\n",
    "        \n",
    "        # Populate the row with word counts\n",
    "        for word in words:\n",
    "            df.loc[i, word] += 1\n",
    "        \n",
    "        # This counter is just to make sure the kernel didn't hang.\n",
    "        if i % 500 == 0:\n",
    "            print(\"Processing row {}\".format(i))"
   ]
  },
  {
   "cell_type": "code",
   "execution_count": 39,
   "metadata": {},
   "outputs": [
    {
     "data": {
      "text/html": [
       "<div>\n",
       "<style scoped>\n",
       "    .dataframe tbody tr th:only-of-type {\n",
       "        vertical-align: middle;\n",
       "    }\n",
       "\n",
       "    .dataframe tbody tr th {\n",
       "        vertical-align: top;\n",
       "    }\n",
       "\n",
       "    .dataframe thead th {\n",
       "        text-align: right;\n",
       "    }\n",
       "</style>\n",
       "<table border=\"1\" class=\"dataframe\">\n",
       "  <thead>\n",
       "    <tr style=\"text-align: right;\">\n",
       "      <th></th>\n",
       "      <th>author_id</th>\n",
       "      <th>gender</th>\n",
       "      <th>age</th>\n",
       "      <th>post</th>\n",
       "      <th>parsed</th>\n",
       "      <th>month</th>\n",
       "      <th>day</th>\n",
       "      <th>year</th>\n",
       "      <th>industry_Advertising</th>\n",
       "      <th>industry_Agriculture</th>\n",
       "      <th>...</th>\n",
       "      <th>keep</th>\n",
       "      <th>end</th>\n",
       "      <th>write</th>\n",
       "      <th>fun</th>\n",
       "      <th>world</th>\n",
       "      <th>read</th>\n",
       "      <th>many</th>\n",
       "      <th>away</th>\n",
       "      <th>someone</th>\n",
       "      <th>most</th>\n",
       "    </tr>\n",
       "  </thead>\n",
       "  <tbody>\n",
       "    <tr>\n",
       "      <th>0</th>\n",
       "      <td>2237917</td>\n",
       "      <td>1</td>\n",
       "      <td>48</td>\n",
       "      <td>urlLink Are the Browser Wars Back? - How Mozil...</td>\n",
       "      <td>(urlLink, Are, the, Browser, Wars, Back, ?, -,...</td>\n",
       "      <td>6</td>\n",
       "      <td>0</td>\n",
       "      <td>0</td>\n",
       "      <td>0</td>\n",
       "      <td>0</td>\n",
       "      <td>...</td>\n",
       "      <td>0</td>\n",
       "      <td>0</td>\n",
       "      <td>0</td>\n",
       "      <td>0</td>\n",
       "      <td>0</td>\n",
       "      <td>0</td>\n",
       "      <td>0</td>\n",
       "      <td>0</td>\n",
       "      <td>0</td>\n",
       "      <td>0</td>\n",
       "    </tr>\n",
       "    <tr>\n",
       "      <th>1</th>\n",
       "      <td>2237917</td>\n",
       "      <td>1</td>\n",
       "      <td>48</td>\n",
       "      <td>urlLink Feds warn against Microsoft's browser ...</td>\n",
       "      <td>(urlLink, Feds, warn, against, Microsoft, 's, ...</td>\n",
       "      <td>6</td>\n",
       "      <td>0</td>\n",
       "      <td>0</td>\n",
       "      <td>0</td>\n",
       "      <td>0</td>\n",
       "      <td>...</td>\n",
       "      <td>0</td>\n",
       "      <td>0</td>\n",
       "      <td>0</td>\n",
       "      <td>0</td>\n",
       "      <td>0</td>\n",
       "      <td>0</td>\n",
       "      <td>0</td>\n",
       "      <td>0</td>\n",
       "      <td>0</td>\n",
       "      <td>0</td>\n",
       "    </tr>\n",
       "    <tr>\n",
       "      <th>2</th>\n",
       "      <td>2237917</td>\n",
       "      <td>1</td>\n",
       "      <td>48</td>\n",
       "      <td>urlLink Business 2.0 - Magazine Article - The ...</td>\n",
       "      <td>(urlLink, Business, 2.0, -, Magazine, Article,...</td>\n",
       "      <td>6</td>\n",
       "      <td>0</td>\n",
       "      <td>0</td>\n",
       "      <td>0</td>\n",
       "      <td>0</td>\n",
       "      <td>...</td>\n",
       "      <td>0</td>\n",
       "      <td>0</td>\n",
       "      <td>0</td>\n",
       "      <td>0</td>\n",
       "      <td>0</td>\n",
       "      <td>0</td>\n",
       "      <td>0</td>\n",
       "      <td>0</td>\n",
       "      <td>0</td>\n",
       "      <td>0</td>\n",
       "    </tr>\n",
       "    <tr>\n",
       "      <th>3</th>\n",
       "      <td>2237917</td>\n",
       "      <td>1</td>\n",
       "      <td>48</td>\n",
       "      <td>urlLink Fast Growth Database NICE!!! GHA Techn...</td>\n",
       "      <td>(urlLink, Fast, Growth, Database, NICE, !, !, ...</td>\n",
       "      <td>6</td>\n",
       "      <td>0</td>\n",
       "      <td>0</td>\n",
       "      <td>0</td>\n",
       "      <td>0</td>\n",
       "      <td>...</td>\n",
       "      <td>0</td>\n",
       "      <td>0</td>\n",
       "      <td>0</td>\n",
       "      <td>0</td>\n",
       "      <td>0</td>\n",
       "      <td>0</td>\n",
       "      <td>0</td>\n",
       "      <td>0</td>\n",
       "      <td>0</td>\n",
       "      <td>0</td>\n",
       "    </tr>\n",
       "    <tr>\n",
       "      <th>4</th>\n",
       "      <td>2237917</td>\n",
       "      <td>1</td>\n",
       "      <td>48</td>\n",
       "      <td>urlLink Survey: Dell customer satisfaction uns...</td>\n",
       "      <td>(urlLink, Survey, :, Dell, customer, satisfact...</td>\n",
       "      <td>6</td>\n",
       "      <td>0</td>\n",
       "      <td>0</td>\n",
       "      <td>0</td>\n",
       "      <td>0</td>\n",
       "      <td>...</td>\n",
       "      <td>0</td>\n",
       "      <td>0</td>\n",
       "      <td>0</td>\n",
       "      <td>0</td>\n",
       "      <td>0</td>\n",
       "      <td>0</td>\n",
       "      <td>0</td>\n",
       "      <td>0</td>\n",
       "      <td>0</td>\n",
       "      <td>0</td>\n",
       "    </tr>\n",
       "  </tbody>\n",
       "</table>\n",
       "<p>5 rows × 193 columns</p>\n",
       "</div>"
      ],
      "text/plain": [
       "  author_id  gender age                                               post  \\\n",
       "0   2237917       1  48  urlLink Are the Browser Wars Back? - How Mozil...   \n",
       "1   2237917       1  48  urlLink Feds warn against Microsoft's browser ...   \n",
       "2   2237917       1  48  urlLink Business 2.0 - Magazine Article - The ...   \n",
       "3   2237917       1  48  urlLink Fast Growth Database NICE!!! GHA Techn...   \n",
       "4   2237917       1  48  urlLink Survey: Dell customer satisfaction uns...   \n",
       "\n",
       "                                              parsed  month  day  year  \\\n",
       "0  (urlLink, Are, the, Browser, Wars, Back, ?, -,...      6    0     0   \n",
       "1  (urlLink, Feds, warn, against, Microsoft, 's, ...      6    0     0   \n",
       "2  (urlLink, Business, 2.0, -, Magazine, Article,...      6    0     0   \n",
       "3  (urlLink, Fast, Growth, Database, NICE, !, !, ...      6    0     0   \n",
       "4  (urlLink, Survey, :, Dell, customer, satisfact...      6    0     0   \n",
       "\n",
       "   industry_Advertising  industry_Agriculture  ...   keep  end  write  fun  \\\n",
       "0                     0                     0  ...      0    0      0    0   \n",
       "1                     0                     0  ...      0    0      0    0   \n",
       "2                     0                     0  ...      0    0      0    0   \n",
       "3                     0                     0  ...      0    0      0    0   \n",
       "4                     0                     0  ...      0    0      0    0   \n",
       "\n",
       "   world  read  many  away  someone  most  \n",
       "0      0     0     0     0        0     0  \n",
       "1      0     0     0     0        0     0  \n",
       "2      0     0     0     0        0     0  \n",
       "3      0     0     0     0        0     0  \n",
       "4      0     0     0     0        0     0  \n",
       "\n",
       "[5 rows x 193 columns]"
      ]
     },
     "execution_count": 39,
     "metadata": {},
     "output_type": "execute_result"
    }
   ],
   "source": [
    "df.head()"
   ]
  },
  {
   "cell_type": "markdown",
   "metadata": {},
   "source": [
    "I'm going to go through and create a correlation matrix, and then drop words with high correlations (over 80%)."
   ]
  },
  {
   "cell_type": "code",
   "execution_count": 40,
   "metadata": {},
   "outputs": [],
   "source": [
    "corr_m = df.drop(['post', 'parsed'],1).corr()"
   ]
  },
  {
   "cell_type": "code",
   "execution_count": 41,
   "metadata": {
    "scrolled": true
   },
   "outputs": [
    {
     "name": "stdout",
     "output_type": "stream",
     "text": [
      "['pronoun_count', 'again']\n"
     ]
    }
   ],
   "source": [
    "flds = corr_m.columns.values\n",
    "\n",
    "to_drop = []\n",
    "\n",
    "for i in range(corr_m.shape[1]):\n",
    "    for j in range(i+1, corr_m.shape[1]):\n",
    "        if corr_m.iloc[i,j] > 0.90:\n",
    "            if flds[i] not in to_drop:\n",
    "                to_drop.append(flds[i])\n",
    "\n",
    "\n",
    "#even = range(len(to_drop)-1, 0,-2)\n",
    "\n",
    "#for i in even:\n",
    "#    to_drop.remove(to_drop[i])\n",
    "print(to_drop)"
   ]
  },
  {
   "cell_type": "code",
   "execution_count": 42,
   "metadata": {},
   "outputs": [],
   "source": [
    "# let's drop them\n",
    "\n",
    "df.drop(to_drop,1, inplace=True)"
   ]
  },
  {
   "cell_type": "code",
   "execution_count": 43,
   "metadata": {},
   "outputs": [
    {
     "data": {
      "text/html": [
       "<div>\n",
       "<style scoped>\n",
       "    .dataframe tbody tr th:only-of-type {\n",
       "        vertical-align: middle;\n",
       "    }\n",
       "\n",
       "    .dataframe tbody tr th {\n",
       "        vertical-align: top;\n",
       "    }\n",
       "\n",
       "    .dataframe thead th {\n",
       "        text-align: right;\n",
       "    }\n",
       "</style>\n",
       "<table border=\"1\" class=\"dataframe\">\n",
       "  <thead>\n",
       "    <tr style=\"text-align: right;\">\n",
       "      <th></th>\n",
       "      <th>author_id</th>\n",
       "      <th>gender</th>\n",
       "      <th>age</th>\n",
       "      <th>post</th>\n",
       "      <th>parsed</th>\n",
       "      <th>month</th>\n",
       "      <th>day</th>\n",
       "      <th>year</th>\n",
       "      <th>industry_Advertising</th>\n",
       "      <th>industry_Agriculture</th>\n",
       "      <th>...</th>\n",
       "      <th>keep</th>\n",
       "      <th>end</th>\n",
       "      <th>write</th>\n",
       "      <th>fun</th>\n",
       "      <th>world</th>\n",
       "      <th>read</th>\n",
       "      <th>many</th>\n",
       "      <th>away</th>\n",
       "      <th>someone</th>\n",
       "      <th>most</th>\n",
       "    </tr>\n",
       "  </thead>\n",
       "  <tbody>\n",
       "    <tr>\n",
       "      <th>0</th>\n",
       "      <td>2237917</td>\n",
       "      <td>1</td>\n",
       "      <td>48</td>\n",
       "      <td>urlLink Are the Browser Wars Back? - How Mozil...</td>\n",
       "      <td>(urlLink, Are, the, Browser, Wars, Back, ?, -,...</td>\n",
       "      <td>6</td>\n",
       "      <td>0</td>\n",
       "      <td>0</td>\n",
       "      <td>0</td>\n",
       "      <td>0</td>\n",
       "      <td>...</td>\n",
       "      <td>0</td>\n",
       "      <td>0</td>\n",
       "      <td>0</td>\n",
       "      <td>0</td>\n",
       "      <td>0</td>\n",
       "      <td>0</td>\n",
       "      <td>0</td>\n",
       "      <td>0</td>\n",
       "      <td>0</td>\n",
       "      <td>0</td>\n",
       "    </tr>\n",
       "    <tr>\n",
       "      <th>1</th>\n",
       "      <td>2237917</td>\n",
       "      <td>1</td>\n",
       "      <td>48</td>\n",
       "      <td>urlLink Feds warn against Microsoft's browser ...</td>\n",
       "      <td>(urlLink, Feds, warn, against, Microsoft, 's, ...</td>\n",
       "      <td>6</td>\n",
       "      <td>0</td>\n",
       "      <td>0</td>\n",
       "      <td>0</td>\n",
       "      <td>0</td>\n",
       "      <td>...</td>\n",
       "      <td>0</td>\n",
       "      <td>0</td>\n",
       "      <td>0</td>\n",
       "      <td>0</td>\n",
       "      <td>0</td>\n",
       "      <td>0</td>\n",
       "      <td>0</td>\n",
       "      <td>0</td>\n",
       "      <td>0</td>\n",
       "      <td>0</td>\n",
       "    </tr>\n",
       "    <tr>\n",
       "      <th>2</th>\n",
       "      <td>2237917</td>\n",
       "      <td>1</td>\n",
       "      <td>48</td>\n",
       "      <td>urlLink Business 2.0 - Magazine Article - The ...</td>\n",
       "      <td>(urlLink, Business, 2.0, -, Magazine, Article,...</td>\n",
       "      <td>6</td>\n",
       "      <td>0</td>\n",
       "      <td>0</td>\n",
       "      <td>0</td>\n",
       "      <td>0</td>\n",
       "      <td>...</td>\n",
       "      <td>0</td>\n",
       "      <td>0</td>\n",
       "      <td>0</td>\n",
       "      <td>0</td>\n",
       "      <td>0</td>\n",
       "      <td>0</td>\n",
       "      <td>0</td>\n",
       "      <td>0</td>\n",
       "      <td>0</td>\n",
       "      <td>0</td>\n",
       "    </tr>\n",
       "    <tr>\n",
       "      <th>3</th>\n",
       "      <td>2237917</td>\n",
       "      <td>1</td>\n",
       "      <td>48</td>\n",
       "      <td>urlLink Fast Growth Database NICE!!! GHA Techn...</td>\n",
       "      <td>(urlLink, Fast, Growth, Database, NICE, !, !, ...</td>\n",
       "      <td>6</td>\n",
       "      <td>0</td>\n",
       "      <td>0</td>\n",
       "      <td>0</td>\n",
       "      <td>0</td>\n",
       "      <td>...</td>\n",
       "      <td>0</td>\n",
       "      <td>0</td>\n",
       "      <td>0</td>\n",
       "      <td>0</td>\n",
       "      <td>0</td>\n",
       "      <td>0</td>\n",
       "      <td>0</td>\n",
       "      <td>0</td>\n",
       "      <td>0</td>\n",
       "      <td>0</td>\n",
       "    </tr>\n",
       "    <tr>\n",
       "      <th>4</th>\n",
       "      <td>2237917</td>\n",
       "      <td>1</td>\n",
       "      <td>48</td>\n",
       "      <td>urlLink Survey: Dell customer satisfaction uns...</td>\n",
       "      <td>(urlLink, Survey, :, Dell, customer, satisfact...</td>\n",
       "      <td>6</td>\n",
       "      <td>0</td>\n",
       "      <td>0</td>\n",
       "      <td>0</td>\n",
       "      <td>0</td>\n",
       "      <td>...</td>\n",
       "      <td>0</td>\n",
       "      <td>0</td>\n",
       "      <td>0</td>\n",
       "      <td>0</td>\n",
       "      <td>0</td>\n",
       "      <td>0</td>\n",
       "      <td>0</td>\n",
       "      <td>0</td>\n",
       "      <td>0</td>\n",
       "      <td>0</td>\n",
       "    </tr>\n",
       "  </tbody>\n",
       "</table>\n",
       "<p>5 rows × 191 columns</p>\n",
       "</div>"
      ],
      "text/plain": [
       "  author_id  gender age                                               post  \\\n",
       "0   2237917       1  48  urlLink Are the Browser Wars Back? - How Mozil...   \n",
       "1   2237917       1  48  urlLink Feds warn against Microsoft's browser ...   \n",
       "2   2237917       1  48  urlLink Business 2.0 - Magazine Article - The ...   \n",
       "3   2237917       1  48  urlLink Fast Growth Database NICE!!! GHA Techn...   \n",
       "4   2237917       1  48  urlLink Survey: Dell customer satisfaction uns...   \n",
       "\n",
       "                                              parsed  month  day  year  \\\n",
       "0  (urlLink, Are, the, Browser, Wars, Back, ?, -,...      6    0     0   \n",
       "1  (urlLink, Feds, warn, against, Microsoft, 's, ...      6    0     0   \n",
       "2  (urlLink, Business, 2.0, -, Magazine, Article,...      6    0     0   \n",
       "3  (urlLink, Fast, Growth, Database, NICE, !, !, ...      6    0     0   \n",
       "4  (urlLink, Survey, :, Dell, customer, satisfact...      6    0     0   \n",
       "\n",
       "   industry_Advertising  industry_Agriculture  ...   keep  end  write  fun  \\\n",
       "0                     0                     0  ...      0    0      0    0   \n",
       "1                     0                     0  ...      0    0      0    0   \n",
       "2                     0                     0  ...      0    0      0    0   \n",
       "3                     0                     0  ...      0    0      0    0   \n",
       "4                     0                     0  ...      0    0      0    0   \n",
       "\n",
       "   world  read  many  away  someone  most  \n",
       "0      0     0     0     0        0     0  \n",
       "1      0     0     0     0        0     0  \n",
       "2      0     0     0     0        0     0  \n",
       "3      0     0     0     0        0     0  \n",
       "4      0     0     0     0        0     0  \n",
       "\n",
       "[5 rows x 191 columns]"
      ]
     },
     "execution_count": 43,
     "metadata": {},
     "output_type": "execute_result"
    }
   ],
   "source": [
    "df.head()"
   ]
  },
  {
   "cell_type": "markdown",
   "metadata": {},
   "source": [
    "# Part 2 - Test set\n",
    "\n",
    "Reserve 25% of your corpus as a test set.\n"
   ]
  },
  {
   "cell_type": "code",
   "execution_count": 44,
   "metadata": {},
   "outputs": [],
   "source": [
    "X = df.drop(['author_id','post','parsed'], 1)\n",
    "Y = df['author_id']\n",
    "\n",
    "X_train, X_test, y_train, y_test = train_test_split(X,Y, test_size=0.25, random_state=0)\n"
   ]
  },
  {
   "cell_type": "markdown",
   "metadata": {},
   "source": [
    "# Part 3 - Clustering\n",
    "\n",
    "The first technique is to create a series of clusters. Try several techniques and pick the one you think best represents your data. Make sure there is a narrative and reasoning around why you have chosen the given clusters. Are authors consistently grouped into the same cluster?\n",
    "\n",
    "<hr width=\"50%\"/>\n",
    "\n",
    "The clustering algorithms I'm going to use - K means and mean shift - require normlized data, which will be the next step. "
   ]
  },
  {
   "cell_type": "code",
   "execution_count": 45,
   "metadata": {},
   "outputs": [],
   "source": [
    "from sklearn.preprocessing import normalize"
   ]
  },
  {
   "cell_type": "code",
   "execution_count": 46,
   "metadata": {},
   "outputs": [],
   "source": [
    "X_train_norm = normalize(X_train)"
   ]
  },
  {
   "cell_type": "markdown",
   "metadata": {},
   "source": [
    "## Clustering - K Means\n"
   ]
  },
  {
   "cell_type": "code",
   "execution_count": 47,
   "metadata": {},
   "outputs": [],
   "source": [
    "from sklearn.cluster import KMeans\n",
    "from sklearn.decomposition import PCA\n",
    "from sklearn.cluster import MiniBatchKMeans"
   ]
  },
  {
   "cell_type": "markdown",
   "metadata": {},
   "source": [
    "I'll try k means with different values for n, number of clusters. First I'm trying this with 5 clusters."
   ]
  },
  {
   "cell_type": "code",
   "execution_count": 48,
   "metadata": {},
   "outputs": [
    {
     "data": {
      "image/png": "[encoded data removed]",
      "text/plain": [
       "<Figure size 432x288 with 1 Axes>"
      ]
     },
     "metadata": {},
     "output_type": "display_data"
    },
    {
     "name": "stdout",
     "output_type": "stream",
     "text": [
      "Time: 0.6430840492248535 seconds \n",
      "Comparing k-means clusters against the data:\n",
      "author_id  1263465  1435222  1738456  1967875  2237917  2244144  2556543  \\\n",
      "row_0                                                                      \n",
      "0               25        2        0       44       25       32       20   \n",
      "1                0        1        0        0        0        0        0   \n",
      "2                0        0       10        1        0        3        0   \n",
      "3                0        0        4        0        0        0        0   \n",
      "4                8        0        1        2        0       10        1   \n",
      "\n",
      "author_id  2843565  2899838  2915457   ...    4236222  4264657  4274812  \\\n",
      "row_0                                  ...                                \n",
      "0               14        6        1   ...          0        0        0   \n",
      "1                0        0        0   ...          0        0        0   \n",
      "2                0        0        1   ...          2        1        0   \n",
      "3                0        0        0   ...          0        2        0   \n",
      "4                0        0        2   ...          1        1        1   \n",
      "\n",
      "author_id  4277498  4278196  4300739  4305115  4315343  4322723  579857  \n",
      "row_0                                                                    \n",
      "0                1        0        2        0        0        0       6  \n",
      "1                0        0        0        0        0        0       0  \n",
      "2                0        0        0        1        1        1       1  \n",
      "3                0        0        0        0        0        0       0  \n",
      "4                1        1        0        0        1        0       6  \n",
      "\n",
      "[5 rows x 163 columns]\n"
     ]
    }
   ],
   "source": [
    "start = time()\n",
    "# Calculate predicted values.\n",
    "y_pred = KMeans(n_clusters=5, random_state=42).fit_predict(X_train_norm)\n",
    "\n",
    "# Plot the solution.\n",
    "plt.scatter(X_train_norm[:, 0], X_train_norm[:, 1], c=y_pred)\n",
    "plt.show()\n",
    "\n",
    "print('Time: {} seconds '.format(time()-start))\n",
    "# Check the solution against the data.\n",
    "print('Comparing k-means clusters against the data:')\n",
    "print(pd.crosstab(y_pred, y_train))"
   ]
  },
  {
   "cell_type": "markdown",
   "metadata": {},
   "source": [
    "This looks pretty good, at most an author is spread across 3 clusters, with 1 or 2 being the average. Let's try another amount of clusters to see if performance can be improved. I tried 2 clusters already and it was less effective."
   ]
  },
  {
   "cell_type": "code",
   "execution_count": 49,
   "metadata": {},
   "outputs": [
    {
     "data": {
      "image/png": "[encoded data removed]",
      "text/plain": [
       "<Figure size 432x288 with 1 Axes>"
      ]
     },
     "metadata": {},
     "output_type": "display_data"
    },
    {
     "name": "stdout",
     "output_type": "stream",
     "text": [
      "Time: 0.4547922611236572 seconds \n",
      "Comparing k-means clusters against the data:\n",
      "author_id  1263465  1435222  1738456  1967875  2237917  2244144  2556543  \\\n",
      "row_0                                                                      \n",
      "0               33        2        1       46       25       41       21   \n",
      "1                0        1        0        0        0        0        0   \n",
      "2                0        0       14        1        0        4        0   \n",
      "\n",
      "author_id  2843565  2899838  2915457   ...    4236222  4264657  4274812  \\\n",
      "row_0                                  ...                                \n",
      "0               14        6        3   ...          0        1        1   \n",
      "1                0        0        0   ...          0        0        0   \n",
      "2                0        0        1   ...          3        3        0   \n",
      "\n",
      "author_id  4277498  4278196  4300739  4305115  4315343  4322723  579857  \n",
      "row_0                                                                    \n",
      "0                2        1        2        0        1        0      11  \n",
      "1                0        0        0        0        0        0       0  \n",
      "2                0        0        0        1        1        1       2  \n",
      "\n",
      "[3 rows x 163 columns]\n"
     ]
    }
   ],
   "source": [
    "start = time()\n",
    "# Calculate predicted values.\n",
    "y_pred = KMeans(n_clusters=3, random_state=42).fit_predict(X_train_norm)\n",
    "\n",
    "#km = KMeans(n_clusters=num_clusters)\n",
    "\n",
    "# Plot the solution.\n",
    "plt.scatter(X_train_norm[:, 0], X_train_norm[:, 1], c=y_pred)\n",
    "plt.show()\n",
    "\n",
    "print('Time: {} seconds '.format(time()-start))\n",
    "# Check the solution against the data.\n",
    "print('Comparing k-means clusters against the data:')\n",
    "print(pd.crosstab(y_pred, y_train))\n",
    "\n",
    "# going to add the info back into the dataframe later\n",
    "kmeans_clusters = y_pred"
   ]
  },
  {
   "cell_type": "markdown",
   "metadata": {},
   "source": [
    "3 clusters seems pretty comparable to 5. Let's try one more value of n."
   ]
  },
  {
   "cell_type": "code",
   "execution_count": 50,
   "metadata": {
    "scrolled": true
   },
   "outputs": [
    {
     "data": {
      "image/png": "[encoded data removed]",
      "text/plain": [
       "<Figure size 432x288 with 1 Axes>"
      ]
     },
     "metadata": {},
     "output_type": "display_data"
    },
    {
     "name": "stdout",
     "output_type": "stream",
     "text": [
      "Time: 0.6260800361633301 seconds \n",
      "Comparing k-means clusters against the data:\n",
      "author_id  1263465  1435222  1738456  1967875  2237917  2244144  2556543  \\\n",
      "row_0                                                                      \n",
      "0               10        1        0        7        0        8        3   \n",
      "1                1        0        3        0        0        7        0   \n",
      "2                0        1        0        0        0        0        0   \n",
      "3                0        0        3        0        0        0        0   \n",
      "4                0        0        0        0       25        0        0   \n",
      "5                0        0        0        0        0        0        0   \n",
      "6               22        1        0       39        0       30       18   \n",
      "7                0        0        9        1        0        0        0   \n",
      "\n",
      "author_id  2843565  2899838  2915457   ...    4236222  4264657  4274812  \\\n",
      "row_0                                  ...                                \n",
      "0                0        0        2   ...          0        1        0   \n",
      "1                0        0        1   ...          3        0        1   \n",
      "2                0        0        0   ...          0        0        0   \n",
      "3                0        0        0   ...          0        2        0   \n",
      "4                0        0        1   ...          0        0        0   \n",
      "5                0        0        0   ...          0        0        0   \n",
      "6               14        6        0   ...          0        0        0   \n",
      "7                0        0        0   ...          0        1        0   \n",
      "\n",
      "author_id  4277498  4278196  4300739  4305115  4315343  4322723  579857  \n",
      "row_0                                                                    \n",
      "0                0        1        0        0        0        0       5  \n",
      "1                1        0        0        0        2        1       4  \n",
      "2                0        0        0        0        0        0       0  \n",
      "3                0        0        0        0        0        0       0  \n",
      "4                1        0        0        0        0        0       0  \n",
      "5                0        0        0        0        0        0       0  \n",
      "6                0        0        2        0        0        0       4  \n",
      "7                0        0        0        1        0        0       0  \n",
      "\n",
      "[8 rows x 163 columns]\n"
     ]
    }
   ],
   "source": [
    "\n",
    "start = time()\n",
    "# Calculate predicted values.\n",
    "y_pred = KMeans(n_clusters=8, random_state=42).fit_predict(X_train_norm)\n",
    "\n",
    "# Plot the solution.\n",
    "plt.scatter(X_train_norm[:, 0], X_train_norm[:, 1], c=y_pred)\n",
    "plt.show()\n",
    "\n",
    "print('Time: {} seconds '.format(time()-start))\n",
    "# Check the solution against the data.\n",
    "print('Comparing k-means clusters against the data:')\n",
    "print(pd.crosstab(y_pred, y_train))"
   ]
  },
  {
   "cell_type": "markdown",
   "metadata": {},
   "source": [
    "8 clusters looks pretty bad to me compared to the others. Let's try mean shift and then move on with whichever is better -  kmeans with 3 clusters, or meanshift."
   ]
  },
  {
   "cell_type": "code",
   "execution_count": 51,
   "metadata": {},
   "outputs": [
    {
     "name": "stdout",
     "output_type": "stream",
     "text": [
      "Number of estimated clusters: 1\n"
     ]
    }
   ],
   "source": [
    "from sklearn.cluster import MeanShift, estimate_bandwidth\n",
    "\n",
    "# Here we set the bandwidth. This function automatically derives a bandwidth\n",
    "# number based on an inspection of the distances among points in the data.\n",
    "bandwidth = estimate_bandwidth(X_train_norm, quantile=0.2, n_samples=500)\n",
    "\n",
    "# Declare and fit the model.\n",
    "ms = MeanShift(bandwidth=bandwidth, bin_seeding=True)\n",
    "ms.fit(X_train_norm)\n",
    "\n",
    "# Extract cluster assignments for each data point.\n",
    "labels = ms.labels_\n",
    "\n",
    "# Coordinates of the cluster centers.\n",
    "cluster_centers = ms.cluster_centers_\n",
    "\n",
    "# Count our clusters.\n",
    "n_clusters_ = len(np.unique(labels))\n",
    "\n",
    "print(\"Number of estimated clusters: {}\".format(n_clusters_))\n"
   ]
  },
  {
   "cell_type": "code",
   "execution_count": 52,
   "metadata": {},
   "outputs": [
    {
     "data": {
      "image/png": "[encoded data removed]",
      "text/plain": [
       "<Figure size 432x288 with 1 Axes>"
      ]
     },
     "metadata": {},
     "output_type": "display_data"
    },
    {
     "name": "stdout",
     "output_type": "stream",
     "text": [
      "Comparing the assigned categories to the ones in the data:\n",
      "col_0       0\n",
      "author_id    \n",
      "1263465    33\n",
      "1435222     3\n",
      "1738456    15\n",
      "1967875    47\n",
      "2237917    25\n",
      "2244144    45\n",
      "2556543    21\n",
      "2843565    14\n",
      "2899838     6\n",
      "2915457     4\n",
      "2974921    63\n",
      "2994342     7\n",
      "3047815     2\n",
      "3057452    12\n",
      "3132605    22\n"
     ]
    }
   ],
   "source": [
    "plt.scatter(X_train_norm[:, 0], X_train_norm[:, 1], c=labels)\n",
    "plt.show()\n",
    "\n",
    "print('Comparing the assigned categories to the ones in the data:')\n",
    "print(pd.crosstab(y_train,labels).head(15))"
   ]
  },
  {
   "cell_type": "code",
   "execution_count": 53,
   "metadata": {},
   "outputs": [],
   "source": [
    "clusters = ms.labels_.tolist()"
   ]
  },
  {
   "cell_type": "code",
   "execution_count": 54,
   "metadata": {},
   "outputs": [
    {
     "name": "stdout",
     "output_type": "stream",
     "text": [
      "1820 {0}\n"
     ]
    }
   ],
   "source": [
    "print(len(clusters), set(clusters))"
   ]
  },
  {
   "cell_type": "code",
   "execution_count": 55,
   "metadata": {},
   "outputs": [
    {
     "name": "stderr",
     "output_type": "stream",
     "text": [
      "/anaconda3/lib/python3.6/site-packages/ipykernel_launcher.py:3: SettingWithCopyWarning: \n",
      "A value is trying to be set on a copy of a slice from a DataFrame.\n",
      "Try using .loc[row_indexer,col_indexer] = value instead\n",
      "\n",
      "See the caveats in the documentation: http://pandas.pydata.org/pandas-docs/stable/indexing.html#indexing-view-versus-copy\n",
      "  This is separate from the ipykernel package so we can avoid doing imports until\n"
     ]
    }
   ],
   "source": [
    "# put the clusters genereated from the Mean shift algorithm into the dataframe so we\n",
    "# can analyze the clusters a little better\n",
    "X_train['cluster'] = clusters"
   ]
  },
  {
   "cell_type": "code",
   "execution_count": 56,
   "metadata": {},
   "outputs": [
    {
     "name": "stderr",
     "output_type": "stream",
     "text": [
      "/anaconda3/lib/python3.6/site-packages/ipykernel_launcher.py:2: SettingWithCopyWarning: \n",
      "A value is trying to be set on a copy of a slice from a DataFrame.\n",
      "Try using .loc[row_indexer,col_indexer] = value instead\n",
      "\n",
      "See the caveats in the documentation: http://pandas.pydata.org/pandas-docs/stable/indexing.html#indexing-view-versus-copy\n",
      "  \n"
     ]
    }
   ],
   "source": [
    "\n",
    "X_train['kmeans_cluster'] = kmeans_clusters"
   ]
  },
  {
   "cell_type": "code",
   "execution_count": 57,
   "metadata": {},
   "outputs": [
    {
     "data": {
      "text/html": [
       "<div>\n",
       "<style scoped>\n",
       "    .dataframe tbody tr th:only-of-type {\n",
       "        vertical-align: middle;\n",
       "    }\n",
       "\n",
       "    .dataframe tbody tr th {\n",
       "        vertical-align: top;\n",
       "    }\n",
       "\n",
       "    .dataframe thead th {\n",
       "        text-align: right;\n",
       "    }\n",
       "</style>\n",
       "<table border=\"1\" class=\"dataframe\">\n",
       "  <thead>\n",
       "    <tr style=\"text-align: right;\">\n",
       "      <th></th>\n",
       "      <th>gender</th>\n",
       "      <th>age</th>\n",
       "      <th>month</th>\n",
       "      <th>day</th>\n",
       "      <th>year</th>\n",
       "      <th>industry_Advertising</th>\n",
       "      <th>industry_Agriculture</th>\n",
       "      <th>industry_Architecture</th>\n",
       "      <th>industry_Arts</th>\n",
       "      <th>industry_Banking</th>\n",
       "      <th>...</th>\n",
       "      <th>write</th>\n",
       "      <th>fun</th>\n",
       "      <th>world</th>\n",
       "      <th>read</th>\n",
       "      <th>many</th>\n",
       "      <th>away</th>\n",
       "      <th>someone</th>\n",
       "      <th>most</th>\n",
       "      <th>cluster</th>\n",
       "      <th>kmeans_cluster</th>\n",
       "    </tr>\n",
       "  </thead>\n",
       "  <tbody>\n",
       "    <tr>\n",
       "      <th>1380</th>\n",
       "      <td>1</td>\n",
       "      <td>26</td>\n",
       "      <td>6</td>\n",
       "      <td>0</td>\n",
       "      <td>0</td>\n",
       "      <td>0</td>\n",
       "      <td>0</td>\n",
       "      <td>0</td>\n",
       "      <td>0</td>\n",
       "      <td>0</td>\n",
       "      <td>...</td>\n",
       "      <td>0</td>\n",
       "      <td>0</td>\n",
       "      <td>0</td>\n",
       "      <td>1</td>\n",
       "      <td>0</td>\n",
       "      <td>0</td>\n",
       "      <td>0</td>\n",
       "      <td>0</td>\n",
       "      <td>0</td>\n",
       "      <td>0</td>\n",
       "    </tr>\n",
       "    <tr>\n",
       "      <th>712</th>\n",
       "      <td>0</td>\n",
       "      <td>15</td>\n",
       "      <td>7</td>\n",
       "      <td>2</td>\n",
       "      <td>0</td>\n",
       "      <td>0</td>\n",
       "      <td>0</td>\n",
       "      <td>0</td>\n",
       "      <td>0</td>\n",
       "      <td>0</td>\n",
       "      <td>...</td>\n",
       "      <td>2</td>\n",
       "      <td>0</td>\n",
       "      <td>0</td>\n",
       "      <td>0</td>\n",
       "      <td>0</td>\n",
       "      <td>1</td>\n",
       "      <td>0</td>\n",
       "      <td>0</td>\n",
       "      <td>0</td>\n",
       "      <td>0</td>\n",
       "    </tr>\n",
       "    <tr>\n",
       "      <th>31</th>\n",
       "      <td>1</td>\n",
       "      <td>48</td>\n",
       "      <td>7</td>\n",
       "      <td>0</td>\n",
       "      <td>0</td>\n",
       "      <td>0</td>\n",
       "      <td>0</td>\n",
       "      <td>0</td>\n",
       "      <td>0</td>\n",
       "      <td>0</td>\n",
       "      <td>...</td>\n",
       "      <td>0</td>\n",
       "      <td>0</td>\n",
       "      <td>0</td>\n",
       "      <td>0</td>\n",
       "      <td>0</td>\n",
       "      <td>0</td>\n",
       "      <td>0</td>\n",
       "      <td>0</td>\n",
       "      <td>0</td>\n",
       "      <td>0</td>\n",
       "    </tr>\n",
       "    <tr>\n",
       "      <th>1969</th>\n",
       "      <td>1</td>\n",
       "      <td>15</td>\n",
       "      <td>8</td>\n",
       "      <td>1</td>\n",
       "      <td>0</td>\n",
       "      <td>0</td>\n",
       "      <td>0</td>\n",
       "      <td>0</td>\n",
       "      <td>0</td>\n",
       "      <td>0</td>\n",
       "      <td>...</td>\n",
       "      <td>1</td>\n",
       "      <td>0</td>\n",
       "      <td>0</td>\n",
       "      <td>0</td>\n",
       "      <td>0</td>\n",
       "      <td>0</td>\n",
       "      <td>0</td>\n",
       "      <td>1</td>\n",
       "      <td>0</td>\n",
       "      <td>2</td>\n",
       "    </tr>\n",
       "    <tr>\n",
       "      <th>655</th>\n",
       "      <td>1</td>\n",
       "      <td>17</td>\n",
       "      <td>7</td>\n",
       "      <td>0</td>\n",
       "      <td>0</td>\n",
       "      <td>0</td>\n",
       "      <td>0</td>\n",
       "      <td>0</td>\n",
       "      <td>0</td>\n",
       "      <td>0</td>\n",
       "      <td>...</td>\n",
       "      <td>0</td>\n",
       "      <td>0</td>\n",
       "      <td>0</td>\n",
       "      <td>0</td>\n",
       "      <td>0</td>\n",
       "      <td>0</td>\n",
       "      <td>0</td>\n",
       "      <td>0</td>\n",
       "      <td>0</td>\n",
       "      <td>0</td>\n",
       "    </tr>\n",
       "  </tbody>\n",
       "</table>\n",
       "<p>5 rows × 190 columns</p>\n",
       "</div>"
      ],
      "text/plain": [
       "      gender age  month  day  year  industry_Advertising  \\\n",
       "1380       1  26      6    0     0                     0   \n",
       "712        0  15      7    2     0                     0   \n",
       "31         1  48      7    0     0                     0   \n",
       "1969       1  15      8    1     0                     0   \n",
       "655        1  17      7    0     0                     0   \n",
       "\n",
       "      industry_Agriculture  industry_Architecture  industry_Arts  \\\n",
       "1380                     0                      0              0   \n",
       "712                      0                      0              0   \n",
       "31                       0                      0              0   \n",
       "1969                     0                      0              0   \n",
       "655                      0                      0              0   \n",
       "\n",
       "      industry_Banking       ...        write  fun  world  read  many  away  \\\n",
       "1380                 0       ...            0    0      0     1     0     0   \n",
       "712                  0       ...            2    0      0     0     0     1   \n",
       "31                   0       ...            0    0      0     0     0     0   \n",
       "1969                 0       ...            1    0      0     0     0     0   \n",
       "655                  0       ...            0    0      0     0     0     0   \n",
       "\n",
       "      someone  most  cluster  kmeans_cluster  \n",
       "1380        0     0        0               0  \n",
       "712         0     0        0               0  \n",
       "31          0     0        0               0  \n",
       "1969        0     1        0               2  \n",
       "655         0     0        0               0  \n",
       "\n",
       "[5 rows x 190 columns]"
      ]
     },
     "execution_count": 57,
     "metadata": {},
     "output_type": "execute_result"
    }
   ],
   "source": [
    "X_train.head()"
   ]
  },
  {
   "cell_type": "code",
   "execution_count": null,
   "metadata": {},
   "outputs": [],
   "source": []
  },
  {
   "cell_type": "markdown",
   "metadata": {},
   "source": [
    "# Part 4 - Features and models\n",
    "\n",
    "Next, perform some unsupervised feature generation and selection using the techniques covered in this unit and elsewhere in the course. Using those features then build models to attempt to classify your texts by author. Try different permutations of unsupervised and supervised techniques to see which combinations have the best performance."
   ]
  },
  {
   "cell_type": "code",
   "execution_count": 58,
   "metadata": {},
   "outputs": [
    {
     "data": {
      "text/html": [
       "<div>\n",
       "<style scoped>\n",
       "    .dataframe tbody tr th:only-of-type {\n",
       "        vertical-align: middle;\n",
       "    }\n",
       "\n",
       "    .dataframe tbody tr th {\n",
       "        vertical-align: top;\n",
       "    }\n",
       "\n",
       "    .dataframe thead th {\n",
       "        text-align: right;\n",
       "    }\n",
       "</style>\n",
       "<table border=\"1\" class=\"dataframe\">\n",
       "  <thead>\n",
       "    <tr style=\"text-align: right;\">\n",
       "      <th></th>\n",
       "      <th>gender</th>\n",
       "      <th>age</th>\n",
       "      <th>month</th>\n",
       "      <th>day</th>\n",
       "      <th>year</th>\n",
       "      <th>industry_Advertising</th>\n",
       "      <th>industry_Agriculture</th>\n",
       "      <th>industry_Architecture</th>\n",
       "      <th>industry_Arts</th>\n",
       "      <th>industry_Banking</th>\n",
       "      <th>...</th>\n",
       "      <th>write</th>\n",
       "      <th>fun</th>\n",
       "      <th>world</th>\n",
       "      <th>read</th>\n",
       "      <th>many</th>\n",
       "      <th>away</th>\n",
       "      <th>someone</th>\n",
       "      <th>most</th>\n",
       "      <th>cluster</th>\n",
       "      <th>kmeans_cluster</th>\n",
       "    </tr>\n",
       "  </thead>\n",
       "  <tbody>\n",
       "    <tr>\n",
       "      <th>1380</th>\n",
       "      <td>1</td>\n",
       "      <td>26</td>\n",
       "      <td>6</td>\n",
       "      <td>0</td>\n",
       "      <td>0</td>\n",
       "      <td>0</td>\n",
       "      <td>0</td>\n",
       "      <td>0</td>\n",
       "      <td>0</td>\n",
       "      <td>0</td>\n",
       "      <td>...</td>\n",
       "      <td>0</td>\n",
       "      <td>0</td>\n",
       "      <td>0</td>\n",
       "      <td>1</td>\n",
       "      <td>0</td>\n",
       "      <td>0</td>\n",
       "      <td>0</td>\n",
       "      <td>0</td>\n",
       "      <td>0</td>\n",
       "      <td>0</td>\n",
       "    </tr>\n",
       "    <tr>\n",
       "      <th>712</th>\n",
       "      <td>0</td>\n",
       "      <td>15</td>\n",
       "      <td>7</td>\n",
       "      <td>2</td>\n",
       "      <td>0</td>\n",
       "      <td>0</td>\n",
       "      <td>0</td>\n",
       "      <td>0</td>\n",
       "      <td>0</td>\n",
       "      <td>0</td>\n",
       "      <td>...</td>\n",
       "      <td>2</td>\n",
       "      <td>0</td>\n",
       "      <td>0</td>\n",
       "      <td>0</td>\n",
       "      <td>0</td>\n",
       "      <td>1</td>\n",
       "      <td>0</td>\n",
       "      <td>0</td>\n",
       "      <td>0</td>\n",
       "      <td>0</td>\n",
       "    </tr>\n",
       "    <tr>\n",
       "      <th>31</th>\n",
       "      <td>1</td>\n",
       "      <td>48</td>\n",
       "      <td>7</td>\n",
       "      <td>0</td>\n",
       "      <td>0</td>\n",
       "      <td>0</td>\n",
       "      <td>0</td>\n",
       "      <td>0</td>\n",
       "      <td>0</td>\n",
       "      <td>0</td>\n",
       "      <td>...</td>\n",
       "      <td>0</td>\n",
       "      <td>0</td>\n",
       "      <td>0</td>\n",
       "      <td>0</td>\n",
       "      <td>0</td>\n",
       "      <td>0</td>\n",
       "      <td>0</td>\n",
       "      <td>0</td>\n",
       "      <td>0</td>\n",
       "      <td>0</td>\n",
       "    </tr>\n",
       "  </tbody>\n",
       "</table>\n",
       "<p>3 rows × 190 columns</p>\n",
       "</div>"
      ],
      "text/plain": [
       "      gender age  month  day  year  industry_Advertising  \\\n",
       "1380       1  26      6    0     0                     0   \n",
       "712        0  15      7    2     0                     0   \n",
       "31         1  48      7    0     0                     0   \n",
       "\n",
       "      industry_Agriculture  industry_Architecture  industry_Arts  \\\n",
       "1380                     0                      0              0   \n",
       "712                      0                      0              0   \n",
       "31                       0                      0              0   \n",
       "\n",
       "      industry_Banking       ...        write  fun  world  read  many  away  \\\n",
       "1380                 0       ...            0    0      0     1     0     0   \n",
       "712                  0       ...            2    0      0     0     0     1   \n",
       "31                   0       ...            0    0      0     0     0     0   \n",
       "\n",
       "      someone  most  cluster  kmeans_cluster  \n",
       "1380        0     0        0               0  \n",
       "712         0     0        0               0  \n",
       "31          0     0        0               0  \n",
       "\n",
       "[3 rows x 190 columns]"
      ]
     },
     "execution_count": 58,
     "metadata": {},
     "output_type": "execute_result"
    }
   ],
   "source": [
    "# ok so recap, X_train is the X_train withOUT normalization \n",
    "\n",
    "X_train.head(3)"
   ]
  },
  {
   "cell_type": "markdown",
   "metadata": {},
   "source": [
    "###  tf-idf  (vectors for each post)"
   ]
  },
  {
   "cell_type": "code",
   "execution_count": 59,
   "metadata": {},
   "outputs": [
    {
     "name": "stdout",
     "output_type": "stream",
     "text": [
      "Number of features: 5210\n"
     ]
    }
   ],
   "source": [
    "from sklearn.feature_extraction.text import TfidfVectorizer\n",
    "\n",
    "\n",
    "vectorizer = TfidfVectorizer(max_df=0.75, # drop words that occur in more than 75 percent of the paragraphs\n",
    "                             min_df=5, # only use words that appear at least n times\n",
    "                             stop_words='english', \n",
    "                             lowercase=True, #convert everything to lower case \n",
    "                             use_idf=True,#we definitely want to use inverse document frequencies in our weighting\n",
    "                             norm=u'l2', #Applies a correction factor so that longer paragraphs and shorter paragraphs get treated equally\n",
    "                             smooth_idf=True #Adds 1 to all document frequencies, as if an extra document existed that used every word once.  Prevents divide-by-zero errors\n",
    "                            )\n",
    "\n",
    "\n",
    "#Applying the vectorizer\n",
    "lines_tfidf=vectorizer.fit_transform(df['post'])\n",
    "print(\"Number of features: %d\" % lines_tfidf.get_shape()[1])\n",
    "\n",
    "# inititally tried model with parameters: max_df 0.75, min_df 10, # of features was 187"
   ]
  },
  {
   "cell_type": "code",
   "execution_count": 60,
   "metadata": {},
   "outputs": [
    {
     "name": "stdout",
     "output_type": "stream",
     "text": [
      "(2427, 5210)\n"
     ]
    }
   ],
   "source": [
    "print(lines_tfidf.shape)"
   ]
  },
  {
   "cell_type": "code",
   "execution_count": 61,
   "metadata": {},
   "outputs": [],
   "source": [
    "terms = vectorizer.get_feature_names()"
   ]
  },
  {
   "cell_type": "code",
   "execution_count": 62,
   "metadata": {},
   "outputs": [],
   "source": [
    "lines_csr = lines_tfidf.tocsr()"
   ]
  },
  {
   "cell_type": "code",
   "execution_count": 63,
   "metadata": {},
   "outputs": [],
   "source": [
    "#number of paragraphs\n",
    "n = lines_csr.shape[0]\n",
    "#A list of dictionaries, one per paragraph\n",
    "tfidf_bypara = [{} for _ in range(0,n)]\n",
    "#List of features\n",
    "terms = vectorizer.get_feature_names()\n",
    "#for each paragraph, lists the feature words and their tf-idf scores\n",
    "for i, j in zip(*lines_csr.nonzero()):\n",
    "    tfidf_bypara[i][terms[j]] = lines_csr[i, j]"
   ]
  },
  {
   "cell_type": "code",
   "execution_count": 64,
   "metadata": {},
   "outputs": [
    {
     "name": "stdout",
     "output_type": "stream",
     "text": [
      "Original sentence: urlLink Are the Browser Wars Back? - How Mozilla's Firefox trumps Internet Explorer. By Paul�Boutin I switched to Mozilla firefox about a week ago and its far superior to explorer. the ability to have multiple pages up sectioned by tabs has made my job much much more easier\n",
      "Tf_idf vector: {'urllink': 0.08483191712776539, 'browser': 0.23241222756356292, 'wars': 0.2236503637618333, 'mozilla': 0.4794059305536084, 'internet': 0.1752841478381426, 'explorer': 0.4473007275236666, 'paul': 0.23241222756356292, 'switched': 0.2488336835210875, 'week': 0.12407057368649747, 'ago': 0.15604578784600565, 'far': 0.13999318633103475, 'superior': 0.24398224092321769, 'ability': 0.20891906605899946, 'multiple': 0.22925094322038383, 'pages': 0.20561389301079916, 'job': 0.14051595578945691, 'easier': 0.1873719635565427}\n",
      "Original sentence: urlLink Feds warn against Microsoft's browser but the software giant's stock appeared not to feel a significant negative impact from a government group's warning against using the Internet Explorer Web browser. The U.S. Computer Emergency Readiness Team, known as CERT, issued a \"vulnerability note\" saying that computer users should not use the Internet Explorer browser because of security vulnerabilities that hackers can exploit to launch attacks on personal computers and corporate networks. Hmmm, that Bill Gates is one sly fella. GW should make him VP, cause @ this point microsoft can access just about anyones data @ any time.\n",
      "Tf_idf vector: {'urllink': 0.05376946682626839, 'browser': 0.44193324811380413, 'internet': 0.22220257401842836, 'explorer': 0.28351500760882375, 'microsoft': 0.28351500760882375, 'software': 0.14346409262655496, 'giant': 0.1577195817842261, 'stock': 0.15193220990393994, 'appeared': 0.13242028675263365, 'feel': 0.06704723546705238, 'significant': 0.15464456602768217, 'negative': 0.13868248804786795, 'impact': 0.14530734897590394, 'government': 0.11758176871356865, 'group': 0.10404597596449731, 'warning': 0.14175750380441188, 'using': 0.10675833208823957, 'web': 0.12000805394431154, 'computer': 0.1968023906367869, 'emergency': 0.15193220990393994, 'team': 0.10604970969319473, 'known': 0.1106708368925333, 'note': 0.10675833208823957, 'saying': 0.09513920902939997, 'users': 0.1473110827046014, 'use': 0.08508898112887259, 'security': 0.12420662964160463, 'attacks': 0.15193220990393994, 'personal': 0.11538692674497296, 'computers': 0.15193220990393994, 'corporate': 0.16126942695571816, 'networks': 0.1577195817842261, 'hmmm': 0.11758176871356865, 'fella': 0.15464456602768217, 'make': 0.06278460295309067, 'cause': 0.09916463796554933, 'point': 0.0874529431531215, 'access': 0.14530734897590394, 'just': 0.04288754246027396, 'data': 0.14530734897590394, 'time': 0.050671938201821615}\n",
      "Original sentence: urlLink Business 2.0 - Magazine Article - The Next Delivery? Computer Repairs by UPS Another sign that the apocalypse is upon us....\n",
      "Tf_idf vector: {'urllink': 0.1764446804013237, 'computer': 0.3229038427172946, 'business': 0.36457923493746863, 'magazine': 0.4345376019853981, 'article': 0.4003820783776274, 'ups': 0.48340179736891425, 'sign': 0.3858449567432284}\n"
     ]
    }
   ],
   "source": [
    "#Keep in mind that the log base 2 of 1 is 0, so a tf-idf score of 0 indicates that the word was\n",
    "# present once in that sentence.\n",
    "for i in range(3):\n",
    "    print('Original sentence:', df.loc[i,'post'])\n",
    "    print('Tf_idf vector:', tfidf_bypara[i])"
   ]
  },
  {
   "cell_type": "code",
   "execution_count": 65,
   "metadata": {},
   "outputs": [
    {
     "name": "stdout",
     "output_type": "stream",
     "text": [
      "Percent variance captured by all components: 70.04465806011859\n"
     ]
    }
   ],
   "source": [
    " # dimension reduction\n",
    "    \n",
    "from sklearn.decomposition import TruncatedSVD\n",
    "from sklearn.pipeline import make_pipeline\n",
    "from sklearn.preprocessing import Normalizer\n",
    "\n",
    "#Our SVD data reducer.  We are going to reduce the feature space from 4931 to the number below.\n",
    "svd= TruncatedSVD(700)\n",
    "lsa = make_pipeline(svd, Normalizer(copy=False))\n",
    "# Run SVD on the training data, then project the training data.\n",
    "lines_lsa = lsa.fit_transform(lines_tfidf)\n",
    "\n",
    "variance_explained=svd.explained_variance_ratio_\n",
    "total_variance = variance_explained.sum()\n",
    "print(\"Percent variance captured by all components:\",total_variance*100)\n",
    "\n",
    "#Looking at what sorts of paragraphs our solution considers similar, for the first five identified topics\n",
    "paras_by_component=pd.DataFrame(lines_lsa, #index=df['post']\n",
    "                               )\n",
    "#for i in range(5):\n",
    "#    print('Component {}:'.format(i))\n",
    "#    print(paras_by_component.loc[:50,i].sort_values(ascending=False)[0:5])   "
   ]
  },
  {
   "cell_type": "code",
   "execution_count": 66,
   "metadata": {},
   "outputs": [
    {
     "data": {
      "text/html": [
       "<div>\n",
       "<style scoped>\n",
       "    .dataframe tbody tr th:only-of-type {\n",
       "        vertical-align: middle;\n",
       "    }\n",
       "\n",
       "    .dataframe tbody tr th {\n",
       "        vertical-align: top;\n",
       "    }\n",
       "\n",
       "    .dataframe thead th {\n",
       "        text-align: right;\n",
       "    }\n",
       "</style>\n",
       "<table border=\"1\" class=\"dataframe\">\n",
       "  <thead>\n",
       "    <tr style=\"text-align: right;\">\n",
       "      <th></th>\n",
       "      <th>0</th>\n",
       "      <th>1</th>\n",
       "      <th>2</th>\n",
       "      <th>3</th>\n",
       "      <th>4</th>\n",
       "      <th>5</th>\n",
       "      <th>6</th>\n",
       "      <th>7</th>\n",
       "      <th>8</th>\n",
       "      <th>9</th>\n",
       "      <th>...</th>\n",
       "      <th>690</th>\n",
       "      <th>691</th>\n",
       "      <th>692</th>\n",
       "      <th>693</th>\n",
       "      <th>694</th>\n",
       "      <th>695</th>\n",
       "      <th>696</th>\n",
       "      <th>697</th>\n",
       "      <th>698</th>\n",
       "      <th>699</th>\n",
       "    </tr>\n",
       "  </thead>\n",
       "  <tbody>\n",
       "    <tr>\n",
       "      <th>0</th>\n",
       "      <td>0.079836</td>\n",
       "      <td>0.089571</td>\n",
       "      <td>-0.016804</td>\n",
       "      <td>-0.025353</td>\n",
       "      <td>-0.014502</td>\n",
       "      <td>-0.066009</td>\n",
       "      <td>0.042845</td>\n",
       "      <td>-0.030347</td>\n",
       "      <td>-0.014166</td>\n",
       "      <td>-0.007959</td>\n",
       "      <td>...</td>\n",
       "      <td>-0.005828</td>\n",
       "      <td>0.040123</td>\n",
       "      <td>-0.040129</td>\n",
       "      <td>0.027678</td>\n",
       "      <td>0.020728</td>\n",
       "      <td>-0.020904</td>\n",
       "      <td>-0.013917</td>\n",
       "      <td>-0.014246</td>\n",
       "      <td>0.005360</td>\n",
       "      <td>0.001148</td>\n",
       "    </tr>\n",
       "    <tr>\n",
       "      <th>1</th>\n",
       "      <td>0.103539</td>\n",
       "      <td>0.034143</td>\n",
       "      <td>-0.011961</td>\n",
       "      <td>-0.024460</td>\n",
       "      <td>0.012869</td>\n",
       "      <td>-0.065104</td>\n",
       "      <td>0.073070</td>\n",
       "      <td>-0.043694</td>\n",
       "      <td>-0.016713</td>\n",
       "      <td>0.024960</td>\n",
       "      <td>...</td>\n",
       "      <td>0.000781</td>\n",
       "      <td>-0.053773</td>\n",
       "      <td>0.018889</td>\n",
       "      <td>-0.027941</td>\n",
       "      <td>0.021912</td>\n",
       "      <td>0.013078</td>\n",
       "      <td>-0.019269</td>\n",
       "      <td>-0.019020</td>\n",
       "      <td>0.008700</td>\n",
       "      <td>0.011495</td>\n",
       "    </tr>\n",
       "    <tr>\n",
       "      <th>2</th>\n",
       "      <td>0.108872</td>\n",
       "      <td>0.183065</td>\n",
       "      <td>-0.027098</td>\n",
       "      <td>-0.002249</td>\n",
       "      <td>-0.009815</td>\n",
       "      <td>-0.031356</td>\n",
       "      <td>0.026245</td>\n",
       "      <td>-0.023967</td>\n",
       "      <td>-0.016922</td>\n",
       "      <td>0.000444</td>\n",
       "      <td>...</td>\n",
       "      <td>-0.027865</td>\n",
       "      <td>0.028087</td>\n",
       "      <td>0.033544</td>\n",
       "      <td>-0.018158</td>\n",
       "      <td>-0.022787</td>\n",
       "      <td>0.032246</td>\n",
       "      <td>-0.015968</td>\n",
       "      <td>0.032390</td>\n",
       "      <td>-0.033675</td>\n",
       "      <td>-0.028926</td>\n",
       "    </tr>\n",
       "  </tbody>\n",
       "</table>\n",
       "<p>3 rows × 700 columns</p>\n",
       "</div>"
      ],
      "text/plain": [
       "        0         1         2         3         4         5         6    \\\n",
       "0  0.079836  0.089571 -0.016804 -0.025353 -0.014502 -0.066009  0.042845   \n",
       "1  0.103539  0.034143 -0.011961 -0.024460  0.012869 -0.065104  0.073070   \n",
       "2  0.108872  0.183065 -0.027098 -0.002249 -0.009815 -0.031356  0.026245   \n",
       "\n",
       "        7         8         9      ...          690       691       692  \\\n",
       "0 -0.030347 -0.014166 -0.007959    ...    -0.005828  0.040123 -0.040129   \n",
       "1 -0.043694 -0.016713  0.024960    ...     0.000781 -0.053773  0.018889   \n",
       "2 -0.023967 -0.016922  0.000444    ...    -0.027865  0.028087  0.033544   \n",
       "\n",
       "        693       694       695       696       697       698       699  \n",
       "0  0.027678  0.020728 -0.020904 -0.013917 -0.014246  0.005360  0.001148  \n",
       "1 -0.027941  0.021912  0.013078 -0.019269 -0.019020  0.008700  0.011495  \n",
       "2 -0.018158 -0.022787  0.032246 -0.015968  0.032390 -0.033675 -0.028926  \n",
       "\n",
       "[3 rows x 700 columns]"
      ]
     },
     "execution_count": 66,
     "metadata": {},
     "output_type": "execute_result"
    }
   ],
   "source": [
    "paras_by_component.head(3)"
   ]
  },
  {
   "cell_type": "code",
   "execution_count": 67,
   "metadata": {},
   "outputs": [
    {
     "data": {
      "text/html": [
       "<div>\n",
       "<style scoped>\n",
       "    .dataframe tbody tr th:only-of-type {\n",
       "        vertical-align: middle;\n",
       "    }\n",
       "\n",
       "    .dataframe tbody tr th {\n",
       "        vertical-align: top;\n",
       "    }\n",
       "\n",
       "    .dataframe thead th {\n",
       "        text-align: right;\n",
       "    }\n",
       "</style>\n",
       "<table border=\"1\" class=\"dataframe\">\n",
       "  <thead>\n",
       "    <tr style=\"text-align: right;\">\n",
       "      <th></th>\n",
       "      <th>author_id</th>\n",
       "      <th>gender</th>\n",
       "      <th>age</th>\n",
       "      <th>post</th>\n",
       "      <th>parsed</th>\n",
       "      <th>month</th>\n",
       "      <th>day</th>\n",
       "      <th>year</th>\n",
       "      <th>industry_Advertising</th>\n",
       "      <th>industry_Agriculture</th>\n",
       "      <th>...</th>\n",
       "      <th>690</th>\n",
       "      <th>691</th>\n",
       "      <th>692</th>\n",
       "      <th>693</th>\n",
       "      <th>694</th>\n",
       "      <th>695</th>\n",
       "      <th>696</th>\n",
       "      <th>697</th>\n",
       "      <th>698</th>\n",
       "      <th>699</th>\n",
       "    </tr>\n",
       "  </thead>\n",
       "  <tbody>\n",
       "    <tr>\n",
       "      <th>0</th>\n",
       "      <td>2237917</td>\n",
       "      <td>1</td>\n",
       "      <td>48</td>\n",
       "      <td>urlLink Are the Browser Wars Back? - How Mozil...</td>\n",
       "      <td>(urlLink, Are, the, Browser, Wars, Back, ?, -,...</td>\n",
       "      <td>6</td>\n",
       "      <td>0</td>\n",
       "      <td>0</td>\n",
       "      <td>0</td>\n",
       "      <td>0</td>\n",
       "      <td>...</td>\n",
       "      <td>-0.005828</td>\n",
       "      <td>0.040123</td>\n",
       "      <td>-0.040129</td>\n",
       "      <td>0.027678</td>\n",
       "      <td>0.020728</td>\n",
       "      <td>-0.020904</td>\n",
       "      <td>-0.013917</td>\n",
       "      <td>-0.014246</td>\n",
       "      <td>0.005360</td>\n",
       "      <td>0.001148</td>\n",
       "    </tr>\n",
       "    <tr>\n",
       "      <th>1</th>\n",
       "      <td>2237917</td>\n",
       "      <td>1</td>\n",
       "      <td>48</td>\n",
       "      <td>urlLink Feds warn against Microsoft's browser ...</td>\n",
       "      <td>(urlLink, Feds, warn, against, Microsoft, 's, ...</td>\n",
       "      <td>6</td>\n",
       "      <td>0</td>\n",
       "      <td>0</td>\n",
       "      <td>0</td>\n",
       "      <td>0</td>\n",
       "      <td>...</td>\n",
       "      <td>0.000781</td>\n",
       "      <td>-0.053773</td>\n",
       "      <td>0.018889</td>\n",
       "      <td>-0.027941</td>\n",
       "      <td>0.021912</td>\n",
       "      <td>0.013078</td>\n",
       "      <td>-0.019269</td>\n",
       "      <td>-0.019020</td>\n",
       "      <td>0.008700</td>\n",
       "      <td>0.011495</td>\n",
       "    </tr>\n",
       "    <tr>\n",
       "      <th>2</th>\n",
       "      <td>2237917</td>\n",
       "      <td>1</td>\n",
       "      <td>48</td>\n",
       "      <td>urlLink Business 2.0 - Magazine Article - The ...</td>\n",
       "      <td>(urlLink, Business, 2.0, -, Magazine, Article,...</td>\n",
       "      <td>6</td>\n",
       "      <td>0</td>\n",
       "      <td>0</td>\n",
       "      <td>0</td>\n",
       "      <td>0</td>\n",
       "      <td>...</td>\n",
       "      <td>-0.027865</td>\n",
       "      <td>0.028087</td>\n",
       "      <td>0.033544</td>\n",
       "      <td>-0.018158</td>\n",
       "      <td>-0.022787</td>\n",
       "      <td>0.032246</td>\n",
       "      <td>-0.015968</td>\n",
       "      <td>0.032390</td>\n",
       "      <td>-0.033675</td>\n",
       "      <td>-0.028926</td>\n",
       "    </tr>\n",
       "    <tr>\n",
       "      <th>3</th>\n",
       "      <td>2237917</td>\n",
       "      <td>1</td>\n",
       "      <td>48</td>\n",
       "      <td>urlLink Fast Growth Database NICE!!! GHA Techn...</td>\n",
       "      <td>(urlLink, Fast, Growth, Database, NICE, !, !, ...</td>\n",
       "      <td>6</td>\n",
       "      <td>0</td>\n",
       "      <td>0</td>\n",
       "      <td>0</td>\n",
       "      <td>0</td>\n",
       "      <td>...</td>\n",
       "      <td>-0.004423</td>\n",
       "      <td>0.015206</td>\n",
       "      <td>-0.002964</td>\n",
       "      <td>-0.010459</td>\n",
       "      <td>-0.019535</td>\n",
       "      <td>-0.057819</td>\n",
       "      <td>0.015117</td>\n",
       "      <td>0.072668</td>\n",
       "      <td>0.003059</td>\n",
       "      <td>-0.049385</td>\n",
       "    </tr>\n",
       "    <tr>\n",
       "      <th>4</th>\n",
       "      <td>2237917</td>\n",
       "      <td>1</td>\n",
       "      <td>48</td>\n",
       "      <td>urlLink Survey: Dell customer satisfaction uns...</td>\n",
       "      <td>(urlLink, Survey, :, Dell, customer, satisfact...</td>\n",
       "      <td>6</td>\n",
       "      <td>0</td>\n",
       "      <td>0</td>\n",
       "      <td>0</td>\n",
       "      <td>0</td>\n",
       "      <td>...</td>\n",
       "      <td>-0.014164</td>\n",
       "      <td>-0.007187</td>\n",
       "      <td>0.005702</td>\n",
       "      <td>0.001360</td>\n",
       "      <td>0.010331</td>\n",
       "      <td>-0.014236</td>\n",
       "      <td>0.001066</td>\n",
       "      <td>-0.019812</td>\n",
       "      <td>-0.006705</td>\n",
       "      <td>-0.009893</td>\n",
       "    </tr>\n",
       "  </tbody>\n",
       "</table>\n",
       "<p>5 rows × 891 columns</p>\n",
       "</div>"
      ],
      "text/plain": [
       "  author_id  gender age                                               post  \\\n",
       "0   2237917       1  48  urlLink Are the Browser Wars Back? - How Mozil...   \n",
       "1   2237917       1  48  urlLink Feds warn against Microsoft's browser ...   \n",
       "2   2237917       1  48  urlLink Business 2.0 - Magazine Article - The ...   \n",
       "3   2237917       1  48  urlLink Fast Growth Database NICE!!! GHA Techn...   \n",
       "4   2237917       1  48  urlLink Survey: Dell customer satisfaction uns...   \n",
       "\n",
       "                                              parsed  month  day  year  \\\n",
       "0  (urlLink, Are, the, Browser, Wars, Back, ?, -,...      6    0     0   \n",
       "1  (urlLink, Feds, warn, against, Microsoft, 's, ...      6    0     0   \n",
       "2  (urlLink, Business, 2.0, -, Magazine, Article,...      6    0     0   \n",
       "3  (urlLink, Fast, Growth, Database, NICE, !, !, ...      6    0     0   \n",
       "4  (urlLink, Survey, :, Dell, customer, satisfact...      6    0     0   \n",
       "\n",
       "   industry_Advertising  industry_Agriculture    ...          690       691  \\\n",
       "0                     0                     0    ...    -0.005828  0.040123   \n",
       "1                     0                     0    ...     0.000781 -0.053773   \n",
       "2                     0                     0    ...    -0.027865  0.028087   \n",
       "3                     0                     0    ...    -0.004423  0.015206   \n",
       "4                     0                     0    ...    -0.014164 -0.007187   \n",
       "\n",
       "        692       693       694       695       696       697       698  \\\n",
       "0 -0.040129  0.027678  0.020728 -0.020904 -0.013917 -0.014246  0.005360   \n",
       "1  0.018889 -0.027941  0.021912  0.013078 -0.019269 -0.019020  0.008700   \n",
       "2  0.033544 -0.018158 -0.022787  0.032246 -0.015968  0.032390 -0.033675   \n",
       "3 -0.002964 -0.010459 -0.019535 -0.057819  0.015117  0.072668  0.003059   \n",
       "4  0.005702  0.001360  0.010331 -0.014236  0.001066 -0.019812 -0.006705   \n",
       "\n",
       "        699  \n",
       "0  0.001148  \n",
       "1  0.011495  \n",
       "2 -0.028926  \n",
       "3 -0.049385  \n",
       "4 -0.009893  \n",
       "\n",
       "[5 rows x 891 columns]"
      ]
     },
     "execution_count": 67,
     "metadata": {},
     "output_type": "execute_result"
    }
   ],
   "source": [
    "# add the components back into the dataframe as features\n",
    "\n",
    "df = df.reset_index(drop=True)\n",
    "paras_by_component = paras_by_component.reset_index(drop=True)\n",
    "\n",
    "df = df.join(paras_by_component)\n",
    "\n",
    "df.head()"
   ]
  },
  {
   "cell_type": "markdown",
   "metadata": {},
   "source": [
    "Document similarity"
   ]
  },
  {
   "cell_type": "code",
   "execution_count": 68,
   "metadata": {},
   "outputs": [
    {
     "data": {
      "image/png": "[encoded data removed]",
      "text/plain": [
       "<Figure size 432x288 with 2 Axes>"
      ]
     },
     "metadata": {},
     "output_type": "display_data"
    },
    {
     "name": "stdout",
     "output_type": "stream",
     "text": [
      "Key:\n",
      "0 urlLink Are the Browser Wars Back? - How Mozilla's Firefox trumps Internet Explorer. By Paul�Boutin I switched to Mozilla firefox about a week ago and its far superior to explorer. the ability to have multiple pages up sectioned by tabs has made my job much much more easier\n",
      "1 urlLink Feds warn against Microsoft's browser but the software giant's stock appeared not to feel a significant negative impact from a government group's warning against using the Internet Explorer Web browser. The U.S. Computer Emergency Readiness Team, known as CERT, issued a \"vulnerability note\" saying that computer users should not use the Internet Explorer browser because of security vulnerabilities that hackers can exploit to launch attacks on personal computers and corporate networks. Hmmm, that Bill Gates is one sly fella. GW should make him VP, cause @ this point microsoft can access just about anyones data @ any time.\n",
      "2 urlLink Business 2.0 - Magazine Article - The Next Delivery? Computer Repairs by UPS Another sign that the apocalypse is upon us....\n",
      "3 urlLink Fast Growth Database NICE!!! GHA Technologies Recognized as Computer Reller News's \"Top 25 rising stars\". I told you we are good!\n",
      "4 urlLink Survey: Dell customer satisfaction unsatisfactory | CNET News.com\n",
      "5 urlLink Earthquakes, fire and lightning: Must be a NEBS test Great article on what NEBS certification is for network equipment\n",
      "6 urlLink The New York Times > Technology > Microsoft to Offer Streamlined Products Aimed at Programmers\n",
      "7 urlLink Intel Ushers In A New Era for Desktops Good review of the new intel chipsets, features and benefits.\n",
      "8 urlLink Boing Boing: A Directory of Wonderful Things : \"Mr. Vice President has a potty mouth As Jess Hemerly writes on A Great Notion , 'There's something about the way this Washington Post article is written that makes the entire scenario 3,000 times funnier.' From the article: 'On Tuesday, Cheney, serving in his role as president of the Senate, appeared in the chamber for a photo session. A chance meeting with Sen. Patrick J. Leahy (Vt.), the ranking Democrat on the Judiciary Committee, became an argument about Cheney's ties to Halliburton Co., an international energy services corporation, and President Bush's judicial nominees. The exchange ended when Cheney offered some crass advice. 'Fuck yourself,' said the man who is a heartbeat from the presidency.' ...Even if the Senate were in session, the vice president, though constitutionally the president of the Senate, is an executive branch official and therefore free to use whatever language he likes.' Link to Washington Post article \"\n",
      "9 urlLink Wi-Fi Hotspot Finder, Product Reviews, and Industry News great wifi resource\n"
     ]
    }
   ],
   "source": [
    "# Compute document similarity using LSA components\n",
    "similarity = np.asarray(np.asmatrix(lines_lsa) * np.asmatrix(lines_lsa).T)\n",
    "#Only taking the first 10 sentences\n",
    "sim_matrix=pd.DataFrame(similarity,index=df['post']).iloc[0:10,0:10]\n",
    "#Making a plot\n",
    "ax = sns.heatmap(sim_matrix,yticklabels=range(10))\n",
    "plt.show()\n",
    "\n",
    "#Generating a key for the plot.\n",
    "print('Key:')\n",
    "for i in range(10):\n",
    "    print(i,sim_matrix.index[i])"
   ]
  },
  {
   "cell_type": "code",
   "execution_count": 69,
   "metadata": {},
   "outputs": [
    {
     "name": "stdout",
     "output_type": "stream",
     "text": [
      "(2427, 2427) (2427, 891)\n"
     ]
    }
   ],
   "source": [
    "print(similarity.shape, df.shape)\n"
   ]
  },
  {
   "cell_type": "code",
   "execution_count": 70,
   "metadata": {},
   "outputs": [
    {
     "data": {
      "text/html": [
       "<div>\n",
       "<style scoped>\n",
       "    .dataframe tbody tr th:only-of-type {\n",
       "        vertical-align: middle;\n",
       "    }\n",
       "\n",
       "    .dataframe tbody tr th {\n",
       "        vertical-align: top;\n",
       "    }\n",
       "\n",
       "    .dataframe thead th {\n",
       "        text-align: right;\n",
       "    }\n",
       "</style>\n",
       "<table border=\"1\" class=\"dataframe\">\n",
       "  <thead>\n",
       "    <tr style=\"text-align: right;\">\n",
       "      <th></th>\n",
       "      <th>author_id</th>\n",
       "      <th>gender</th>\n",
       "      <th>age</th>\n",
       "      <th>post</th>\n",
       "      <th>parsed</th>\n",
       "    </tr>\n",
       "  </thead>\n",
       "  <tbody>\n",
       "    <tr>\n",
       "      <th>0</th>\n",
       "      <td>2237917</td>\n",
       "      <td>1</td>\n",
       "      <td>48</td>\n",
       "      <td>urlLink Are the Browser Wars Back? - How Mozil...</td>\n",
       "      <td>(urlLink, Are, the, Browser, Wars, Back, ?, -,...</td>\n",
       "    </tr>\n",
       "    <tr>\n",
       "      <th>1</th>\n",
       "      <td>2237917</td>\n",
       "      <td>1</td>\n",
       "      <td>48</td>\n",
       "      <td>urlLink Feds warn against Microsoft's browser ...</td>\n",
       "      <td>(urlLink, Feds, warn, against, Microsoft, 's, ...</td>\n",
       "    </tr>\n",
       "    <tr>\n",
       "      <th>2</th>\n",
       "      <td>2237917</td>\n",
       "      <td>1</td>\n",
       "      <td>48</td>\n",
       "      <td>urlLink Business 2.0 - Magazine Article - The ...</td>\n",
       "      <td>(urlLink, Business, 2.0, -, Magazine, Article,...</td>\n",
       "    </tr>\n",
       "  </tbody>\n",
       "</table>\n",
       "</div>"
      ],
      "text/plain": [
       "  author_id  gender age                                               post  \\\n",
       "0   2237917       1  48  urlLink Are the Browser Wars Back? - How Mozil...   \n",
       "1   2237917       1  48  urlLink Feds warn against Microsoft's browser ...   \n",
       "2   2237917       1  48  urlLink Business 2.0 - Magazine Article - The ...   \n",
       "\n",
       "                                              parsed  \n",
       "0  (urlLink, Are, the, Browser, Wars, Back, ?, -,...  \n",
       "1  (urlLink, Feds, warn, against, Microsoft, 's, ...  \n",
       "2  (urlLink, Business, 2.0, -, Magazine, Article,...  "
      ]
     },
     "execution_count": 70,
     "metadata": {},
     "output_type": "execute_result"
    }
   ],
   "source": [
    "df.iloc[:3,:5]"
   ]
  },
  {
   "cell_type": "code",
   "execution_count": 71,
   "metadata": {},
   "outputs": [],
   "source": [
    "# add the features back to the training and test sets\n",
    "\n",
    "X_train = X_train.join(df.iloc[:,191:])\n",
    "X_test = X_test.join(df.iloc[:,191:])"
   ]
  },
  {
   "cell_type": "markdown",
   "metadata": {},
   "source": [
    "## models\n",
    "\n",
    "a - gradient boosting"
   ]
  },
  {
   "cell_type": "code",
   "execution_count": 72,
   "metadata": {},
   "outputs": [],
   "source": [
    "from sklearn.model_selection import cross_val_score"
   ]
  },
  {
   "cell_type": "code",
   "execution_count": 73,
   "metadata": {},
   "outputs": [],
   "source": [
    "from sklearn import ensemble"
   ]
  },
  {
   "cell_type": "code",
   "execution_count": 74,
   "metadata": {},
   "outputs": [],
   "source": [
    "#X_train_smaller = withbin.drop(['post','parsed'], 1)\n",
    "#y_train\n",
    "\n",
    "# training on smaller portions of X_train so I can test it on itself\n",
    "\n",
    "X_train_smaller, X_test_smaller, y_train_smaller, y_test_smaller = train_test_split(X_train,\n",
    "                                                                y_train, test_size=.25)"
   ]
  },
  {
   "cell_type": "code",
   "execution_count": 75,
   "metadata": {},
   "outputs": [],
   "source": [
    "# with defaults - Training set score: 0.00846262341325811\n",
    "#Test set score: 0.004739336492890996\n",
    "\n",
    "clf = ensemble.GradientBoostingClassifier(n_estimators=200)\n"
   ]
  },
  {
   "cell_type": "code",
   "execution_count": 76,
   "metadata": {},
   "outputs": [
    {
     "data": {
      "text/plain": [
       "GradientBoostingClassifier(criterion='friedman_mse', init=None,\n",
       "              learning_rate=0.1, loss='deviance', max_depth=3,\n",
       "              max_features=None, max_leaf_nodes=None,\n",
       "              min_impurity_decrease=0.0, min_impurity_split=None,\n",
       "              min_samples_leaf=1, min_samples_split=2,\n",
       "              min_weight_fraction_leaf=0.0, n_estimators=200,\n",
       "              presort='auto', random_state=None, subsample=1.0, verbose=0,\n",
       "              warm_start=False)"
      ]
     },
     "execution_count": 76,
     "metadata": {},
     "output_type": "execute_result"
    }
   ],
   "source": [
    "clf.fit(X_train_smaller, y_train_smaller)\n"
   ]
  },
  {
   "cell_type": "code",
   "execution_count": 77,
   "metadata": {},
   "outputs": [],
   "source": [
    "training_score = clf.score(X_train_smaller, y_train_smaller)"
   ]
  },
  {
   "cell_type": "code",
   "execution_count": 78,
   "metadata": {},
   "outputs": [],
   "source": [
    "# need to get the clusters before i can run this\n",
    "testing_score = clf.score(X_test_smaller, y_test_smaller)\n"
   ]
  },
  {
   "cell_type": "code",
   "execution_count": 79,
   "metadata": {},
   "outputs": [
    {
     "name": "stdout",
     "output_type": "stream",
     "text": [
      "Training set score: 0.004395604395604396\n",
      "\n",
      "Test set score: 0.006593406593406593\n"
     ]
    }
   ],
   "source": [
    "print('Training set score:', training_score)\n",
    "print('\\nTest set score:', testing_score)"
   ]
  },
  {
   "cell_type": "code",
   "execution_count": 80,
   "metadata": {
    "scrolled": true
   },
   "outputs": [
    {
     "name": "stderr",
     "output_type": "stream",
     "text": [
      "/anaconda3/lib/python3.6/site-packages/sklearn/model_selection/_split.py:605: Warning: The least populated class in y has only 1 members, which is too few. The minimum number of members in any class cannot be less than n_splits=5.\n",
      "  % (min_groups, self.n_splits)), Warning)\n"
     ]
    },
    {
     "name": "stdout",
     "output_type": "stream",
     "text": [
      "Accuracy: 0.56 (+/- 0.06)\n"
     ]
    }
   ],
   "source": [
    "scores = cross_val_score(clf, X_train,y_train,cv=5)\n",
    "\n",
    "print(\"Accuracy: %0.2f (+/- %0.2f)\" % (scores.mean(), scores.std() * 2))"
   ]
  },
  {
   "cell_type": "code",
   "execution_count": 81,
   "metadata": {},
   "outputs": [
    {
     "name": "stderr",
     "output_type": "stream",
     "text": [
      "/anaconda3/lib/python3.6/site-packages/sklearn/model_selection/_split.py:605: Warning: The least populated class in y has only 1 members, which is too few. The minimum number of members in any class cannot be less than n_splits=5.\n",
      "  % (min_groups, self.n_splits)), Warning)\n"
     ]
    },
    {
     "name": "stdout",
     "output_type": "stream",
     "text": [
      "Accuracy: 0.53 (+/- 0.12)\n"
     ]
    }
   ],
   "source": [
    "scores = cross_val_score(clf,X_train_smaller,y_train_smaller,cv=5)\n",
    "\n",
    "print(\"Accuracy: %0.2f (+/- %0.2f)\"% (scores.mean(), scores.std() *2))"
   ]
  },
  {
   "cell_type": "markdown",
   "metadata": {},
   "source": [
    "b - logistic regression"
   ]
  },
  {
   "cell_type": "code",
   "execution_count": 82,
   "metadata": {},
   "outputs": [],
   "source": [
    "from sklearn.linear_model import LogisticRegression"
   ]
  },
  {
   "cell_type": "code",
   "execution_count": 83,
   "metadata": {},
   "outputs": [],
   "source": [
    "lr = LogisticRegression()\n",
    "\n",
    "train = lr.fit(X_train_smaller, y_train_smaller)\n"
   ]
  },
  {
   "cell_type": "code",
   "execution_count": 84,
   "metadata": {},
   "outputs": [
    {
     "data": {
      "text/plain": [
       "0.9992673992673993"
      ]
     },
     "execution_count": 84,
     "metadata": {},
     "output_type": "execute_result"
    }
   ],
   "source": [
    "lr.score(X_train_smaller,y_train_smaller)"
   ]
  },
  {
   "cell_type": "code",
   "execution_count": 85,
   "metadata": {},
   "outputs": [
    {
     "data": {
      "text/plain": [
       "0.6813186813186813"
      ]
     },
     "execution_count": 85,
     "metadata": {},
     "output_type": "execute_result"
    }
   ],
   "source": [
    "lr.score(X_test_smaller, y_test_smaller)"
   ]
  },
  {
   "cell_type": "code",
   "execution_count": 86,
   "metadata": {},
   "outputs": [
    {
     "name": "stderr",
     "output_type": "stream",
     "text": [
      "/anaconda3/lib/python3.6/site-packages/sklearn/model_selection/_split.py:605: Warning: The least populated class in y has only 1 members, which is too few. The minimum number of members in any class cannot be less than n_splits=10.\n",
      "  % (min_groups, self.n_splits)), Warning)\n"
     ]
    },
    {
     "name": "stdout",
     "output_type": "stream",
     "text": [
      "Accuracy: 0.63 (+/- 0.34)\n"
     ]
    }
   ],
   "source": [
    "scores = cross_val_score(lr, X_test_smaller,y_test_smaller,cv=10)\n",
    "\n",
    "print(\"Accuracy: %0.2f (+/- %0.2f)\" % (scores.mean(), scores.std() * 2))"
   ]
  },
  {
   "cell_type": "markdown",
   "metadata": {},
   "source": [
    "c. random forest"
   ]
  },
  {
   "cell_type": "code",
   "execution_count": 87,
   "metadata": {},
   "outputs": [
    {
     "data": {
      "text/plain": [
       "RandomForestClassifier(bootstrap=True, class_weight=None, criterion='gini',\n",
       "            max_depth=None, max_features='auto', max_leaf_nodes=None,\n",
       "            min_impurity_decrease=0.0, min_impurity_split=None,\n",
       "            min_samples_leaf=1, min_samples_split=2,\n",
       "            min_weight_fraction_leaf=0.0, n_estimators=10, n_jobs=1,\n",
       "            oob_score=False, random_state=None, verbose=0,\n",
       "            warm_start=False)"
      ]
     },
     "execution_count": 87,
     "metadata": {},
     "output_type": "execute_result"
    }
   ],
   "source": [
    "rfc = ensemble.RandomForestClassifier()\n",
    "\n",
    "rfc.fit(X_train_smaller,y_train_smaller)"
   ]
  },
  {
   "cell_type": "code",
   "execution_count": 88,
   "metadata": {},
   "outputs": [],
   "source": [
    "train = rfc.score(X_train_smaller,y_train_smaller)"
   ]
  },
  {
   "cell_type": "code",
   "execution_count": 89,
   "metadata": {},
   "outputs": [],
   "source": [
    "test = rfc.score(X_test_smaller,y_test_smaller)"
   ]
  },
  {
   "cell_type": "code",
   "execution_count": 90,
   "metadata": {},
   "outputs": [
    {
     "name": "stdout",
     "output_type": "stream",
     "text": [
      "Training set score: 0.9992673992673993\n",
      "\n",
      "Test set score: 0.545054945054945\n"
     ]
    }
   ],
   "source": [
    "print('Training set score:', train)\n",
    "print('\\nTest set score:', test)"
   ]
  },
  {
   "cell_type": "code",
   "execution_count": 91,
   "metadata": {},
   "outputs": [
    {
     "name": "stderr",
     "output_type": "stream",
     "text": [
      "/anaconda3/lib/python3.6/site-packages/sklearn/model_selection/_split.py:605: Warning: The least populated class in y has only 1 members, which is too few. The minimum number of members in any class cannot be less than n_splits=10.\n",
      "  % (min_groups, self.n_splits)), Warning)\n"
     ]
    },
    {
     "name": "stdout",
     "output_type": "stream",
     "text": [
      "Accuracy: 0.51 (+/- 0.33)\n"
     ]
    }
   ],
   "source": [
    "scores = cross_val_score(rfc, X_test_smaller,y_test_smaller,cv=10)\n",
    "\n",
    "print(\"Accuracy: %0.2f (+/- %0.2f)\" % (scores.mean(), scores.std() * 2))"
   ]
  },
  {
   "cell_type": "markdown",
   "metadata": {},
   "source": [
    "# Part 5 - back to holdout group\n",
    "\n",
    "Lastly return to your holdout group. Does your clustering on those members perform as you'd expect? Have your clusters remained stable or changed dramatically? What about your model? Is it's performance consistent?\n",
    "\n",
    "### clustering on holdout group\n",
    "\n",
    "first i need to normalize the data"
   ]
  },
  {
   "cell_type": "code",
   "execution_count": 92,
   "metadata": {},
   "outputs": [],
   "source": [
    "X_test_norm = normalize(X_test)"
   ]
  },
  {
   "cell_type": "markdown",
   "metadata": {},
   "source": [
    "K Means"
   ]
  },
  {
   "cell_type": "code",
   "execution_count": 93,
   "metadata": {},
   "outputs": [
    {
     "data": {
      "image/png": "[encoded data removed]",
      "text/plain": [
       "<Figure size 432x288 with 1 Axes>"
      ]
     },
     "metadata": {},
     "output_type": "display_data"
    },
    {
     "name": "stdout",
     "output_type": "stream",
     "text": [
      "Time: 0.5503849983215332 seconds \n",
      "Comparing k-means clusters against the data:\n",
      "author_id  1263465  1435222  1738456  1967875  2237917  2244144  2556543  \\\n",
      "row_0                                                                      \n",
      "0                1        0        2        0        0        1        0   \n",
      "1                9        0        0       12       14       14        7   \n",
      "2                0        1        3        0        0        0        0   \n",
      "\n",
      "author_id  2843565  2899838  2974921   ...    4198017  4214721  4236222  \\\n",
      "row_0                                  ...                                \n",
      "0                0        0        6   ...          2        1        1   \n",
      "1                7        3        8   ...          1        1        1   \n",
      "2                0        0        1   ...          0        0        1   \n",
      "\n",
      "author_id  4264657  4274812  4277498  4278196  4300739  4322723  579857  \n",
      "row_0                                                                    \n",
      "0                0        2        1        2        0        0       2  \n",
      "1                1        2        3        1        3        3       1  \n",
      "2                0        0        0        0        0        0       0  \n",
      "\n",
      "[3 rows x 137 columns]\n"
     ]
    }
   ],
   "source": [
    "start = time()\n",
    "# Calculate predicted values.\n",
    "y_pred = KMeans(n_clusters=3, random_state=42).fit_predict(X_test_norm)\n",
    "\n",
    "# Plot the solution.\n",
    "plt.scatter(X_test_norm[:, 0], X_test_norm[:, 1], c=y_pred)\n",
    "plt.show()\n",
    "\n",
    "print('Time: {} seconds '.format(time()-start))\n",
    "# Check the solution against the data.\n",
    "print('Comparing k-means clusters against the data:')\n",
    "print(pd.crosstab(y_pred, y_test))\n",
    "\n",
    "# going to add the info back into the dataframe later\n",
    "kmeans_clusters = y_pred"
   ]
  },
  {
   "cell_type": "markdown",
   "metadata": {},
   "source": [
    "Mean shift"
   ]
  },
  {
   "cell_type": "code",
   "execution_count": 94,
   "metadata": {},
   "outputs": [
    {
     "name": "stdout",
     "output_type": "stream",
     "text": [
      "Number of estimated clusters: 1\n"
     ]
    },
    {
     "data": {
      "image/png": "[encoded data removed]",
      "text/plain": [
       "<Figure size 432x288 with 1 Axes>"
      ]
     },
     "metadata": {},
     "output_type": "display_data"
    },
    {
     "name": "stdout",
     "output_type": "stream",
     "text": [
      "Comparing the assigned categories to the ones in the data:\n",
      "col_0       0\n",
      "author_id    \n",
      "1263465    10\n",
      "1435222     1\n",
      "1738456     5\n",
      "1967875    12\n",
      "2237917    14\n",
      "2244144    15\n",
      "2556543     7\n",
      "2843565     7\n",
      "2899838     3\n",
      "2974921    15\n",
      "2994342     1\n",
      "3057452     4\n",
      "3132605     5\n",
      "3139645     4\n",
      "3155955     3\n"
     ]
    }
   ],
   "source": [
    "ms.fit(X_test_norm)\n",
    "\n",
    "# Extract cluster assignments for each data point.\n",
    "labels = ms.labels_\n",
    "\n",
    "# Coordinates of the cluster centers.\n",
    "cluster_centers = ms.cluster_centers_\n",
    "\n",
    "# Count our clusters.\n",
    "n_clusters_ = len(np.unique(labels))\n",
    "\n",
    "print(\"Number of estimated clusters: {}\".format(n_clusters_))\n",
    "\n",
    "plt.scatter(X_test_norm[:, 0], X_test_norm[:, 1], c=labels)\n",
    "plt.show()\n",
    "\n",
    "print('Comparing the assigned categories to the ones in the data:')\n",
    "print(pd.crosstab(y_test,labels).head(15))\n"
   ]
  },
  {
   "cell_type": "code",
   "execution_count": 95,
   "metadata": {},
   "outputs": [],
   "source": [
    "clusters = ms.labels_.tolist()"
   ]
  },
  {
   "cell_type": "code",
   "execution_count": null,
   "metadata": {},
   "outputs": [],
   "source": []
  },
  {
   "cell_type": "code",
   "execution_count": 96,
   "metadata": {},
   "outputs": [],
   "source": [
    "# add the clusters as features for the next step\n",
    "\n",
    "X_test['cluster'] = clusters\n",
    "X_test['kmeans_cluster'] = kmeans_clusters"
   ]
  },
  {
   "cell_type": "markdown",
   "metadata": {},
   "source": [
    "## modelling\n",
    "\n",
    "same steps to add the features, then using the previously fit models on the holdout data to see how it works"
   ]
  },
  {
   "cell_type": "code",
   "execution_count": 97,
   "metadata": {},
   "outputs": [],
   "source": [
    "#X_test.columns.values"
   ]
  },
  {
   "cell_type": "markdown",
   "metadata": {},
   "source": [
    "The model below won't work because a column is missing. Let's see what it is and add it if that is feasible."
   ]
  },
  {
   "cell_type": "code",
   "execution_count": 98,
   "metadata": {},
   "outputs": [],
   "source": [
    "#test_cols = X_test_bin.columns.values\n",
    "#with_cols = withbin.columns.values\n",
    "\n",
    "#for col in with_cols:\n",
    "#    if col not in test_cols:\n",
    "#        print(col)"
   ]
  },
  {
   "cell_type": "code",
   "execution_count": 99,
   "metadata": {},
   "outputs": [],
   "source": [
    "# X_test_bin['industry_Advertising'] = 0"
   ]
  },
  {
   "cell_type": "markdown",
   "metadata": {},
   "source": [
    "gradient boosting\n"
   ]
  },
  {
   "cell_type": "code",
   "execution_count": 100,
   "metadata": {},
   "outputs": [
    {
     "name": "stdout",
     "output_type": "stream",
     "text": [
      "Holdout score: 0.0032948929159802307\n"
     ]
    }
   ],
   "source": [
    "new_testing_score = clf.score(X_test, y_test)\n",
    "\n",
    "print('Holdout score:', new_testing_score)"
   ]
  },
  {
   "cell_type": "code",
   "execution_count": 101,
   "metadata": {},
   "outputs": [
    {
     "name": "stderr",
     "output_type": "stream",
     "text": [
      "/anaconda3/lib/python3.6/site-packages/sklearn/model_selection/_split.py:605: Warning: The least populated class in y has only 1 members, which is too few. The minimum number of members in any class cannot be less than n_splits=10.\n",
      "  % (min_groups, self.n_splits)), Warning)\n"
     ]
    },
    {
     "name": "stdout",
     "output_type": "stream",
     "text": [
      "Accuracy: 0.53 (+/-  0.38)\n"
     ]
    }
   ],
   "source": [
    "scores_gb = cross_val_score(clf,X_test,y_test,cv=10)\n",
    "\n",
    "print(\"Accuracy: %0.2f (+/-  %0.2f)\" % (scores_gb.mean(), scores_gb.std()*2 ))"
   ]
  },
  {
   "cell_type": "markdown",
   "metadata": {},
   "source": [
    "logistic regression"
   ]
  },
  {
   "cell_type": "code",
   "execution_count": 102,
   "metadata": {},
   "outputs": [
    {
     "data": {
      "text/plain": [
       "0.6836902800658978"
      ]
     },
     "execution_count": 102,
     "metadata": {},
     "output_type": "execute_result"
    }
   ],
   "source": [
    "lr.score(X_test, y_test)"
   ]
  },
  {
   "cell_type": "code",
   "execution_count": 103,
   "metadata": {},
   "outputs": [
    {
     "name": "stderr",
     "output_type": "stream",
     "text": [
      "/anaconda3/lib/python3.6/site-packages/sklearn/model_selection/_split.py:605: Warning: The least populated class in y has only 1 members, which is too few. The minimum number of members in any class cannot be less than n_splits=10.\n",
      "  % (min_groups, self.n_splits)), Warning)\n"
     ]
    },
    {
     "name": "stdout",
     "output_type": "stream",
     "text": [
      "Accuracy: 0.63 (+/- 0.38)\n"
     ]
    }
   ],
   "source": [
    "lr_cv = cross_val_score(lr,X_test,y_test,cv=10)\n",
    "\n",
    "print(\"Accuracy: %0.2f (+/- %0.2f)\" % (lr_cv.mean(), lr_cv.std() * 2 ))"
   ]
  },
  {
   "cell_type": "markdown",
   "metadata": {},
   "source": [
    "random forest"
   ]
  },
  {
   "cell_type": "code",
   "execution_count": 104,
   "metadata": {},
   "outputs": [
    {
     "data": {
      "text/plain": [
       "0.35584843492586493"
      ]
     },
     "execution_count": 104,
     "metadata": {},
     "output_type": "execute_result"
    }
   ],
   "source": [
    "rfc.score(X_test,y_test)"
   ]
  },
  {
   "cell_type": "code",
   "execution_count": 105,
   "metadata": {},
   "outputs": [
    {
     "name": "stderr",
     "output_type": "stream",
     "text": [
      "/anaconda3/lib/python3.6/site-packages/sklearn/model_selection/_split.py:605: Warning: The least populated class in y has only 1 members, which is too few. The minimum number of members in any class cannot be less than n_splits=10.\n",
      "  % (min_groups, self.n_splits)), Warning)\n"
     ]
    },
    {
     "name": "stdout",
     "output_type": "stream",
     "text": [
      "Accuracy: 0.53 (+/- 0.38)\n"
     ]
    }
   ],
   "source": [
    "scores = cross_val_score(rfc, X_test,y_test,cv=10)\n",
    "\n",
    "print(\"Accuracy: %0.2f (+/- %0.2f)\" % (scores.mean(), scores.std() * 2))"
   ]
  },
  {
   "cell_type": "code",
   "execution_count": null,
   "metadata": {},
   "outputs": [],
   "source": []
  }
 ],
 "metadata": {
  "kernelspec": {
   "display_name": "Python 3",
   "language": "python",
   "name": "python3"
  },
  "language_info": {
   "codemirror_mode": {
    "name": "ipython",
    "version": 3
   },
   "file_extension": ".py",
   "mimetype": "text/x-python",
   "name": "python",
   "nbconvert_exporter": "python",
   "pygments_lexer": "ipython3",
   "version": "3.6.5"
  }
 },
 "nbformat": 4,
 "nbformat_minor": 2
}
