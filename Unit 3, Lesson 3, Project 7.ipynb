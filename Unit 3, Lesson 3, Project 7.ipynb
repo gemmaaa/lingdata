{
 "cells": [
  {
   "cell_type": "code",
   "execution_count": 2,
   "metadata": {},
   "outputs": [],
   "source": [
    "import numpy as np\n",
    "import pandas as pd\n",
    "import matplotlib.pyplot as plt\n",
    "%matplotlib inline"
   ]
  },
  {
   "cell_type": "markdown",
   "metadata": {},
   "source": [
    "### Instructions\n",
    "\n",
    "create two binomially distributed populations with n equal to 10 and size equal to 10000. The p-value of pop1 should be 0.2 and the p-value of pop2 should be 0.5. Using a sample size of 100, calculate the means and standard deviations of your samples.\n",
    "\n",
    "For each of the following tasks, first write what you expect will happen, then code the changes and observe what does happen. Discuss the results with your mentor."
   ]
  },
  {
   "cell_type": "code",
   "execution_count": 9,
   "metadata": {},
   "outputs": [
    {
     "data": {
      "image/png": "[encoded data removed]",
      "text/plain": [
       "<matplotlib.figure.Figure at 0x1124af470>"
      ]
     },
     "metadata": {},
     "output_type": "display_data"
    },
    {
     "name": "stdout",
     "output_type": "stream",
     "text": [
      "\n",
      "Size 100 sample from pop1 mean is 2.08 and standard dev is 1.2781236246936367\n",
      "\n",
      "Size 100 sample from pop2 mean is 4.7 and standard dev is 1.5264337522473748\n",
      "\n"
     ]
    }
   ],
   "source": [
    "# syntax: numpy.random.binomial(n, p, size=None)\n",
    "# n equal to 10 and size equal to 10000\n",
    "\n",
    "# create pop1 and pop2, pop1 p =.2; pop2 p =.5\n",
    "\n",
    "pop1 = np.random.binomial(10,0.2,size=10000)\n",
    "pop2 = np.random.binomial(10,0.5,size=10000)\n",
    "\n",
    "plt.plot(pop1, alpha=0.5, color='orange')\n",
    "plt.plot(pop2, alpha=0.5, color='blue')\n",
    "plt.show()\n",
    "\n",
    "# calculate the mean and standard devs of samples from these 2 pops, of size 100\n",
    "size_yuz = 100\n",
    "\n",
    "sample1 = np.random.choice(pop1, size_yuz, replace=True)\n",
    "sample2 = np.random.choice(pop2, size_yuz, replace=True)\n",
    "\n",
    "print('\\nSize {} sample from pop1 mean is {} and standard dev is {}\\n'.format(size_yuz, \n",
    "    sample1.mean(),sample1.std()))\n",
    "print('Size {} sample from pop2 mean is {} and standard dev is {}\\n'.format(size_yuz,\n",
    "    sample2.mean(),sample2.std()))"
   ]
  },
  {
   "cell_type": "markdown",
   "metadata": {},
   "source": [
    "## question 1 \n",
    "\n",
    "1 - Increase the size of your samples from 100 to 1000, then calculate the means and standard deviations for your new samples and create histograms for each. Repeat this again, decreasing the size of your samples to 20. What values change, and what remain the same?"
   ]
  },
  {
   "cell_type": "code",
   "execution_count": 10,
   "metadata": {},
   "outputs": [
    {
     "name": "stdout",
     "output_type": "stream",
     "text": [
      "\n",
      "Size 1000 sample from pop1 mean is 2.008 and standard dev is 1.2883850356162942\n",
      "\n",
      "Size 1000 sample from pop2 mean is 5.054 and standard dev is 1.5326721762986368\n",
      "\n"
     ]
    },
    {
     "data": {
      "image/png": "[encoded data removed]",
      "text/plain": [
       "<matplotlib.figure.Figure at 0x111257860>"
      ]
     },
     "metadata": {},
     "output_type": "display_data"
    }
   ],
   "source": [
    "# question 1\n",
    "# 1.1 - Increase the size of your samples from 100 to 1000, then calculate the means and \n",
    "# standard deviations for your new samples and create histograms for each. \n",
    "\n",
    "size_min = 1000\n",
    "\n",
    "sample11 = np.random.choice(pop1,size_min,replace=True)\n",
    "sample22 = np.random.choice(pop2,size_min,replace=True)\n",
    "\n",
    "print('\\nSize {} sample from pop1 mean is {} and standard dev is {}\\n'.format(size_min, \n",
    "    sample11.mean(),sample11.std()))\n",
    "print('Size {} sample from pop2 mean is {} and standard dev is {}\\n'.format(size_min,\n",
    "    sample22.mean(),sample22.std()))\n",
    "\n",
    "plt.hist(sample11, alpha=0.5, label='sample 1') \n",
    "plt.hist(sample22, alpha=0.5, label='sample 2') \n",
    "plt.legend(loc='upper right') \n",
    "plt.show()"
   ]
  },
  {
   "cell_type": "code",
   "execution_count": null,
   "metadata": {},
   "outputs": [],
   "source": [
    "# 1.2 - Repeat this again, decreasing the size of your samples to 20. \n",
    "# What values change, and what remain the same?"
   ]
  },
  {
   "cell_type": "code",
   "execution_count": 11,
   "metadata": {},
   "outputs": [
    {
     "name": "stdout",
     "output_type": "stream",
     "text": [
      "\n",
      "Size 20 sample from pop1 mean is 2.45 and standard dev is 1.2031209415515964\n",
      "\n",
      "Size 20 sample from pop2 mean is 4.3 and standard dev is 1.676305461424021\n",
      "\n"
     ]
    }
   ],
   "source": [
    "size_iyirmi = 20\n",
    "\n",
    "sample1 = np.random.choice(pop1, size_iyirmi, replace=True)\n",
    "sample2 = np.random.choice(pop2, size_iyirmi, replace=True)\n",
    "\n",
    "print('\\nSize {} sample from pop1 mean is {} and standard dev is {}\\n'.format(size_iyirmi, \n",
    "    sample1.mean(),sample1.std()))\n",
    "print('Size {} sample from pop2 mean is {} and standard dev is {}\\n'.format(size_iyirmi,\n",
    "    sample2.mean(),sample2.std()))"
   ]
  },
  {
   "cell_type": "markdown",
   "metadata": {},
   "source": [
    "### question 2 \n",
    "\n",
    "2 - Change the population value (p in the NumPy documentation) for pop1 to 0.3, then take new samples and compute the t-statistic and p-value. Then change the population value p for group 1 to 0.4, and do it again. What changes, and why?"
   ]
  },
  {
   "cell_type": "code",
   "execution_count": 15,
   "metadata": {},
   "outputs": [
    {
     "name": "stdout",
     "output_type": "stream",
     "text": [
      "\n",
      "Size 100 sample from pop1_newp mean is 2.89 and standard dev is 1.5290192935342575\n",
      "\n",
      "\n",
      "Size 1000 sample from pop1_newp mean is 2.955 and standard dev is 1.4194981507561042\n",
      "\n",
      "\n",
      "Size 20 sample from pop1_newp mean is 2.5 and standard dev is 1.2041594578792296\n",
      "\n"
     ]
    },
    {
     "data": {
      "image/png": "[encoded data removed]",
      "text/plain": [
       "<matplotlib.figure.Figure at 0x1110d37f0>"
      ]
     },
     "metadata": {},
     "output_type": "display_data"
    }
   ],
   "source": [
    "# syntax: numpy.random.binomial(n, p, size=None)\n",
    "# n equal to 10 and size equal to 10000\n",
    "\n",
    "# change p value of pop1 to 0.3, then take new samples and compute the t-statistic and p value\n",
    "\n",
    "pop1_newp = np.random.binomial(10,0.3,size=10000)\n",
    "\n",
    "# sample sizes were 100, 1000, and 20\n",
    "\n",
    "sample21 = np.random.choice(pop1_newp, size_yuz, replace=True)\n",
    "print('\\nSize {} sample from pop1_newp mean is {} and standard dev is {}\\n'.format(size_yuz, \n",
    "    sample21.mean(),sample21.std()))\n",
    "\n",
    "sample2_2 = np.random.choice(pop1_newp,size_min,replace=True)\n",
    "print('\\nSize {} sample from pop1_newp mean is {} and standard dev is {}\\n'.format(size_min, \n",
    "    sample2_2.mean(),sample2_2.std()))\n",
    "\n",
    "sample3_1 = np.random.choice(pop1_newp, size_iyirmi, replace=True)\n",
    "print('\\nSize {} sample from pop1_newp mean is {} and standard dev is {}\\n'.format(size_iyirmi, \n",
    "    sample3_1.mean(),sample3_1.std()))\n",
    "\n",
    "plt.hist(sample21, alpha=0.5, label='100') \n",
    "plt.hist(sample2_2, alpha=0.5, label='1000') \n",
    "plt.hist(sample3_1,alpha=0.5, label='20')\n",
    "plt.legend(loc='upper right') \n",
    "plt.show()"
   ]
  },
  {
   "cell_type": "code",
   "execution_count": 18,
   "metadata": {},
   "outputs": [
    {
     "name": "stdout",
     "output_type": "stream",
     "text": [
      "\n",
      "Size 100 sample from pop1_newp mean is 4.02 and standard dev is 1.6851112722903492\n",
      "\n",
      "\n",
      "Size 1000 sample from pop1_newp mean is 4.045 and standard dev is 1.5102897073078396\n",
      "\n",
      "\n",
      "Size 20 sample from pop1_newp mean is 3.1 and standard dev is 1.2206555615733703\n",
      "\n"
     ]
    },
    {
     "data": {
      "image/png": "[encoded data removed]",
      "text/plain": [
       "<matplotlib.figure.Figure at 0x1124a7a58>"
      ]
     },
     "metadata": {},
     "output_type": "display_data"
    }
   ],
   "source": [
    "# Then change the population value p for group 1 to 0.4, and do it again. \n",
    "# What changes, and why?\n",
    "\n",
    "pop1_newp2 = np.random.binomial(10,0.4,size=10000)\n",
    "\n",
    "# sample sizes were 100, 1000, and 20\n",
    "\n",
    "sample21 = np.random.choice(pop1_newp2, size_yuz, replace=True)\n",
    "print('\\nSize {} sample from pop1_newp mean is {} and standard dev is {}\\n'.format(size_yuz, \n",
    "    sample21.mean(),sample21.std()))\n",
    "\n",
    "sample2_2 = np.random.choice(pop1_newp2,size_min,replace=True)\n",
    "print('\\nSize {} sample from pop1_newp mean is {} and standard dev is {}\\n'.format(size_min, \n",
    "    sample2_2.mean(),sample2_2.std()))\n",
    "\n",
    "sample3_1 = np.random.choice(pop1_newp2, size_iyirmi, replace=True)\n",
    "print('\\nSize {} sample from pop1_newp mean is {} and standard dev is {}\\n'.format(size_iyirmi, \n",
    "    sample3_1.mean(),sample3_1.std()))\n",
    "\n",
    "plt.hist(sample21, alpha=0.5, label='100') \n",
    "plt.hist(sample2_2, alpha=0.5, label='1000') \n",
    "plt.hist(sample3_1,alpha=0.5, label='20')\n",
    "plt.legend(loc='upper right') \n",
    "plt.show()"
   ]
  },
  {
   "cell_type": "markdown",
   "metadata": {},
   "source": [
    "### question 3 \n",
    "\n",
    "3 - Change the distribution of your populations from binomial to a distribution of your choice. Do the sample mean values still accurately represent the population values?"
   ]
  },
  {
   "cell_type": "code",
   "execution_count": 20,
   "metadata": {},
   "outputs": [
    {
     "data": {
      "image/png": "[encoded data removed]",
      "text/plain": [
       "<matplotlib.figure.Figure at 0x111227cc0>"
      ]
     },
     "metadata": {},
     "output_type": "display_data"
    }
   ],
   "source": [
    "# np.random.normal(mean, sd, n)\n",
    "\n",
    "newone1 = np.random.normal(10,0.2,size=1000)\n",
    "newone2 = np.random.normal(10,0.5,size=10000)\n",
    "\n",
    "plt.plot(newone1, alpha=0.5, color='orange')\n",
    "plt.plot(newone2, alpha=0.5, color='blue')\n",
    "plt.show()\n",
    "\n",
    "# According to the Central Limit Theorem, the mean values will still represent\n",
    "# the pop values accurately."
   ]
  },
  {
   "cell_type": "code",
   "execution_count": null,
   "metadata": {},
   "outputs": [],
   "source": []
  }
 ],
 "metadata": {
  "kernelspec": {
   "display_name": "Python 3",
   "language": "python",
   "name": "python3"
  },
  "language_info": {
   "codemirror_mode": {
    "name": "ipython",
    "version": 3
   },
   "file_extension": ".py",
   "mimetype": "text/x-python",
   "name": "python",
   "nbconvert_exporter": "python",
   "pygments_lexer": "ipython3",
   "version": "3.6.0"
  }
 },
 "nbformat": 4,
 "nbformat_minor": 2
}
