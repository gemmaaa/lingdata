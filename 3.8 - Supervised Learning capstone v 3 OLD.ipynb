{
 "cells": [
  {
   "cell_type": "markdown",
   "metadata": {},
   "source": [
    "# UNHCR Refugee Data - Predicting acceptance of refugee / asylee groups"
   ]
  },
  {
   "cell_type": "markdown",
   "metadata": {},
   "source": [
    "## Abstract\n",
    "\n",
    "## Introduction\n",
    "\n",
    "[UNHCR Refugee Data](https://www.kaggle.com/unitednations/refugee-data)  \n",
    "\n",
    "## Research Questions\n",
    "\n",
    "<ol>\n",
    "    <li>What features are common across groups of refugees / asylees with high percentage of acceptance  rates? </li>\n",
    "    <li>Does country of origin play a role in acceptance rate?</li>\n",
    "    <li>Does  gender of the asylees / refugees in each group play role? </li>\n",
    "</ol>\n"
   ]
  },
  {
   "cell_type": "markdown",
   "metadata": {},
   "source": [
    "## Imports"
   ]
  },
  {
   "cell_type": "code",
   "execution_count": 1,
   "metadata": {},
   "outputs": [],
   "source": [
    "import numpy as np\n",
    "import pandas as pd\n",
    "import scipy\n",
    "from scipy import stats\n",
    "import matplotlib.pyplot as plt\n",
    "import seaborn as sns\n",
    "%matplotlib inline\n",
    "\n",
    "import sklearn\n",
    "from sklearn.model_selection import cross_val_score\n",
    "from sklearn.model_selection import train_test_split"
   ]
  },
  {
   "cell_type": "markdown",
   "metadata": {},
   "source": [
    "## Data Import, Cleaning"
   ]
  },
  {
   "cell_type": "code",
   "execution_count": 2,
   "metadata": {},
   "outputs": [],
   "source": [
    "path = '/Users/gemma/Documents/data science/DS bootcamp prep/datasets/refugee-data/'\n",
    "\n",
    "# Data from the UNHCR\n",
    "\n",
    "asylees = pd.read_csv(path+'asylum_seekers.csv', low_memory=False)\n",
    "demographics = pd.read_csv(path+'demographics.csv', low_memory=False)\n",
    "\n",
    "# Data from the IUCN Red List - standardized list of countries and their regions\n",
    "\n",
    "regions = pd.read_csv(path+'countries_regions_from_iucnredlist.csv')\n"
   ]
  },
  {
   "cell_type": "markdown",
   "metadata": {},
   "source": [
    "I will import and clean up each of the three dataframes in order, and then merge them.\n",
    "\n",
    "### 1. Asylees"
   ]
  },
  {
   "cell_type": "code",
   "execution_count": 3,
   "metadata": {},
   "outputs": [
    {
     "data": {
      "text/html": [
       "<div>\n",
       "<style scoped>\n",
       "    .dataframe tbody tr th:only-of-type {\n",
       "        vertical-align: middle;\n",
       "    }\n",
       "\n",
       "    .dataframe tbody tr th {\n",
       "        vertical-align: top;\n",
       "    }\n",
       "\n",
       "    .dataframe thead th {\n",
       "        text-align: right;\n",
       "    }\n",
       "</style>\n",
       "<table border=\"1\" class=\"dataframe\">\n",
       "  <thead>\n",
       "    <tr style=\"text-align: right;\">\n",
       "      <th></th>\n",
       "      <th>Year</th>\n",
       "      <th>Country / territory of asylum/residence</th>\n",
       "      <th>Origin</th>\n",
       "      <th>RSD procedure type / level</th>\n",
       "      <th>Tota pending start-year</th>\n",
       "      <th>of which UNHCR-assisted(start-year)</th>\n",
       "      <th>Applied during year</th>\n",
       "      <th>decisions_recognized</th>\n",
       "      <th>decisions_other</th>\n",
       "      <th>Rejected</th>\n",
       "      <th>Otherwise closed</th>\n",
       "      <th>Total decisions</th>\n",
       "      <th>Total pending end-year</th>\n",
       "      <th>of which UNHCR-assisted(end-year)</th>\n",
       "    </tr>\n",
       "  </thead>\n",
       "  <tbody>\n",
       "    <tr>\n",
       "      <th>0</th>\n",
       "      <td>2000</td>\n",
       "      <td>Zimbabwe</td>\n",
       "      <td>Afghanistan</td>\n",
       "      <td>G / FI</td>\n",
       "      <td>0</td>\n",
       "      <td>0</td>\n",
       "      <td>5</td>\n",
       "      <td>5</td>\n",
       "      <td>0</td>\n",
       "      <td>0</td>\n",
       "      <td>0</td>\n",
       "      <td>5</td>\n",
       "      <td>0</td>\n",
       "      <td>0</td>\n",
       "    </tr>\n",
       "    <tr>\n",
       "      <th>1</th>\n",
       "      <td>2000</td>\n",
       "      <td>South Africa</td>\n",
       "      <td>Afghanistan</td>\n",
       "      <td>G / FI</td>\n",
       "      <td>8</td>\n",
       "      <td>1</td>\n",
       "      <td>0</td>\n",
       "      <td>0</td>\n",
       "      <td>0</td>\n",
       "      <td>0</td>\n",
       "      <td>0</td>\n",
       "      <td>NaN</td>\n",
       "      <td>8</td>\n",
       "      <td>0</td>\n",
       "    </tr>\n",
       "    <tr>\n",
       "      <th>2</th>\n",
       "      <td>2000</td>\n",
       "      <td>Uzbekistan</td>\n",
       "      <td>Afghanistan</td>\n",
       "      <td>U / FI</td>\n",
       "      <td>265</td>\n",
       "      <td>265</td>\n",
       "      <td>2156</td>\n",
       "      <td>747</td>\n",
       "      <td>0</td>\n",
       "      <td>112</td>\n",
       "      <td>327</td>\n",
       "      <td>1186</td>\n",
       "      <td>1235</td>\n",
       "      <td>1235</td>\n",
       "    </tr>\n",
       "  </tbody>\n",
       "</table>\n",
       "</div>"
      ],
      "text/plain": [
       "   Year Country / territory of asylum/residence       Origin  \\\n",
       "0  2000                                Zimbabwe  Afghanistan   \n",
       "1  2000                            South Africa  Afghanistan   \n",
       "2  2000                              Uzbekistan  Afghanistan   \n",
       "\n",
       "  RSD procedure type / level Tota pending start-year  \\\n",
       "0                     G / FI                       0   \n",
       "1                     G / FI                       8   \n",
       "2                     U / FI                     265   \n",
       "\n",
       "  of which UNHCR-assisted(start-year) Applied during year  \\\n",
       "0                                   0                   5   \n",
       "1                                   1                   0   \n",
       "2                                 265                2156   \n",
       "\n",
       "  decisions_recognized decisions_other Rejected Otherwise closed  \\\n",
       "0                    5               0        0                0   \n",
       "1                    0               0        0                0   \n",
       "2                  747               0      112              327   \n",
       "\n",
       "  Total decisions Total pending end-year of which UNHCR-assisted(end-year)  \n",
       "0               5                      0                                 0  \n",
       "1             NaN                      8                                 0  \n",
       "2            1186                   1235                              1235  "
      ]
     },
     "execution_count": 3,
     "metadata": {},
     "output_type": "execute_result"
    }
   ],
   "source": [
    "asylees.head(3)"
   ]
  },
  {
   "cell_type": "markdown",
   "metadata": {},
   "source": [
    "This dataframe has data on asylees' yearly progress through the refugee process. Let's take a look at the amount of data and the types of data that are stored here."
   ]
  },
  {
   "cell_type": "code",
   "execution_count": 4,
   "metadata": {},
   "outputs": [
    {
     "name": "stdout",
     "output_type": "stream",
     "text": [
      "<class 'pandas.core.frame.DataFrame'>\n",
      "RangeIndex: 129720 entries, 0 to 129719\n",
      "Data columns (total 14 columns):\n",
      "Year                                       129720 non-null int64\n",
      "Country / territory of asylum/residence    129720 non-null object\n",
      "Origin                                     129720 non-null object\n",
      "RSD procedure type / level                 129719 non-null object\n",
      "Tota pending start-year                    124578 non-null object\n",
      "of which UNHCR-assisted(start-year)        118962 non-null object\n",
      "Applied during year                        126222 non-null object\n",
      "decisions_recognized                       119886 non-null object\n",
      "decisions_other                            114974 non-null object\n",
      "Rejected                                   121615 non-null object\n",
      "Otherwise closed                           120850 non-null object\n",
      "Total decisions                            97082 non-null object\n",
      "Total pending end-year                     125832 non-null object\n",
      "of which UNHCR-assisted(end-year)          121883 non-null object\n",
      "dtypes: int64(1), object(13)\n",
      "memory usage: 13.9+ MB\n"
     ]
    }
   ],
   "source": [
    "asylees.info()"
   ]
  },
  {
   "cell_type": "code",
   "execution_count": 5,
   "metadata": {
    "scrolled": true
   },
   "outputs": [
    {
     "data": {
      "text/plain": [
       "Year                                           0\n",
       "Country / territory of asylum/residence        0\n",
       "Origin                                         0\n",
       "RSD procedure type / level                     1\n",
       "Tota pending start-year                     5142\n",
       "of which UNHCR-assisted(start-year)        10758\n",
       "Applied during year                         3498\n",
       "decisions_recognized                        9834\n",
       "decisions_other                            14746\n",
       "Rejected                                    8105\n",
       "Otherwise closed                            8870\n",
       "Total decisions                            32638\n",
       "Total pending end-year                      3888\n",
       "of which UNHCR-assisted(end-year)           7837\n",
       "dtype: int64"
      ]
     },
     "execution_count": 5,
     "metadata": {},
     "output_type": "execute_result"
    }
   ],
   "source": [
    "asylees.isnull().sum()"
   ]
  },
  {
   "cell_type": "code",
   "execution_count": 6,
   "metadata": {},
   "outputs": [
    {
     "data": {
      "text/plain": [
       "105317"
      ]
     },
     "execution_count": 6,
     "metadata": {},
     "output_type": "execute_result"
    }
   ],
   "source": [
    "asylees.isnull().sum().sum()"
   ]
  },
  {
   "cell_type": "markdown",
   "metadata": {},
   "source": [
    "It also looks like there is a lot of missing data. Filling the missing data with 0 could create inaccuracies, but excluding records with missing data could also bias the results: Presumably the records with missing data are from groups/locations with the least amount of resources to collect data, so excluding these groups from analysis could further marginalize them.\n",
    "\n",
    "After considering both of these issues, and this specific dataframe, I decided to drop the rows with missing data because of the sheer size of the dataframe. However, it is a good idea to keep this process in mind when looking at the results."
   ]
  },
  {
   "cell_type": "code",
   "execution_count": 7,
   "metadata": {},
   "outputs": [],
   "source": [
    "asylees.dropna(axis=0,how='any', inplace=True)\n"
   ]
  },
  {
   "cell_type": "code",
   "execution_count": 8,
   "metadata": {},
   "outputs": [
    {
     "name": "stdout",
     "output_type": "stream",
     "text": [
      "<class 'pandas.core.frame.DataFrame'>\n",
      "Int64Index: 85187 entries, 0 to 129709\n",
      "Data columns (total 14 columns):\n",
      "Year                                       85187 non-null int64\n",
      "Country / territory of asylum/residence    85187 non-null object\n",
      "Origin                                     85187 non-null object\n",
      "RSD procedure type / level                 85187 non-null object\n",
      "Tota pending start-year                    85187 non-null object\n",
      "of which UNHCR-assisted(start-year)        85187 non-null object\n",
      "Applied during year                        85187 non-null object\n",
      "decisions_recognized                       85187 non-null object\n",
      "decisions_other                            85187 non-null object\n",
      "Rejected                                   85187 non-null object\n",
      "Otherwise closed                           85187 non-null object\n",
      "Total decisions                            85187 non-null object\n",
      "Total pending end-year                     85187 non-null object\n",
      "of which UNHCR-assisted(end-year)          85187 non-null object\n",
      "dtypes: int64(1), object(13)\n",
      "memory usage: 9.7+ MB\n"
     ]
    }
   ],
   "source": [
    "asylees.info()"
   ]
  },
  {
   "cell_type": "markdown",
   "metadata": {},
   "source": [
    "Because all of these columns are stored as objects, including the numeric columns, I am going to convert them to numeric values."
   ]
  },
  {
   "cell_type": "code",
   "execution_count": 9,
   "metadata": {},
   "outputs": [],
   "source": [
    "# the ints/floats in the table are stored as strings, need to convert...\n",
    "\n",
    "colnames = asylees.columns.values\n",
    "asylees[colnames[4:]] = asylees[colnames[4:]].apply(pd.to_numeric, \n",
    "                                                    errors='coerce', axis=1)\n",
    "\n",
    "# if anything is less than 0 just make it 0, otherwise it will mess up later on\n",
    "for col in colnames[4:]:\n",
    "    asylees[col] = asylees[col].apply(lambda x: 0 if x < 0 else x)"
   ]
  },
  {
   "cell_type": "markdown",
   "metadata": {},
   "source": [
    "I'm also going to add a column to show the percentage accepted and percentage rejected per record.\n",
    "\n",
    "First, I need to get an accurate number of total asylees / refugees for that year and country, and then divide 'decisions_recognized' and 'rejected' by the resulting number.\n",
    "\n",
    "To get the total number, I was initially planning on adding up the columns 'Applied during year' and 'Tota pending start-year' to . However, there were some instances where the values under \"Applied during year\" and \"Total pending start-year\" were listed as 0 even though the the decisions_recognized or Rejected was greater than 0. (This is probably due to my filling NaN with 0.) See below:"
   ]
  },
  {
   "cell_type": "code",
   "execution_count": 10,
   "metadata": {},
   "outputs": [
    {
     "data": {
      "text/plain": [
       "Year                                                           2009\n",
       "Country / territory of asylum/residence    United States of America\n",
       "Origin                                                      Romania\n",
       "RSD procedure type / level                                   G / EO\n",
       "Tota pending start-year                                          67\n",
       "of which UNHCR-assisted(start-year)                               0\n",
       "Applied during year                                              37\n",
       "decisions_recognized                                             30\n",
       "decisions_other                                                   0\n",
       "Rejected                                                         31\n",
       "Otherwise closed                                                 57\n",
       "Total decisions                                                 118\n",
       "Total pending end-year                                           67\n",
       "of which UNHCR-assisted(end-year)                                 0\n",
       "Name: 62013, dtype: object"
      ]
     },
     "execution_count": 10,
     "metadata": {},
     "output_type": "execute_result"
    }
   ],
   "source": [
    "asylees.iloc[48891]"
   ]
  },
  {
   "cell_type": "markdown",
   "metadata": {},
   "source": [
    "So instead, I chose to add up the columns 'Total decisions' and 'Total pending end-year'.\n",
    "\n",
    "Then, I'll divide 'decisions_recognized' and 'Rejected' by that result."
   ]
  },
  {
   "cell_type": "code",
   "execution_count": 11,
   "metadata": {},
   "outputs": [
    {
     "data": {
      "text/plain": [
       "Year                                       0\n",
       "Country / territory of asylum/residence    0\n",
       "Origin                                     0\n",
       "RSD procedure type / level                 0\n",
       "Tota pending start-year                    0\n",
       "of which UNHCR-assisted(start-year)        0\n",
       "Applied during year                        0\n",
       "decisions_recognized                       0\n",
       "decisions_other                            0\n",
       "Rejected                                   0\n",
       "Otherwise closed                           0\n",
       "Total decisions                            0\n",
       "Total pending end-year                     0\n",
       "of which UNHCR-assisted(end-year)          0\n",
       "dtype: int64"
      ]
     },
     "execution_count": 11,
     "metadata": {},
     "output_type": "execute_result"
    }
   ],
   "source": [
    "asylees.dropna(axis=0,how='any', inplace=True)\n",
    "\n",
    "asylees.isnull().sum()"
   ]
  },
  {
   "cell_type": "code",
   "execution_count": 12,
   "metadata": {},
   "outputs": [
    {
     "name": "stdout",
     "output_type": "stream",
     "text": [
      "<class 'pandas.core.frame.DataFrame'>\n",
      "Int64Index: 84459 entries, 0 to 129680\n",
      "Data columns (total 14 columns):\n",
      "Year                                       84459 non-null int64\n",
      "Country / territory of asylum/residence    84459 non-null object\n",
      "Origin                                     84459 non-null object\n",
      "RSD procedure type / level                 84459 non-null object\n",
      "Tota pending start-year                    84459 non-null float64\n",
      "of which UNHCR-assisted(start-year)        84459 non-null float64\n",
      "Applied during year                        84459 non-null float64\n",
      "decisions_recognized                       84459 non-null float64\n",
      "decisions_other                            84459 non-null float64\n",
      "Rejected                                   84459 non-null float64\n",
      "Otherwise closed                           84459 non-null float64\n",
      "Total decisions                            84459 non-null float64\n",
      "Total pending end-year                     84459 non-null float64\n",
      "of which UNHCR-assisted(end-year)          84459 non-null float64\n",
      "dtypes: float64(10), int64(1), object(3)\n",
      "memory usage: 9.7+ MB\n"
     ]
    }
   ],
   "source": [
    "asylees.info()"
   ]
  },
  {
   "cell_type": "code",
   "execution_count": 15,
   "metadata": {},
   "outputs": [],
   "source": [
    "# getting the total\n",
    "asylees['Total_to_divide'] = (asylees['Total decisions'] + \n",
    "                              asylees['Total pending end-year']).astype(int)\n",
    "\n",
    "# getting the % recognized (accepted) for each row\n",
    "asylees['percentage_accepted'] = ((asylees['decisions_recognized']) / \n",
    "                                  (asylees['Total_to_divide'])*100).apply(pd.to_numeric, \n",
    "                                                                          errors='coerce').fillna(0)\n",
    "\n",
    "# % rejected\n",
    "asylees['percentage_rejected'] = ((asylees['Rejected']) / \n",
    "                                  (asylees['Total_to_divide'])*100).apply(pd.to_numeric, \n",
    "                                                                          errors='coerce').fillna(0)\n"
   ]
  },
  {
   "cell_type": "markdown",
   "metadata": {},
   "source": [
    "Taking a look at the distribution overall of acceptance and rejection rates:"
   ]
  },
  {
   "cell_type": "code",
   "execution_count": 16,
   "metadata": {},
   "outputs": [
    {
     "data": {
      "image/png": "[encoded data removed]",
      "text/plain": [
       "<matplotlib.figure.Figure at 0x121ec77f0>"
      ]
     },
     "metadata": {},
     "output_type": "display_data"
    }
   ],
   "source": [
    "plt.figure(figsize=(10,5))\n",
    "\n",
    "plt.subplot(1,2,1)\n",
    "plt.boxplot(asylees['percentage_accepted'])\n",
    "plt.title('Acceptance %s Overall')\n",
    "\n",
    "\n",
    "plt.subplot(1,2,2)\n",
    "plt.boxplot(asylees['percentage_rejected'])\n",
    "plt.title('Rejection %s Overall')\n",
    "plt.show()"
   ]
  },
  {
   "cell_type": "markdown",
   "metadata": {},
   "source": [
    "Let's look at the countries of asylum that accepted the highest percentages, and countries of origin that had the highest acceptance percentages."
   ]
  },
  {
   "cell_type": "code",
   "execution_count": 17,
   "metadata": {},
   "outputs": [
    {
     "data": {
      "image/png": "[encoded data removed]",
      "text/plain": [
       "<matplotlib.figure.Figure at 0x121127860>"
      ]
     },
     "metadata": {},
     "output_type": "display_data"
    }
   ],
   "source": [
    "accepted_r = asylees.groupby('Country / territory of asylum/residence')['percentage_accepted'].mean().sort_values(ascending=False)\n",
    "\n",
    "accepted_origin = asylees.groupby('Origin')['percentage_accepted'].mean().sort_values(ascending=False)\n",
    "\n",
    "plt.figure(figsize=(10,4))\n",
    "\n",
    "plt.subplot(1,2,1)\n",
    "\n",
    "ax = accepted_r[:10].plot(kind='bar')\n",
    "ax.set_ylabel('% accepted')\n",
    "ax.set_ylim([0,100])\n",
    "ax.set_title('Accepting Highest Average %')\n",
    "ax.set_xticklabels(accepted_r[:10].index.values)\n",
    "plt.setp(ax.get_xticklabels(), rotation=30, horizontalalignment='right')\n",
    "\n",
    "plt.subplot(1,2,2)\n",
    "\n",
    "ax = accepted_origin[:10].plot(kind='bar')\n",
    "ax.set_ylim([0,100])\n",
    "ax.set_ylabel('% accepted')\n",
    "ax.set_title('Highest Average Acceptance % ')\n",
    "ax.set_xticklabels(accepted_origin[:10].index.values)\n",
    "\n",
    "plt.setp(ax.get_xticklabels(), rotation=30, horizontalalignment='right')\n",
    "\n",
    "plt.show()\n"
   ]
  },
  {
   "cell_type": "markdown",
   "metadata": {},
   "source": [
    "And let's also look at the countries of asylum that rejected the highest percentages, and countries of origin that had the highest rejection percentages."
   ]
  },
  {
   "cell_type": "code",
   "execution_count": 18,
   "metadata": {},
   "outputs": [
    {
     "data": {
      "image/png": "[encoded data removed]",
      "text/plain": [
       "<matplotlib.figure.Figure at 0x11a497748>"
      ]
     },
     "metadata": {},
     "output_type": "display_data"
    }
   ],
   "source": [
    "rejected_r = asylees.groupby('Country / territory of asylum/residence')['percentage_rejected'].mean().sort_values(ascending=False)\n",
    "\n",
    "rejected_origin = asylees.groupby('Origin')['percentage_rejected'].mean().sort_values(ascending=False)\n",
    "\n",
    "plt.figure(figsize=(10,4))\n",
    "\n",
    "plt.subplot(1,2,1)\n",
    "\n",
    "ax = rejected_r[:10].plot(kind='bar')\n",
    "ax.set_ylim([0,100])\n",
    "ax.set_ylabel('% Rejected')\n",
    "ax.set_title('Rejecting Highest Average %')\n",
    "ax.set_xticklabels(rejected_r[:10].index.values)\n",
    "plt.setp(ax.get_xticklabels(), rotation=30, horizontalalignment='right')\n",
    "\n",
    "plt.subplot(1,2,2)\n",
    "\n",
    "ax = rejected_origin[:10].plot(kind='bar')\n",
    "ax.set_ylim([0,100])\n",
    "ax.set_ylabel('% Rejected')\n",
    "ax.set_title('Highest Average Rejection % ')\n",
    "ax.set_xticklabels(rejected_origin[:10].index.values)\n",
    "\n",
    "plt.setp(ax.get_xticklabels(), rotation=30, horizontalalignment='right')\n",
    "\n",
    "plt.show()\n"
   ]
  },
  {
   "cell_type": "markdown",
   "metadata": {},
   "source": [
    "Finally, let's look at the RSD variable, which is referring to the refugee status of the group."
   ]
  },
  {
   "cell_type": "code",
   "execution_count": 19,
   "metadata": {},
   "outputs": [
    {
     "data": {
      "text/plain": [
       "RSD procedure type / level\n",
       "G / AR    12103\n",
       "G / BL      113\n",
       "G / CA      216\n",
       "G / EO     2424\n",
       "G / FA     5634\n",
       "G / FI    41440\n",
       "G / IN     2237\n",
       "G / JR     1299\n",
       "G / NA     1912\n",
       "G / RA     2427\n",
       "G / SP      296\n",
       "G / TA      251\n",
       "G / TP      120\n",
       "G / TR       12\n",
       "G / ar       41\n",
       "G / fi       50\n",
       "J / AR       18\n",
       "J / FA      282\n",
       "J / FI      451\n",
       "J / RA        3\n",
       "U / AR     2049\n",
       "U / FA     2135\n",
       "U / FI     8466\n",
       "U / JR        4\n",
       "U / RA      476\n",
       "Name: Year, dtype: int64"
      ]
     },
     "execution_count": 19,
     "metadata": {},
     "output_type": "execute_result"
    }
   ],
   "source": [
    "asylees.groupby('RSD procedure type / level')['Year'].count()"
   ]
  },
  {
   "cell_type": "markdown",
   "metadata": {},
   "source": [
    "It looks like these might be mistakes that need to be replaced: \n",
    "\n",
    "*  G / ar       41\n",
    "*  G / fi       50"
   ]
  },
  {
   "cell_type": "code",
   "execution_count": 20,
   "metadata": {},
   "outputs": [],
   "source": [
    "asylees.replace(to_replace=['G / ar', 'G / fi'] , value=['G / AR', 'G / FI'], inplace=True)"
   ]
  },
  {
   "cell_type": "code",
   "execution_count": 21,
   "metadata": {},
   "outputs": [],
   "source": [
    "binarized_a = pd.get_dummies(asylees['RSD procedure type / level'])\n",
    "\n",
    "# join the dummies back up with the countries names\n",
    "\n",
    "asylees2 = pd.concat([asylees.drop('RSD procedure type / level',1), binarized_a], \n",
    "                     axis=1, join_axes=[asylees.index])"
   ]
  },
  {
   "cell_type": "code",
   "execution_count": 22,
   "metadata": {},
   "outputs": [
    {
     "data": {
      "text/html": [
       "<div>\n",
       "<style scoped>\n",
       "    .dataframe tbody tr th:only-of-type {\n",
       "        vertical-align: middle;\n",
       "    }\n",
       "\n",
       "    .dataframe tbody tr th {\n",
       "        vertical-align: top;\n",
       "    }\n",
       "\n",
       "    .dataframe thead th {\n",
       "        text-align: right;\n",
       "    }\n",
       "</style>\n",
       "<table border=\"1\" class=\"dataframe\">\n",
       "  <thead>\n",
       "    <tr style=\"text-align: right;\">\n",
       "      <th></th>\n",
       "      <th>Year</th>\n",
       "      <th>Country / territory of asylum/residence</th>\n",
       "      <th>Origin</th>\n",
       "      <th>Tota pending start-year</th>\n",
       "      <th>of which UNHCR-assisted(start-year)</th>\n",
       "      <th>Applied during year</th>\n",
       "      <th>decisions_recognized</th>\n",
       "      <th>decisions_other</th>\n",
       "      <th>Rejected</th>\n",
       "      <th>Otherwise closed</th>\n",
       "      <th>...</th>\n",
       "      <th>G / TR</th>\n",
       "      <th>J / AR</th>\n",
       "      <th>J / FA</th>\n",
       "      <th>J / FI</th>\n",
       "      <th>J / RA</th>\n",
       "      <th>U / AR</th>\n",
       "      <th>U / FA</th>\n",
       "      <th>U / FI</th>\n",
       "      <th>U / JR</th>\n",
       "      <th>U / RA</th>\n",
       "    </tr>\n",
       "  </thead>\n",
       "  <tbody>\n",
       "    <tr>\n",
       "      <th>0</th>\n",
       "      <td>2000</td>\n",
       "      <td>Zimbabwe</td>\n",
       "      <td>Afghanistan</td>\n",
       "      <td>0.0</td>\n",
       "      <td>0.0</td>\n",
       "      <td>5.0</td>\n",
       "      <td>5.0</td>\n",
       "      <td>0.0</td>\n",
       "      <td>0.0</td>\n",
       "      <td>0.0</td>\n",
       "      <td>...</td>\n",
       "      <td>0</td>\n",
       "      <td>0</td>\n",
       "      <td>0</td>\n",
       "      <td>0</td>\n",
       "      <td>0</td>\n",
       "      <td>0</td>\n",
       "      <td>0</td>\n",
       "      <td>0</td>\n",
       "      <td>0</td>\n",
       "      <td>0</td>\n",
       "    </tr>\n",
       "    <tr>\n",
       "      <th>2</th>\n",
       "      <td>2000</td>\n",
       "      <td>Uzbekistan</td>\n",
       "      <td>Afghanistan</td>\n",
       "      <td>265.0</td>\n",
       "      <td>265.0</td>\n",
       "      <td>2156.0</td>\n",
       "      <td>747.0</td>\n",
       "      <td>0.0</td>\n",
       "      <td>112.0</td>\n",
       "      <td>327.0</td>\n",
       "      <td>...</td>\n",
       "      <td>0</td>\n",
       "      <td>0</td>\n",
       "      <td>0</td>\n",
       "      <td>0</td>\n",
       "      <td>0</td>\n",
       "      <td>0</td>\n",
       "      <td>0</td>\n",
       "      <td>1</td>\n",
       "      <td>0</td>\n",
       "      <td>0</td>\n",
       "    </tr>\n",
       "    <tr>\n",
       "      <th>3</th>\n",
       "      <td>2000</td>\n",
       "      <td>United States of America</td>\n",
       "      <td>Afghanistan</td>\n",
       "      <td>196.0</td>\n",
       "      <td>0.0</td>\n",
       "      <td>225.0</td>\n",
       "      <td>151.0</td>\n",
       "      <td>0.0</td>\n",
       "      <td>31.0</td>\n",
       "      <td>68.0</td>\n",
       "      <td>...</td>\n",
       "      <td>0</td>\n",
       "      <td>0</td>\n",
       "      <td>0</td>\n",
       "      <td>0</td>\n",
       "      <td>0</td>\n",
       "      <td>0</td>\n",
       "      <td>0</td>\n",
       "      <td>0</td>\n",
       "      <td>0</td>\n",
       "      <td>0</td>\n",
       "    </tr>\n",
       "    <tr>\n",
       "      <th>4</th>\n",
       "      <td>2000</td>\n",
       "      <td>United States of America</td>\n",
       "      <td>Afghanistan</td>\n",
       "      <td>193.0</td>\n",
       "      <td>0.0</td>\n",
       "      <td>218.0</td>\n",
       "      <td>182.0</td>\n",
       "      <td>0.0</td>\n",
       "      <td>51.0</td>\n",
       "      <td>40.0</td>\n",
       "      <td>...</td>\n",
       "      <td>0</td>\n",
       "      <td>0</td>\n",
       "      <td>0</td>\n",
       "      <td>0</td>\n",
       "      <td>0</td>\n",
       "      <td>0</td>\n",
       "      <td>0</td>\n",
       "      <td>0</td>\n",
       "      <td>0</td>\n",
       "      <td>0</td>\n",
       "    </tr>\n",
       "    <tr>\n",
       "      <th>5</th>\n",
       "      <td>2000</td>\n",
       "      <td>Ukraine</td>\n",
       "      <td>Afghanistan</td>\n",
       "      <td>40.0</td>\n",
       "      <td>0.0</td>\n",
       "      <td>662.0</td>\n",
       "      <td>275.0</td>\n",
       "      <td>0.0</td>\n",
       "      <td>412.0</td>\n",
       "      <td>0.0</td>\n",
       "      <td>...</td>\n",
       "      <td>0</td>\n",
       "      <td>0</td>\n",
       "      <td>0</td>\n",
       "      <td>0</td>\n",
       "      <td>0</td>\n",
       "      <td>0</td>\n",
       "      <td>0</td>\n",
       "      <td>0</td>\n",
       "      <td>0</td>\n",
       "      <td>0</td>\n",
       "    </tr>\n",
       "  </tbody>\n",
       "</table>\n",
       "<p>5 rows × 39 columns</p>\n",
       "</div>"
      ],
      "text/plain": [
       "   Year Country / territory of asylum/residence       Origin  \\\n",
       "0  2000                                Zimbabwe  Afghanistan   \n",
       "2  2000                              Uzbekistan  Afghanistan   \n",
       "3  2000                United States of America  Afghanistan   \n",
       "4  2000                United States of America  Afghanistan   \n",
       "5  2000                                 Ukraine  Afghanistan   \n",
       "\n",
       "   Tota pending start-year  of which UNHCR-assisted(start-year)  \\\n",
       "0                      0.0                                  0.0   \n",
       "2                    265.0                                265.0   \n",
       "3                    196.0                                  0.0   \n",
       "4                    193.0                                  0.0   \n",
       "5                     40.0                                  0.0   \n",
       "\n",
       "   Applied during year  decisions_recognized  decisions_other  Rejected  \\\n",
       "0                  5.0                   5.0              0.0       0.0   \n",
       "2               2156.0                 747.0              0.0     112.0   \n",
       "3                225.0                 151.0              0.0      31.0   \n",
       "4                218.0                 182.0              0.0      51.0   \n",
       "5                662.0                 275.0              0.0     412.0   \n",
       "\n",
       "   Otherwise closed   ...    G / TR  J / AR  J / FA  J / FI  J / RA  U / AR  \\\n",
       "0               0.0   ...         0       0       0       0       0       0   \n",
       "2             327.0   ...         0       0       0       0       0       0   \n",
       "3              68.0   ...         0       0       0       0       0       0   \n",
       "4              40.0   ...         0       0       0       0       0       0   \n",
       "5               0.0   ...         0       0       0       0       0       0   \n",
       "\n",
       "   U / FA  U / FI  U / JR  U / RA  \n",
       "0       0       0       0       0  \n",
       "2       0       1       0       0  \n",
       "3       0       0       0       0  \n",
       "4       0       0       0       0  \n",
       "5       0       0       0       0  \n",
       "\n",
       "[5 rows x 39 columns]"
      ]
     },
     "execution_count": 22,
     "metadata": {},
     "output_type": "execute_result"
    }
   ],
   "source": [
    "asylees2.head()"
   ]
  },
  {
   "cell_type": "markdown",
   "metadata": {},
   "source": [
    "### 2. Demographics\n",
    "\n",
    "Let's take a look at the second dataframe, demographics:"
   ]
  },
  {
   "cell_type": "code",
   "execution_count": 23,
   "metadata": {},
   "outputs": [
    {
     "data": {
      "text/html": [
       "<div>\n",
       "<style scoped>\n",
       "    .dataframe tbody tr th:only-of-type {\n",
       "        vertical-align: middle;\n",
       "    }\n",
       "\n",
       "    .dataframe tbody tr th {\n",
       "        vertical-align: top;\n",
       "    }\n",
       "\n",
       "    .dataframe thead th {\n",
       "        text-align: right;\n",
       "    }\n",
       "</style>\n",
       "<table border=\"1\" class=\"dataframe\">\n",
       "  <thead>\n",
       "    <tr style=\"text-align: right;\">\n",
       "      <th></th>\n",
       "      <th>Year</th>\n",
       "      <th>Country / territory of asylum/residence</th>\n",
       "      <th>Location Name</th>\n",
       "      <th>Female 0-4</th>\n",
       "      <th>Female 5-11</th>\n",
       "      <th>Female 5-17</th>\n",
       "      <th>Female 12-17</th>\n",
       "      <th>Female 18-59</th>\n",
       "      <th>Female 60+</th>\n",
       "      <th>F: Unknown</th>\n",
       "      <th>F: Total</th>\n",
       "      <th>Male 0-4</th>\n",
       "      <th>Male 5-11</th>\n",
       "      <th>Male 5-17</th>\n",
       "      <th>Male 12-17</th>\n",
       "      <th>Male 18-59</th>\n",
       "      <th>Male 60+</th>\n",
       "      <th>M: Unknown</th>\n",
       "      <th>M: Total</th>\n",
       "    </tr>\n",
       "  </thead>\n",
       "  <tbody>\n",
       "    <tr>\n",
       "      <th>0</th>\n",
       "      <td>2001</td>\n",
       "      <td>Afghanistan</td>\n",
       "      <td>Kabul</td>\n",
       "      <td>0</td>\n",
       "      <td>NaN</td>\n",
       "      <td>1.0</td>\n",
       "      <td>NaN</td>\n",
       "      <td>1</td>\n",
       "      <td>0</td>\n",
       "      <td>0.0</td>\n",
       "      <td>2</td>\n",
       "      <td>0</td>\n",
       "      <td>NaN</td>\n",
       "      <td>0.0</td>\n",
       "      <td>NaN</td>\n",
       "      <td>2</td>\n",
       "      <td>0</td>\n",
       "      <td>0.0</td>\n",
       "      <td>2</td>\n",
       "    </tr>\n",
       "    <tr>\n",
       "      <th>1</th>\n",
       "      <td>2001</td>\n",
       "      <td>Afghanistan</td>\n",
       "      <td>Various</td>\n",
       "      <td>14335</td>\n",
       "      <td>NaN</td>\n",
       "      <td>45451.0</td>\n",
       "      <td>NaN</td>\n",
       "      <td>99880</td>\n",
       "      <td>19234</td>\n",
       "      <td>412004.0</td>\n",
       "      <td>590904</td>\n",
       "      <td>14716</td>\n",
       "      <td>NaN</td>\n",
       "      <td>47522.0</td>\n",
       "      <td>NaN</td>\n",
       "      <td>114965</td>\n",
       "      <td>13025</td>\n",
       "      <td>435492.0</td>\n",
       "      <td>625720</td>\n",
       "    </tr>\n",
       "    <tr>\n",
       "      <th>2</th>\n",
       "      <td>2001</td>\n",
       "      <td>Afghanistan</td>\n",
       "      <td>Herat</td>\n",
       "      <td>0</td>\n",
       "      <td>NaN</td>\n",
       "      <td>0.0</td>\n",
       "      <td>NaN</td>\n",
       "      <td>1</td>\n",
       "      <td>0</td>\n",
       "      <td>0.0</td>\n",
       "      <td>1</td>\n",
       "      <td>0</td>\n",
       "      <td>NaN</td>\n",
       "      <td>0.0</td>\n",
       "      <td>NaN</td>\n",
       "      <td>1</td>\n",
       "      <td>0</td>\n",
       "      <td>0.0</td>\n",
       "      <td>1</td>\n",
       "    </tr>\n",
       "    <tr>\n",
       "      <th>3</th>\n",
       "      <td>2001</td>\n",
       "      <td>Angola</td>\n",
       "      <td>Viana</td>\n",
       "      <td>484</td>\n",
       "      <td>NaN</td>\n",
       "      <td>1687.0</td>\n",
       "      <td>NaN</td>\n",
       "      <td>1282</td>\n",
       "      <td>43</td>\n",
       "      <td>0.0</td>\n",
       "      <td>3496</td>\n",
       "      <td>597</td>\n",
       "      <td>NaN</td>\n",
       "      <td>1645.0</td>\n",
       "      <td>NaN</td>\n",
       "      <td>787</td>\n",
       "      <td>34</td>\n",
       "      <td>0.0</td>\n",
       "      <td>3063</td>\n",
       "    </tr>\n",
       "    <tr>\n",
       "      <th>4</th>\n",
       "      <td>2001</td>\n",
       "      <td>Angola</td>\n",
       "      <td>Moxico</td>\n",
       "      <td>219</td>\n",
       "      <td>NaN</td>\n",
       "      <td>734.0</td>\n",
       "      <td>NaN</td>\n",
       "      <td>427</td>\n",
       "      <td>25</td>\n",
       "      <td>0.0</td>\n",
       "      <td>1405</td>\n",
       "      <td>226</td>\n",
       "      <td>NaN</td>\n",
       "      <td>711.0</td>\n",
       "      <td>NaN</td>\n",
       "      <td>139</td>\n",
       "      <td>15</td>\n",
       "      <td>0.0</td>\n",
       "      <td>1091</td>\n",
       "    </tr>\n",
       "  </tbody>\n",
       "</table>\n",
       "</div>"
      ],
      "text/plain": [
       "   Year Country / territory of asylum/residence Location Name Female 0-4  \\\n",
       "0  2001                             Afghanistan         Kabul          0   \n",
       "1  2001                             Afghanistan       Various      14335   \n",
       "2  2001                             Afghanistan         Herat          0   \n",
       "3  2001                                  Angola         Viana        484   \n",
       "4  2001                                  Angola        Moxico        219   \n",
       "\n",
       "  Female 5-11  Female 5-17 Female 12-17 Female 18-59 Female 60+  F: Unknown  \\\n",
       "0         NaN          1.0          NaN            1          0         0.0   \n",
       "1         NaN      45451.0          NaN        99880      19234    412004.0   \n",
       "2         NaN          0.0          NaN            1          0         0.0   \n",
       "3         NaN       1687.0          NaN         1282         43         0.0   \n",
       "4         NaN        734.0          NaN          427         25         0.0   \n",
       "\n",
       "  F: Total Male 0-4 Male 5-11  Male 5-17 Male 12-17 Male 18-59 Male 60+  \\\n",
       "0        2        0       NaN        0.0        NaN          2        0   \n",
       "1   590904    14716       NaN    47522.0        NaN     114965    13025   \n",
       "2        1        0       NaN        0.0        NaN          1        0   \n",
       "3     3496      597       NaN     1645.0        NaN        787       34   \n",
       "4     1405      226       NaN      711.0        NaN        139       15   \n",
       "\n",
       "   M: Unknown M: Total  \n",
       "0         0.0        2  \n",
       "1    435492.0   625720  \n",
       "2         0.0        1  \n",
       "3         0.0     3063  \n",
       "4         0.0     1091  "
      ]
     },
     "execution_count": 23,
     "metadata": {},
     "output_type": "execute_result"
    }
   ],
   "source": [
    "demographics.head()"
   ]
  },
  {
   "cell_type": "code",
   "execution_count": 24,
   "metadata": {},
   "outputs": [
    {
     "name": "stdout",
     "output_type": "stream",
     "text": [
      "<class 'pandas.core.frame.DataFrame'>\n",
      "RangeIndex: 18356 entries, 0 to 18355\n",
      "Data columns (total 19 columns):\n",
      "Year                                       18356 non-null int64\n",
      "Country / territory of asylum/residence    18356 non-null object\n",
      "Location Name                              18355 non-null object\n",
      "Female 0-4                                 17083 non-null object\n",
      "Female 5-11                                13927 non-null object\n",
      "Female 5-17                                3196 non-null float64\n",
      "Female 12-17                               13949 non-null object\n",
      "Female 18-59                               17694 non-null object\n",
      "Female 60+                                 16900 non-null object\n",
      "F: Unknown                                 12493 non-null float64\n",
      "F: Total                                   18356 non-null object\n",
      "Male 0-4                                   17075 non-null object\n",
      "Male 5-11                                  13950 non-null object\n",
      "Male 5-17                                  3196 non-null float64\n",
      "Male 12-17                                 13986 non-null object\n",
      "Male 18-59                                 17920 non-null object\n",
      "Male 60+                                   16986 non-null object\n",
      "M: Unknown                                 12500 non-null float64\n",
      "M: Total                                   18356 non-null object\n",
      "dtypes: float64(4), int64(1), object(14)\n",
      "memory usage: 2.7+ MB\n"
     ]
    }
   ],
   "source": [
    "demographics.info()"
   ]
  },
  {
   "cell_type": "markdown",
   "metadata": {},
   "source": [
    "It also looks like there is quite a bit of missing data here."
   ]
  },
  {
   "cell_type": "code",
   "execution_count": 25,
   "metadata": {
    "scrolled": true
   },
   "outputs": [
    {
     "data": {
      "text/plain": [
       "Year                                           0\n",
       "Country / territory of asylum/residence        0\n",
       "Location Name                                  1\n",
       "Female 0-4                                  1273\n",
       "Female 5-11                                 4429\n",
       "Female 5-17                                15160\n",
       "Female 12-17                                4407\n",
       "Female 18-59                                 662\n",
       "Female 60+                                  1456\n",
       "F: Unknown                                  5863\n",
       "F: Total                                       0\n",
       "Male 0-4                                    1281\n",
       "Male 5-11                                   4406\n",
       "Male 5-17                                  15160\n",
       "Male 12-17                                  4370\n",
       "Male 18-59                                   436\n",
       "Male 60+                                    1370\n",
       "M: Unknown                                  5856\n",
       "M: Total                                       0\n",
       "dtype: int64"
      ]
     },
     "execution_count": 25,
     "metadata": {},
     "output_type": "execute_result"
    }
   ],
   "source": [
    "demographics.isnull().sum()"
   ]
  },
  {
   "cell_type": "markdown",
   "metadata": {},
   "source": [
    "This dataframe is significantly smaller than the previous one, so just dropping all records with missing data could skew the data and resulting conclusions, in the way that I discussed above.\n",
    "\n",
    "It looks like the columns Male 5-17 and Female 5-17 each have 15160 null values. Since the dataframe's length is 18356, that means each of those columns is missing 83% of the data. Since the data is already for the most part present in F and M 5 - 11 and F and M 12 - 17, let's drop the two 5 - 17 columns.\n"
   ]
  },
  {
   "cell_type": "code",
   "execution_count": 26,
   "metadata": {},
   "outputs": [],
   "source": [
    "demographics = demographics.drop(['Female 5-17','Male 5-17'],1)"
   ]
  },
  {
   "cell_type": "markdown",
   "metadata": {},
   "source": [
    "Now let's see how much data is still missing, and specifically if the missing data is spread across all of the countries of asylum, or if it is mostly from certain areas."
   ]
  },
  {
   "cell_type": "code",
   "execution_count": 27,
   "metadata": {},
   "outputs": [
    {
     "data": {
      "text/html": [
       "<div>\n",
       "<style scoped>\n",
       "    .dataframe tbody tr th:only-of-type {\n",
       "        vertical-align: middle;\n",
       "    }\n",
       "\n",
       "    .dataframe tbody tr th {\n",
       "        vertical-align: top;\n",
       "    }\n",
       "\n",
       "    .dataframe thead th {\n",
       "        text-align: right;\n",
       "    }\n",
       "</style>\n",
       "<table border=\"1\" class=\"dataframe\">\n",
       "  <thead>\n",
       "    <tr style=\"text-align: right;\">\n",
       "      <th></th>\n",
       "      <th>Country / territory of asylum/residence</th>\n",
       "      <th>na_count</th>\n",
       "      <th>full_count</th>\n",
       "      <th>percent_na</th>\n",
       "    </tr>\n",
       "  </thead>\n",
       "  <tbody>\n",
       "    <tr>\n",
       "      <th>136</th>\n",
       "      <td>Seychelles</td>\n",
       "      <td>1</td>\n",
       "      <td>1</td>\n",
       "      <td>1.000000</td>\n",
       "    </tr>\n",
       "    <tr>\n",
       "      <th>98</th>\n",
       "      <td>Mauritius</td>\n",
       "      <td>1</td>\n",
       "      <td>1</td>\n",
       "      <td>1.000000</td>\n",
       "    </tr>\n",
       "    <tr>\n",
       "      <th>32</th>\n",
       "      <td>Chile</td>\n",
       "      <td>9</td>\n",
       "      <td>10</td>\n",
       "      <td>0.900000</td>\n",
       "    </tr>\n",
       "    <tr>\n",
       "      <th>104</th>\n",
       "      <td>Morocco</td>\n",
       "      <td>52</td>\n",
       "      <td>60</td>\n",
       "      <td>0.866667</td>\n",
       "    </tr>\n",
       "    <tr>\n",
       "      <th>141</th>\n",
       "      <td>Slovenia</td>\n",
       "      <td>63</td>\n",
       "      <td>77</td>\n",
       "      <td>0.818182</td>\n",
       "    </tr>\n",
       "  </tbody>\n",
       "</table>\n",
       "</div>"
      ],
      "text/plain": [
       "    Country / territory of asylum/residence  na_count  full_count  percent_na\n",
       "136                              Seychelles         1           1    1.000000\n",
       "98                                Mauritius         1           1    1.000000\n",
       "32                                    Chile         9          10    0.900000\n",
       "104                                 Morocco        52          60    0.866667\n",
       "141                                Slovenia        63          77    0.818182"
      ]
     },
     "execution_count": 27,
     "metadata": {},
     "output_type": "execute_result"
    }
   ],
   "source": [
    "# put all rows with any NaNs in a separate dataframe\n",
    "withna = demographics[demographics.isnull().any(axis=1)]\n",
    "\n",
    "# count up # of records by country\n",
    "na_count = withna.groupby('Country / territory of asylum/residence', \n",
    "                          as_index=False)['Year'].count()\n",
    "\n",
    "# back to the original dataframe, count all records per country\n",
    "full_count = demographics.groupby('Country / territory of asylum/residence', \n",
    "                                  as_index=False)['Year'].count()\n",
    "\n",
    "# merge the two to compare in 1 dataframe\n",
    "counts = pd.merge(na_count.rename(index=str, columns={\"Year\": \"na_count\"}), \n",
    "                  full_count.rename(index=str, columns={\"Year\": \"full_count\"}),\n",
    "                   on=['Country / territory of asylum/residence'])\n",
    "\n",
    "# calc the % missing\n",
    "counts['percent_na'] = counts['na_count'] / counts['full_count']\n",
    "\n",
    "# view the ones with the highest % of missing data\n",
    "counts.sort_values('percent_na', ascending=False).head()\n"
   ]
  },
  {
   "cell_type": "markdown",
   "metadata": {},
   "source": [
    "If we drop NaNs, we'll lose all of the data for 2 countries of residence, and a huge percentage of the data for other countries. It looks like most of the NaNs are due to the switch from classifying ages as 5-11 and 12-17 versus 5-17, which was already dropped - see the example below. So it might be best in this case to fill the data with 0s so as to keep the country in the dataframe, and just keep in mind that 0 in those columns might represent missing data. "
   ]
  },
  {
   "cell_type": "code",
   "execution_count": 28,
   "metadata": {},
   "outputs": [
    {
     "data": {
      "text/plain": [
       "Year                                                      2001\n",
       "Country / territory of asylum/residence               Ethiopia\n",
       "Location Name                              Jijiga (Kebribeyah)\n",
       "Female 0-4                                                 402\n",
       "Female 5-11                                                NaN\n",
       "Female 12-17                                               NaN\n",
       "Female 18-59                                              2988\n",
       "Female 60+                                                 102\n",
       "F: Unknown                                                   0\n",
       "F: Total                                                  6170\n",
       "Male 0-4                                                   422\n",
       "Male 5-11                                                  NaN\n",
       "Male 12-17                                                 NaN\n",
       "Male 18-59                                                2332\n",
       "Male 60+                                                    80\n",
       "M: Unknown                                                   0\n",
       "M: Total                                                  5464\n",
       "Name: 136, dtype: object"
      ]
     },
     "execution_count": 28,
     "metadata": {},
     "output_type": "execute_result"
    }
   ],
   "source": [
    "demographics.iloc[136]"
   ]
  },
  {
   "cell_type": "code",
   "execution_count": 29,
   "metadata": {},
   "outputs": [],
   "source": [
    "demographics.replace(to_replace='*', value=0, inplace=True)\n",
    "\n",
    "demographics = demographics.fillna(0)"
   ]
  },
  {
   "cell_type": "code",
   "execution_count": 30,
   "metadata": {},
   "outputs": [
    {
     "data": {
      "text/plain": [
       "Year                                       0\n",
       "Country / territory of asylum/residence    0\n",
       "Location Name                              0\n",
       "Female 0-4                                 0\n",
       "Female 5-11                                0\n",
       "Female 12-17                               0\n",
       "Female 18-59                               0\n",
       "Female 60+                                 0\n",
       "F: Unknown                                 0\n",
       "F: Total                                   0\n",
       "Male 0-4                                   0\n",
       "Male 5-11                                  0\n",
       "Male 12-17                                 0\n",
       "Male 18-59                                 0\n",
       "Male 60+                                   0\n",
       "M: Unknown                                 0\n",
       "M: Total                                   0\n",
       "dtype: int64"
      ]
     },
     "execution_count": 30,
     "metadata": {},
     "output_type": "execute_result"
    }
   ],
   "source": [
    "demographics.isin(['*']).sum()"
   ]
  },
  {
   "cell_type": "markdown",
   "metadata": {},
   "source": [
    "The columns that have numeric values stored as strings will need to be converted to numeric values."
   ]
  },
  {
   "cell_type": "code",
   "execution_count": 31,
   "metadata": {},
   "outputs": [],
   "source": [
    "colnames = demographics.columns.values\n",
    " \n",
    "demographics[colnames[3:]] = demographics[colnames[3:]].apply(pd.to_numeric, \n",
    "                                                              errors='coerce', axis=1)\n",
    "for col in colnames[3:]:\n",
    "    demographics[col] = demographics[col].apply(lambda x: 0 if \n",
    "                                                (isinstance(x,float) and x < 0) else int(x))"
   ]
  },
  {
   "cell_type": "code",
   "execution_count": 32,
   "metadata": {},
   "outputs": [
    {
     "data": {
      "text/plain": [
       "5404"
      ]
     },
     "execution_count": 32,
     "metadata": {},
     "output_type": "execute_result"
    }
   ],
   "source": [
    "demographics['F: Total'].nunique()"
   ]
  },
  {
   "cell_type": "markdown",
   "metadata": {},
   "source": [
    "Taking a look at the overall distribution of total number of female and males across all records."
   ]
  },
  {
   "cell_type": "code",
   "execution_count": 33,
   "metadata": {},
   "outputs": [
    {
     "data": {
      "image/png": "[encoded data removed]",
      "text/plain": [
       "<matplotlib.figure.Figure at 0x11e823ac8>"
      ]
     },
     "metadata": {},
     "output_type": "display_data"
    }
   ],
   "source": [
    "plt.figure(figsize=(14,6))\n",
    "\n",
    "plt.subplot(1,2,1)\n",
    "plt.boxplot(demographics['F: Total'])\n",
    "plt.title('F: Total')\n",
    "plt.ylim([0,4737475])\n",
    "\n",
    "plt.subplot(1,2,2)\n",
    "plt.boxplot(demographics['M: Total'])\n",
    "plt.title('M: Total')\n",
    "plt.ylim([0,4737475])\n",
    "\n",
    "plt.show()"
   ]
  },
  {
   "cell_type": "code",
   "execution_count": 38,
   "metadata": {
    "scrolled": true
   },
   "outputs": [
    {
     "data": {
      "image/png": "[encoded data removed]",
      "text/plain": [
       "<matplotlib.figure.Figure at 0x115397940>"
      ]
     },
     "metadata": {},
     "output_type": "display_data"
    }
   ],
   "source": [
    "g = plt.figure(figsize=(15,20))\n",
    "i = 1\n",
    "for col in demographics.columns[3:]:\n",
    "    plt.subplot(5, 3, i)\n",
    "    sns.distplot(demographics[col], bins=80)\n",
    "    i+=1"
   ]
  },
  {
   "cell_type": "markdown",
   "metadata": {},
   "source": [
    "### 3. Regions\n",
    "\n",
    "Finally, I'll look at the regions dataframe, and after merging the other two together, use this dataframe to binarize the Region of origin and Region of residence."
   ]
  },
  {
   "cell_type": "code",
   "execution_count": 39,
   "metadata": {},
   "outputs": [
    {
     "data": {
      "text/html": [
       "<div>\n",
       "<style scoped>\n",
       "    .dataframe tbody tr th:only-of-type {\n",
       "        vertical-align: middle;\n",
       "    }\n",
       "\n",
       "    .dataframe tbody tr th {\n",
       "        vertical-align: top;\n",
       "    }\n",
       "\n",
       "    .dataframe thead th {\n",
       "        text-align: right;\n",
       "    }\n",
       "</style>\n",
       "<table border=\"1\" class=\"dataframe\">\n",
       "  <thead>\n",
       "    <tr style=\"text-align: right;\">\n",
       "      <th></th>\n",
       "      <th>Country</th>\n",
       "      <th>Region</th>\n",
       "    </tr>\n",
       "  </thead>\n",
       "  <tbody>\n",
       "    <tr>\n",
       "      <th>count</th>\n",
       "      <td>258</td>\n",
       "      <td>258</td>\n",
       "    </tr>\n",
       "    <tr>\n",
       "      <th>unique</th>\n",
       "      <td>258</td>\n",
       "      <td>13</td>\n",
       "    </tr>\n",
       "    <tr>\n",
       "      <th>top</th>\n",
       "      <td>Liechtenstein</td>\n",
       "      <td>Europe</td>\n",
       "    </tr>\n",
       "    <tr>\n",
       "      <th>freq</th>\n",
       "      <td>1</td>\n",
       "      <td>54</td>\n",
       "    </tr>\n",
       "  </tbody>\n",
       "</table>\n",
       "</div>"
      ],
      "text/plain": [
       "              Country  Region\n",
       "count             258     258\n",
       "unique            258      13\n",
       "top     Liechtenstein  Europe\n",
       "freq                1      54"
      ]
     },
     "execution_count": 39,
     "metadata": {},
     "output_type": "execute_result"
    }
   ],
   "source": [
    "regions.describe()"
   ]
  },
  {
   "cell_type": "markdown",
   "metadata": {},
   "source": [
    "The data in this dataframe is from the [IUCN redlist](http://www.iucnredlist.org/technical-documents/data-organization/countries-by-regions), which follows the ISO 3166 list of countries maintained by the International Organization of Standardization, and assigned them to each geographical region."
   ]
  },
  {
   "cell_type": "code",
   "execution_count": 40,
   "metadata": {},
   "outputs": [
    {
     "data": {
      "text/plain": [
       "<matplotlib.figure.Figure at 0x114aa4940>"
      ]
     },
     "metadata": {},
     "output_type": "display_data"
    },
    {
     "data": {
      "image/png": "[encoded data removed]",
      "text/plain": [
       "<matplotlib.figure.Figure at 0x1152eea20>"
      ]
     },
     "metadata": {},
     "output_type": "display_data"
    }
   ],
   "source": [
    "plt.figure(figsize=(4,6))\n",
    "ax = regions.groupby('Region').count().plot(kind='bar')\n",
    "plt.ylabel('Number of countries')\n",
    "plt.setp(ax.get_xticklabels(), rotation=30, horizontalalignment='right')\n",
    "plt.title('Countries in Each Region')\n",
    "plt.show()"
   ]
  },
  {
   "cell_type": "markdown",
   "metadata": {},
   "source": [
    "### Merging and binarizing"
   ]
  },
  {
   "cell_type": "code",
   "execution_count": 41,
   "metadata": {},
   "outputs": [],
   "source": [
    "# binarize the region names (get dummies)\n",
    "\n",
    "binarized = pd.get_dummies(regions['Region'])\n",
    "\n",
    "# join the dummies back up with the countries names\n",
    "\n",
    "regions2 = pd.concat([regions, binarized], axis=1, join_axes=[regions.index])\n",
    "\n",
    "# merge the binarized columns along the 'Country of residence' with the asylees dataframe\n",
    "\n",
    "reg_res = pd.merge(asylees2, regions2.rename(index=str, \n",
    "                                             columns={\"Country\": \n",
    "                                                      \"Country / territory of asylum/residence\"}).drop('Region',1), \n",
    "                    on=['Country / territory of asylum/residence'])"
   ]
  },
  {
   "cell_type": "code",
   "execution_count": 42,
   "metadata": {},
   "outputs": [],
   "source": [
    "# make a dictionary of the current regions names to a new name, specifying that it is the Region of residence\n",
    "# and for next one, Region of Origin\n",
    "\n",
    "all_regions = list(regions['Region'].unique())\n",
    "\n",
    "region_of_res = {}\n",
    "region_of_ori = {}\n",
    "\n",
    "for region in all_regions:\n",
    "    region_of_res[region] = \"Res: \" + str(region)\n",
    "    region_of_ori[region] = \"Ori: \" + str(region)\n",
    "\n",
    "# rename relevant columns\n",
    "\n",
    "reg_res = reg_res.rename(index=str, columns=region_of_res)"
   ]
  },
  {
   "cell_type": "code",
   "execution_count": 43,
   "metadata": {},
   "outputs": [],
   "source": [
    "# Now the same proecss with Region of Origin\n",
    "\n",
    "# merge\n",
    "\n",
    "reg_res2 = pd.merge(reg_res, regions2.rename(index=str, columns={\"Country\": \"Origin\"}).drop('Region',1), on=['Origin'])\n",
    "\n",
    "# and rename\n",
    "\n",
    "reg_res2 = reg_res2.rename(index=str, columns=region_of_ori)"
   ]
  },
  {
   "cell_type": "code",
   "execution_count": 44,
   "metadata": {
    "scrolled": true
   },
   "outputs": [
    {
     "data": {
      "text/html": [
       "<div>\n",
       "<style scoped>\n",
       "    .dataframe tbody tr th:only-of-type {\n",
       "        vertical-align: middle;\n",
       "    }\n",
       "\n",
       "    .dataframe tbody tr th {\n",
       "        vertical-align: top;\n",
       "    }\n",
       "\n",
       "    .dataframe thead th {\n",
       "        text-align: right;\n",
       "    }\n",
       "</style>\n",
       "<table border=\"1\" class=\"dataframe\">\n",
       "  <thead>\n",
       "    <tr style=\"text-align: right;\">\n",
       "      <th></th>\n",
       "      <th>Year</th>\n",
       "      <th>Country / territory of asylum/residence</th>\n",
       "      <th>Origin</th>\n",
       "      <th>Tota pending start-year</th>\n",
       "      <th>of which UNHCR-assisted(start-year)</th>\n",
       "      <th>Applied during year</th>\n",
       "      <th>decisions_recognized</th>\n",
       "      <th>decisions_other</th>\n",
       "      <th>Rejected</th>\n",
       "      <th>Otherwise closed</th>\n",
       "      <th>...</th>\n",
       "      <th>Ori: Europe</th>\n",
       "      <th>Ori: Mesoamerica</th>\n",
       "      <th>Ori: North Africa</th>\n",
       "      <th>Ori: North America</th>\n",
       "      <th>Ori: North Asia</th>\n",
       "      <th>Ori: Oceania</th>\n",
       "      <th>Ori: South &amp; South East Asia</th>\n",
       "      <th>Ori: South America</th>\n",
       "      <th>Ori: Sub-Saharan Africa</th>\n",
       "      <th>Ori: West &amp; Central Asia</th>\n",
       "    </tr>\n",
       "  </thead>\n",
       "  <tbody>\n",
       "    <tr>\n",
       "      <th>0</th>\n",
       "      <td>2000</td>\n",
       "      <td>Zimbabwe</td>\n",
       "      <td>Afghanistan</td>\n",
       "      <td>0.0</td>\n",
       "      <td>0.0</td>\n",
       "      <td>5.0</td>\n",
       "      <td>5.0</td>\n",
       "      <td>0.0</td>\n",
       "      <td>0.0</td>\n",
       "      <td>0.0</td>\n",
       "      <td>...</td>\n",
       "      <td>0</td>\n",
       "      <td>0</td>\n",
       "      <td>0</td>\n",
       "      <td>0</td>\n",
       "      <td>0</td>\n",
       "      <td>0</td>\n",
       "      <td>0</td>\n",
       "      <td>0</td>\n",
       "      <td>0</td>\n",
       "      <td>1</td>\n",
       "    </tr>\n",
       "    <tr>\n",
       "      <th>1</th>\n",
       "      <td>2000</td>\n",
       "      <td>Uzbekistan</td>\n",
       "      <td>Afghanistan</td>\n",
       "      <td>265.0</td>\n",
       "      <td>265.0</td>\n",
       "      <td>2156.0</td>\n",
       "      <td>747.0</td>\n",
       "      <td>0.0</td>\n",
       "      <td>112.0</td>\n",
       "      <td>327.0</td>\n",
       "      <td>...</td>\n",
       "      <td>0</td>\n",
       "      <td>0</td>\n",
       "      <td>0</td>\n",
       "      <td>0</td>\n",
       "      <td>0</td>\n",
       "      <td>0</td>\n",
       "      <td>0</td>\n",
       "      <td>0</td>\n",
       "      <td>0</td>\n",
       "      <td>1</td>\n",
       "    </tr>\n",
       "    <tr>\n",
       "      <th>2</th>\n",
       "      <td>2001</td>\n",
       "      <td>Uzbekistan</td>\n",
       "      <td>Afghanistan</td>\n",
       "      <td>1235.0</td>\n",
       "      <td>1235.0</td>\n",
       "      <td>2090.0</td>\n",
       "      <td>1573.0</td>\n",
       "      <td>0.0</td>\n",
       "      <td>247.0</td>\n",
       "      <td>189.0</td>\n",
       "      <td>...</td>\n",
       "      <td>0</td>\n",
       "      <td>0</td>\n",
       "      <td>0</td>\n",
       "      <td>0</td>\n",
       "      <td>0</td>\n",
       "      <td>0</td>\n",
       "      <td>0</td>\n",
       "      <td>0</td>\n",
       "      <td>0</td>\n",
       "      <td>1</td>\n",
       "    </tr>\n",
       "    <tr>\n",
       "      <th>3</th>\n",
       "      <td>2002</td>\n",
       "      <td>Uzbekistan</td>\n",
       "      <td>Afghanistan</td>\n",
       "      <td>1316.0</td>\n",
       "      <td>1316.0</td>\n",
       "      <td>516.0</td>\n",
       "      <td>544.0</td>\n",
       "      <td>0.0</td>\n",
       "      <td>22.0</td>\n",
       "      <td>206.0</td>\n",
       "      <td>...</td>\n",
       "      <td>0</td>\n",
       "      <td>0</td>\n",
       "      <td>0</td>\n",
       "      <td>0</td>\n",
       "      <td>0</td>\n",
       "      <td>0</td>\n",
       "      <td>0</td>\n",
       "      <td>0</td>\n",
       "      <td>0</td>\n",
       "      <td>1</td>\n",
       "    </tr>\n",
       "    <tr>\n",
       "      <th>4</th>\n",
       "      <td>2003</td>\n",
       "      <td>Uzbekistan</td>\n",
       "      <td>Afghanistan</td>\n",
       "      <td>1060.0</td>\n",
       "      <td>1060.0</td>\n",
       "      <td>378.0</td>\n",
       "      <td>150.0</td>\n",
       "      <td>0.0</td>\n",
       "      <td>218.0</td>\n",
       "      <td>142.0</td>\n",
       "      <td>...</td>\n",
       "      <td>0</td>\n",
       "      <td>0</td>\n",
       "      <td>0</td>\n",
       "      <td>0</td>\n",
       "      <td>0</td>\n",
       "      <td>0</td>\n",
       "      <td>0</td>\n",
       "      <td>0</td>\n",
       "      <td>0</td>\n",
       "      <td>1</td>\n",
       "    </tr>\n",
       "  </tbody>\n",
       "</table>\n",
       "<p>5 rows × 65 columns</p>\n",
       "</div>"
      ],
      "text/plain": [
       "   Year Country / territory of asylum/residence       Origin  \\\n",
       "0  2000                                Zimbabwe  Afghanistan   \n",
       "1  2000                              Uzbekistan  Afghanistan   \n",
       "2  2001                              Uzbekistan  Afghanistan   \n",
       "3  2002                              Uzbekistan  Afghanistan   \n",
       "4  2003                              Uzbekistan  Afghanistan   \n",
       "\n",
       "   Tota pending start-year  of which UNHCR-assisted(start-year)  \\\n",
       "0                      0.0                                  0.0   \n",
       "1                    265.0                                265.0   \n",
       "2                   1235.0                               1235.0   \n",
       "3                   1316.0                               1316.0   \n",
       "4                   1060.0                               1060.0   \n",
       "\n",
       "   Applied during year  decisions_recognized  decisions_other  Rejected  \\\n",
       "0                  5.0                   5.0              0.0       0.0   \n",
       "1               2156.0                 747.0              0.0     112.0   \n",
       "2               2090.0                1573.0              0.0     247.0   \n",
       "3                516.0                 544.0              0.0      22.0   \n",
       "4                378.0                 150.0              0.0     218.0   \n",
       "\n",
       "   Otherwise closed            ...             Ori: Europe  Ori: Mesoamerica  \\\n",
       "0               0.0            ...                       0                 0   \n",
       "1             327.0            ...                       0                 0   \n",
       "2             189.0            ...                       0                 0   \n",
       "3             206.0            ...                       0                 0   \n",
       "4             142.0            ...                       0                 0   \n",
       "\n",
       "   Ori: North Africa  Ori: North America  Ori: North Asia  Ori: Oceania  \\\n",
       "0                  0                   0                0             0   \n",
       "1                  0                   0                0             0   \n",
       "2                  0                   0                0             0   \n",
       "3                  0                   0                0             0   \n",
       "4                  0                   0                0             0   \n",
       "\n",
       "   Ori: South & South East Asia  Ori: South America  Ori: Sub-Saharan Africa  \\\n",
       "0                             0                   0                        0   \n",
       "1                             0                   0                        0   \n",
       "2                             0                   0                        0   \n",
       "3                             0                   0                        0   \n",
       "4                             0                   0                        0   \n",
       "\n",
       "   Ori: West & Central Asia  \n",
       "0                         1  \n",
       "1                         1  \n",
       "2                         1  \n",
       "3                         1  \n",
       "4                         1  \n",
       "\n",
       "[5 rows x 65 columns]"
      ]
     },
     "execution_count": 44,
     "metadata": {},
     "output_type": "execute_result"
    }
   ],
   "source": [
    "reg_res2.head()"
   ]
  },
  {
   "cell_type": "markdown",
   "metadata": {},
   "source": [
    "Now, I'll merge the dataframe I just created (from Regions and Asylees) with Demographics, dropping unnecessary columns."
   ]
  },
  {
   "cell_type": "code",
   "execution_count": 45,
   "metadata": {},
   "outputs": [],
   "source": [
    "asydemo = pd.merge(demographics.drop(['Location Name'], axis=1), reg_res2, \n",
    "                   on=['Country / territory of asylum/residence', \n",
    "                                    'Year',])"
   ]
  },
  {
   "cell_type": "code",
   "execution_count": 46,
   "metadata": {},
   "outputs": [
    {
     "data": {
      "text/html": [
       "<div>\n",
       "<style scoped>\n",
       "    .dataframe tbody tr th:only-of-type {\n",
       "        vertical-align: middle;\n",
       "    }\n",
       "\n",
       "    .dataframe tbody tr th {\n",
       "        vertical-align: top;\n",
       "    }\n",
       "\n",
       "    .dataframe thead th {\n",
       "        text-align: right;\n",
       "    }\n",
       "</style>\n",
       "<table border=\"1\" class=\"dataframe\">\n",
       "  <thead>\n",
       "    <tr style=\"text-align: right;\">\n",
       "      <th></th>\n",
       "      <th>Year</th>\n",
       "      <th>Country / territory of asylum/residence</th>\n",
       "      <th>Female 0-4</th>\n",
       "      <th>Female 5-11</th>\n",
       "      <th>Female 12-17</th>\n",
       "      <th>Female 18-59</th>\n",
       "      <th>Female 60+</th>\n",
       "      <th>F: Unknown</th>\n",
       "      <th>F: Total</th>\n",
       "      <th>Male 0-4</th>\n",
       "      <th>...</th>\n",
       "      <th>Ori: Europe</th>\n",
       "      <th>Ori: Mesoamerica</th>\n",
       "      <th>Ori: North Africa</th>\n",
       "      <th>Ori: North America</th>\n",
       "      <th>Ori: North Asia</th>\n",
       "      <th>Ori: Oceania</th>\n",
       "      <th>Ori: South &amp; South East Asia</th>\n",
       "      <th>Ori: South America</th>\n",
       "      <th>Ori: Sub-Saharan Africa</th>\n",
       "      <th>Ori: West &amp; Central Asia</th>\n",
       "    </tr>\n",
       "  </thead>\n",
       "  <tbody>\n",
       "    <tr>\n",
       "      <th>0</th>\n",
       "      <td>2001</td>\n",
       "      <td>Afghanistan</td>\n",
       "      <td>0</td>\n",
       "      <td>0</td>\n",
       "      <td>0</td>\n",
       "      <td>1</td>\n",
       "      <td>0</td>\n",
       "      <td>0</td>\n",
       "      <td>2</td>\n",
       "      <td>0</td>\n",
       "      <td>...</td>\n",
       "      <td>0</td>\n",
       "      <td>0</td>\n",
       "      <td>0</td>\n",
       "      <td>0</td>\n",
       "      <td>0</td>\n",
       "      <td>0</td>\n",
       "      <td>0</td>\n",
       "      <td>0</td>\n",
       "      <td>0</td>\n",
       "      <td>1</td>\n",
       "    </tr>\n",
       "    <tr>\n",
       "      <th>1</th>\n",
       "      <td>2001</td>\n",
       "      <td>Afghanistan</td>\n",
       "      <td>0</td>\n",
       "      <td>0</td>\n",
       "      <td>0</td>\n",
       "      <td>1</td>\n",
       "      <td>0</td>\n",
       "      <td>0</td>\n",
       "      <td>2</td>\n",
       "      <td>0</td>\n",
       "      <td>...</td>\n",
       "      <td>0</td>\n",
       "      <td>0</td>\n",
       "      <td>0</td>\n",
       "      <td>0</td>\n",
       "      <td>0</td>\n",
       "      <td>0</td>\n",
       "      <td>0</td>\n",
       "      <td>0</td>\n",
       "      <td>0</td>\n",
       "      <td>1</td>\n",
       "    </tr>\n",
       "    <tr>\n",
       "      <th>2</th>\n",
       "      <td>2001</td>\n",
       "      <td>Afghanistan</td>\n",
       "      <td>0</td>\n",
       "      <td>0</td>\n",
       "      <td>0</td>\n",
       "      <td>1</td>\n",
       "      <td>0</td>\n",
       "      <td>0</td>\n",
       "      <td>2</td>\n",
       "      <td>0</td>\n",
       "      <td>...</td>\n",
       "      <td>0</td>\n",
       "      <td>0</td>\n",
       "      <td>0</td>\n",
       "      <td>0</td>\n",
       "      <td>0</td>\n",
       "      <td>0</td>\n",
       "      <td>0</td>\n",
       "      <td>0</td>\n",
       "      <td>0</td>\n",
       "      <td>1</td>\n",
       "    </tr>\n",
       "    <tr>\n",
       "      <th>3</th>\n",
       "      <td>2001</td>\n",
       "      <td>Afghanistan</td>\n",
       "      <td>14335</td>\n",
       "      <td>0</td>\n",
       "      <td>0</td>\n",
       "      <td>99880</td>\n",
       "      <td>19234</td>\n",
       "      <td>412004</td>\n",
       "      <td>590904</td>\n",
       "      <td>14716</td>\n",
       "      <td>...</td>\n",
       "      <td>0</td>\n",
       "      <td>0</td>\n",
       "      <td>0</td>\n",
       "      <td>0</td>\n",
       "      <td>0</td>\n",
       "      <td>0</td>\n",
       "      <td>0</td>\n",
       "      <td>0</td>\n",
       "      <td>0</td>\n",
       "      <td>1</td>\n",
       "    </tr>\n",
       "    <tr>\n",
       "      <th>4</th>\n",
       "      <td>2001</td>\n",
       "      <td>Afghanistan</td>\n",
       "      <td>14335</td>\n",
       "      <td>0</td>\n",
       "      <td>0</td>\n",
       "      <td>99880</td>\n",
       "      <td>19234</td>\n",
       "      <td>412004</td>\n",
       "      <td>590904</td>\n",
       "      <td>14716</td>\n",
       "      <td>...</td>\n",
       "      <td>0</td>\n",
       "      <td>0</td>\n",
       "      <td>0</td>\n",
       "      <td>0</td>\n",
       "      <td>0</td>\n",
       "      <td>0</td>\n",
       "      <td>0</td>\n",
       "      <td>0</td>\n",
       "      <td>0</td>\n",
       "      <td>1</td>\n",
       "    </tr>\n",
       "  </tbody>\n",
       "</table>\n",
       "<p>5 rows × 79 columns</p>\n",
       "</div>"
      ],
      "text/plain": [
       "   Year Country / territory of asylum/residence  Female 0-4  Female 5-11  \\\n",
       "0  2001                             Afghanistan           0            0   \n",
       "1  2001                             Afghanistan           0            0   \n",
       "2  2001                             Afghanistan           0            0   \n",
       "3  2001                             Afghanistan       14335            0   \n",
       "4  2001                             Afghanistan       14335            0   \n",
       "\n",
       "   Female 12-17  Female 18-59  Female 60+  F: Unknown  F: Total  Male 0-4  \\\n",
       "0             0             1           0           0         2         0   \n",
       "1             0             1           0           0         2         0   \n",
       "2             0             1           0           0         2         0   \n",
       "3             0         99880       19234      412004    590904     14716   \n",
       "4             0         99880       19234      412004    590904     14716   \n",
       "\n",
       "             ...             Ori: Europe  Ori: Mesoamerica  Ori: North Africa  \\\n",
       "0            ...                       0                 0                  0   \n",
       "1            ...                       0                 0                  0   \n",
       "2            ...                       0                 0                  0   \n",
       "3            ...                       0                 0                  0   \n",
       "4            ...                       0                 0                  0   \n",
       "\n",
       "   Ori: North America  Ori: North Asia  Ori: Oceania  \\\n",
       "0                   0                0             0   \n",
       "1                   0                0             0   \n",
       "2                   0                0             0   \n",
       "3                   0                0             0   \n",
       "4                   0                0             0   \n",
       "\n",
       "  Ori: South & South East Asia  Ori: South America  Ori: Sub-Saharan Africa  \\\n",
       "0                            0                   0                        0   \n",
       "1                            0                   0                        0   \n",
       "2                            0                   0                        0   \n",
       "3                            0                   0                        0   \n",
       "4                            0                   0                        0   \n",
       "\n",
       "   Ori: West & Central Asia  \n",
       "0                         1  \n",
       "1                         1  \n",
       "2                         1  \n",
       "3                         1  \n",
       "4                         1  \n",
       "\n",
       "[5 rows x 79 columns]"
      ]
     },
     "execution_count": 46,
     "metadata": {},
     "output_type": "execute_result"
    }
   ],
   "source": [
    "asydemo.head()"
   ]
  },
  {
   "cell_type": "markdown",
   "metadata": {},
   "source": [
    "## Exploratory Data Analysis"
   ]
  },
  {
   "cell_type": "markdown",
   "metadata": {},
   "source": [
    "Let's take a look at the correlation between some of the columns and the percentage accepted, which is what we are looking to predict."
   ]
  },
  {
   "cell_type": "code",
   "execution_count": 47,
   "metadata": {
    "scrolled": true
   },
   "outputs": [
    {
     "data": {
      "image/png": "[encoded data removed]",
      "text/plain": [
       "<matplotlib.figure.Figure at 0x119d02128>"
      ]
     },
     "metadata": {},
     "output_type": "display_data"
    }
   ],
   "source": [
    "plt.figure(figsize=(10,6))\n",
    "corr_cols = asydemo.columns[2:].tolist()\n",
    "corr_mat = asydemo.loc[:, corr_cols].corr()\n",
    "sns.heatmap(corr_mat)\n",
    "plt.show()"
   ]
  },
  {
   "cell_type": "code",
   "execution_count": null,
   "metadata": {},
   "outputs": [],
   "source": []
  },
  {
   "cell_type": "code",
   "execution_count": null,
   "metadata": {},
   "outputs": [],
   "source": []
  },
  {
   "cell_type": "markdown",
   "metadata": {},
   "source": [
    "## Feature Selection and Engineering\n",
    "\n",
    "While importing the dataframes and merging them, some light feature engineering was completed: creating the features \"percentage_accepted\" and rejected, getting the region of origin and region of residence, and binarizing those two features."
   ]
  },
  {
   "cell_type": "code",
   "execution_count": 48,
   "metadata": {},
   "outputs": [],
   "source": [
    "## do more for hte OLS model"
   ]
  },
  {
   "cell_type": "code",
   "execution_count": 49,
   "metadata": {},
   "outputs": [
    {
     "data": {
      "text/plain": [
       "array(['Year', 'Country / territory of asylum/residence', 'Female 0-4',\n",
       "       'Female 5-11', 'Female 12-17', 'Female 18-59', 'Female 60+',\n",
       "       'F: Unknown', 'F: Total', 'Male 0-4', 'Male 5-11', 'Male 12-17',\n",
       "       'Male 18-59', 'Male 60+', 'M: Unknown', 'M: Total', 'Origin',\n",
       "       'Tota pending start-year', 'of which UNHCR-assisted(start-year)',\n",
       "       'Applied during year', 'decisions_recognized', 'decisions_other',\n",
       "       'Rejected', 'Otherwise closed', 'Total decisions',\n",
       "       'Total pending end-year', 'of which UNHCR-assisted(end-year)',\n",
       "       'Total_to_divide', 'percentage_accepted', 'percentage_rejected',\n",
       "       'G / AR', 'G / BL', 'G / CA', 'G / EO', 'G / FA', 'G / FI',\n",
       "       'G / IN', 'G / JR', 'G / NA', 'G / RA', 'G / SP', 'G / TA',\n",
       "       'G / TP', 'G / TR', 'J / AR', 'J / FA', 'J / FI', 'J / RA',\n",
       "       'U / AR', 'U / FA', 'U / FI', 'U / JR', 'U / RA', 'Res: Antarctic',\n",
       "       'Res: Caribbean Islands', 'Res: East Asia', 'Res: Europe',\n",
       "       'Res: Mesoamerica', 'Res: North Africa', 'Res: North America',\n",
       "       'Res: North Asia', 'Res: Oceania', 'Res: South & South East Asia',\n",
       "       'Res: South America', 'Res: Sub-Saharan Africa',\n",
       "       'Res: West & Central Asia', 'Ori: Antarctic',\n",
       "       'Ori: Caribbean Islands', 'Ori: East Asia', 'Ori: Europe',\n",
       "       'Ori: Mesoamerica', 'Ori: North Africa', 'Ori: North America',\n",
       "       'Ori: North Asia', 'Ori: Oceania', 'Ori: South & South East Asia',\n",
       "       'Ori: South America', 'Ori: Sub-Saharan Africa',\n",
       "       'Ori: West & Central Asia'], dtype=object)"
      ]
     },
     "execution_count": 49,
     "metadata": {},
     "output_type": "execute_result"
    }
   ],
   "source": [
    "asydemo.columns.values"
   ]
  },
  {
   "cell_type": "markdown",
   "metadata": {},
   "source": [
    "I'm going to drop the columns that were used in creating the percentage_accepted and percentage_rejected in order to avoid duplicating the data. I'm also going to drop the categorical data because it has already been binarized, and so is also redudant. The RSD procedure type / level hasn't been binarized yet."
   ]
  },
  {
   "cell_type": "code",
   "execution_count": 50,
   "metadata": {},
   "outputs": [],
   "source": [
    "redundant = ['Total decisions', 'Total pending end-year', 'Total_to_divide', \n",
    "           'decisions_recognized','Rejected', 'Country / territory of asylum/residence', \n",
    "                                                      'Origin']\n",
    "\n",
    "features = asydemo.drop(redundant, axis=1)\n"
   ]
  },
  {
   "cell_type": "code",
   "execution_count": 51,
   "metadata": {},
   "outputs": [
    {
     "data": {
      "text/plain": [
       "'percentage_accepted'"
      ]
     },
     "execution_count": 51,
     "metadata": {},
     "output_type": "execute_result"
    }
   ],
   "source": [
    "features.columns.values[21]"
   ]
  },
  {
   "cell_type": "code",
   "execution_count": 52,
   "metadata": {},
   "outputs": [
    {
     "name": "stderr",
     "output_type": "stream",
     "text": [
      "/Library/Frameworks/Python.framework/Versions/3.6/lib/python3.6/site-packages/sklearn/feature_selection/univariate_selection.py:113: UserWarning: Features [24 25 36 46 59] are constant.\n",
      "  UserWarning)\n",
      "/Library/Frameworks/Python.framework/Versions/3.6/lib/python3.6/site-packages/sklearn/feature_selection/univariate_selection.py:114: RuntimeWarning: invalid value encountered in true_divide\n",
      "  f = msb / msw\n"
     ]
    },
    {
     "name": "stdout",
     "output_type": "stream",
     "text": [
      "Original number of features: 72\n",
      "Reduced number of features: 25\n"
     ]
    }
   ],
   "source": [
    "#Using KBest to select the features that will add the most predictive power to the model.\n",
    "\n",
    "from sklearn.feature_selection import SelectKBest\n",
    "from sklearn.feature_selection import f_classif\n",
    "\n",
    "# Create an SelectKBest object to select features with k best ANOVA F-Values\n",
    "fvalue_selector = SelectKBest(f_classif, k=25)\n",
    "\n",
    "coltitles = features.columns.values\n",
    "\n",
    "# Apply the SelectKBest object to the features and target\n",
    "X_kbest = fvalue_selector.fit_transform(features, features['percentage_accepted'])\n",
    "\n",
    "print('Original number of features:', features.shape[1])\n",
    "print('Reduced number of features:', X_kbest.shape[1])"
   ]
  },
  {
   "cell_type": "code",
   "execution_count": 53,
   "metadata": {},
   "outputs": [
    {
     "name": "stdout",
     "output_type": "stream",
     "text": [
      "[ 0 11 15 16 17 19 20 26 27 28 29 31 37 38 39 41 42 43 51 52 55 57 58 70\n",
      " 71 21]\n"
     ]
    }
   ],
   "source": [
    "idxs_selected = fvalue_selector.get_support(indices=True)\n",
    "\n",
    "# add percentage_accepted back in\n",
    "idxs_selected = np.append(idxs_selected, [21])\n",
    "\n",
    "print(idxs_selected)\n"
   ]
  },
  {
   "cell_type": "code",
   "execution_count": 54,
   "metadata": {},
   "outputs": [
    {
     "data": {
      "text/html": [
       "<div>\n",
       "<style scoped>\n",
       "    .dataframe tbody tr th:only-of-type {\n",
       "        vertical-align: middle;\n",
       "    }\n",
       "\n",
       "    .dataframe tbody tr th {\n",
       "        vertical-align: top;\n",
       "    }\n",
       "\n",
       "    .dataframe thead th {\n",
       "        text-align: right;\n",
       "    }\n",
       "</style>\n",
       "<table border=\"1\" class=\"dataframe\">\n",
       "  <thead>\n",
       "    <tr style=\"text-align: right;\">\n",
       "      <th></th>\n",
       "      <th>Year</th>\n",
       "      <th>Male 18-59</th>\n",
       "      <th>Tota pending start-year</th>\n",
       "      <th>of which UNHCR-assisted(start-year)</th>\n",
       "      <th>Applied during year</th>\n",
       "      <th>Otherwise closed</th>\n",
       "      <th>of which UNHCR-assisted(end-year)</th>\n",
       "      <th>G / EO</th>\n",
       "      <th>G / FA</th>\n",
       "      <th>G / FI</th>\n",
       "      <th>...</th>\n",
       "      <th>U / FA</th>\n",
       "      <th>U / FI</th>\n",
       "      <th>Res: North Africa</th>\n",
       "      <th>Res: North America</th>\n",
       "      <th>Res: South &amp; South East Asia</th>\n",
       "      <th>Res: Sub-Saharan Africa</th>\n",
       "      <th>Res: West &amp; Central Asia</th>\n",
       "      <th>Ori: Sub-Saharan Africa</th>\n",
       "      <th>Ori: West &amp; Central Asia</th>\n",
       "      <th>percentage_accepted</th>\n",
       "    </tr>\n",
       "  </thead>\n",
       "  <tbody>\n",
       "    <tr>\n",
       "      <th>0</th>\n",
       "      <td>2001</td>\n",
       "      <td>2</td>\n",
       "      <td>0.0</td>\n",
       "      <td>0.0</td>\n",
       "      <td>15.0</td>\n",
       "      <td>5.0</td>\n",
       "      <td>0.0</td>\n",
       "      <td>0</td>\n",
       "      <td>0</td>\n",
       "      <td>0</td>\n",
       "      <td>...</td>\n",
       "      <td>0</td>\n",
       "      <td>1</td>\n",
       "      <td>0</td>\n",
       "      <td>0</td>\n",
       "      <td>0</td>\n",
       "      <td>0</td>\n",
       "      <td>1</td>\n",
       "      <td>0</td>\n",
       "      <td>1</td>\n",
       "      <td>20.000000</td>\n",
       "    </tr>\n",
       "    <tr>\n",
       "      <th>1</th>\n",
       "      <td>2001</td>\n",
       "      <td>2</td>\n",
       "      <td>0.0</td>\n",
       "      <td>0.0</td>\n",
       "      <td>6.0</td>\n",
       "      <td>0.0</td>\n",
       "      <td>0.0</td>\n",
       "      <td>0</td>\n",
       "      <td>0</td>\n",
       "      <td>0</td>\n",
       "      <td>...</td>\n",
       "      <td>0</td>\n",
       "      <td>1</td>\n",
       "      <td>0</td>\n",
       "      <td>0</td>\n",
       "      <td>0</td>\n",
       "      <td>0</td>\n",
       "      <td>1</td>\n",
       "      <td>0</td>\n",
       "      <td>1</td>\n",
       "      <td>0.000000</td>\n",
       "    </tr>\n",
       "    <tr>\n",
       "      <th>2</th>\n",
       "      <td>2001</td>\n",
       "      <td>2</td>\n",
       "      <td>0.0</td>\n",
       "      <td>0.0</td>\n",
       "      <td>110.0</td>\n",
       "      <td>21.0</td>\n",
       "      <td>0.0</td>\n",
       "      <td>0</td>\n",
       "      <td>0</td>\n",
       "      <td>0</td>\n",
       "      <td>...</td>\n",
       "      <td>0</td>\n",
       "      <td>1</td>\n",
       "      <td>0</td>\n",
       "      <td>0</td>\n",
       "      <td>0</td>\n",
       "      <td>0</td>\n",
       "      <td>1</td>\n",
       "      <td>0</td>\n",
       "      <td>1</td>\n",
       "      <td>19.090909</td>\n",
       "    </tr>\n",
       "    <tr>\n",
       "      <th>3</th>\n",
       "      <td>2001</td>\n",
       "      <td>114965</td>\n",
       "      <td>0.0</td>\n",
       "      <td>0.0</td>\n",
       "      <td>15.0</td>\n",
       "      <td>5.0</td>\n",
       "      <td>0.0</td>\n",
       "      <td>0</td>\n",
       "      <td>0</td>\n",
       "      <td>0</td>\n",
       "      <td>...</td>\n",
       "      <td>0</td>\n",
       "      <td>1</td>\n",
       "      <td>0</td>\n",
       "      <td>0</td>\n",
       "      <td>0</td>\n",
       "      <td>0</td>\n",
       "      <td>1</td>\n",
       "      <td>0</td>\n",
       "      <td>1</td>\n",
       "      <td>20.000000</td>\n",
       "    </tr>\n",
       "    <tr>\n",
       "      <th>4</th>\n",
       "      <td>2001</td>\n",
       "      <td>114965</td>\n",
       "      <td>0.0</td>\n",
       "      <td>0.0</td>\n",
       "      <td>6.0</td>\n",
       "      <td>0.0</td>\n",
       "      <td>0.0</td>\n",
       "      <td>0</td>\n",
       "      <td>0</td>\n",
       "      <td>0</td>\n",
       "      <td>...</td>\n",
       "      <td>0</td>\n",
       "      <td>1</td>\n",
       "      <td>0</td>\n",
       "      <td>0</td>\n",
       "      <td>0</td>\n",
       "      <td>0</td>\n",
       "      <td>1</td>\n",
       "      <td>0</td>\n",
       "      <td>1</td>\n",
       "      <td>0.000000</td>\n",
       "    </tr>\n",
       "  </tbody>\n",
       "</table>\n",
       "<p>5 rows × 26 columns</p>\n",
       "</div>"
      ],
      "text/plain": [
       "   Year  Male 18-59  Tota pending start-year  \\\n",
       "0  2001           2                      0.0   \n",
       "1  2001           2                      0.0   \n",
       "2  2001           2                      0.0   \n",
       "3  2001      114965                      0.0   \n",
       "4  2001      114965                      0.0   \n",
       "\n",
       "   of which UNHCR-assisted(start-year)  Applied during year  Otherwise closed  \\\n",
       "0                                  0.0                 15.0               5.0   \n",
       "1                                  0.0                  6.0               0.0   \n",
       "2                                  0.0                110.0              21.0   \n",
       "3                                  0.0                 15.0               5.0   \n",
       "4                                  0.0                  6.0               0.0   \n",
       "\n",
       "   of which UNHCR-assisted(end-year)  G / EO  G / FA  G / FI  \\\n",
       "0                                0.0       0       0       0   \n",
       "1                                0.0       0       0       0   \n",
       "2                                0.0       0       0       0   \n",
       "3                                0.0       0       0       0   \n",
       "4                                0.0       0       0       0   \n",
       "\n",
       "          ...           U / FA  U / FI  Res: North Africa  Res: North America  \\\n",
       "0         ...                0       1                  0                   0   \n",
       "1         ...                0       1                  0                   0   \n",
       "2         ...                0       1                  0                   0   \n",
       "3         ...                0       1                  0                   0   \n",
       "4         ...                0       1                  0                   0   \n",
       "\n",
       "   Res: South & South East Asia  Res: Sub-Saharan Africa  \\\n",
       "0                             0                        0   \n",
       "1                             0                        0   \n",
       "2                             0                        0   \n",
       "3                             0                        0   \n",
       "4                             0                        0   \n",
       "\n",
       "   Res: West & Central Asia  Ori: Sub-Saharan Africa  \\\n",
       "0                         1                        0   \n",
       "1                         1                        0   \n",
       "2                         1                        0   \n",
       "3                         1                        0   \n",
       "4                         1                        0   \n",
       "\n",
       "   Ori: West & Central Asia  percentage_accepted  \n",
       "0                         1            20.000000  \n",
       "1                         1             0.000000  \n",
       "2                         1            19.090909  \n",
       "3                         1            20.000000  \n",
       "4                         1             0.000000  \n",
       "\n",
       "[5 rows x 26 columns]"
      ]
     },
     "execution_count": 54,
     "metadata": {},
     "output_type": "execute_result"
    }
   ],
   "source": [
    "features_new = features.loc[:,coltitles[idxs_selected]]\n",
    "\n",
    "features_new.head()"
   ]
  },
  {
   "cell_type": "code",
   "execution_count": 55,
   "metadata": {},
   "outputs": [],
   "source": [
    "features_new['percentage_accepted'] = features_new['percentage_accepted'].apply(lambda \n",
    "                                        x: int(x))\n"
   ]
  },
  {
   "cell_type": "markdown",
   "metadata": {},
   "source": [
    "The dataset is large and runs slowly on my computer, so I'm going to split the data with Stratified KFold."
   ]
  },
  {
   "cell_type": "code",
   "execution_count": 56,
   "metadata": {},
   "outputs": [],
   "source": [
    "from sklearn.model_selection import StratifiedKFold\n",
    "\n",
    "skf = StratifiedKFold(n_splits=10, shuffle=False, random_state=None)"
   ]
  },
  {
   "cell_type": "code",
   "execution_count": 57,
   "metadata": {},
   "outputs": [
    {
     "data": {
      "text/plain": [
       "10"
      ]
     },
     "execution_count": 57,
     "metadata": {},
     "output_type": "execute_result"
    }
   ],
   "source": [
    "X = features_new.drop(['percentage_accepted'],1)\n",
    "y = features_new['percentage_accepted']\n",
    "\n",
    "skf.get_n_splits(X, y)"
   ]
  },
  {
   "cell_type": "code",
   "execution_count": 58,
   "metadata": {},
   "outputs": [
    {
     "name": "stderr",
     "output_type": "stream",
     "text": [
      "/Library/Frameworks/Python.framework/Versions/3.6/lib/python3.6/site-packages/sklearn/model_selection/_split.py:605: Warning: The least populated class in y has only 2 members, which is too few. The minimum number of members in any class cannot be less than n_splits=10.\n",
      "  % (min_groups, self.n_splits)), Warning)\n"
     ]
    }
   ],
   "source": [
    "for train_index, test_index in skf.split(X, y):\n",
    "#    print(\"TRAIN:\", train_index, \"TEST:\", test_index)\n",
    "\n",
    "    X_train, X_test = X.iloc[train_index], X.iloc[test_index]\n",
    "    y_train, y_test = y.iloc[train_index], y.iloc[test_index]"
   ]
  },
  {
   "cell_type": "code",
   "execution_count": 71,
   "metadata": {},
   "outputs": [
    {
     "data": {
      "text/html": [
       "<div>\n",
       "<style scoped>\n",
       "    .dataframe tbody tr th:only-of-type {\n",
       "        vertical-align: middle;\n",
       "    }\n",
       "\n",
       "    .dataframe tbody tr th {\n",
       "        vertical-align: top;\n",
       "    }\n",
       "\n",
       "    .dataframe thead th {\n",
       "        text-align: right;\n",
       "    }\n",
       "</style>\n",
       "<table border=\"1\" class=\"dataframe\">\n",
       "  <thead>\n",
       "    <tr style=\"text-align: right;\">\n",
       "      <th></th>\n",
       "      <th>Year</th>\n",
       "      <th>Male 18-59</th>\n",
       "      <th>Tota pending start-year</th>\n",
       "      <th>of which UNHCR-assisted(start-year)</th>\n",
       "      <th>Applied during year</th>\n",
       "      <th>Otherwise closed</th>\n",
       "      <th>of which UNHCR-assisted(end-year)</th>\n",
       "      <th>G / EO</th>\n",
       "      <th>G / FA</th>\n",
       "      <th>G / FI</th>\n",
       "      <th>...</th>\n",
       "      <th>U / AR</th>\n",
       "      <th>U / FA</th>\n",
       "      <th>U / FI</th>\n",
       "      <th>Res: North Africa</th>\n",
       "      <th>Res: North America</th>\n",
       "      <th>Res: South &amp; South East Asia</th>\n",
       "      <th>Res: Sub-Saharan Africa</th>\n",
       "      <th>Res: West &amp; Central Asia</th>\n",
       "      <th>Ori: Sub-Saharan Africa</th>\n",
       "      <th>Ori: West &amp; Central Asia</th>\n",
       "    </tr>\n",
       "  </thead>\n",
       "  <tbody>\n",
       "    <tr>\n",
       "      <th>0</th>\n",
       "      <td>2001</td>\n",
       "      <td>2</td>\n",
       "      <td>0.0</td>\n",
       "      <td>0.0</td>\n",
       "      <td>15.0</td>\n",
       "      <td>5.0</td>\n",
       "      <td>0.0</td>\n",
       "      <td>0</td>\n",
       "      <td>0</td>\n",
       "      <td>0</td>\n",
       "      <td>...</td>\n",
       "      <td>0</td>\n",
       "      <td>0</td>\n",
       "      <td>1</td>\n",
       "      <td>0</td>\n",
       "      <td>0</td>\n",
       "      <td>0</td>\n",
       "      <td>0</td>\n",
       "      <td>1</td>\n",
       "      <td>0</td>\n",
       "      <td>1</td>\n",
       "    </tr>\n",
       "    <tr>\n",
       "      <th>1</th>\n",
       "      <td>2001</td>\n",
       "      <td>2</td>\n",
       "      <td>0.0</td>\n",
       "      <td>0.0</td>\n",
       "      <td>6.0</td>\n",
       "      <td>0.0</td>\n",
       "      <td>0.0</td>\n",
       "      <td>0</td>\n",
       "      <td>0</td>\n",
       "      <td>0</td>\n",
       "      <td>...</td>\n",
       "      <td>0</td>\n",
       "      <td>0</td>\n",
       "      <td>1</td>\n",
       "      <td>0</td>\n",
       "      <td>0</td>\n",
       "      <td>0</td>\n",
       "      <td>0</td>\n",
       "      <td>1</td>\n",
       "      <td>0</td>\n",
       "      <td>1</td>\n",
       "    </tr>\n",
       "    <tr>\n",
       "      <th>2</th>\n",
       "      <td>2001</td>\n",
       "      <td>2</td>\n",
       "      <td>0.0</td>\n",
       "      <td>0.0</td>\n",
       "      <td>110.0</td>\n",
       "      <td>21.0</td>\n",
       "      <td>0.0</td>\n",
       "      <td>0</td>\n",
       "      <td>0</td>\n",
       "      <td>0</td>\n",
       "      <td>...</td>\n",
       "      <td>0</td>\n",
       "      <td>0</td>\n",
       "      <td>1</td>\n",
       "      <td>0</td>\n",
       "      <td>0</td>\n",
       "      <td>0</td>\n",
       "      <td>0</td>\n",
       "      <td>1</td>\n",
       "      <td>0</td>\n",
       "      <td>1</td>\n",
       "    </tr>\n",
       "    <tr>\n",
       "      <th>3</th>\n",
       "      <td>2001</td>\n",
       "      <td>114965</td>\n",
       "      <td>0.0</td>\n",
       "      <td>0.0</td>\n",
       "      <td>15.0</td>\n",
       "      <td>5.0</td>\n",
       "      <td>0.0</td>\n",
       "      <td>0</td>\n",
       "      <td>0</td>\n",
       "      <td>0</td>\n",
       "      <td>...</td>\n",
       "      <td>0</td>\n",
       "      <td>0</td>\n",
       "      <td>1</td>\n",
       "      <td>0</td>\n",
       "      <td>0</td>\n",
       "      <td>0</td>\n",
       "      <td>0</td>\n",
       "      <td>1</td>\n",
       "      <td>0</td>\n",
       "      <td>1</td>\n",
       "    </tr>\n",
       "    <tr>\n",
       "      <th>4</th>\n",
       "      <td>2001</td>\n",
       "      <td>114965</td>\n",
       "      <td>0.0</td>\n",
       "      <td>0.0</td>\n",
       "      <td>6.0</td>\n",
       "      <td>0.0</td>\n",
       "      <td>0.0</td>\n",
       "      <td>0</td>\n",
       "      <td>0</td>\n",
       "      <td>0</td>\n",
       "      <td>...</td>\n",
       "      <td>0</td>\n",
       "      <td>0</td>\n",
       "      <td>1</td>\n",
       "      <td>0</td>\n",
       "      <td>0</td>\n",
       "      <td>0</td>\n",
       "      <td>0</td>\n",
       "      <td>1</td>\n",
       "      <td>0</td>\n",
       "      <td>1</td>\n",
       "    </tr>\n",
       "  </tbody>\n",
       "</table>\n",
       "<p>5 rows × 25 columns</p>\n",
       "</div>"
      ],
      "text/plain": [
       "   Year  Male 18-59  Tota pending start-year  \\\n",
       "0  2001           2                      0.0   \n",
       "1  2001           2                      0.0   \n",
       "2  2001           2                      0.0   \n",
       "3  2001      114965                      0.0   \n",
       "4  2001      114965                      0.0   \n",
       "\n",
       "   of which UNHCR-assisted(start-year)  Applied during year  Otherwise closed  \\\n",
       "0                                  0.0                 15.0               5.0   \n",
       "1                                  0.0                  6.0               0.0   \n",
       "2                                  0.0                110.0              21.0   \n",
       "3                                  0.0                 15.0               5.0   \n",
       "4                                  0.0                  6.0               0.0   \n",
       "\n",
       "   of which UNHCR-assisted(end-year)  G / EO  G / FA  G / FI  \\\n",
       "0                                0.0       0       0       0   \n",
       "1                                0.0       0       0       0   \n",
       "2                                0.0       0       0       0   \n",
       "3                                0.0       0       0       0   \n",
       "4                                0.0       0       0       0   \n",
       "\n",
       "             ...             U / AR  U / FA  U / FI  Res: North Africa  \\\n",
       "0            ...                  0       0       1                  0   \n",
       "1            ...                  0       0       1                  0   \n",
       "2            ...                  0       0       1                  0   \n",
       "3            ...                  0       0       1                  0   \n",
       "4            ...                  0       0       1                  0   \n",
       "\n",
       "   Res: North America  Res: South & South East Asia  Res: Sub-Saharan Africa  \\\n",
       "0                   0                             0                        0   \n",
       "1                   0                             0                        0   \n",
       "2                   0                             0                        0   \n",
       "3                   0                             0                        0   \n",
       "4                   0                             0                        0   \n",
       "\n",
       "   Res: West & Central Asia  Ori: Sub-Saharan Africa  Ori: West & Central Asia  \n",
       "0                         1                        0                         1  \n",
       "1                         1                        0                         1  \n",
       "2                         1                        0                         1  \n",
       "3                         1                        0                         1  \n",
       "4                         1                        0                         1  \n",
       "\n",
       "[5 rows x 25 columns]"
      ]
     },
     "execution_count": 71,
     "metadata": {},
     "output_type": "execute_result"
    }
   ],
   "source": []
  },
  {
   "cell_type": "markdown",
   "metadata": {},
   "source": [
    "### Feature Importance\n",
    "\n",
    "Getting the feature importance of the Random Forest regressor"
   ]
  },
  {
   "cell_type": "code",
   "execution_count": 52,
   "metadata": {},
   "outputs": [
    {
     "name": "stdout",
     "output_type": "stream",
     "text": [
      "Feature ranking:\n",
      "1. feature 4 (0.165785)\n",
      "2. feature 0 (0.160552)\n",
      "3. feature 5 (0.120520)\n",
      "4. feature 6 (0.091015)\n",
      "5. feature 1 (0.090542)\n",
      "6. feature 2 (0.085414)\n",
      "7. feature 3 (0.062226)\n",
      "8. feature 21 (0.029587)\n",
      "9. feature 23 (0.027059)\n",
      "10. feature 17 (0.025378)\n",
      "11. feature 24 (0.020997)\n",
      "12. feature 9 (0.020957)\n",
      "13. feature 22 (0.020566)\n",
      "14. feature 16 (0.019643)\n",
      "15. feature 15 (0.018919)\n",
      "16. feature 20 (0.013301)\n",
      "17. feature 8 (0.012809)\n",
      "18. feature 18 (0.006051)\n",
      "19. feature 14 (0.005349)\n",
      "20. feature 13 (0.002552)\n",
      "21. feature 19 (0.000615)\n",
      "22. feature 11 (0.000101)\n",
      "23. feature 12 (0.000060)\n",
      "24. feature 10 (0.000000)\n",
      "25. feature 7 (0.000000)\n"
     ]
    }
   ],
   "source": [
    "from sklearn.ensemble import RandomForestRegressor\n",
    "from sklearn import ensemble\n",
    "\n",
    "# Build a forest and compute the feature importances\n",
    "forest = RandomForestRegressor(n_estimators=250,\n",
    "                              random_state=0)\n",
    "\n",
    "forest.fit(X_train, y_train)\n",
    "importances = forest.feature_importances_\n",
    "std = np.std([tree.feature_importances_ for tree in forest.estimators_],\n",
    "             axis=0)\n",
    "indices = np.argsort(importances)[::-1]\n",
    "\n",
    "# Print the feature ranking\n",
    "print(\"Feature ranking:\")\n",
    "\n",
    "for f in range(X.shape[1]):\n",
    "    print(\"%d. feature %d (%f)\" % (f + 1, indices[f], importances[indices[f]]))\n"
   ]
  },
  {
   "cell_type": "code",
   "execution_count": 53,
   "metadata": {
    "scrolled": true
   },
   "outputs": [
    {
     "data": {
      "image/png": "[encoded data removed]",
      "text/plain": [
       "<matplotlib.figure.Figure at 0x119384cf8>"
      ]
     },
     "metadata": {},
     "output_type": "display_data"
    }
   ],
   "source": [
    "# Plot the feature importances of the forest\n",
    "plt.figure(figsize=[10,5])\n",
    "plt.title(\"Feature importances\")\n",
    "plt.bar(range(X_train.shape[1]), importances[indices],\n",
    "       color=\"r\", yerr=std[indices], align=\"center\")\n",
    "plt.xticks(range(X_train.shape[1]), indices)\n",
    "plt.xlim([-1, X_train.shape[1]])\n",
    "plt.show()"
   ]
  },
  {
   "cell_type": "markdown",
   "metadata": {},
   "source": [
    "Also, running feature importance on the original features dataframe, for comparison:"
   ]
  },
  {
   "cell_type": "code",
   "execution_count": 54,
   "metadata": {},
   "outputs": [],
   "source": [
    "#from sklearn.datasets import make_classification\n",
    "#from sklearn.ensemble import ExtraTreesClassifier\n",
    "from sklearn.ensemble import RandomForestRegressor\n",
    "from sklearn import ensemble\n",
    "\n",
    "# Build a forest and compute the feature importances\n",
    "forest = RandomForestRegressor(n_estimators=250,\n",
    "                              random_state=0)\n",
    "\n",
    "X2 = features.drop(['percentage_accepted'],1)\n",
    "y2 = features['percentage_accepted']\n",
    "\n",
    "names_of_cols = X2.columns.values"
   ]
  },
  {
   "cell_type": "code",
   "execution_count": 55,
   "metadata": {},
   "outputs": [],
   "source": [
    "\n",
    "X_train2, X_test2, y_train2, y_test2 = train_test_split(X2, y2, test_size=0.2, random_state=20)\n"
   ]
  },
  {
   "cell_type": "code",
   "execution_count": 56,
   "metadata": {},
   "outputs": [],
   "source": [
    "forest.fit(X_train2, y_train2)\n",
    "importances = forest.feature_importances_\n",
    "std = np.std([tree.feature_importances_ for tree in forest.estimators_],\n",
    "             axis=0)\n",
    "indices = np.argsort(importances)[::-1]\n"
   ]
  },
  {
   "cell_type": "code",
   "execution_count": 57,
   "metadata": {},
   "outputs": [
    {
     "name": "stdout",
     "output_type": "stream",
     "text": [
      "Feature ranking:\n",
      "1. feature 21 - percentage_rejected (0.393613)\n",
      "2. feature 20 - of which UNHCR-assisted(end-year) (0.168972)\n",
      "3. feature 19 - Otherwise closed (0.114329)\n",
      "4. feature 17 - Applied during year (0.082514)\n",
      "5. feature 18 - decisions_other (0.056530)\n",
      "6. feature 15 - Tota pending start-year (0.038524)\n",
      "7. feature 16 - of which UNHCR-assisted(start-year) (0.035176)\n",
      "8. feature 0 - Year (0.025912)\n",
      "9. feature 41 - U / FA (0.005494)\n",
      "10. feature 56 - Res: Sub-Saharan Africa (0.005121)\n",
      "11. feature 48 - Res: Europe (0.005007)\n",
      "12. feature 42 - U / FI (0.004845)\n",
      "13. feature 57 - Res: West & Central Asia (0.004415)\n",
      "14. feature 70 - Ori: West & Central Asia (0.004342)\n",
      "15. feature 27 - G / FI (0.003867)\n",
      "16. feature 54 - Res: South & South East Asia (0.003365)\n",
      "17. feature 26 - G / FA (0.003025)\n",
      "18. feature 44 - U / RA (0.002920)\n",
      "19. feature 69 - Ori: Sub-Saharan Africa (0.002820)\n",
      "20. feature 55 - Res: South America (0.002688)\n",
      "21. feature 47 - Res: East Asia (0.002177)\n",
      "22. feature 11 - Male 18-59 (0.002034)\n",
      "23. feature 14 - M: Total (0.001973)\n",
      "24. feature 7 - F: Total (0.001787)\n",
      "25. feature 38 - J / FI (0.001782)\n"
     ]
    }
   ],
   "source": [
    "# Print the feature ranking\n",
    "print(\"Feature ranking:\")\n",
    "\n",
    "for f in range(X.shape[1]):\n",
    "    print(\"%d. feature %d - %s (%f)\" % (f + 1, \n",
    "                                        indices[f], names_of_cols[int(indices[f])],\n",
    "                                        importances[indices[f]]))"
   ]
  },
  {
   "cell_type": "code",
   "execution_count": 58,
   "metadata": {},
   "outputs": [
    {
     "data": {
      "image/png": "[encoded data removed]",
      "text/plain": [
       "<matplotlib.figure.Figure at 0x15b6b4470>"
      ]
     },
     "metadata": {},
     "output_type": "display_data"
    }
   ],
   "source": [
    "# Plot the feature importances of the forest\n",
    "plt.figure(figsize=[15,5])\n",
    "plt.title(\"Feature importances\")\n",
    "plt.bar(range(X_train2.shape[1]), importances[indices],\n",
    "       color=\"r\", yerr=std[indices], align=\"center\")\n",
    "plt.xticks(range(X_train2.shape[1]), indices)\n",
    "plt.xlim([-1, X_train2.shape[1]])\n",
    "plt.show()"
   ]
  },
  {
   "cell_type": "markdown",
   "metadata": {},
   "source": [
    "## Models\n",
    "\n",
    "### OLS (Ordinary Least Squares)"
   ]
  },
  {
   "cell_type": "code",
   "execution_count": 59,
   "metadata": {},
   "outputs": [
    {
     "name": "stderr",
     "output_type": "stream",
     "text": [
      "/Library/Frameworks/Python.framework/Versions/3.6/lib/python3.6/site-packages/statsmodels/compat/pandas.py:56: FutureWarning: The pandas.core.datetools module is deprecated and will be removed in a future version. Please use the pandas.tseries module instead.\n",
      "  from pandas.core import datetools\n"
     ]
    }
   ],
   "source": [
    "import statsmodels.api as sm\n",
    "from sklearn import linear_model\n",
    "import statsmodels.formula.api as smf"
   ]
  },
  {
   "cell_type": "markdown",
   "metadata": {},
   "source": [
    "On the smaller, features dataframe:"
   ]
  },
  {
   "cell_type": "code",
   "execution_count": 60,
   "metadata": {},
   "outputs": [
    {
     "name": "stderr",
     "output_type": "stream",
     "text": [
      "/Library/Frameworks/Python.framework/Versions/3.6/lib/python3.6/site-packages/scipy/linalg/basic.py:1226: RuntimeWarning: internal gelsd driver lwork query error, required iwork dimension not returned. This is likely the result of LAPACK bug 0038, fixed in LAPACK 3.2.2 (released July 21, 2010). Falling back to 'gelss' driver.\n",
      "  warnings.warn(mesg, RuntimeWarning)\n"
     ]
    },
    {
     "name": "stdout",
     "output_type": "stream",
     "text": [
      "\n",
      "Coefficients: \n",
      " [-9.02619730e-02 -6.60721819e-07  3.96305582e-04  3.96923411e-03\n",
      "  4.98622181e-03 -6.10106490e-03 -5.72140797e-03  1.35445587e-14\n",
      "  2.46619232e+00  8.44736509e-01 -2.46523572e-14 -5.54659925e+00\n",
      " -1.06743108e+01 -1.17902362e+00  4.80394636e+00 -5.97871895e+00\n",
      "  1.18111962e+00  7.57470482e-01  5.24172562e+00  7.34981456e+00\n",
      "  8.45253322e+00  9.22075258e+00  5.91824906e+00 -3.39361622e-01\n",
      "  5.69955907e+00]\n",
      "\n",
      "Intercept: \n",
      " 187.3161591680747\n",
      "\n",
      "R-squared:\n",
      "-0.16127902498249025\n"
     ]
    }
   ],
   "source": [
    "# Instantiate and fit our model.\n",
    "regr = linear_model.LinearRegression()\n",
    "\n",
    "regr.fit(X_train, y_train)\n",
    "\n",
    "# Inspect the results.\n",
    "print('\\nCoefficients: \\n', regr.coef_)\n",
    "print('\\nIntercept: \\n', regr.intercept_)\n",
    "print('\\nR-squared:')\n",
    "print(regr.score(X_test, y_test))"
   ]
  },
  {
   "cell_type": "markdown",
   "metadata": {},
   "source": [
    "With the full dataframe"
   ]
  },
  {
   "cell_type": "code",
   "execution_count": 61,
   "metadata": {},
   "outputs": [
    {
     "ename": "NameError",
     "evalue": "name 'X_train2' is not defined",
     "output_type": "error",
     "traceback": [
      "\u001b[0;31m---------------------------------------------------------------------------\u001b[0m",
      "\u001b[0;31mNameError\u001b[0m                                 Traceback (most recent call last)",
      "\u001b[0;32m<ipython-input-61-5d81b5347bb6>\u001b[0m in \u001b[0;36m<module>\u001b[0;34m()\u001b[0m\n\u001b[1;32m      1\u001b[0m \u001b[0mregr\u001b[0m \u001b[0;34m=\u001b[0m \u001b[0mlinear_model\u001b[0m\u001b[0;34m.\u001b[0m\u001b[0mLinearRegression\u001b[0m\u001b[0;34m(\u001b[0m\u001b[0;34m)\u001b[0m\u001b[0;34m\u001b[0m\u001b[0m\n\u001b[1;32m      2\u001b[0m \u001b[0;34m\u001b[0m\u001b[0m\n\u001b[0;32m----> 3\u001b[0;31m \u001b[0mregr\u001b[0m\u001b[0;34m.\u001b[0m\u001b[0mfit\u001b[0m\u001b[0;34m(\u001b[0m\u001b[0mX_train2\u001b[0m\u001b[0;34m,\u001b[0m \u001b[0my_train2\u001b[0m\u001b[0;34m)\u001b[0m\u001b[0;34m\u001b[0m\u001b[0m\n\u001b[0m\u001b[1;32m      4\u001b[0m \u001b[0;34m\u001b[0m\u001b[0m\n\u001b[1;32m      5\u001b[0m \u001b[0;31m# Inspect the results.\u001b[0m\u001b[0;34m\u001b[0m\u001b[0;34m\u001b[0m\u001b[0m\n",
      "\u001b[0;31mNameError\u001b[0m: name 'X_train2' is not defined"
     ]
    }
   ],
   "source": [
    "regr = linear_model.LinearRegression()\n",
    "\n",
    "regr.fit(X_train2, y_train2)\n",
    "\n",
    "# Inspect the results.\n",
    "print('\\nCoefficients: \\n', regr.coef_)\n",
    "print('\\nIntercept: \\n', regr.intercept_)\n",
    "print('\\nR-squared:')\n",
    "print(regr.score(X_test2, y_test2))"
   ]
  },
  {
   "cell_type": "markdown",
   "metadata": {},
   "source": [
    "### Ridge Regression\n",
    "\n",
    "on the features dataframe"
   ]
  },
  {
   "cell_type": "code",
   "execution_count": 62,
   "metadata": {},
   "outputs": [
    {
     "name": "stdout",
     "output_type": "stream",
     "text": [
      "0.05806714733744788\n",
      "0.0028818314408473665\n"
     ]
    }
   ],
   "source": [
    "ridgeregr = linear_model.Ridge(alpha=16, fit_intercept=False) \n",
    "ridgeregr.fit(X_train, y_train)\n",
    "print(ridgeregr.score(X_train, y_train))\n",
    "origparams = ridgeregr.coef_[0]\n",
    "print(origparams)"
   ]
  },
  {
   "cell_type": "markdown",
   "metadata": {},
   "source": [
    "on the full dataframe"
   ]
  },
  {
   "cell_type": "code",
   "execution_count": 63,
   "metadata": {},
   "outputs": [
    {
     "name": "stdout",
     "output_type": "stream",
     "text": [
      "0.13023252757327652\n",
      "0.007606526169392746\n"
     ]
    }
   ],
   "source": [
    "ridgeregr.fit(X_train2, y_train2)\n",
    "print(ridgeregr.score(X_test2, y_test2))\n",
    "origparams = ridgeregr.coef_[0]\n",
    "print(origparams)"
   ]
  },
  {
   "cell_type": "markdown",
   "metadata": {},
   "source": [
    "### Random Forest"
   ]
  },
  {
   "cell_type": "code",
   "execution_count": 63,
   "metadata": {},
   "outputs": [],
   "source": [
    "from time import time\n",
    "from scipy.stats import randint as sp_randint\n",
    "\n",
    "from sklearn.model_selection import RandomizedSearchCV\n",
    "from sklearn.ensemble import RandomForestRegressor\n",
    "from sklearn import ensemble"
   ]
  },
  {
   "cell_type": "markdown",
   "metadata": {},
   "source": [
    "Running randomized search to get the best parameters for the random forest regressor model."
   ]
  },
  {
   "cell_type": "code",
   "execution_count": null,
   "metadata": {},
   "outputs": [],
   "source": [
    "clf = ensemble.RandomForestRegressor(n_estimators=20)\n",
    "\n",
    "\n",
    "# Utility function to report best scores\n",
    "def report(results, n_top=3):\n",
    "    for i in range(1, n_top + 1):\n",
    "        candidates = np.flatnonzero(results['rank_test_score'] == i)\n",
    "        for candidate in candidates:\n",
    "            print(\"Model with rank: {0}\".format(i))\n",
    "            print(\"Mean validation score: {0:.3f} (std: {1:.3f})\".format(\n",
    "                  results['mean_test_score'][candidate],\n",
    "                  results['std_test_score'][candidate]))\n",
    "            print(\"Parameters: {0}\".format(results['params'][candidate]))\n",
    "            print(\"\")\n",
    "\n",
    "\n",
    "# specify parameters and distributions to sample from\n",
    "param_dist = {\"max_depth\": [3, None],\n",
    "              \"max_features\": sp_randint(1, 11),\n",
    "              \"min_samples_split\": sp_randint(2, 11),\n",
    "              \"min_samples_leaf\": sp_randint(1, 11),\n",
    "              \"bootstrap\": [True, False],\n",
    "              \"criterion\": [\"mse\", \"mae\"]}\n",
    "\n",
    "# run randomized search\n",
    "n_iter_search = 5\n",
    "random_search = RandomizedSearchCV(clf, param_distributions=param_dist,\n",
    "                                   n_iter=n_iter_search)\n",
    "\n",
    "start = time()\n",
    "random_search.fit(X_train, y_train)\n",
    "print(\"RandomizedSearchCV took %.2f seconds for %d candidates\"\n",
    "      \" parameter settings.\" % ((time() - start), n_iter_search))\n",
    "report(random_search.cv_results_)"
   ]
  },
  {
   "cell_type": "code",
   "execution_count": 64,
   "metadata": {},
   "outputs": [
    {
     "name": "stdout",
     "output_type": "stream",
     "text": [
      "0.30870555254175636\n"
     ]
    }
   ],
   "source": [
    "rfc = ensemble.RandomForestRegressor(n_estimators=200, criterion='mse', \n",
    "    #                                  max_depth=None, max_features=2,\n",
    "    #                        min_samples_leaf=8, min_samples_split=6\n",
    "                                    )\n",
    "\n",
    "rfc.fit(X_train, y_train)\n",
    "\n",
    "y_true, y_pred = y_test, rfc.predict(X_test)\n",
    "\n",
    "print(rfc.score(X_test, y_test))"
   ]
  },
  {
   "cell_type": "code",
   "execution_count": null,
   "metadata": {},
   "outputs": [],
   "source": [
    "scores = cross_val_score(rfc, X_train, y_train, cv=10)\n",
    "\n",
    "print(scores)\n",
    "\n",
    "print(\"Accuracy: %0.2f (+/- %0.2f)\" % (scores.mean(), scores.std() * 2))"
   ]
  },
  {
   "cell_type": "code",
   "execution_count": null,
   "metadata": {},
   "outputs": [],
   "source": []
  },
  {
   "cell_type": "markdown",
   "metadata": {},
   "source": [
    "## KNN Regression"
   ]
  },
  {
   "cell_type": "code",
   "execution_count": 65,
   "metadata": {},
   "outputs": [],
   "source": [
    "from sklearn import neighbors"
   ]
  },
  {
   "cell_type": "code",
   "execution_count": 76,
   "metadata": {},
   "outputs": [
    {
     "name": "stdout",
     "output_type": "stream",
     "text": [
      "MinMaxScaler(copy=True, feature_range=(0, 1))\n",
      "[2.016000e+03 1.047938e+06 4.246900e+04 4.246900e+04 2.654480e+05\n",
      " 2.680200e+04 5.445700e+04 1.000000e+00 1.000000e+00 1.000000e+00\n",
      " 1.000000e+00 1.000000e+00 1.000000e+00 1.000000e+00 1.000000e+00\n",
      " 1.000000e+00 1.000000e+00 1.000000e+00 1.000000e+00 1.000000e+00\n",
      " 1.000000e+00 1.000000e+00 1.000000e+00 1.000000e+00 1.000000e+00\n",
      " 1.000000e+02]\n"
     ]
    }
   ],
   "source": [
    "from sklearn.preprocessing import MinMaxScaler\n",
    "\n",
    "data = features_new\n",
    "scaler = MinMaxScaler()\n",
    "print(scaler.fit(data))\n",
    "MinMaxScaler(copy=True, feature_range=(0, 17))\n",
    "print(scaler.data_max_)\n",
    "scaled = pd.DataFrame(scaler.transform(data))"
   ]
  },
  {
   "cell_type": "code",
   "execution_count": 83,
   "metadata": {},
   "outputs": [],
   "source": [
    "renaming = {}\n",
    "\n",
    "orig = features_new.columns.values\n",
    "wrong = scaled.columns.values\n",
    "for yes,no in zip(orig,wrong):\n",
    "    renaming[no] = yes\n",
    "    \n",
    "scaled = scaled.rename(mapper=renaming, axis=1)"
   ]
  },
  {
   "cell_type": "code",
   "execution_count": 86,
   "metadata": {},
   "outputs": [],
   "source": [
    "X3 = scaled.drop('percentage_accepted',1)\n",
    "Y3 = scaled['percentage_accepted']\n",
    "\n",
    "\n",
    "X_train3, X_test3, y_train3, y_test3 = train_test_split(\n",
    "    X3, Y3, test_size=0.5, random_state=0)"
   ]
  },
  {
   "cell_type": "markdown",
   "metadata": {},
   "source": [
    "#### Unweighted"
   ]
  },
  {
   "cell_type": "code",
   "execution_count": 87,
   "metadata": {},
   "outputs": [
    {
     "name": "stdout",
     "output_type": "stream",
     "text": [
      "For 18 neighbors: \n",
      "0.5019361356885168\n"
     ]
    }
   ],
   "source": [
    "# i want to try out 1 more\n",
    "knn = neighbors.KNeighborsRegressor(n_neighbors=18)\n",
    "\n",
    "knn.fit(X_train3, y_train3)\n",
    "\n",
    "y_true, y_pred = y_test3, knn.predict(X_test3)\n",
    "\n",
    "print('For {} neighbors: '.format('18'))\n",
    "print(knn.score(X_test3, y_test3))"
   ]
  },
  {
   "cell_type": "markdown",
   "metadata": {},
   "source": [
    "#### Weighted"
   ]
  },
  {
   "cell_type": "code",
   "execution_count": 88,
   "metadata": {},
   "outputs": [
    {
     "name": "stdout",
     "output_type": "stream",
     "text": [
      "For 27 neighbors: \n",
      "0.5950199393533112\n"
     ]
    }
   ],
   "source": [
    "# trying one more\n",
    "\n",
    "knn_w = neighbors.KNeighborsRegressor(n_neighbors=27, weights='distance')\n",
    "    \n",
    "knn_w.fit(X_train3, y_train3)\n",
    "\n",
    "y_true, y_pred = y_test3, knn_w.predict(X_test3)\n",
    "\n",
    "print('For {} neighbors: '.format('27'))\n",
    "print(knn_w.score(X_test3, y_test3))"
   ]
  },
  {
   "cell_type": "code",
   "execution_count": null,
   "metadata": {},
   "outputs": [
    {
     "name": "stdout",
     "output_type": "stream",
     "text": [
      "Unweighted Accuracy: 0.01 (+/- 0.10)\n"
     ]
    }
   ],
   "source": [
    "score = cross_val_score(knn, X, y, cv=5)\n",
    "print(\"Unweighted Accuracy: %0.2f (+/- %0.2f)\" % (score.mean(), score.std() * 2))\n",
    "score_w = cross_val_score(knn_w, X, y, cv=5)\n",
    "print(\"Weighted Accuracy: %0.2f (+/- %0.2f)\" % (score_w.mean(), score_w.std() * 2))"
   ]
  },
  {
   "cell_type": "code",
   "execution_count": null,
   "metadata": {},
   "outputs": [],
   "source": []
  },
  {
   "cell_type": "markdown",
   "metadata": {},
   "source": [
    "## Conclusion"
   ]
  },
  {
   "cell_type": "markdown",
   "metadata": {},
   "source": [
    "Initially, I wanted to find out if there were common features among groups of refugees / asylees that were accepted in large percentgae, and specifically I wanted to look at country of origin and residence, as well as the gender breakdown of each group. After analyzing the data and using 4 different models, all of which resulted in very low accuracy, it appears that the percentage of acceptance of each group can not be accurately predicted based on the features that I had tested. There doesn't appear to be distinguishing traits in the dataset for high acceptance percentages. This would suggest that there is more information needed to make an accurate and meaningful predictive model. "
   ]
  },
  {
   "cell_type": "code",
   "execution_count": null,
   "metadata": {},
   "outputs": [],
   "source": []
  }
 ],
 "metadata": {
  "kernelspec": {
   "display_name": "Python 3",
   "language": "python",
   "name": "python3"
  },
  "language_info": {
   "codemirror_mode": {
    "name": "ipython",
    "version": 3
   },
   "file_extension": ".py",
   "mimetype": "text/x-python",
   "name": "python",
   "nbconvert_exporter": "python",
   "pygments_lexer": "ipython3",
   "version": "3.6.0"
  }
 },
 "nbformat": 4,
 "nbformat_minor": 2
}
