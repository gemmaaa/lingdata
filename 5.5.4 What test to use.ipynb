{
 "cells": [
  {
   "cell_type": "markdown",
   "metadata": {},
   "source": [
    "# 5.5.4 Challenge: What test to use\n",
    "\n",
    "In this dataset, (with codebook [here](https://thinkful-ed.github.io/data-201-resources/ESS_practice_data/ESS_codebook.html) ), the same participants answered questions in 2012 and again 2014.\n",
    "\n",
    "1. Did people become less trusting from 2012 to 2014? Compute results for each country in the sample.\n",
    "2. Did people become happier from 2012 to 2014? Compute results for each country in the sample.\n",
    "3. Who reported watching more TV in 2012, men or women?\n",
    "4. Who was more likely to believe people were fair in 2012, people living with a partner or people living alone?\n",
    "5. Pick three or four of the countries in the sample and compare how often people met socially in 2014. Are there differences, and if so, which countries stand out?\n",
    "6. Pick three or four of the countries in the sample and compare how often people took part in social activities, relative to others their age, in 2014. Are there differences, and if so, which countries stand out?"
   ]
  },
  {
   "cell_type": "code",
   "execution_count": 1,
   "metadata": {},
   "outputs": [],
   "source": [
    "import pandas as pd\n",
    "import numpy as np\n",
    "import math\n",
    "import matplotlib.pyplot as plt\n",
    "import scipy.stats as stats"
   ]
  },
  {
   "cell_type": "code",
   "execution_count": 2,
   "metadata": {},
   "outputs": [
    {
     "data": {
      "text/html": [
       "<div>\n",
       "<style scoped>\n",
       "    .dataframe tbody tr th:only-of-type {\n",
       "        vertical-align: middle;\n",
       "    }\n",
       "\n",
       "    .dataframe tbody tr th {\n",
       "        vertical-align: top;\n",
       "    }\n",
       "\n",
       "    .dataframe thead th {\n",
       "        text-align: right;\n",
       "    }\n",
       "</style>\n",
       "<table border=\"1\" class=\"dataframe\">\n",
       "  <thead>\n",
       "    <tr style=\"text-align: right;\">\n",
       "      <th></th>\n",
       "      <th>cntry</th>\n",
       "      <th>idno</th>\n",
       "      <th>year</th>\n",
       "      <th>tvtot</th>\n",
       "      <th>ppltrst</th>\n",
       "      <th>pplfair</th>\n",
       "      <th>pplhlp</th>\n",
       "      <th>happy</th>\n",
       "      <th>sclmeet</th>\n",
       "      <th>sclact</th>\n",
       "      <th>gndr</th>\n",
       "      <th>agea</th>\n",
       "      <th>partner</th>\n",
       "    </tr>\n",
       "  </thead>\n",
       "  <tbody>\n",
       "    <tr>\n",
       "      <th>0</th>\n",
       "      <td>CH</td>\n",
       "      <td>5.0</td>\n",
       "      <td>6</td>\n",
       "      <td>3.0</td>\n",
       "      <td>3.0</td>\n",
       "      <td>10.0</td>\n",
       "      <td>5.0</td>\n",
       "      <td>8.0</td>\n",
       "      <td>5.0</td>\n",
       "      <td>4.0</td>\n",
       "      <td>2.0</td>\n",
       "      <td>60.0</td>\n",
       "      <td>1.0</td>\n",
       "    </tr>\n",
       "    <tr>\n",
       "      <th>1</th>\n",
       "      <td>CH</td>\n",
       "      <td>25.0</td>\n",
       "      <td>6</td>\n",
       "      <td>6.0</td>\n",
       "      <td>5.0</td>\n",
       "      <td>7.0</td>\n",
       "      <td>5.0</td>\n",
       "      <td>9.0</td>\n",
       "      <td>3.0</td>\n",
       "      <td>2.0</td>\n",
       "      <td>2.0</td>\n",
       "      <td>59.0</td>\n",
       "      <td>1.0</td>\n",
       "    </tr>\n",
       "    <tr>\n",
       "      <th>2</th>\n",
       "      <td>CH</td>\n",
       "      <td>26.0</td>\n",
       "      <td>6</td>\n",
       "      <td>1.0</td>\n",
       "      <td>8.0</td>\n",
       "      <td>8.0</td>\n",
       "      <td>8.0</td>\n",
       "      <td>7.0</td>\n",
       "      <td>6.0</td>\n",
       "      <td>3.0</td>\n",
       "      <td>1.0</td>\n",
       "      <td>24.0</td>\n",
       "      <td>2.0</td>\n",
       "    </tr>\n",
       "    <tr>\n",
       "      <th>3</th>\n",
       "      <td>CH</td>\n",
       "      <td>28.0</td>\n",
       "      <td>6</td>\n",
       "      <td>4.0</td>\n",
       "      <td>6.0</td>\n",
       "      <td>6.0</td>\n",
       "      <td>7.0</td>\n",
       "      <td>10.0</td>\n",
       "      <td>6.0</td>\n",
       "      <td>2.0</td>\n",
       "      <td>2.0</td>\n",
       "      <td>64.0</td>\n",
       "      <td>1.0</td>\n",
       "    </tr>\n",
       "    <tr>\n",
       "      <th>4</th>\n",
       "      <td>CH</td>\n",
       "      <td>29.0</td>\n",
       "      <td>6</td>\n",
       "      <td>5.0</td>\n",
       "      <td>6.0</td>\n",
       "      <td>7.0</td>\n",
       "      <td>5.0</td>\n",
       "      <td>8.0</td>\n",
       "      <td>7.0</td>\n",
       "      <td>2.0</td>\n",
       "      <td>2.0</td>\n",
       "      <td>55.0</td>\n",
       "      <td>1.0</td>\n",
       "    </tr>\n",
       "  </tbody>\n",
       "</table>\n",
       "</div>"
      ],
      "text/plain": [
       "  cntry  idno  year  tvtot  ppltrst  pplfair  pplhlp  happy  sclmeet  sclact  \\\n",
       "0    CH   5.0     6    3.0      3.0     10.0     5.0    8.0      5.0     4.0   \n",
       "1    CH  25.0     6    6.0      5.0      7.0     5.0    9.0      3.0     2.0   \n",
       "2    CH  26.0     6    1.0      8.0      8.0     8.0    7.0      6.0     3.0   \n",
       "3    CH  28.0     6    4.0      6.0      6.0     7.0   10.0      6.0     2.0   \n",
       "4    CH  29.0     6    5.0      6.0      7.0     5.0    8.0      7.0     2.0   \n",
       "\n",
       "   gndr  agea  partner  \n",
       "0   2.0  60.0      1.0  \n",
       "1   2.0  59.0      1.0  \n",
       "2   1.0  24.0      2.0  \n",
       "3   2.0  64.0      1.0  \n",
       "4   2.0  55.0      1.0  "
      ]
     },
     "execution_count": 2,
     "metadata": {},
     "output_type": "execute_result"
    }
   ],
   "source": [
    "df = pd.read_csv(\"/Users/gemma/Documents/data science/data-201-resources-master/ESS_practice_data/ESSdata_Thinkful.csv\")\n",
    "\n",
    "df.head()"
   ]
  },
  {
   "cell_type": "code",
   "execution_count": 3,
   "metadata": {},
   "outputs": [
    {
     "data": {
      "text/plain": [
       "['CH', 'CZ', 'DE', 'ES', 'NO', 'SE']"
      ]
     },
     "execution_count": 3,
     "metadata": {},
     "output_type": "execute_result"
    }
   ],
   "source": [
    "# get the list of countries to work with below\n",
    "countries = df['cntry'].unique().tolist()\n",
    "\n",
    "countries"
   ]
  },
  {
   "cell_type": "markdown",
   "metadata": {},
   "source": [
    "Country breakdown by code:\n",
    "\n",
    "CH = Switzerland, CZ = Czech Republic, DE = Germany, ES = Spain, NO = Norway, and SE = Sweden.\n",
    "\n",
    "\n",
    "## Question 1. Did people become less trusting from 2012 to 2014?  \n",
    "\n",
    "First, a quick look at the data across the board:\n",
    "\n",
    "<strong>Note</strong> - from the codebook, year 6 is 2012, and year 7 is 2014."
   ]
  },
  {
   "cell_type": "code",
   "execution_count": 4,
   "metadata": {},
   "outputs": [
    {
     "data": {
      "text/plain": [
       "year\n",
       "6    5.563098\n",
       "7    5.556720\n",
       "Name: ppltrst, dtype: float64"
      ]
     },
     "execution_count": 4,
     "metadata": {},
     "output_type": "execute_result"
    }
   ],
   "source": [
    "df.groupby('year')['ppltrst'].mean()"
   ]
  },
  {
   "cell_type": "markdown",
   "metadata": {},
   "source": [
    "Next, let's take a glance at the distribution of trust people had from each country across both years."
   ]
  },
  {
   "cell_type": "code",
   "execution_count": 5,
   "metadata": {},
   "outputs": [
    {
     "data": {
      "image/png": "[encoded data removed]",
      "text/plain": [
       "<Figure size 576x288 with 1 Axes>"
      ]
     },
     "metadata": {},
     "output_type": "display_data"
    }
   ],
   "source": [
    "ax = df.groupby('cntry')['ppltrst'].value_counts(normalize=True).unstack().plot(kind='bar',\n",
    "                                                    figsize=(8,4))\n",
    "plt.title(\"Trust by Country\")\n",
    "plt.legend(loc=\"upper center\", fontsize='xx-small')\n",
    "plt.show()"
   ]
  },
  {
   "cell_type": "markdown",
   "metadata": {},
   "source": [
    "Looking at this graph above, it looks like NO is the most trusting, with CZ being the least trusting, on average.\n",
    "\n",
    "\n",
    "Each country's average trust rating, separated by the year."
   ]
  },
  {
   "cell_type": "code",
   "execution_count": 6,
   "metadata": {},
   "outputs": [
    {
     "data": {
      "text/plain": [
       "cntry  year\n",
       "CH     6       5.677878\n",
       "       7       5.751617\n",
       "CZ     6       4.362519\n",
       "       7       4.424658\n",
       "DE     6       5.214286\n",
       "       7       5.357143\n",
       "ES     6       5.114592\n",
       "       7       4.895128\n",
       "NO     6       6.649315\n",
       "       7       6.598630\n",
       "SE     6       6.058499\n",
       "       7       6.257709\n",
       "Name: ppltrst, dtype: float64"
      ]
     },
     "execution_count": 6,
     "metadata": {},
     "output_type": "execute_result"
    }
   ],
   "source": [
    "df.groupby(['cntry','year'])['ppltrst'].mean()"
   ]
  },
  {
   "cell_type": "markdown",
   "metadata": {},
   "source": [
    "Above is the average rating given by people from each country across two years. Let's check if the differences are statistically significant on a per country basis."
   ]
  },
  {
   "cell_type": "code",
   "execution_count": 7,
   "metadata": {},
   "outputs": [],
   "source": [
    "\n",
    "def col_by_cnyr(cn, yr, col):\n",
    "    return df[(df['cntry'] == cn) & (df['year'] == yr)][col]\n"
   ]
  },
  {
   "cell_type": "code",
   "execution_count": 8,
   "metadata": {},
   "outputs": [
    {
     "data": {
      "image/png": "[encoded data removed]",
      "text/plain": [
       "<Figure size 1080x864 with 6 Axes>"
      ]
     },
     "metadata": {},
     "output_type": "display_data"
    }
   ],
   "source": [
    "# iterate through countries and look at the distributions\n",
    "\n",
    "plt.style.use('seaborn-deep')\n",
    "plt.figure(figsize=(15,12))\n",
    "\n",
    "for i, cn in enumerate(countries):\n",
    "    \n",
    "    six = col_by_cnyr(cn,6,'ppltrst').dropna()\n",
    "    seven = col_by_cnyr(cn,7,'ppltrst').dropna()\n",
    "    \n",
    "  #  okay = stats.mannwhitneyu(six.values, seven.values)\n",
    "    \n",
    "    plt.subplot(3,2,i+1)\n",
    "    plt.hist([six, seven], label=['year 6', 'year 7'])\n",
    "    plt.legend(loc='best') \n",
    "    plt.title(\"{} in country {} across 2 years\".format('ppltrst',cn)) \n",
    "       \n",
    "plt.show()"
   ]
  },
  {
   "cell_type": "markdown",
   "metadata": {},
   "source": [
    "The distributions are non normal, so my first thought was to run the Mann Whitney U test and the median test. However, those are for independent samples, whereas these are paired samples. Therefore the test that should be used is the Wilcoxon signed rank test, assuming the sample sizes are the same for each year. Let's first take a look into that."
   ]
  },
  {
   "cell_type": "code",
   "execution_count": 9,
   "metadata": {},
   "outputs": [
    {
     "data": {
      "text/html": [
       "<div>\n",
       "<style scoped>\n",
       "    .dataframe tbody tr th:only-of-type {\n",
       "        vertical-align: middle;\n",
       "    }\n",
       "\n",
       "    .dataframe tbody tr th {\n",
       "        vertical-align: top;\n",
       "    }\n",
       "\n",
       "    .dataframe thead th {\n",
       "        text-align: right;\n",
       "    }\n",
       "</style>\n",
       "<table border=\"1\" class=\"dataframe\">\n",
       "  <thead>\n",
       "    <tr style=\"text-align: right;\">\n",
       "      <th></th>\n",
       "      <th></th>\n",
       "      <th>idno</th>\n",
       "      <th>tvtot</th>\n",
       "      <th>ppltrst</th>\n",
       "      <th>pplfair</th>\n",
       "      <th>pplhlp</th>\n",
       "      <th>happy</th>\n",
       "      <th>sclmeet</th>\n",
       "      <th>sclact</th>\n",
       "      <th>gndr</th>\n",
       "      <th>agea</th>\n",
       "      <th>partner</th>\n",
       "    </tr>\n",
       "    <tr>\n",
       "      <th>cntry</th>\n",
       "      <th>year</th>\n",
       "      <th></th>\n",
       "      <th></th>\n",
       "      <th></th>\n",
       "      <th></th>\n",
       "      <th></th>\n",
       "      <th></th>\n",
       "      <th></th>\n",
       "      <th></th>\n",
       "      <th></th>\n",
       "      <th></th>\n",
       "      <th></th>\n",
       "    </tr>\n",
       "  </thead>\n",
       "  <tbody>\n",
       "    <tr>\n",
       "      <th rowspan=\"2\" valign=\"top\">CH</th>\n",
       "      <th>6</th>\n",
       "      <td>732</td>\n",
       "      <td>732</td>\n",
       "      <td>732</td>\n",
       "      <td>732</td>\n",
       "      <td>732</td>\n",
       "      <td>732</td>\n",
       "      <td>732</td>\n",
       "      <td>732</td>\n",
       "      <td>732</td>\n",
       "      <td>732</td>\n",
       "      <td>732</td>\n",
       "    </tr>\n",
       "    <tr>\n",
       "      <th>7</th>\n",
       "      <td>743</td>\n",
       "      <td>743</td>\n",
       "      <td>743</td>\n",
       "      <td>743</td>\n",
       "      <td>743</td>\n",
       "      <td>743</td>\n",
       "      <td>743</td>\n",
       "      <td>743</td>\n",
       "      <td>743</td>\n",
       "      <td>743</td>\n",
       "      <td>743</td>\n",
       "    </tr>\n",
       "    <tr>\n",
       "      <th rowspan=\"2\" valign=\"top\">CZ</th>\n",
       "      <th>6</th>\n",
       "      <td>601</td>\n",
       "      <td>601</td>\n",
       "      <td>601</td>\n",
       "      <td>601</td>\n",
       "      <td>601</td>\n",
       "      <td>601</td>\n",
       "      <td>601</td>\n",
       "      <td>601</td>\n",
       "      <td>601</td>\n",
       "      <td>601</td>\n",
       "      <td>601</td>\n",
       "    </tr>\n",
       "    <tr>\n",
       "      <th>7</th>\n",
       "      <td>606</td>\n",
       "      <td>606</td>\n",
       "      <td>606</td>\n",
       "      <td>606</td>\n",
       "      <td>606</td>\n",
       "      <td>606</td>\n",
       "      <td>606</td>\n",
       "      <td>606</td>\n",
       "      <td>606</td>\n",
       "      <td>606</td>\n",
       "      <td>606</td>\n",
       "    </tr>\n",
       "    <tr>\n",
       "      <th rowspan=\"2\" valign=\"top\">DE</th>\n",
       "      <th>6</th>\n",
       "      <td>13</td>\n",
       "      <td>13</td>\n",
       "      <td>13</td>\n",
       "      <td>13</td>\n",
       "      <td>13</td>\n",
       "      <td>13</td>\n",
       "      <td>13</td>\n",
       "      <td>13</td>\n",
       "      <td>13</td>\n",
       "      <td>13</td>\n",
       "      <td>13</td>\n",
       "    </tr>\n",
       "    <tr>\n",
       "      <th>7</th>\n",
       "      <td>14</td>\n",
       "      <td>14</td>\n",
       "      <td>14</td>\n",
       "      <td>14</td>\n",
       "      <td>14</td>\n",
       "      <td>14</td>\n",
       "      <td>14</td>\n",
       "      <td>14</td>\n",
       "      <td>14</td>\n",
       "      <td>14</td>\n",
       "      <td>14</td>\n",
       "    </tr>\n",
       "    <tr>\n",
       "      <th rowspan=\"2\" valign=\"top\">ES</th>\n",
       "      <th>6</th>\n",
       "      <td>1158</td>\n",
       "      <td>1158</td>\n",
       "      <td>1158</td>\n",
       "      <td>1158</td>\n",
       "      <td>1158</td>\n",
       "      <td>1158</td>\n",
       "      <td>1158</td>\n",
       "      <td>1158</td>\n",
       "      <td>1158</td>\n",
       "      <td>1158</td>\n",
       "      <td>1158</td>\n",
       "    </tr>\n",
       "    <tr>\n",
       "      <th>7</th>\n",
       "      <td>1134</td>\n",
       "      <td>1134</td>\n",
       "      <td>1134</td>\n",
       "      <td>1134</td>\n",
       "      <td>1134</td>\n",
       "      <td>1134</td>\n",
       "      <td>1134</td>\n",
       "      <td>1134</td>\n",
       "      <td>1134</td>\n",
       "      <td>1134</td>\n",
       "      <td>1134</td>\n",
       "    </tr>\n",
       "    <tr>\n",
       "      <th rowspan=\"2\" valign=\"top\">NO</th>\n",
       "      <th>6</th>\n",
       "      <td>708</td>\n",
       "      <td>708</td>\n",
       "      <td>708</td>\n",
       "      <td>708</td>\n",
       "      <td>708</td>\n",
       "      <td>708</td>\n",
       "      <td>708</td>\n",
       "      <td>708</td>\n",
       "      <td>708</td>\n",
       "      <td>708</td>\n",
       "      <td>708</td>\n",
       "    </tr>\n",
       "    <tr>\n",
       "      <th>7</th>\n",
       "      <td>712</td>\n",
       "      <td>712</td>\n",
       "      <td>712</td>\n",
       "      <td>712</td>\n",
       "      <td>712</td>\n",
       "      <td>712</td>\n",
       "      <td>712</td>\n",
       "      <td>712</td>\n",
       "      <td>712</td>\n",
       "      <td>712</td>\n",
       "      <td>712</td>\n",
       "    </tr>\n",
       "    <tr>\n",
       "      <th rowspan=\"2\" valign=\"top\">SE</th>\n",
       "      <th>6</th>\n",
       "      <td>859</td>\n",
       "      <td>859</td>\n",
       "      <td>859</td>\n",
       "      <td>859</td>\n",
       "      <td>859</td>\n",
       "      <td>859</td>\n",
       "      <td>859</td>\n",
       "      <td>859</td>\n",
       "      <td>859</td>\n",
       "      <td>859</td>\n",
       "      <td>859</td>\n",
       "    </tr>\n",
       "    <tr>\n",
       "      <th>7</th>\n",
       "      <td>867</td>\n",
       "      <td>867</td>\n",
       "      <td>867</td>\n",
       "      <td>867</td>\n",
       "      <td>867</td>\n",
       "      <td>867</td>\n",
       "      <td>867</td>\n",
       "      <td>867</td>\n",
       "      <td>867</td>\n",
       "      <td>867</td>\n",
       "      <td>867</td>\n",
       "    </tr>\n",
       "  </tbody>\n",
       "</table>\n",
       "</div>"
      ],
      "text/plain": [
       "            idno  tvtot  ppltrst  pplfair  pplhlp  happy  sclmeet  sclact  \\\n",
       "cntry year                                                                  \n",
       "CH    6      732    732      732      732     732    732      732     732   \n",
       "      7      743    743      743      743     743    743      743     743   \n",
       "CZ    6      601    601      601      601     601    601      601     601   \n",
       "      7      606    606      606      606     606    606      606     606   \n",
       "DE    6       13     13       13       13      13     13       13      13   \n",
       "      7       14     14       14       14      14     14       14      14   \n",
       "ES    6     1158   1158     1158     1158    1158   1158     1158    1158   \n",
       "      7     1134   1134     1134     1134    1134   1134     1134    1134   \n",
       "NO    6      708    708      708      708     708    708      708     708   \n",
       "      7      712    712      712      712     712    712      712     712   \n",
       "SE    6      859    859      859      859     859    859      859     859   \n",
       "      7      867    867      867      867     867    867      867     867   \n",
       "\n",
       "            gndr  agea  partner  \n",
       "cntry year                       \n",
       "CH    6      732   732      732  \n",
       "      7      743   743      743  \n",
       "CZ    6      601   601      601  \n",
       "      7      606   606      606  \n",
       "DE    6       13    13       13  \n",
       "      7       14    14       14  \n",
       "ES    6     1158  1158     1158  \n",
       "      7     1134  1134     1134  \n",
       "NO    6      708   708      708  \n",
       "      7      712   712      712  \n",
       "SE    6      859   859      859  \n",
       "      7      867   867      867  "
      ]
     },
     "execution_count": 9,
     "metadata": {},
     "output_type": "execute_result"
    }
   ],
   "source": [
    "df_nonan = df.dropna(axis=0, how=\"any\")\n",
    "df_nonan.groupby(['cntry','year']).count()"
   ]
  },
  {
   "cell_type": "markdown",
   "metadata": {},
   "source": [
    "Unfortunately it looks like the sample sizes aren't the same for each country across each year. We could limit the sample size to the smaller of the two for each country, but then we would be omitting some data. With such small sample sizes, that is not a good idea. Therefore, we will fall back on the Mann Whitney and median tests."
   ]
  },
  {
   "cell_type": "code",
   "execution_count": 10,
   "metadata": {},
   "outputs": [],
   "source": [
    "# store them in arrays to look at later\n",
    "\n",
    "mann_stat = []\n",
    "mann_pval = []\n",
    "\n",
    "med_g = []\n",
    "med_p = []\n",
    "med_med = []\n",
    "med_tbl = []\n",
    "\n",
    "for cn in countries:\n",
    "    \n",
    "    six_val = col_by_cnyr(cn,6,'ppltrst') #.dropna().values\n",
    "    seven_val = col_by_cnyr(cn,7,'ppltrst') #.dropna().values\n",
    "\n",
    "    stat, p_val = stats.mannwhitneyu(six_val, seven_val)\n",
    "    \n",
    "    mann_stat.append(stat)\n",
    "    mann_pval.append(p_val)\n",
    "    \n",
    "    g, p, med, tbl = stats.median_test(six_val, seven_val, nan_policy=\"omit\", \n",
    "                                       lambda_=\"log-likelihood\")\n",
    "    med_g.append(g)\n",
    "    med_p.append(p)\n",
    "    med_med.append(med)\n",
    "    med_tbl.append(tbl)"
   ]
  },
  {
   "cell_type": "code",
   "execution_count": 11,
   "metadata": {},
   "outputs": [],
   "source": [
    "ppltrustdf = pd.DataFrame(index=countries)\n",
    "\n",
    "array_of_array = [mann_stat, mann_pval, med_g, med_p, med_med, med_tbl]\n",
    "array_of_names = [\"mann_stat\", \"mann_pval\", \"med_g\", \"med_p\", \"med_med\", \"med_tbl\"]\n",
    "\n",
    "for i, one in enumerate(array_of_array):\n",
    "    ppltrustdf[(array_of_names[i])] = one\n"
   ]
  },
  {
   "cell_type": "code",
   "execution_count": 12,
   "metadata": {},
   "outputs": [
    {
     "data": {
      "text/html": [
       "<div>\n",
       "<style scoped>\n",
       "    .dataframe tbody tr th:only-of-type {\n",
       "        vertical-align: middle;\n",
       "    }\n",
       "\n",
       "    .dataframe tbody tr th {\n",
       "        vertical-align: top;\n",
       "    }\n",
       "\n",
       "    .dataframe thead th {\n",
       "        text-align: right;\n",
       "    }\n",
       "</style>\n",
       "<table border=\"1\" class=\"dataframe\">\n",
       "  <thead>\n",
       "    <tr style=\"text-align: right;\">\n",
       "      <th></th>\n",
       "      <th>mann_stat</th>\n",
       "      <th>mann_pval</th>\n",
       "      <th>med_g</th>\n",
       "      <th>med_p</th>\n",
       "      <th>med_med</th>\n",
       "      <th>med_tbl</th>\n",
       "    </tr>\n",
       "  </thead>\n",
       "  <tbody>\n",
       "    <tr>\n",
       "      <th>ES</th>\n",
       "      <td>688126.0</td>\n",
       "      <td>0.002623</td>\n",
       "      <td>5.534030</td>\n",
       "      <td>0.018650</td>\n",
       "      <td>5.0</td>\n",
       "      <td>[[539, 480], [674, 731]]</td>\n",
       "    </tr>\n",
       "    <tr>\n",
       "      <th>SE</th>\n",
       "      <td>390521.0</td>\n",
       "      <td>0.024228</td>\n",
       "      <td>4.003125</td>\n",
       "      <td>0.045416</td>\n",
       "      <td>7.0</td>\n",
       "      <td>[[238, 278], [668, 630]]</td>\n",
       "    </tr>\n",
       "    <tr>\n",
       "      <th>CZ</th>\n",
       "      <td>212706.0</td>\n",
       "      <td>0.290408</td>\n",
       "      <td>3.762350</td>\n",
       "      <td>0.052419</td>\n",
       "      <td>4.0</td>\n",
       "      <td>[[301, 340], [350, 317]]</td>\n",
       "    </tr>\n",
       "    <tr>\n",
       "      <th>CH</th>\n",
       "      <td>294004.5</td>\n",
       "      <td>0.291449</td>\n",
       "      <td>0.066364</td>\n",
       "      <td>0.796707</td>\n",
       "      <td>6.0</td>\n",
       "      <td>[[322, 328], [451, 445]]</td>\n",
       "    </tr>\n",
       "    <tr>\n",
       "      <th>NO</th>\n",
       "      <td>263282.0</td>\n",
       "      <td>0.310776</td>\n",
       "      <td>0.048000</td>\n",
       "      <td>0.826582</td>\n",
       "      <td>7.0</td>\n",
       "      <td>[[260, 255], [470, 475]]</td>\n",
       "    </tr>\n",
       "    <tr>\n",
       "      <th>DE</th>\n",
       "      <td>94.0</td>\n",
       "      <td>0.435044</td>\n",
       "      <td>0.601507</td>\n",
       "      <td>0.438004</td>\n",
       "      <td>5.0</td>\n",
       "      <td>[[4, 7], [10, 7]]</td>\n",
       "    </tr>\n",
       "  </tbody>\n",
       "</table>\n",
       "</div>"
      ],
      "text/plain": [
       "    mann_stat  mann_pval     med_g     med_p  med_med  \\\n",
       "ES   688126.0   0.002623  5.534030  0.018650      5.0   \n",
       "SE   390521.0   0.024228  4.003125  0.045416      7.0   \n",
       "CZ   212706.0   0.290408  3.762350  0.052419      4.0   \n",
       "CH   294004.5   0.291449  0.066364  0.796707      6.0   \n",
       "NO   263282.0   0.310776  0.048000  0.826582      7.0   \n",
       "DE       94.0   0.435044  0.601507  0.438004      5.0   \n",
       "\n",
       "                     med_tbl  \n",
       "ES  [[539, 480], [674, 731]]  \n",
       "SE  [[238, 278], [668, 630]]  \n",
       "CZ  [[301, 340], [350, 317]]  \n",
       "CH  [[322, 328], [451, 445]]  \n",
       "NO  [[260, 255], [470, 475]]  \n",
       "DE         [[4, 7], [10, 7]]  "
      ]
     },
     "execution_count": 12,
     "metadata": {},
     "output_type": "execute_result"
    }
   ],
   "source": [
    "ppltrustdf.sort_values(by=\"mann_pval\",ascending=True)"
   ]
  },
  {
   "cell_type": "markdown",
   "metadata": {},
   "source": [
    "It looks like ES and SE are the only countries where the difference from year 6 and year 7 is statistically significant (p value of less than 0.05). Looking back at the table above (<em>Each country's average trust rating, separated by the year</em>), people in ES (Spain)'s level of trust lowered, whereas people in SE's level of trust actually grew.\n",
    "\n",
    "The median test also reflects this same information - the p values for ES and SE are the only two below 0.05, though CZ is very close to the cutoff. It also shows the median value per country for both years combined, which is interesting when comparing the countries to each other, and in conjunction with the med_tbl value, which shows a count of the values above the median in the first tuple, and values below the median in the second tuple.\n",
    "\n"
   ]
  },
  {
   "cell_type": "markdown",
   "metadata": {},
   "source": [
    "\n",
    "<hr width=\"50%\" />\n",
    "\n",
    "## Question 2. Did people become happier from 2012 to 2014? Compute results for each country in the sample.\n",
    "\n",
    "Let's take a look at the mean for each country and year, and then look at the distribution of each variance to determine which test to use."
   ]
  },
  {
   "cell_type": "code",
   "execution_count": 13,
   "metadata": {},
   "outputs": [
    {
     "data": {
      "text/plain": [
       "cntry  year\n",
       "CH     6       8.088312\n",
       "       7       8.116429\n",
       "CZ     6       6.770898\n",
       "       7       6.914110\n",
       "DE     6       7.428571\n",
       "       7       7.857143\n",
       "ES     6       7.548680\n",
       "       7       7.419967\n",
       "NO     6       8.251719\n",
       "       7       7.915185\n",
       "SE     6       7.907387\n",
       "       7       7.946961\n",
       "Name: happy, dtype: float64"
      ]
     },
     "execution_count": 13,
     "metadata": {},
     "output_type": "execute_result"
    }
   ],
   "source": [
    "df.groupby(['cntry','year'])['happy'].mean()"
   ]
  },
  {
   "cell_type": "code",
   "execution_count": 14,
   "metadata": {},
   "outputs": [
    {
     "data": {
      "image/png": "[encoded data removed]",
      "text/plain": [
       "<Figure size 1080x864 with 6 Axes>"
      ]
     },
     "metadata": {},
     "output_type": "display_data"
    }
   ],
   "source": [
    "# iterate through countries and look at the distributions\n",
    "\n",
    "col = \"happy\"\n",
    "\n",
    "plt.style.use('seaborn-deep')\n",
    "plt.figure(figsize=(15,12))\n",
    "\n",
    "for i, cn in enumerate(countries):\n",
    "    \n",
    "    six = col_by_cnyr(cn,6,col).dropna()\n",
    "    seven = col_by_cnyr(cn,7,col).dropna()\n",
    "    \n",
    "  #  okay = stats.mannwhitneyu(six.values, seven.values)\n",
    "    \n",
    "    plt.subplot(3,2,i+1)\n",
    "    plt.hist([six, seven], label=['year 6', 'year 7'])\n",
    "    plt.legend(loc='best') \n",
    "    plt.title(\"{} in country {} across 2 years\".format(col,cn)) \n",
    "       \n",
    "plt.show()"
   ]
  },
  {
   "cell_type": "markdown",
   "metadata": {},
   "source": [
    "Again, the distributions are non normal, and they are paired samples, so the Wilcoxon test is ideal. However, due to the sample sizes not being the same - as discussed in Question 1 - we will use the Mann Whitney U test and the Median test to analyze the data."
   ]
  },
  {
   "cell_type": "code",
   "execution_count": 15,
   "metadata": {},
   "outputs": [],
   "source": [
    "\n",
    "# store them in arrays to look at later\n",
    "\n",
    "mann_stat = []\n",
    "mann_pval = []\n",
    "\n",
    "med_g = []\n",
    "med_p = []\n",
    "med_med = []\n",
    "med_tbl = []\n",
    "\n",
    "\n",
    "for cn in countries:\n",
    "    \n",
    "    six_val = col_by_cnyr(cn,6,col).dropna().values\n",
    "    seven_val = col_by_cnyr(cn,7,col).dropna().values\n",
    "\n",
    "    stat, p_val = stats.mannwhitneyu(six_val, seven_val)\n",
    "    \n",
    "    mann_stat.append(stat)\n",
    "    mann_pval.append(p_val)\n",
    "    \n",
    "    g, p, med, tbl = stats.median_test(six_val, seven_val, nan_policy=\"omit\", \n",
    "                                       lambda_=\"log-likelihood\")\n",
    "    med_g.append(g)\n",
    "    med_p.append(p)\n",
    "    med_med.append(med)\n",
    "    med_tbl.append(tbl)\n"
   ]
  },
  {
   "cell_type": "code",
   "execution_count": 16,
   "metadata": {},
   "outputs": [
    {
     "data": {
      "text/html": [
       "<div>\n",
       "<style scoped>\n",
       "    .dataframe tbody tr th:only-of-type {\n",
       "        vertical-align: middle;\n",
       "    }\n",
       "\n",
       "    .dataframe tbody tr th {\n",
       "        vertical-align: top;\n",
       "    }\n",
       "\n",
       "    .dataframe thead th {\n",
       "        text-align: right;\n",
       "    }\n",
       "</style>\n",
       "<table border=\"1\" class=\"dataframe\">\n",
       "  <thead>\n",
       "    <tr style=\"text-align: right;\">\n",
       "      <th></th>\n",
       "      <th>mann_stat</th>\n",
       "      <th>mann_pval</th>\n",
       "      <th>med_g</th>\n",
       "      <th>med_p</th>\n",
       "      <th>med_med</th>\n",
       "      <th>med_tbl</th>\n",
       "    </tr>\n",
       "  </thead>\n",
       "  <tbody>\n",
       "    <tr>\n",
       "      <th>NO</th>\n",
       "      <td>231619.5</td>\n",
       "      <td>0.000006</td>\n",
       "      <td>9.069752</td>\n",
       "      <td>0.002599</td>\n",
       "      <td>8.0</td>\n",
       "      <td>[[332, 276], [395, 455]]</td>\n",
       "    </tr>\n",
       "    <tr>\n",
       "      <th>ES</th>\n",
       "      <td>700267.5</td>\n",
       "      <td>0.021581</td>\n",
       "      <td>4.793330</td>\n",
       "      <td>0.028570</td>\n",
       "      <td>8.0</td>\n",
       "      <td>[[379, 329], [833, 883]]</td>\n",
       "    </tr>\n",
       "    <tr>\n",
       "      <th>CZ</th>\n",
       "      <td>202640.0</td>\n",
       "      <td>0.116238</td>\n",
       "      <td>3.966272</td>\n",
       "      <td>0.046420</td>\n",
       "      <td>7.0</td>\n",
       "      <td>[[256, 295], [390, 357]]</td>\n",
       "    </tr>\n",
       "    <tr>\n",
       "      <th>DE</th>\n",
       "      <td>85.0</td>\n",
       "      <td>0.273948</td>\n",
       "      <td>0.000000</td>\n",
       "      <td>1.000000</td>\n",
       "      <td>8.0</td>\n",
       "      <td>[[3, 4], [11, 10]]</td>\n",
       "    </tr>\n",
       "    <tr>\n",
       "      <th>CH</th>\n",
       "      <td>293601.5</td>\n",
       "      <td>0.318282</td>\n",
       "      <td>1.052121</td>\n",
       "      <td>0.305019</td>\n",
       "      <td>8.0</td>\n",
       "      <td>[[302, 324], [468, 449]]</td>\n",
       "    </tr>\n",
       "    <tr>\n",
       "      <th>SE</th>\n",
       "      <td>407985.5</td>\n",
       "      <td>0.411153</td>\n",
       "      <td>0.003937</td>\n",
       "      <td>0.949970</td>\n",
       "      <td>8.0</td>\n",
       "      <td>[[327, 324], [580, 581]]</td>\n",
       "    </tr>\n",
       "  </tbody>\n",
       "</table>\n",
       "</div>"
      ],
      "text/plain": [
       "    mann_stat  mann_pval     med_g     med_p  med_med  \\\n",
       "NO   231619.5   0.000006  9.069752  0.002599      8.0   \n",
       "ES   700267.5   0.021581  4.793330  0.028570      8.0   \n",
       "CZ   202640.0   0.116238  3.966272  0.046420      7.0   \n",
       "DE       85.0   0.273948  0.000000  1.000000      8.0   \n",
       "CH   293601.5   0.318282  1.052121  0.305019      8.0   \n",
       "SE   407985.5   0.411153  0.003937  0.949970      8.0   \n",
       "\n",
       "                     med_tbl  \n",
       "NO  [[332, 276], [395, 455]]  \n",
       "ES  [[379, 329], [833, 883]]  \n",
       "CZ  [[256, 295], [390, 357]]  \n",
       "DE        [[3, 4], [11, 10]]  \n",
       "CH  [[302, 324], [468, 449]]  \n",
       "SE  [[327, 324], [580, 581]]  "
      ]
     },
     "execution_count": 16,
     "metadata": {},
     "output_type": "execute_result"
    }
   ],
   "source": [
    "happydf = pd.DataFrame(index=countries)\n",
    "\n",
    "array_of_array = [mann_stat, mann_pval, med_g, med_p, med_med, med_tbl]\n",
    "array_of_names = [\"mann_stat\", \"mann_pval\", \"med_g\", \"med_p\", \"med_med\", \"med_tbl\"]\n",
    "\n",
    "for i, one in enumerate(array_of_array):\n",
    "    happydf[(array_of_names[i])] = one\n",
    "\n",
    "happydf.sort_values(by=\"mann_pval\",ascending=True)"
   ]
  },
  {
   "cell_type": "markdown",
   "metadata": {},
   "source": [
    "Looking at the Mann Whitney U p value, it looks like the difference in happiness is significant in NO and ES, but none of the other countries. Looking back up at the chart of all the countries separated by year, both NO and ES saw decreases in happiness from year 6 to year 7.\n",
    "\n",
    "The median test agrees with the Mann Whitney U test on NO and ES, however, CZ shows as also significant - at a p value of 0.046. Looking closely at the table, it appears that in CZ the happiness level actually increased from 2012 to 2014, in contrast to NO and ES.\n",
    "\n",
    "<hr width=\"50%\" />\n",
    "\n",
    "## Question 3. Who reported watching more TV in 2012, men or women?\n",
    "\n",
    "2012 is 6, and in the gender column, male is 1, female is 2."
   ]
  },
  {
   "cell_type": "code",
   "execution_count": 17,
   "metadata": {},
   "outputs": [
    {
     "data": {
      "text/plain": [
       "gndr\n",
       "1.0    3.901906\n",
       "2.0    3.944393\n",
       "Name: tvtot, dtype: float64"
      ]
     },
     "execution_count": 17,
     "metadata": {},
     "output_type": "execute_result"
    }
   ],
   "source": [
    "df[df['year'] == 6].groupby('gndr')['tvtot'].mean()"
   ]
  },
  {
   "cell_type": "markdown",
   "metadata": {},
   "source": [
    "At a first look, it appears that women on average reported watching more TV. Let's take a look at the distribution."
   ]
  },
  {
   "cell_type": "code",
   "execution_count": 18,
   "metadata": {},
   "outputs": [
    {
     "data": {
      "image/png": "[encoded data removed]",
      "text/plain": [
       "<Figure size 432x288 with 1 Axes>"
      ]
     },
     "metadata": {},
     "output_type": "display_data"
    }
   ],
   "source": [
    "men = df[(df['gndr'] == 1) & (df['year'] == 6)]['tvtot'].dropna()\n",
    "women = df[(df['gndr'] == 2) & (df['year'] == 6)]['tvtot'].dropna()\n",
    "\n",
    "\n",
    "plt.figure()\n",
    "plt.hist([men, women], label=['men', 'women'])\n",
    "plt.legend(loc='best') \n",
    "plt.title(\"{} in men and women in year 2012\".format('tvtot')) \n",
    "plt.show()"
   ]
  },
  {
   "cell_type": "markdown",
   "metadata": {},
   "source": [
    "To me, it looks like it could possibly be a normal distribution, so let's try a QQ plot to verify. If it's a normal distribution, we'll run a standard t test. Otherwise, we'll use the Mann Whitney U test."
   ]
  },
  {
   "cell_type": "code",
   "execution_count": 19,
   "metadata": {},
   "outputs": [
    {
     "data": {
      "image/png": "[encoded data removed]",
      "text/plain": [
       "<Figure size 720x288 with 2 Axes>"
      ]
     },
     "metadata": {},
     "output_type": "display_data"
    }
   ],
   "source": [
    "# Making a standard normally distributed variable with the same number of observations,\n",
    "# as the samples they're being compared to, \n",
    "# a mean of 0, and standard deviation of 1 that we will use as our “comparison.”\n",
    "\n",
    "x = len(men)\n",
    "y = len(women)\n",
    "\n",
    "norm_men = np.random.normal(0, 1, x)\n",
    "norm_women = np.random.normal(0, 1, y)\n",
    "# Sorting the values in ascending order.\n",
    "norm_men.sort()\n",
    "norm_women.sort()\n",
    "\n",
    "plt.figure(figsize=(10,4))\n",
    "plt.subplot(1,2,1)\n",
    "# Plotting the variable rand1 against norm in qqplots.\n",
    "plt.plot(norm_men, men.sort_values(ascending=True), \"o\") \n",
    "plt.title(\"men\")\n",
    "\n",
    "plt.subplot(1,2,2)\n",
    "plt.plot(norm_women, women.sort_values(ascending=True),\"o\",)\n",
    "plt.title(\"women\")\n",
    "\n",
    "plt.show() "
   ]
  },
  {
   "cell_type": "markdown",
   "metadata": {},
   "source": [
    "It looks like they are not normally distributed at all. Let's run the median test and the Mann Whitney U tests."
   ]
  },
  {
   "cell_type": "code",
   "execution_count": 20,
   "metadata": {},
   "outputs": [
    {
     "data": {
      "text/plain": [
       "(0.10448797978115422, 0.7465089423999145, 4.0, array([[ 846,  853],\n",
       "        [1305, 1287]]))"
      ]
     },
     "execution_count": 20,
     "metadata": {},
     "output_type": "execute_result"
    }
   ],
   "source": [
    "stats.median_test(men, women)"
   ]
  },
  {
   "cell_type": "markdown",
   "metadata": {},
   "source": [
    "Explanation of the results of the median test, from [scipy](https://docs.scipy.org/doc/scipy/reference/generated/scipy.stats.median_test.html):\n",
    "<blockquote>\n",
    "\n",
    "<p><strong>stat :</strong> <em>float</em> <br />\n",
    "The test statistic. The statistic that is returned is determined by lambda_. The default is Pearson’s chi-squared statistic.</p>\n",
    "\n",
    "<p><strong>p :</strong> <em>float</em><br />\n",
    "The p-value of the test.</p>\n",
    "\n",
    "<p><strong>m :</strong> <em>float</em><br />\n",
    "The grand median.</p>\n",
    "\n",
    "<p><strong>table :</strong> <em>ndarray</em> <br />\n",
    "The contingency table. The shape of the table is (2, n), where n is the number of samples. The first row holds the counts of the values above the grand median, and the second row holds the counts of the values below the grand median. The table allows further analysis with, for example, scipy.stats.chi2_contingency, or with scipy.stats.fisher_exact if there are two samples, without having to recompute the table. If nan_policy is “propagate” and there are nans in the input, the return value for table is None.</p>\n",
    "</blockquote>"
   ]
  },
  {
   "cell_type": "code",
   "execution_count": 21,
   "metadata": {},
   "outputs": [
    {
     "data": {
      "text/plain": [
       "MannwhitneyuResult(statistic=2271081.5, pvalue=0.22382598497660156)"
      ]
     },
     "execution_count": 21,
     "metadata": {},
     "output_type": "execute_result"
    }
   ],
   "source": [
    "stats.mannwhitneyu(men, women)"
   ]
  },
  {
   "cell_type": "markdown",
   "metadata": {},
   "source": [
    "It looks like, though women on average reported slightly more TV time than men in 2012, the difference between the two distributions is marginal and not significant (p value less than 0.05) according to the Mann Whitney U test and Moon's Median test, as well as the standard t test.\n",
    "\n",
    "<hr width=\"50%\" />\n",
    "\n",
    "## Question 4. Who was more likely to believe people were fair in 2012, people living with a partner or people living alone?\n",
    "\n",
    "Relevant columns of the dataframe are **pplfair** (range 1-10) and **partner** (**1** means lives with a partner, **2** means lives alone)."
   ]
  },
  {
   "cell_type": "code",
   "execution_count": 22,
   "metadata": {},
   "outputs": [
    {
     "data": {
      "text/plain": [
       "partner\n",
       "1.0    6.080736\n",
       "2.0    5.856965\n",
       "Name: pplfair, dtype: float64"
      ]
     },
     "execution_count": 22,
     "metadata": {},
     "output_type": "execute_result"
    }
   ],
   "source": [
    "df[df['year'] == 6].groupby('partner')['pplfair'].mean()"
   ]
  },
  {
   "cell_type": "code",
   "execution_count": 23,
   "metadata": {},
   "outputs": [],
   "source": [
    "partner = df[(df['year'] == 6) & (df['partner'] == 1)]['pplfair'].dropna()\n",
    "alone = df[(df['year'] == 6) & (df['partner'] == 2)]['pplfair'].dropna()"
   ]
  },
  {
   "cell_type": "code",
   "execution_count": 24,
   "metadata": {},
   "outputs": [
    {
     "data": {
      "image/png": "[encoded data removed]",
      "text/plain": [
       "<Figure size 432x288 with 1 Axes>"
      ]
     },
     "metadata": {},
     "output_type": "display_data"
    }
   ],
   "source": [
    "\n",
    "plt.figure()\n",
    "plt.hist([partner,alone], label=[\"lives w partner\", \"lives alone\"])\n",
    "plt.title(\"{} in ppl livin with and without partners, year 2012\".format('pplfair')) \n",
    "plt.legend(loc=\"best\")\n",
    "plt.show()"
   ]
  },
  {
   "cell_type": "markdown",
   "metadata": {},
   "source": [
    "It looks like overall, there are more people living with a partner then living alone at each ranking of people's fairness, although at 6, 7, 8, the difference is the most dramatic. It doesn't look normally distributed, so let's not run a t-test. Since the distributions are independent (not paired) and there are only 2 different distributions, let's run the Mann Whitney U test and the median test."
   ]
  },
  {
   "cell_type": "code",
   "execution_count": 25,
   "metadata": {},
   "outputs": [
    {
     "data": {
      "text/plain": [
       "MannwhitneyuResult(statistic=1998233.5, pvalue=0.00010499272215466025)"
      ]
     },
     "execution_count": 25,
     "metadata": {},
     "output_type": "execute_result"
    }
   ],
   "source": [
    "stats.mannwhitneyu(partner,alone)"
   ]
  },
  {
   "cell_type": "code",
   "execution_count": 26,
   "metadata": {},
   "outputs": [
    {
     "data": {
      "text/plain": [
       "(17.308749957810758, 3.177204901948618e-05, 6.0, array([[1352,  710],\n",
       "        [1311,  898]]))"
      ]
     },
     "execution_count": 26,
     "metadata": {},
     "output_type": "execute_result"
    }
   ],
   "source": [
    "stats.median_test(partner,alone)"
   ]
  },
  {
   "cell_type": "markdown",
   "metadata": {},
   "source": [
    "It appears that the difference is significant from the results of both tests, the median across both samples is 6, and it looks like there are more people living with a partner above the median value than below, while the same can't be said of people living alone.\n",
    "\n",
    "<hr width=\"50%\" />\n",
    "\n",
    "## Question 5. Pick three or four of the countries in the sample and compare how often people met socially in 2014. Are there differences, and if so, which countries stand out?\n",
    "\n",
    "Relevant columns  - sclmeet, and of cousrse year and cntry.\n"
   ]
  },
  {
   "cell_type": "code",
   "execution_count": 27,
   "metadata": {},
   "outputs": [
    {
     "data": {
      "text/plain": [
       "cntry\n",
       "SE    5.426211\n",
       "NO    5.302326\n",
       "ES    5.260116\n",
       "CH    5.160622\n",
       "CZ    4.445802\n",
       "DE    4.428571\n",
       "Name: sclmeet, dtype: float64"
      ]
     },
     "execution_count": 27,
     "metadata": {},
     "output_type": "execute_result"
    }
   ],
   "source": [
    "df[df['year'] == 7].groupby('cntry')['sclmeet'].mean().sort_values(ascending=False)"
   ]
  },
  {
   "cell_type": "markdown",
   "metadata": {},
   "source": [
    "I'll look at NO, ES, DE, and CZ."
   ]
  },
  {
   "cell_type": "code",
   "execution_count": 28,
   "metadata": {},
   "outputs": [
    {
     "data": {
      "image/png": "[encoded data removed]",
      "text/plain": [
       "<Figure size 432x288 with 1 Axes>"
      ]
     },
     "metadata": {},
     "output_type": "display_data"
    }
   ],
   "source": [
    "scl = [0,0,0,0]\n",
    "\n",
    "selected = ['NO','ES','DE','CZ']\n",
    "\n",
    "for i, pais in enumerate(selected):\n",
    "    scl[i] = df[(df['year'] == 7) & (df['cntry'] == pais)]['sclmeet'].dropna()\n",
    "    \n",
    "plt.figure(figsize=(6,4))\n",
    "plt.hist([scl[0], scl[1], scl[2], scl[3]], label=selected)\n",
    "plt.legend(loc=\"upper left\")\n",
    "plt.title(\"social meeting of selected 4 countries in 2014\")\n",
    "plt.show()\n"
   ]
  },
  {
   "cell_type": "markdown",
   "metadata": {},
   "source": [
    "The variables aren't normally distributed so the t test is out. Since there are more than 2 groups, we can't use the Mann Whitney U test. The median test should be good to see if there are meaningful differenes, and then we can look further from there. \n",
    "\n",
    "At a glance though, it looks like there is significantly less data from Germany (DE) than other countries, but proportionally it looks like Spain (ES) has more people meeting more often than other countries.  Interestingly, the Czech Republic (CZ) is the only country that has 7, however."
   ]
  },
  {
   "cell_type": "code",
   "execution_count": 29,
   "metadata": {},
   "outputs": [
    {
     "name": "stdout",
     "output_type": "stream",
     "text": [
      "148.48192284607256\n",
      "p val:  5.600578434227416e-32\n",
      "median :  5.0\n",
      "[[408 629   1 177]\n",
      " [323 582  13 478]]\n"
     ]
    }
   ],
   "source": [
    "s, p, med, tabl = stats.median_test(scl[0], scl[1], scl[2], scl[3])\n",
    "print(s)\n",
    "print(\"p val: \", p)\n",
    "print(\"median : \", med)\n",
    "print(tabl)"
   ]
  },
  {
   "cell_type": "markdown",
   "metadata": {},
   "source": [
    "It looks like the differences are significant. The median test shows that overall Spain has the largest amount of people ranking higher than the median, followed by Norway, and in ES and NO, more people are abovethe median than below it, unlike DE and CZ. It might be a good idea to run the Tukey test or paired Mann Whitney U test to get more insight into the variances."
   ]
  },
  {
   "cell_type": "markdown",
   "metadata": {},
   "source": [
    "<hr width=\"50%\" />\n",
    "\n",
    "## Question 6. Pick three or four of the countries in the sample and compare how often people took part in social activities, relative to others their age, in 2014. Are there differences, and if so, which countries stand out?\n",
    "\n",
    "Relevant columns - sclact, and of course age, year, cntry.\n",
    "\n",
    "First, I'm going to look at the ages and decide how to group them together."
   ]
  },
  {
   "cell_type": "code",
   "execution_count": 30,
   "metadata": {},
   "outputs": [
    {
     "name": "stdout",
     "output_type": "stream",
     "text": [
      "47.47073608617594 47.0 18.396268436738396 15.0 114.0\n"
     ]
    }
   ],
   "source": [
    "okay = df.agea.dropna().tolist()\n",
    "\n",
    "print(np.mean(okay), np.median(okay), np.std(okay), min(okay), max(okay))"
   ]
  },
  {
   "cell_type": "code",
   "execution_count": 31,
   "metadata": {},
   "outputs": [
    {
     "data": {
      "image/png": "[encoded data removed]",
      "text/plain": [
       "<Figure size 432x288 with 1 Axes>"
      ]
     },
     "metadata": {},
     "output_type": "display_data"
    }
   ],
   "source": [
    "plt.figure()\n",
    "plt.hist(okay)\n",
    "plt.title('distribution of ages')\n",
    "plt.show()"
   ]
  },
  {
   "cell_type": "markdown",
   "metadata": {},
   "source": [
    "In light of the distribution of the ages, let's group the ages as (1) under 39, (2) 40 to 60, and (3) 61+"
   ]
  },
  {
   "cell_type": "code",
   "execution_count": 32,
   "metadata": {},
   "outputs": [
    {
     "name": "stderr",
     "output_type": "stream",
     "text": [
      "/anaconda3/lib/python3.6/site-packages/pandas/core/indexing.py:362: SettingWithCopyWarning: \n",
      "A value is trying to be set on a copy of a slice from a DataFrame.\n",
      "Try using .loc[row_indexer,col_indexer] = value instead\n",
      "\n",
      "See the caveats in the documentation: http://pandas.pydata.org/pandas-docs/stable/indexing.html#indexing-view-versus-copy\n",
      "  self.obj[key] = _infer_fill_value(value)\n",
      "/anaconda3/lib/python3.6/site-packages/pandas/core/indexing.py:543: SettingWithCopyWarning: \n",
      "A value is trying to be set on a copy of a slice from a DataFrame.\n",
      "Try using .loc[row_indexer,col_indexer] = value instead\n",
      "\n",
      "See the caveats in the documentation: http://pandas.pydata.org/pandas-docs/stable/indexing.html#indexing-view-versus-copy\n",
      "  self.obj[item] = s\n"
     ]
    }
   ],
   "source": [
    "# break the dataframe into smaller dataframes\n",
    "age_one = df[df['agea'] < 39]\n",
    "age_two = df[(df['agea'] > 39) & (df['agea'] < 61)]\n",
    "age_three = df[df['agea'] > 60]\n",
    "\n",
    "# put the value in the agegroup column\n",
    "age_one.loc[:,'ageg'] = 1\n",
    "age_two.loc[:,'ageg'] = 2\n",
    "age_three.loc[:,'ageg'] = 3\n",
    "\n",
    "# concat the three groups back together into the main dataframe \n",
    "df = pd.concat([age_one,age_two,age_three])"
   ]
  },
  {
   "cell_type": "markdown",
   "metadata": {},
   "source": [
    "Now let's look at the averages across each country (by age group).\n"
   ]
  },
  {
   "cell_type": "code",
   "execution_count": 33,
   "metadata": {},
   "outputs": [
    {
     "name": "stdout",
     "output_type": "stream",
     "text": [
      "Series([], Name: sclact, dtype: float64)\n",
      "cntry  ageg\n",
      "CH     1       2.789474\n",
      "CZ     1       2.829384\n",
      "DE     1       3.000000\n",
      "ES     1       2.691517\n",
      "NO     1       2.908333\n",
      "SE     1       2.902778\n",
      "Name: sclact, dtype: float64\n",
      "cntry  ageg\n",
      "CH     2       2.812000\n",
      "CZ     2       2.643357\n",
      "DE     2       2.857143\n",
      "ES     2       2.691111\n",
      "NO     2       2.776596\n",
      "SE     2       2.803636\n",
      "Name: sclact, dtype: float64\n",
      "cntry  ageg\n",
      "CH     3       2.740541\n",
      "CZ     3       2.729508\n",
      "DE     3       2.500000\n",
      "ES     3       2.402730\n",
      "NO     3       2.928177\n",
      "SE     3       2.926910\n",
      "Name: sclact, dtype: float64\n"
     ]
    }
   ],
   "source": [
    "for i in range(4):\n",
    "    print(df[(df['year'] == 7) & (df['ageg'] == i)].groupby(['cntry', \n",
    "                                                             'ageg'])['sclact'].mean())\n"
   ]
  },
  {
   "cell_type": "markdown",
   "metadata": {},
   "source": [
    "Let's look more closesly at the countries previously selected for question #5."
   ]
  },
  {
   "cell_type": "code",
   "execution_count": 34,
   "metadata": {},
   "outputs": [],
   "source": [
    "age_one = []\n",
    "age_two = []\n",
    "age_three = []\n",
    "\n",
    "listed = [age_one, age_two, age_three]\n",
    "\n",
    "# get the distributions\n",
    "for pais in selected:\n",
    "    for i in range(3):\n",
    "        listed[i].append(df[(df['year'] == 7) & (df['cntry'] == pais) & \n",
    "                          (df['ageg'] == i+1)]['sclact'].dropna())\n"
   ]
  },
  {
   "cell_type": "code",
   "execution_count": 35,
   "metadata": {},
   "outputs": [
    {
     "data": {
      "image/png": "[encoded data removed]",
      "text/plain": [
       "<Figure size 1152x576 with 3 Axes>"
      ]
     },
     "metadata": {},
     "output_type": "display_data"
    }
   ],
   "source": [
    "# plot them\n",
    "\n",
    "plt.figure(figsize=(16,8))\n",
    "\n",
    "for x in range(3):\n",
    "    plt.subplot(2,2,x+1)\n",
    "    plt.hist([listed[x][0], listed[x][1], listed[x][2], listed[x][3]], label=selected, \n",
    "             density=True) # to normalize the data\n",
    "    plt.legend(loc=\"best\")\n",
    "    plt.title(\"social activity of selected 4 countries in 2014 for age group {}\".format(x+1))\n",
    "    \n",
    "plt.show()"
   ]
  },
  {
   "cell_type": "markdown",
   "metadata": {},
   "source": [
    "At a glance, it appears that none of them are normal distributions, and in general people of all age groups, from all countries, most frequently select between 3 and 3.5.\n",
    "\n",
    "Since the distributions aren't normal and there are more than 2 to compare at a time, let's do the median test within each age group, to see if there are meaningful differences between countries."
   ]
  },
  {
   "cell_type": "code",
   "execution_count": 36,
   "metadata": {},
   "outputs": [
    {
     "data": {
      "text/html": [
       "<div>\n",
       "<style scoped>\n",
       "    .dataframe tbody tr th:only-of-type {\n",
       "        vertical-align: middle;\n",
       "    }\n",
       "\n",
       "    .dataframe tbody tr th {\n",
       "        vertical-align: top;\n",
       "    }\n",
       "\n",
       "    .dataframe thead th {\n",
       "        text-align: right;\n",
       "    }\n",
       "</style>\n",
       "<table border=\"1\" class=\"dataframe\">\n",
       "  <thead>\n",
       "    <tr style=\"text-align: right;\">\n",
       "      <th></th>\n",
       "      <th>s</th>\n",
       "      <th>p</th>\n",
       "      <th>med</th>\n",
       "      <th>tabl</th>\n",
       "    </tr>\n",
       "  </thead>\n",
       "  <tbody>\n",
       "    <tr>\n",
       "      <th>ageg 1</th>\n",
       "      <td>2.723448</td>\n",
       "      <td>0.436257</td>\n",
       "      <td>3.0</td>\n",
       "      <td>[[44, 53, 0, 32], [196, 336, 1, 179]]</td>\n",
       "    </tr>\n",
       "    <tr>\n",
       "      <th>ageg 2</th>\n",
       "      <td>11.209764</td>\n",
       "      <td>0.010644</td>\n",
       "      <td>3.0</td>\n",
       "      <td>[[36, 78, 1, 25], [246, 372, 6, 261]]</td>\n",
       "    </tr>\n",
       "    <tr>\n",
       "      <th>ageg 3</th>\n",
       "      <td>7.959098</td>\n",
       "      <td>0.046865</td>\n",
       "      <td>3.0</td>\n",
       "      <td>[[42, 41, 0, 23], [139, 252, 6, 99]]</td>\n",
       "    </tr>\n",
       "  </tbody>\n",
       "</table>\n",
       "</div>"
      ],
      "text/plain": [
       "                s         p  med                                   tabl\n",
       "ageg 1   2.723448  0.436257  3.0  [[44, 53, 0, 32], [196, 336, 1, 179]]\n",
       "ageg 2  11.209764  0.010644  3.0  [[36, 78, 1, 25], [246, 372, 6, 261]]\n",
       "ageg 3   7.959098  0.046865  3.0   [[42, 41, 0, 23], [139, 252, 6, 99]]"
      ]
     },
     "execution_count": 36,
     "metadata": {},
     "output_type": "execute_result"
    }
   ],
   "source": [
    "\n",
    "rows = {}\n",
    "\n",
    "for i in range(3):\n",
    "    result = stats.median_test(listed[i][0], listed[i][1], \n",
    "                                          listed[i][2], listed[i][3])\n",
    "\n",
    "    rows[\"ageg \"+str(i+1)] = [result[0], result[1], result[2], result[3]]\n",
    "\n",
    "pd.DataFrame.from_dict(data=rows,orient=\"index\",columns=[\"s\",\"p\",\"med\",\"tabl\"])"
   ]
  },
  {
   "cell_type": "markdown",
   "metadata": {},
   "source": [
    "Looking at the median test results, age group 2 and 3 have statistically significant differences (p value of less than 0.05), though for age group 3 it is very close to the cutoff.\n",
    "\n",
    "Looking at the table, it looks like in age group 2, the second country (ES) was the one that had the most above the median, but it also had the most below the median too. \n",
    "\n",
    "With age group 3, the first country (NO) had the most above the median, and the second most below the median.\n",
    "\n",
    "Let's try the Tukey test. <em>(Help with the Tukey range test from [here](http://cleverowl.uk/2015/07/01/using-one-way-anova-and-tukeys-test-to-compare-data-sets/).)</em>"
   ]
  },
  {
   "cell_type": "code",
   "execution_count": 37,
   "metadata": {},
   "outputs": [],
   "source": [
    "# get dataframes for the 4 countries, in the year, selected age group and \n",
    "# have the columns be the country and the sclact\n",
    "\n",
    "age_g2 = df[(df['year'] == 7) & (df['ageg'] == 2)].loc[:, ('cntry','sclact')].dropna()\n",
    "age_g3 = df[(df['year'] == 7) & (df['ageg'] == 3)].loc[:, ('cntry','sclact')].dropna()"
   ]
  },
  {
   "cell_type": "code",
   "execution_count": 38,
   "metadata": {},
   "outputs": [
    {
     "name": "stdout",
     "output_type": "stream",
     "text": [
      "Multiple Comparison of Means - Tukey HSD,FWER=0.05\n",
      "============================================\n",
      "group1 group2 meandiff  lower  upper  reject\n",
      "--------------------------------------------\n",
      "  CH     CZ   -0.1686  -0.3838 0.0465 False \n",
      "  CH     DE    0.0451  -0.9071 0.9974 False \n",
      "  CH     ES   -0.1209  -0.3169 0.0751 False \n",
      "  CH     NO   -0.0354  -0.2513 0.1805 False \n",
      "  CH     SE   -0.0084  -0.2255 0.2088 False \n",
      "  CZ     DE    0.2138  -0.7368 1.1644 False \n",
      "  CZ     ES    0.0478  -0.1402 0.2357 False \n",
      "  CZ     NO    0.1332  -0.0753 0.3418 False \n",
      "  CZ     SE    0.1603  -0.0496 0.3701 False \n",
      "  DE     ES    -0.166  -1.1125 0.7804 False \n",
      "  DE     NO   -0.0805  -1.0313 0.8702 False \n",
      "  DE     SE   -0.0535  -1.0046 0.8976 False \n",
      "  ES     NO    0.0855  -0.1032 0.2742 False \n",
      "  ES     SE    0.1125  -0.0777 0.3027 False \n",
      "  NO     SE    0.027   -0.1835 0.2376 False \n",
      "--------------------------------------------\n",
      "['CH' 'CZ' 'DE' 'ES' 'NO' 'SE']\n"
     ]
    }
   ],
   "source": [
    "from statsmodels.stats.multicomp import pairwise_tukeyhsd\n",
    "from statsmodels.stats.multicomp import MultiComparison\n",
    "\n",
    "# age group 2\n",
    "mc = MultiComparison(age_g2['sclact'], age_g2['cntry'])\n",
    "result = mc.tukeyhsd()\n",
    " \n",
    "print(result)\n",
    "print(mc.groupsunique)"
   ]
  },
  {
   "cell_type": "markdown",
   "metadata": {},
   "source": [
    "Interestingly enough, though according to the median test age group 2 had a p value of 0.01, according to the Tukey test and looking at the means, the null value shouldn't be rejected. \n",
    "<p />Let's look at age group 3. "
   ]
  },
  {
   "cell_type": "code",
   "execution_count": 39,
   "metadata": {},
   "outputs": [
    {
     "name": "stdout",
     "output_type": "stream",
     "text": [
      "Multiple Comparison of Means - Tukey HSD,FWER=0.05\n",
      "=============================================\n",
      "group1 group2 meandiff  lower   upper  reject\n",
      "---------------------------------------------\n",
      "  CH     CZ    -0.011  -0.3269  0.3049 False \n",
      "  CH     DE   -0.2405  -1.3641  0.8831 False \n",
      "  CH     ES   -0.3378  -0.5922 -0.0835  True \n",
      "  CH     NO    0.1876  -0.0955  0.4708 False \n",
      "  CH     SE    0.1864  -0.0667  0.4394 False \n",
      "  CZ     DE   -0.2295  -1.3622  0.9032 False \n",
      "  CZ     ES   -0.3268  -0.6186 -0.0349  True \n",
      "  CZ     NO    0.1987  -0.1186  0.516  False \n",
      "  CZ     SE    0.1974  -0.0933  0.4881 False \n",
      "  DE     ES   -0.0973  -1.2143  1.0198 False \n",
      "  DE     NO    0.4282  -0.6958  1.5522 False \n",
      "  DE     SE    0.4269  -0.6899  1.5437 False \n",
      "  ES     NO    0.5254   0.2694  0.7815  True \n",
      "  ES     SE    0.5242   0.3019  0.7465  True \n",
      "  NO     SE   -0.0013   -0.256  0.2535 False \n",
      "---------------------------------------------\n",
      "['CH' 'CZ' 'DE' 'ES' 'NO' 'SE']\n"
     ]
    }
   ],
   "source": [
    "# age group 3\n",
    "mc = MultiComparison(age_g3['sclact'], age_g3['cntry'])\n",
    "result = mc.tukeyhsd()\n",
    " \n",
    "print(result)\n",
    "print(mc.groupsunique)"
   ]
  },
  {
   "cell_type": "markdown",
   "metadata": {},
   "source": [
    "In age group 3, it looks like there are significant differences between CH and ES, CZ and ES, Es and NO, ES and SE. Because ES is the common variable in all of these pairings, it seems like ES is the one different country in terms of social activity in age group 3 (above 60).\n",
    "\n",
    "Looking carefully at the meandiff of the pariings, it looks like the mean sclact ranking in ES is higher than that of all the other countries."
   ]
  },
  {
   "cell_type": "code",
   "execution_count": null,
   "metadata": {},
   "outputs": [],
   "source": []
  }
 ],
 "metadata": {
  "kernelspec": {
   "display_name": "Python 3",
   "language": "python",
   "name": "python3"
  },
  "language_info": {
   "codemirror_mode": {
    "name": "ipython",
    "version": 3
   },
   "file_extension": ".py",
   "mimetype": "text/x-python",
   "name": "python",
   "nbconvert_exporter": "python",
   "pygments_lexer": "ipython3",
   "version": "3.6.5"
  }
 },
 "nbformat": 4,
 "nbformat_minor": 2
}
