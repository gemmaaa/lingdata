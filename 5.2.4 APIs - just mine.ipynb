{
 "cells": [
  {
   "cell_type": "markdown",
   "metadata": {},
   "source": [
    "# 5.2.4 API / Scraping\n",
    "\n",
    "## Challenge\n",
    "\n",
    "Do a little scraping or API-calling of your own.  Pick a new website and see what you can get out of it.  Expect that you'll run into bugs and blind alleys, and rely on your mentor to help you get through.  \n",
    "\n",
    "Formally, your goal is to write a scraper that will:\n",
    "\n",
    "1) Return specific pieces of information (rather than just downloading a whole page)  \n",
    "2) Iterate over multiple pages/queries  \n",
    "3) Save the data to your computer  \n",
    "\n",
    "Once you have your data, compute some statistical summaries and/or visualizations that give you some new insights into your scraping topic of interest.  Write up a report from scraping code to summary and share it with your mentor."
   ]
  },
  {
   "cell_type": "code",
   "execution_count": 1,
   "metadata": {},
   "outputs": [
    {
     "name": "stdout",
     "output_type": "stream",
     "text": [
      "14\n"
     ]
    }
   ],
   "source": [
    "# a helper function\n",
    "\n",
    "my_string = \"blahblah=14\"\n",
    "\n",
    "import re\n",
    "\n",
    "def get_num(a_string):\n",
    "    \n",
    "    m = re.search(\"\\d\", a_string)\n",
    "    return a_string[m.start():]\n",
    "\n",
    "print(get_num(my_string))\n"
   ]
  },
  {
   "cell_type": "code",
   "execution_count": 2,
   "metadata": {},
   "outputs": [
    {
     "name": "stdout",
     "output_type": "stream",
     "text": [
      "Success!\n"
     ]
    }
   ],
   "source": [
    "import scrapy\n",
    "from scrapy.crawler import CrawlerProcess\n",
    "\n",
    "class ESSpider(scrapy.Spider):\n",
    "    # Naming the spider is important if you are running more than one spider of\n",
    "    # this class simultaneously.\n",
    "    name = \"ESS\"\n",
    "    \n",
    "    # URL(s) to start with.\n",
    "    start_urls = [\n",
    "        'https://portland.craigslist.org/d/jobs/search/jjj',\n",
    "    ]\n",
    "\n",
    "    # Use XPath to parse the response we get.\n",
    "    def parse(self, response):\n",
    "        \n",
    "        # Iterate over every word class element on the page.\n",
    "        response.selector.remove_namespaces()\n",
    "        \n",
    "        for article in response.xpath('//li[@class=\"result-row\"]'): \n",
    "     \n",
    "                # Yield a dictionary with the values we want.\n",
    "                yield {\n",
    "                    'date': article.xpath('*/time/@datetime').extract(), # this worked as //time\n",
    "                    'job': article.xpath('*/a[@class=\"result-title hdrlnk\"]/text()').extract(), # also worked as //a\n",
    "                    'location': article.xpath('p/span/span[@class=\"result-hood\"]/text()').extract(),\n",
    "                }\n",
    "            # Get the URL of the next page.\n",
    "        next_page = response.xpath('//div/div/span/a[@class=\"button next\"]/@href').extract_first()\n",
    "        \n",
    "        #print(get_num(next_page))  # this was just a double check to make sure it was running\n",
    "        \n",
    "        # there are 119 results on each page, so the url next_page ends in a multiple of 120\n",
    "        # since we don't want to go beyond page 9 let's calc 120 x 9\n",
    "        \n",
    "        maximum  = 9 * 120  \n",
    "        \n",
    "        # Recursively call the spider to run on the next page, if it exists.\n",
    "        if next_page is not None and int(get_num(next_page)) < maximum:\n",
    "            next_page = response.urljoin(next_page)\n",
    "            # Request the next page and recursively parse it the same way we did above\n",
    "            yield scrapy.Request(next_page, callback=self.parse)\n",
    "\n",
    "# Tell the script how to run the crawler by passing in settings.\n",
    "# The new settings have to do with scraping etiquette.          \n",
    "process = CrawlerProcess({\n",
    "    'FEED_FORMAT': 'json',         # Store data in JSON format.\n",
    "    'FEED_URI': 'data3.json',       # Name our storage file.\n",
    "    'LOG_ENABLED': False,          # Turn off logging for now.\n",
    "    'ROBOTSTXT_OBEY': True,\n",
    "    'USER_AGENT': 'ThinkfulDataScienceBootcampCrawler (thinkful.com)',\n",
    "    'AUTOTHROTTLE_ENABLED': True,\n",
    "    'HTTPCACHE_ENABLED': True\n",
    "})\n",
    "\n",
    "# Start the crawler with our spider.\n",
    "process.crawl(ESSpider)\n",
    "process.start()\n",
    "print('Success!')"
   ]
  },
  {
   "cell_type": "code",
   "execution_count": 3,
   "metadata": {},
   "outputs": [
    {
     "name": "stdout",
     "output_type": "stream",
     "text": [
      "(1080, 3)\n",
      "                 date                                                job  \\\n",
      "0  [2018-10-05 21:46]                            [Bartender at Taphouse]   \n",
      "1  [2018-10-05 20:36]  [►MAKE UP TO $25/HOUR ON YOUR OWN SCHEDULE /W ...   \n",
      "2  [2018-10-05 20:34]                                [EXTRA CASH DRIVER]   \n",
      "3  [2018-10-05 20:14]     [Recptionist/Optical assistant for Eye Clinic]   \n",
      "4  [2018-10-05 20:11]                        [Legal Secretary/Assistant]   \n",
      "\n",
      "                  location  \n",
      "0  [ (9230 SW Burnham St)]  \n",
      "1                       []  \n",
      "2        [ (VANCOUVER,WA)]  \n",
      "3           [ (Milwaukie)]  \n",
      "4            [ (Downtown)]  \n"
     ]
    }
   ],
   "source": [
    "import pandas as pd\n",
    "\n",
    "# Checking whether we got data from all 9 pages\n",
    "ESSdf = pd.read_json('data3.json', orient='records')\n",
    "print(ESSdf.shape)\n",
    "print(ESSdf.head())"
   ]
  },
  {
   "cell_type": "markdown",
   "metadata": {},
   "source": [
    "We have a little bit of a mess here. Cleaning up the data a little bit...\n",
    "\n",
    "First, it looks like each cell is a 1 item list, so I'm going to fix it so each cell is just the item itself, not the list. <br />\n",
    "I used [this resource](https://chrisalbon.com/python/data_wrangling/pandas_expand_cells_containing_lists/).\n"
   ]
  },
  {
   "cell_type": "code",
   "execution_count": 4,
   "metadata": {},
   "outputs": [],
   "source": [
    "for col in ESSdf.columns:\n",
    "    # separate the list into columns (in this case, 1 each)\n",
    "    temporary = ESSdf[col].apply(pd.Series)\n",
    "    ESSdf[col] = temporary\n"
   ]
  },
  {
   "cell_type": "markdown",
   "metadata": {},
   "source": [
    "Next, a little bit more cleaning, so we can actually analyze the data."
   ]
  },
  {
   "cell_type": "code",
   "execution_count": 5,
   "metadata": {},
   "outputs": [],
   "source": [
    "# convert the date to datetime format\n",
    "\n",
    "ESSdf['date'] = pd.to_datetime(ESSdf['date'], infer_datetime_format=True, errors=\"ignore\")\n",
    "\n",
    "# take out the time\n",
    "ESSdf['time posted'] = ESSdf['date'].dt.time\n",
    "\n",
    "#also take out the date\n",
    "ESSdf['date posted'] = ESSdf['date'].dt.date"
   ]
  },
  {
   "cell_type": "code",
   "execution_count": 6,
   "metadata": {},
   "outputs": [],
   "source": [
    "# clean up the job titles a tiny bit\n",
    "\n",
    "# make everything lowercase\n",
    "ESSdf['job'] = ESSdf['job'].str.lower()\n",
    "\n",
    "# get rid of some special characters\n",
    "def text_cleaner(text):\n",
    "    text = re.sub(r'--',' ',text)\n",
    "    text = re.sub(\"[\\[].*?[\\]]\", \"\", text)\n",
    "    text = ' '.join(text.split())\n",
    "    return text\n",
    "\n",
    "ESSdf['job'] = ESSdf['job'].apply(text_cleaner)"
   ]
  },
  {
   "cell_type": "code",
   "execution_count": 7,
   "metadata": {},
   "outputs": [],
   "source": [
    "# reorder the columns \n",
    "cols = ['date', 'date posted', 'time posted', 'location', 'job']\n",
    "\n",
    "jobs = ESSdf[cols]"
   ]
  },
  {
   "cell_type": "code",
   "execution_count": 8,
   "metadata": {},
   "outputs": [
    {
     "data": {
      "text/html": [
       "<div>\n",
       "<style scoped>\n",
       "    .dataframe tbody tr th:only-of-type {\n",
       "        vertical-align: middle;\n",
       "    }\n",
       "\n",
       "    .dataframe tbody tr th {\n",
       "        vertical-align: top;\n",
       "    }\n",
       "\n",
       "    .dataframe thead th {\n",
       "        text-align: right;\n",
       "    }\n",
       "</style>\n",
       "<table border=\"1\" class=\"dataframe\">\n",
       "  <thead>\n",
       "    <tr style=\"text-align: right;\">\n",
       "      <th></th>\n",
       "      <th>date</th>\n",
       "      <th>date posted</th>\n",
       "      <th>time posted</th>\n",
       "      <th>location</th>\n",
       "      <th>job</th>\n",
       "    </tr>\n",
       "  </thead>\n",
       "  <tbody>\n",
       "    <tr>\n",
       "      <th>0</th>\n",
       "      <td>2018-10-05 21:46:00</td>\n",
       "      <td>2018-10-05</td>\n",
       "      <td>21:46:00</td>\n",
       "      <td>(9230 SW Burnham St)</td>\n",
       "      <td>bartender at taphouse</td>\n",
       "    </tr>\n",
       "    <tr>\n",
       "      <th>1</th>\n",
       "      <td>2018-10-05 20:36:00</td>\n",
       "      <td>2018-10-05</td>\n",
       "      <td>20:36:00</td>\n",
       "      <td>NaN</td>\n",
       "      <td>►make up to $25/hour on your own schedule /w p...</td>\n",
       "    </tr>\n",
       "    <tr>\n",
       "      <th>2</th>\n",
       "      <td>2018-10-05 20:34:00</td>\n",
       "      <td>2018-10-05</td>\n",
       "      <td>20:34:00</td>\n",
       "      <td>(VANCOUVER,WA)</td>\n",
       "      <td>extra cash driver</td>\n",
       "    </tr>\n",
       "    <tr>\n",
       "      <th>3</th>\n",
       "      <td>2018-10-05 20:14:00</td>\n",
       "      <td>2018-10-05</td>\n",
       "      <td>20:14:00</td>\n",
       "      <td>(Milwaukie)</td>\n",
       "      <td>recptionist/optical assistant for eye clinic</td>\n",
       "    </tr>\n",
       "    <tr>\n",
       "      <th>4</th>\n",
       "      <td>2018-10-05 20:11:00</td>\n",
       "      <td>2018-10-05</td>\n",
       "      <td>20:11:00</td>\n",
       "      <td>(Downtown)</td>\n",
       "      <td>legal secretary/assistant</td>\n",
       "    </tr>\n",
       "  </tbody>\n",
       "</table>\n",
       "</div>"
      ],
      "text/plain": [
       "                 date date posted time posted               location  \\\n",
       "0 2018-10-05 21:46:00  2018-10-05    21:46:00   (9230 SW Burnham St)   \n",
       "1 2018-10-05 20:36:00  2018-10-05    20:36:00                    NaN   \n",
       "2 2018-10-05 20:34:00  2018-10-05    20:34:00         (VANCOUVER,WA)   \n",
       "3 2018-10-05 20:14:00  2018-10-05    20:14:00            (Milwaukie)   \n",
       "4 2018-10-05 20:11:00  2018-10-05    20:11:00             (Downtown)   \n",
       "\n",
       "                                                 job  \n",
       "0                              bartender at taphouse  \n",
       "1  ►make up to $25/hour on your own schedule /w p...  \n",
       "2                                  extra cash driver  \n",
       "3       recptionist/optical assistant for eye clinic  \n",
       "4                          legal secretary/assistant  "
      ]
     },
     "execution_count": 8,
     "metadata": {},
     "output_type": "execute_result"
    }
   ],
   "source": [
    "jobs.head()"
   ]
  },
  {
   "cell_type": "markdown",
   "metadata": {},
   "source": [
    "Let's take a look at which days the postings are from."
   ]
  },
  {
   "cell_type": "code",
   "execution_count": 9,
   "metadata": {},
   "outputs": [],
   "source": [
    "jobs['day'] = jobs['date'].dt.day"
   ]
  },
  {
   "cell_type": "code",
   "execution_count": 18,
   "metadata": {},
   "outputs": [
    {
     "data": {
      "image/png": "[encoded data removed]",
      "text/plain": [
       "<Figure size 432x288 with 1 Axes>"
      ]
     },
     "metadata": {},
     "output_type": "display_data"
    }
   ],
   "source": [
    "import matplotlib.pyplot as plt\n",
    "\n",
    "plt.hist(jobs['day'])\n",
    "plt.show()"
   ]
  },
  {
   "cell_type": "markdown",
   "metadata": {},
   "source": [
    "It looks like they are all from just 2 days, most of which from one. Let's look at the job titles instead, and get a list of the most common job topics using some NLP techniques."
   ]
  },
  {
   "cell_type": "code",
   "execution_count": 11,
   "metadata": {},
   "outputs": [],
   "source": [
    "import spacy\n",
    "\n",
    "nlp = spacy.load('en_core_web_lg')\n",
    "\n",
    "jobs['parsed'] = jobs['job'].apply(nlp)"
   ]
  },
  {
   "cell_type": "code",
   "execution_count": 12,
   "metadata": {},
   "outputs": [],
   "source": [
    "from collections import Counter\n",
    "\n",
    "def bag_of_words(text, all_words):\n",
    "    \n",
    "    # Filter out punctuation and stop words.\n",
    "    all_words += ([token.lemma_\n",
    "                for token in text\n",
    "                if not token.is_punct\n",
    "                and not token.is_stop])\n",
    "    \n",
    "    # Return the most common words.\n",
    "    return [item[0] for item in Counter(all_words).most_common(1000)]\n",
    "    \n",
    "all_words = []\n",
    "jobs['parsed'].apply(bag_of_words, args=(all_words,))\n",
    "\n",
    "common_words = [item[0] for item in Counter(all_words).most_common(150)]"
   ]
  },
  {
   "cell_type": "markdown",
   "metadata": {},
   "source": [
    "Let's take a look at the most common words and then move on to getting the main topics."
   ]
  },
  {
   "cell_type": "code",
   "execution_count": 13,
   "metadata": {},
   "outputs": [
    {
     "data": {
      "text/plain": [
       "['$',\n",
       " 'time',\n",
       " 'driver',\n",
       " 'hire',\n",
       " 'to',\n",
       " 'part',\n",
       " 'need',\n",
       " 'assistant',\n",
       " 'be',\n",
       " 'for',\n",
       " 'and',\n",
       " 'a',\n",
       " '-PRON-',\n",
       " 'make',\n",
       " 'cdl',\n",
       " 'in',\n",
       " 'bonus',\n",
       " 'want',\n",
       " 'full',\n",
       " 'warehouse']"
      ]
     },
     "execution_count": 13,
     "metadata": {},
     "output_type": "execute_result"
    }
   ],
   "source": [
    "common_words[:20]"
   ]
  },
  {
   "cell_type": "code",
   "execution_count": 14,
   "metadata": {},
   "outputs": [],
   "source": [
    "import nltk\n",
    "from sklearn.feature_extraction.text import TfidfVectorizer\n",
    "import numpy as np\n",
    "\n",
    "# Creating the tf-idf matrix.\n",
    "vectorizer = TfidfVectorizer(stop_words='english')\n",
    "topic_paras_tfidf=vectorizer.fit_transform(all_words)\n",
    "\n",
    "# Getting the word list.\n",
    "terms = vectorizer.get_feature_names()"
   ]
  },
  {
   "cell_type": "code",
   "execution_count": 15,
   "metadata": {},
   "outputs": [],
   "source": [
    "from sklearn.decomposition import TruncatedSVD\n",
    "from sklearn.pipeline import make_pipeline\n",
    "from sklearn.preprocessing import Normalizer\n",
    "\n",
    "# Linking words to topics\n",
    "def word_topic(tfidf,solution, wordlist):\n",
    "    \n",
    "    # Loading scores for each word on each topic/component.\n",
    "    words_by_topic=tfidf.T * solution\n",
    "\n",
    "    # Linking the loadings to the words in an easy-to-read way.\n",
    "    components=pd.DataFrame(words_by_topic,index=wordlist)\n",
    "    \n",
    "    return components\n",
    "\n",
    "# Extracts the top N words and their loadings for each topic.\n",
    "def top_words(components, n_top_words):\n",
    "    n_topics = range(components.shape[1])\n",
    "    index= np.repeat(n_topics, n_top_words, axis=0)\n",
    "    topwords=pd.Series(index=index)\n",
    "    for column in range(components.shape[1]):\n",
    "        # Sort the column so that highest loadings are at the top.\n",
    "        sortedwords=components.iloc[:,column].sort_values(ascending=False)\n",
    "        # Choose the N highest loadings.\n",
    "        chosen=sortedwords[:n_top_words]\n",
    "        # Combine loading and index into a string.\n",
    "        chosenlist=chosen.index +\" \"+round(chosen,2).map(str) \n",
    "        topwords.loc[column]=chosenlist\n",
    "    return(topwords)\n",
    "\n",
    "svd= TruncatedSVD(3)\n",
    "lsa = make_pipeline(svd, Normalizer(copy=False))\n",
    "topic_paras_lsa = lsa.fit_transform(topic_paras_tfidf)\n",
    "\n",
    "components_lsa = word_topic(topic_paras_tfidf, topic_paras_lsa, terms)"
   ]
  },
  {
   "cell_type": "code",
   "execution_count": 16,
   "metadata": {},
   "outputs": [
    {
     "data": {
      "text/plain": [
       "0         time 128.0\n",
       "0        bonus 25.22\n",
       "0    associate 24.47\n",
       "0     portland 21.37\n",
       "0         auto 12.85\n",
       "1       driver 105.0\n",
       "1          make 48.4\n",
       "1        night 45.14\n",
       "1         pron 43.53\n",
       "1          cdl 38.82\n",
       "2          hire 90.0\n",
       "2         need 75.07\n",
       "2            hr 48.5\n",
       "2        amazon 47.5\n",
       "2         sale 39.11\n",
       "dtype: object"
      ]
     },
     "execution_count": 16,
     "metadata": {},
     "output_type": "execute_result"
    }
   ],
   "source": [
    "top_words(components_lsa, 5)"
   ]
  },
  {
   "cell_type": "markdown",
   "metadata": {},
   "source": [
    "In this case, the most common words for the most part overlapped completely with the main topics. It is probably because of the very small text sample size and the lack of context. \n"
   ]
  },
  {
   "cell_type": "code",
   "execution_count": null,
   "metadata": {},
   "outputs": [],
   "source": []
  }
 ],
 "metadata": {
  "kernelspec": {
   "display_name": "Python 3",
   "language": "python",
   "name": "python3"
  },
  "language_info": {
   "codemirror_mode": {
    "name": "ipython",
    "version": 3
   },
   "file_extension": ".py",
   "mimetype": "text/x-python",
   "name": "python",
   "nbconvert_exporter": "python",
   "pygments_lexer": "ipython3",
   "version": "3.6.5"
  }
 },
 "nbformat": 4,
 "nbformat_minor": 2
}
