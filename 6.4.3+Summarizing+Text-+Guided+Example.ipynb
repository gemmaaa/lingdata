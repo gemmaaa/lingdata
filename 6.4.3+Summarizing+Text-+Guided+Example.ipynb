{
 "cells": [
  {
   "cell_type": "code",
   "execution_count": 1,
   "metadata": {},
   "outputs": [],
   "source": [
    "import numpy as np\n",
    "import pandas as pd\n",
    "import scipy\n",
    "import matplotlib.pyplot as plt\n",
    "import networkx as nx\n",
    "import spacy\n",
    "from sklearn.feature_extraction.text import TfidfVectorizer\n",
    "%matplotlib inline"
   ]
  },
  {
   "cell_type": "markdown",
   "metadata": {},
   "source": [
    "# Summarizing Text\n",
    "\n",
    "Let's try out extractive summarization using the first four paragraphs of [The Great Gatsby](http://gutenberg.net.au/ebooks02/0200041h.html).\n",
    "\n",
    "First, we'll try to extract the most representative sentence.  Then, we'll extract keywords.\n",
    "\n",
    "## Sentence extraction\n",
    "\n",
    "The steps of our sentence extraction process:\n",
    "\n",
    "1. Parse and tokenize the text using spaCy, and divide into sentences.\n",
    "2. Calculate the tf-idf matrix.\n",
    "3. Calculate similarity scores.\n",
    "4. Calculate TextRank: We're going to use the ´networkx´ package to run the TextRank algorithm.\n",
    "\n",
    "Let's get started!\n"
   ]
  },
  {
   "cell_type": "code",
   "execution_count": 2,
   "metadata": {},
   "outputs": [],
   "source": [
    "# Importing the text the lazy way.\n",
    "gatsby2=\"In my younger and more vulnerable years my father gave me some advice that I've been turning over in my mind ever since. \\\"Whenever you feel like criticizing any one,\\\" he told me, \\\"just remember that all the people in this world haven't had the advantages that you've had.\\\" He didn't say any more but we've always been unusually communicative in a reserved way, and I understood that he meant a great deal more than that. In consequence I'm inclined to reserve all judgments, a habit that has opened up many curious natures to me and also made me the victim of not a few veteran bores. The abnormal mind is quick to detect and attach itself to this quality when it appears in a normal person, and so it came about that in college I was unjustly accused of being a politician, because I was privy to the secret griefs of wild, unknown men. Most of the confidences were unsought--frequently I have feigned sleep, preoccupation, or a hostile levity when I realized by some unmistakable sign that an intimate revelation was quivering on the horizon--for the intimate revelations of young men or at least the terms in which they express them are usually plagiaristic and marred by obvious suppressions. Reserving judgments is a matter of infinite hope. I am still a little afraid of missing something if I forget that, as my father snobbishly suggested, and I snobbishly repeat a sense of the fundamental decencies is parcelled out unequally at birth. And, after boasting this way of my tolerance, I come to the admission that it has a limit. Conduct may be founded on the hard rock or the wet marshes but after a certain point I don't care what it's founded on. When I came back from the East last autumn I felt that I wanted the world to be in uniform and at a sort of moral attention forever; I wanted no more riotous excursions with privileged glimpses into the human heart. Only Gatsby, the man who gives his name to this book, was exempt from my reaction--Gatsby who represented everything for which I have an unaffected scorn. If personality is an unbroken series of successful gestures, then there was something gorgeous about him, some heightened sensitivity to the promises of life, as if he were related to one of those intricate machines that register earthquakes ten thousand miles away. This responsiveness had nothing to do with that flabby impressionability which is dignified under the name of the \\\"creative temperament\\\"--it was an extraordinary gift for hope, a romantic readiness such as I have never found in any other person and which it is not likely I shall ever find again. No--Gatsby turned out all right at the end; it is what preyed on Gatsby, what foul dust floated in the wake of his dreams that temporarily closed out my interest in the abortive sorrows and short-winded elations of men.\"\n",
    "\n",
    "# We want to use the standard english-language parser.\n",
    "parser = spacy.load('en')\n",
    "\n",
    "# Parsing Gatsby.\n",
    "gatsby = parser(gatsby2)\n",
    "\n",
    "# Dividing the text into sentences and storing them as a list of strings.\n",
    "sentences=[]\n",
    "for span in gatsby.sents:\n",
    "    # go from the start to the end of each span, returning each token in the sentence\n",
    "    # combine each token using join()\n",
    "    sent = ''.join(gatsby[i].string for i in range(span.start, span.end)).strip()\n",
    "    sentences.append(sent)\n",
    "\n",
    "# Creating the tf-idf matrix.\n",
    "counter = TfidfVectorizer(lowercase=False, \n",
    "                          stop_words=None,\n",
    "                          ngram_range=(1, 1), \n",
    "                          analyzer=u'word', \n",
    "                          max_df=.5, \n",
    "                          min_df=1,\n",
    "                          max_features=None, \n",
    "                          vocabulary=None, \n",
    "                          binary=False)\n",
    "\n",
    "#Applying the vectorizer\n",
    "data_counts=counter.fit_transform(sentences)"
   ]
  },
  {
   "cell_type": "markdown",
   "metadata": {},
   "source": [
    "# Similarity\n",
    "\n",
    "So far, this is all (hopefully) familiar: We've done text parsing and the tf-idf calculation before.  We should now have sentences represented as vectors, with each word having a score based on how often it occurs in the sentence divided by how often it occurs in the whole text.\n",
    "\n",
    "Now let's calculate the similarity scores for the sentences and apply the TextRank algorithm.  Because TextRank is based on Google's PageRank algorithm, the function is called 'pagerank'.  The hyperparameters are the damping parameter ´alpha´ and the convergence parameter ´tol´."
   ]
  },
  {
   "cell_type": "code",
   "execution_count": 3,
   "metadata": {},
   "outputs": [
    {
     "name": "stdout",
     "output_type": "stream",
     "text": [
      "(0.07478177112861596, 'This responsiveness had nothing to do with that flabby impressionability which is dignified under the name of the \"creative temperament\"--it was an extraordinary gift for hope, a romantic readiness such as I have never found in any other person and which it is not likely I shall ever find again.')\n"
     ]
    }
   ],
   "source": [
    "# Calculating similarity\n",
    "similarity = data_counts * data_counts.T\n",
    "\n",
    "# Identifying the sentence with the highest rank.\n",
    "nx_graph = nx.from_scipy_sparse_matrix(similarity)\n",
    "ranks=nx.pagerank(nx_graph, alpha=.85, tol=.00000001)\n",
    "\n",
    "ranked = sorted(((ranks[i],s) for i,s in enumerate(sentences)),\n",
    "                reverse=True)\n",
    "print(ranked[0])\n"
   ]
  },
  {
   "cell_type": "markdown",
   "metadata": {
    "collapsed": true
   },
   "source": [
    "Since a lot of Gatsby is about the narrator acting as the observer of other peoples' sordid secrets, this seems pretty good.  Now, let's extract some keywords.\n",
    "\n",
    "# Keyword summarization\n",
    "\n",
    "1) Parse and tokenize text (already done).  \n",
    "2) Filter out stopwords, choose only nouns and adjectives.  \n",
    "3) Calculate the neighbors of words (we'll use a window of 4).  \n",
    "4) Run TextRank on the neighbor matrix.  \n"
   ]
  },
  {
   "cell_type": "code",
   "execution_count": 4,
   "metadata": {
    "scrolled": true
   },
   "outputs": [
    {
     "name": "stdout",
     "output_type": "stream",
     "text": [
      "done!\n"
     ]
    }
   ],
   "source": [
    "# Removing stop words and punctuation, then getting a list of all unique words in the text\n",
    "gatsby_filt = [word for word in gatsby if word.is_stop==False and (word.pos_=='NOUN' or word.pos_=='ADJ')]\n",
    "words=set(gatsby_filt)\n",
    "\n",
    "#Creating a grid indicating whether words are within 4 places of the target word\n",
    "adjacency=pd.DataFrame(columns=words,index=words,data=0)\n",
    "\n",
    "#Iterating through each word in the text and indicating which of the unique words are its neighbors\n",
    "for i,word in enumerate(gatsby):\n",
    "    # Checking if any of the word's next four neighbors are in the word list \n",
    "    if any([word == item for item in gatsby_filt]):\n",
    "        # Making sure to stop at the end of the string, even if there are less than \n",
    "        # four words left after the target.\n",
    "        end=max(0,len(gatsby)-(len(gatsby)-(i+5)))\n",
    "        # The potential neighbors.\n",
    "        nextwords=gatsby[i+1:end]\n",
    "        # Filtering the neighbors to select only those in the word list\n",
    "        inset=[x in gatsby_filt for x in nextwords]\n",
    "        neighbors=[nextwords[i] for i in range(len(nextwords)) if inset[i]]\n",
    "        # Adding 1 to the adjacency matrix for neighbors of the target word\n",
    "        if neighbors:\n",
    "            adjacency.loc[word,neighbors]=adjacency.loc[word,neighbors]+1\n",
    "\n",
    "print('done!')\n",
    "        \n",
    "\n"
   ]
  },
  {
   "cell_type": "code",
   "execution_count": 5,
   "metadata": {},
   "outputs": [
    {
     "name": "stderr",
     "output_type": "stream",
     "text": [
      "/anaconda3/lib/python3.6/site-packages/ipykernel_launcher.py:3: FutureWarning: Method .as_matrix will be removed in a future version. Use .values instead.\n",
      "  This is separate from the ipykernel package so we can avoid doing imports until\n"
     ]
    },
    {
     "name": "stdout",
     "output_type": "stream",
     "text": [
      "[(0.013370948308795436, hope), (0.012223431176324349, promises), (0.012223431176324349, exempt), (0.012142068850548908, glimpses), (0.011895137937387881, intimate)]\n"
     ]
    }
   ],
   "source": [
    "\n",
    "# Running TextRank\n",
    "nx_words = nx.from_numpy_matrix(adjacency.as_matrix())\n",
    "ranks=nx.pagerank(nx_words, alpha=.85, tol=.00000001)\n",
    "\n",
    "# Identifying the five most highly ranked keywords\n",
    "ranked = sorted(((ranks[i],s) for i,s in enumerate(words)),\n",
    "                reverse=True)\n",
    "print(ranked[:5])\n"
   ]
  },
  {
   "cell_type": "markdown",
   "metadata": {
    "collapsed": true
   },
   "source": [
    "These results are less impressive.  'Hope', 'promises', and 'glimpses' certainly fit the elegiac, on-the-outside-looking-in tone of the book, but 'exempt' and 'world' are pretty generic.  TextRank may perform better on a larger text sample.\n",
    "\n",
    "# Drill\n",
    "\n",
    "It is also possible that keyword phrases will work better.  Modfiy the keyword extraction code to extract two-word phrases (digrams) rather than single words.  Then try it with trigrams.  You will probably want to broaden the window that defines 'neighbors.'  Try a few different modifications, and write up your observations in your notebook.  Discuss with your mentor."
   ]
  },
  {
   "cell_type": "code",
   "execution_count": 6,
   "metadata": {
    "scrolled": true
   },
   "outputs": [],
   "source": [
    "#for i, sent in enumerate(sentences):\n",
    "#    if sent == None or sent == \" \":\n",
    "#        print(i)\n",
    "\n",
    "from gensim.test.utils import datapath\n",
    "from gensim.models.word2vec import Text8Corpus\n",
    "from gensim.models.phrases import Phrases, Phraser\n",
    "\n",
    "phrases = Phrases(sentences, min_count=1,threshold=1)"
   ]
  },
  {
   "cell_type": "code",
   "execution_count": 7,
   "metadata": {},
   "outputs": [],
   "source": [
    "bigram = Phraser(phrases)"
   ]
  },
  {
   "cell_type": "markdown",
   "metadata": {},
   "source": [
    "bi and trigram code from [here](https://www.reddit.com/r/learnmachinelearning/comments/5onknw/python_nlp_need_advice_about_gensim_phrasesphraser/)"
   ]
  },
  {
   "cell_type": "code",
   "execution_count": 8,
   "metadata": {},
   "outputs": [
    {
     "name": "stdout",
     "output_type": "stream",
     "text": [
      "['In', 'younger', 'vulnerable', 'years', 'father', 'gave', 'advice', 'I', \"'ve\", 'turning', 'mind', 'ever', 'since', '``', 'Whenever', 'feel', 'like', 'criticizing', 'one', \"''\", 'told', '``', 'remember', 'people', 'world', \"n't\", 'advantages', \"'ve\", \"''\", 'He', \"n't\", 'say', \"'ve\", 'always', 'unusually', 'communicative', 'reserved', 'way', 'I', 'understood', 'meant', 'great', 'deal', 'In', 'consequence', 'I', \"'m\", 'inclined', 'reserve', 'judgments', 'habit', 'opened', 'many', 'curious', 'natures', 'also', 'made', 'victim', 'veteran', 'bores', 'The', 'abnormal', 'mind', 'quick', 'detect', 'attach', 'quality', 'appears', 'normal', 'person', 'came', 'college', 'I', 'unjustly', 'accused', 'politician', 'I', 'privy', 'secret', 'griefs', 'wild', 'unknown', 'men', 'Most', 'confidences', 'unsought', '--', 'frequently', 'I', 'feigned', 'sleep', 'preoccupation', 'hostile', 'levity', 'I', 'realized', 'unmistakable', 'sign', 'intimate', 'revelation', 'quivering', 'horizon', '--', 'intimate', 'revelations', 'young', 'men', 'least', 'terms', 'express', 'usually', 'plagiaristic', 'marred', 'obvious', 'suppressions', 'Reserving', 'judgments', 'matter', 'infinite', 'hope', 'I', 'still', 'little', 'afraid', 'missing', 'something', 'I', 'forget', 'father', 'snobbishly', 'suggested', 'I', 'snobbishly', 'repeat', 'sense', 'fundamental', 'decencies', 'parcelled', 'unequally', 'birth', 'And', 'boasting', 'way', 'tolerance', 'I', 'come', 'admission', 'limit', 'Conduct', 'may', 'founded', 'hard', 'rock', 'wet', 'marshes', 'certain', 'point', 'I', \"n't\", 'care', \"'s\", 'founded', 'When', 'I', 'came', 'back', 'East', 'last', 'autumn', 'I', 'felt', 'I', 'wanted', 'world', 'uniform', 'sort', 'moral', 'attention', 'forever', 'I', 'wanted', 'riotous', 'excursions', 'privileged', 'glimpses', 'human', 'heart', 'Only', 'Gatsby', 'man', 'gives', 'name', 'book', 'exempt', 'reaction', '--', 'Gatsby', 'represented', 'everything', 'I', 'unaffected', 'scorn', 'If', 'personality', 'unbroken', 'series', 'successful', 'gestures', 'something', 'gorgeous', 'heightened', 'sensitivity', 'promises', 'life', 'related', 'one', 'intricate', 'machines', 'register', 'earthquakes', 'ten', 'thousand', 'miles', 'away', 'This', 'responsiveness', 'nothing', 'flabby', 'impressionability', 'dignified', 'name', '``', 'creative', 'temperament', \"''\", '--', 'extraordinary', 'gift', 'hope', 'romantic', 'readiness', 'I', 'never', 'found', 'person', 'likely', 'I', 'shall', 'ever', 'find', 'No', '--', 'Gatsby', 'turned', 'right', 'end', 'preyed', 'Gatsby', 'foul', 'dust', 'floated', 'wake', 'dreams', 'temporarily', 'closed', 'interest', 'abortive', 'sorrows', 'short-winded', 'elations', 'men']\n"
     ]
    }
   ],
   "source": [
    "import nltk\n",
    "from nltk.corpus import stopwords\n",
    "import string\n",
    "\n",
    "stop = stopwords.words('english') + list(string.punctuation)\n",
    "\n",
    "sentence_stream = [[i for i in nltk.word_tokenize(sent) if i not in stop]  for sent in sentences]\n",
    "bigram = Phrases(sentence_stream, min_count=2, threshold=3, delimiter=b' ')\n",
    "bigram_phraser = Phraser(bigram)\n",
    "tokens_ = bigram_phraser[sentence_stream]\n",
    "\n",
    "bigrams_t = tokens_\n",
    "\n",
    "bigrams_o = [i for j in bigrams_t for i in j]\n",
    "print(bigrams_o)"
   ]
  },
  {
   "cell_type": "code",
   "execution_count": 10,
   "metadata": {},
   "outputs": [
    {
     "name": "stdout",
     "output_type": "stream",
     "text": [
      "done!\n"
     ]
    }
   ],
   "source": [
    "# Removing stop words and punctuation, then getting a list of all unique words in the text\n",
    "gatsby_filt_2 = [word for word in bigrams_o if word not in stop]\n",
    "words2=set(gatsby_filt_2)\n",
    "\n",
    "#Creating a grid indicating whether words are within 4 places of the target word\n",
    "adjacency2=pd.DataFrame(columns=words2,index=words2,data=0)\n",
    "\n",
    "#Iterating through each word in the text and indicating which of the unique words are its neighbors\n",
    "for i,word in enumerate(bigrams_o):\n",
    "    # Checking if any of the word's next four neighbors are in the word list \n",
    "    if any([word == item for item in gatsby_filt_2]):\n",
    "        # Making sure to stop at the end of the string, even if there are less than \n",
    "        # four words left after the target.\n",
    "        end=max(0,len(bigrams_o)-(len(bigrams_o)-(i+6)))\n",
    "        # The potential neighbors.\n",
    "        nextwords=bigrams_o[i+1:end]\n",
    "        # Filtering the neighbors to select only those in the word list\n",
    "        inset=[x in gatsby_filt_2 for x in nextwords]\n",
    "        neighbors=[nextwords[i] for i in range(len(nextwords)) if inset[i]]\n",
    "        # Adding 1 to the adjacency matrix for neighbors of the target word\n",
    "        if neighbors:\n",
    "            adjacency2.loc[word,neighbors]=adjacency2.loc[word,neighbors]+1\n",
    "\n",
    "print('done!')\n"
   ]
  },
  {
   "cell_type": "code",
   "execution_count": 11,
   "metadata": {},
   "outputs": [
    {
     "name": "stderr",
     "output_type": "stream",
     "text": [
      "/anaconda3/lib/python3.6/site-packages/ipykernel_launcher.py:3: FutureWarning: Method .as_matrix will be removed in a future version. Use .values instead.\n",
      "  This is separate from the ipykernel package so we can avoid doing imports until\n"
     ]
    },
    {
     "name": "stdout",
     "output_type": "stream",
     "text": [
      "[(0.016056189465482724, unaffected), (0.009210073521324785, reserved), (0.008191313902523811, elations), (0.007422776828988007, sleep), (0.00737784136217859, suppressions)]\n"
     ]
    }
   ],
   "source": [
    "\n",
    "# Running TextRank\n",
    "nx_words2 = nx.from_numpy_matrix(adjacency2.as_matrix())\n",
    "ranks2=nx.pagerank(nx_words2, alpha=.85, tol=.00000001)\n",
    "\n",
    "# Identifying the five most highly ranked keywords\n",
    "ranked2 = sorted(((ranks2[i],s) for i,s in enumerate(words)),\n",
    "                reverse=True)\n",
    "print(ranked2[:5])\n"
   ]
  },
  {
   "cell_type": "markdown",
   "metadata": {},
   "source": [
    "on trigrams (generated directly below)"
   ]
  },
  {
   "cell_type": "code",
   "execution_count": 12,
   "metadata": {},
   "outputs": [],
   "source": [
    "trigram = Phrases(tokens_, min_count=2, threshold=2, delimiter=b' ')\n",
    "trigram_phraser = Phraser(trigram)\n",
    "tokens__ = trigram_phraser[tokens_]\n",
    "\n",
    "all_words = [i for j in tokens__ for i in j]\n",
    "#print(all_words)"
   ]
  },
  {
   "cell_type": "code",
   "execution_count": 13,
   "metadata": {},
   "outputs": [
    {
     "name": "stdout",
     "output_type": "stream",
     "text": [
      "done!\n"
     ]
    }
   ],
   "source": [
    "# Removing stop words and punctuation, then getting a list of all unique words in the text\n",
    "gatsby_filt_2 = [word for word in all_words if word not in stop]\n",
    "words2=set(gatsby_filt_2)\n",
    "\n",
    "#Creating a grid indicating whether words are within 4 places of the target word\n",
    "adjacency2=pd.DataFrame(columns=words2,index=words2,data=0)\n",
    "\n",
    "#Iterating through each word in the text and indicating which of the unique words are its neighbors\n",
    "for i,word in enumerate(all_words):\n",
    "    # Checking if any of the word's next four neighbors are in the word list \n",
    "    if any([word == item for item in gatsby_filt_2]):\n",
    "        # Making sure to stop at the end of the string, even if there are less than \n",
    "        # four words left after the target.\n",
    "        end=max(0,len(all_words)-(len(all_words)-(i+6)))\n",
    "        # The potential neighbors.\n",
    "        nextwords=all_words[i+1:end]\n",
    "        # Filtering the neighbors to select only those in the word list\n",
    "        inset=[x in gatsby_filt_2 for x in nextwords]\n",
    "        neighbors=[nextwords[i] for i in range(len(nextwords)) if inset[i]]\n",
    "        # Adding 1 to the adjacency matrix for neighbors of the target word\n",
    "        if neighbors:\n",
    "            adjacency2.loc[word,neighbors]=adjacency2.loc[word,neighbors]+1\n",
    "\n",
    "print('done!')\n"
   ]
  },
  {
   "cell_type": "code",
   "execution_count": 14,
   "metadata": {},
   "outputs": [
    {
     "name": "stderr",
     "output_type": "stream",
     "text": [
      "/anaconda3/lib/python3.6/site-packages/ipykernel_launcher.py:3: FutureWarning: Method .as_matrix will be removed in a future version. Use .values instead.\n",
      "  This is separate from the ipykernel package so we can avoid doing imports until\n"
     ]
    },
    {
     "name": "stdout",
     "output_type": "stream",
     "text": [
      "[(0.016056189465482724, unaffected), (0.009210073521324785, reserved), (0.008191313902523811, elations), (0.007422776828988007, sleep), (0.00737784136217859, suppressions)]\n"
     ]
    }
   ],
   "source": [
    "\n",
    "# Running TextRank\n",
    "nx_words2 = nx.from_numpy_matrix(adjacency2.as_matrix())\n",
    "ranks2=nx.pagerank(nx_words2, alpha=.85, tol=.00000001)\n",
    "\n",
    "# Identifying the five most highly ranked keywords\n",
    "ranked2 = sorted(((ranks2[i],s) for i,s in enumerate(words)),\n",
    "                reverse=True)\n",
    "print(ranked2[:5])\n"
   ]
  },
  {
   "cell_type": "code",
   "execution_count": null,
   "metadata": {},
   "outputs": [],
   "source": [
    "# digrams\n",
    "\n",
    "import nltk\n",
    "\n",
    "#nltk.tag.sequential.NgramTagger(gatsby2, train=bigram, model=None, backoff=None, cutoff=0, verbose=False)\n",
    "\n",
    "#size = int(len(sentences) * 0.8)\n",
    "\n",
    "#train_sents = sentences[:size]\n",
    "#test_sents = sentences[size:]\n",
    "#unigram_tagger = nltk.UnigramTagger(train_sents)\n",
    "#unigram_tagger.evaluate(test_sents)"
   ]
  },
  {
   "cell_type": "code",
   "execution_count": null,
   "metadata": {},
   "outputs": [],
   "source": []
  }
 ],
 "metadata": {
  "hide_input": false,
  "kernelspec": {
   "display_name": "Python 3",
   "language": "python",
   "name": "python3"
  },
  "language_info": {
   "codemirror_mode": {
    "name": "ipython",
    "version": 3
   },
   "file_extension": ".py",
   "mimetype": "text/x-python",
   "name": "python",
   "nbconvert_exporter": "python",
   "pygments_lexer": "ipython3",
   "version": "3.6.5"
  }
 },
 "nbformat": 4,
 "nbformat_minor": 2
}
