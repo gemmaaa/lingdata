{
 "cells": [
  {
   "cell_type": "markdown",
   "metadata": {},
   "source": [
    "# 3.1.4 Model Comparison"
   ]
  },
  {
   "cell_type": "code",
   "execution_count": 21,
   "metadata": {},
   "outputs": [],
   "source": [
    "%matplotlib inline\n",
    "import numpy as np\n",
    "import pandas as pd\n",
    "import scipy\n",
    "import sklearn\n",
    "import matplotlib.pyplot as plt\n",
    "import seaborn as sns\n",
    "from sklearn import linear_model\n",
    "import math"
   ]
  },
  {
   "cell_type": "code",
   "execution_count": 22,
   "metadata": {},
   "outputs": [],
   "source": [
    "path = (\"/Users/gemma/Documents/data science/DS bootcamp/table_8_offenses_known_to_law_enforcement_new_york_by_city_2013.csv\"\n",
    "            )\n",
    "df = pd.read_csv(path, delimiter= ',', encoding='latin-1',header=0)\n"
   ]
  },
  {
   "cell_type": "code",
   "execution_count": 23,
   "metadata": {},
   "outputs": [
    {
     "name": "stdout",
     "output_type": "stream",
     "text": [
      "['City' 'Population' 'Violent\\ncrime'\n",
      " 'Murder and\\nnonnegligent\\nmanslaughter' 'Rape\\n(revised\\ndefinition)1'\n",
      " 'Rape\\n(legacy\\ndefinition)2' 'Robbery' 'Aggravated\\nassault'\n",
      " 'Property\\ncrime' 'Burglary' 'Larceny-\\ntheft' 'Motor\\nvehicle\\ntheft'\n",
      " 'Arson3']\n"
     ]
    }
   ],
   "source": [
    "# getting names of columns to access them more easily\n",
    "# and renaming murder because the name is messy\n",
    "\n",
    "colnames = df.columns.values\n",
    "print(colnames)\n"
   ]
  },
  {
   "cell_type": "code",
   "execution_count": 24,
   "metadata": {},
   "outputs": [],
   "source": [
    "# adding binary features - murder (or robbery) > 0 = 1, else 0\n",
    "\n",
    "df['Murder bin'] = np.where(df[colnames[3]]==0, 0, 1)\n",
    "df['Robbery bin'] = np.where(df['Robbery'] == 0, 0, 1)\n",
    "df['Aggravated asault bin'] = np.where(df['Aggravated\\nassault'] == 0,0,1)"
   ]
  },
  {
   "cell_type": "code",
   "execution_count": 25,
   "metadata": {},
   "outputs": [],
   "source": [
    "# making the data frame i'll use for the OLS regression\n",
    "\n",
    "crime = df.drop(labels=colnames[2:8], axis=1)\n",
    "crime.drop(labels=colnames[10:13], axis=1, inplace=True)"
   ]
  },
  {
   "cell_type": "code",
   "execution_count": 26,
   "metadata": {},
   "outputs": [],
   "source": [
    "# renaming the weirdly named columns\n",
    "\n",
    "crime.rename({'Murder bin': 'Murder', 'Robbery bin':'Robbery', \n",
    "              'Property\\ncrime': 'Propertycrime', 'Aggravated asault bin': 'A. assault'}, axis='columns',inplace=True)\n"
   ]
  },
  {
   "cell_type": "code",
   "execution_count": 27,
   "metadata": {},
   "outputs": [
    {
     "data": {
      "text/plain": [
       "City             object\n",
       "Population        int64\n",
       "Propertycrime     int64\n",
       "Burglary          int64\n",
       "Murder            int64\n",
       "Robbery           int64\n",
       "A. assault        int64\n",
       "dtype: object"
      ]
     },
     "execution_count": 27,
     "metadata": {},
     "output_type": "execute_result"
    }
   ],
   "source": [
    "# cleaning up population and property crime \n",
    "\n",
    "num_cleanup = ['Population', 'Propertycrime','Burglary'] \n",
    "\n",
    "# there's at least one cell (in Population) with just a space, so filling blanks with NaN\n",
    "crime = crime.replace(r'^\\s*$', np.nan, regex=True)\n",
    "\n",
    "# now dropping the row(s) that contain(s) the nan \n",
    "crime.dropna(axis=0, how='any', inplace=True)\n",
    "\n",
    "# dropping commas and making integers\n",
    "\n",
    "def cleanup(data_fr, numeric_str):\n",
    "    # getting rid of commas\n",
    "    data_fr[numeric_str] = data_fr[numeric_str].apply(lambda x: ''.join(list(filter(str.isdigit, str(x)))))\n",
    "\n",
    "    # finally! the series is an integer (checked in the cell below)\n",
    "    data_fr[numeric_str] = data_fr[numeric_str].astype(int)\n",
    "    \n",
    "    return\n",
    "\n",
    "for one in num_cleanup:\n",
    "    cleanup(crime, one)\n",
    "\n",
    "# double checking\n",
    "crime.dtypes\n"
   ]
  },
  {
   "cell_type": "code",
   "execution_count": 28,
   "metadata": {},
   "outputs": [],
   "source": [
    "# adding pop ^2 bc i didnt do that yet\n",
    "\n",
    "crime.insert(2, 'Popˆ2', crime['Population']**2, allow_duplicates=False)"
   ]
  },
  {
   "cell_type": "code",
   "execution_count": 29,
   "metadata": {},
   "outputs": [
    {
     "data": {
      "text/html": [
       "<div>\n",
       "<style scoped>\n",
       "    .dataframe tbody tr th:only-of-type {\n",
       "        vertical-align: middle;\n",
       "    }\n",
       "\n",
       "    .dataframe tbody tr th {\n",
       "        vertical-align: top;\n",
       "    }\n",
       "\n",
       "    .dataframe thead th {\n",
       "        text-align: right;\n",
       "    }\n",
       "</style>\n",
       "<table border=\"1\" class=\"dataframe\">\n",
       "  <thead>\n",
       "    <tr style=\"text-align: right;\">\n",
       "      <th></th>\n",
       "      <th>City</th>\n",
       "      <th>Population</th>\n",
       "      <th>Popˆ2</th>\n",
       "      <th>Propertycrime</th>\n",
       "      <th>Burglary</th>\n",
       "      <th>Murder</th>\n",
       "      <th>Robbery</th>\n",
       "      <th>A. assault</th>\n",
       "    </tr>\n",
       "  </thead>\n",
       "  <tbody>\n",
       "    <tr>\n",
       "      <th>0</th>\n",
       "      <td>Adams Village</td>\n",
       "      <td>1861</td>\n",
       "      <td>3463321</td>\n",
       "      <td>12</td>\n",
       "      <td>2</td>\n",
       "      <td>0</td>\n",
       "      <td>1</td>\n",
       "      <td>1</td>\n",
       "    </tr>\n",
       "    <tr>\n",
       "      <th>1</th>\n",
       "      <td>Addison Town and Village</td>\n",
       "      <td>2577</td>\n",
       "      <td>6640929</td>\n",
       "      <td>24</td>\n",
       "      <td>3</td>\n",
       "      <td>0</td>\n",
       "      <td>1</td>\n",
       "      <td>1</td>\n",
       "    </tr>\n",
       "    <tr>\n",
       "      <th>2</th>\n",
       "      <td>Akron Village</td>\n",
       "      <td>2846</td>\n",
       "      <td>8099716</td>\n",
       "      <td>16</td>\n",
       "      <td>1</td>\n",
       "      <td>0</td>\n",
       "      <td>1</td>\n",
       "      <td>1</td>\n",
       "    </tr>\n",
       "  </tbody>\n",
       "</table>\n",
       "</div>"
      ],
      "text/plain": [
       "                       City  Population    Popˆ2  Propertycrime  Burglary  \\\n",
       "0             Adams Village        1861  3463321             12         2   \n",
       "1  Addison Town and Village        2577  6640929             24         3   \n",
       "2             Akron Village        2846  8099716             16         1   \n",
       "\n",
       "   Murder  Robbery  A. assault  \n",
       "0       0        1           1  \n",
       "1       0        1           1  \n",
       "2       0        1           1  "
      ]
     },
     "execution_count": 29,
     "metadata": {},
     "output_type": "execute_result"
    }
   ],
   "source": [
    "crime.head(3)"
   ]
  },
  {
   "cell_type": "markdown",
   "metadata": {},
   "source": [
    "# OLS Regression"
   ]
  },
  {
   "cell_type": "code",
   "execution_count": 31,
   "metadata": {},
   "outputs": [
    {
     "name": "stdout",
     "output_type": "stream",
     "text": [
      "With 20% Holdout: -432.9860601786066\n",
      "Testing on Sample: 0.999576580943301\n"
     ]
    }
   ],
   "source": [
    "# holdout groups\n",
    "\n",
    "data = crime[['Population','Popˆ2','Murder','Robbery','Burglary']]\n",
    "target = crime['Propertycrime'] \n",
    "\n",
    "from sklearn.model_selection import train_test_split\n",
    "# Use train_test_split to create the necessary training and test groups\n",
    "X_train, X_test, y_train, y_test = train_test_split(data, target, test_size=0.2, random_state=20)\n",
    "\n",
    "regr = linear_model.LinearRegression()\n",
    "\n",
    "print('With 20% Holdout: ' + str(regr.fit(X_train, y_train).score(X_test, y_test)))\n",
    "print('Testing on Sample: ' + str(regr.fit(data, target).score(data, target)))"
   ]
  },
  {
   "cell_type": "markdown",
   "metadata": {},
   "source": [
    "A first attempt at the OLS model shows a very mixed r squared value with 20% holdout. "
   ]
  },
  {
   "cell_type": "code",
   "execution_count": 32,
   "metadata": {},
   "outputs": [
    {
     "data": {
      "text/plain": [
       "array([   0.938554  ,    0.98519169,    0.84341985,    0.89958785,\n",
       "          0.89559403,    0.93098549, -299.41182903,    0.99072378,\n",
       "          0.99333016,    0.79445254])"
      ]
     },
     "execution_count": 32,
     "metadata": {},
     "output_type": "execute_result"
    }
   ],
   "source": [
    "from sklearn.model_selection import cross_val_score\n",
    "cross_val_score(regr, data, target, cv=10)\n",
    "\n"
   ]
  },
  {
   "cell_type": "markdown",
   "metadata": {},
   "source": [
    "Additionally, I cross validated the model. Overall, they values within a reasonable range of each other, with the exception of one outlier. It appears like this may be due to an outlier in the data, and some features that are not linear. \n",
    "\n",
    "Below, I removed the outlier and tried to transform the data in order to improve the model's accuracy."
   ]
  },
  {
   "cell_type": "code",
   "execution_count": 34,
   "metadata": {},
   "outputs": [],
   "source": [
    "# looks like there's an outlier skewing the results\n",
    "\n",
    "max(crime['Propertycrime'].unique().tolist())\n",
    "\n",
    "# finding where the outlier is\n",
    "\n",
    "crime[crime['Propertycrime'] == 141971]\n",
    "\n",
    "# dropping it\n",
    "\n",
    "crime.drop([216], inplace=True)"
   ]
  },
  {
   "cell_type": "code",
   "execution_count": 35,
   "metadata": {},
   "outputs": [
    {
     "data": {
      "image/png": "[encoded data removed]",
      "text/plain": [
       "<matplotlib.figure.Figure at 0x1152ffba8>"
      ]
     },
     "metadata": {},
     "output_type": "display_data"
    }
   ],
   "source": [
    "def my2ndform(value):\n",
    "    return value**1/3\n",
    "    \n",
    "\n",
    "crime['cubeRTpop'] = crime['Population'].apply(my2ndform)\n",
    "\n",
    "plt.scatter(crime['cubeRTpop'],  crime['Propertycrime'].values.reshape(-1, 1))\n",
    "plt.title('Transformed values linearity')\n",
    "plt.xlabel('Transformed population - cubed root of population')\n",
    "plt.ylabel('Propertycrime')\n",
    "plt.show()"
   ]
  },
  {
   "cell_type": "markdown",
   "metadata": {},
   "source": [
    "Applying the transformation to the population (using the cubed root of the population and removing the outlier) was an attempt to make the data linear, in order to best suit the OLS model. It appears like getting the cubed root of the population was successful in making the data linear."
   ]
  },
  {
   "cell_type": "code",
   "execution_count": 36,
   "metadata": {},
   "outputs": [],
   "source": [
    "import statsmodels.formula.api as smf\n",
    "from statsmodels.sandbox.regression.predstd import wls_prediction_std\n"
   ]
  },
  {
   "cell_type": "code",
   "execution_count": 37,
   "metadata": {},
   "outputs": [
    {
     "name": "stdout",
     "output_type": "stream",
     "text": [
      "Parameters \n",
      "\n",
      "Intercept    10.491039\n",
      "cubeRTpop     0.030296\n",
      "Burglary      2.966738\n",
      "dtype: float64\n",
      "\n",
      "\n",
      "P values \n",
      "\n",
      "Intercept     3.116635e-01\n",
      "cubeRTpop     3.876539e-53\n",
      "Burglary     2.728687e-167\n",
      "dtype: float64\n",
      "\n",
      "R Squared\n",
      "\n",
      "0.9767013450346452\n"
     ]
    },
    {
     "data": {
      "text/html": [
       "<div>\n",
       "<style scoped>\n",
       "    .dataframe tbody tr th:only-of-type {\n",
       "        vertical-align: middle;\n",
       "    }\n",
       "\n",
       "    .dataframe tbody tr th {\n",
       "        vertical-align: top;\n",
       "    }\n",
       "\n",
       "    .dataframe thead th {\n",
       "        text-align: right;\n",
       "    }\n",
       "</style>\n",
       "<table border=\"1\" class=\"dataframe\">\n",
       "  <thead>\n",
       "    <tr style=\"text-align: right;\">\n",
       "      <th></th>\n",
       "      <th>0</th>\n",
       "      <th>1</th>\n",
       "    </tr>\n",
       "  </thead>\n",
       "  <tbody>\n",
       "    <tr>\n",
       "      <th>Intercept</th>\n",
       "      <td>-9.874231</td>\n",
       "      <td>30.856309</td>\n",
       "    </tr>\n",
       "    <tr>\n",
       "      <th>cubeRTpop</th>\n",
       "      <td>0.027058</td>\n",
       "      <td>0.033534</td>\n",
       "    </tr>\n",
       "    <tr>\n",
       "      <th>Burglary</th>\n",
       "      <td>2.856416</td>\n",
       "      <td>3.077061</td>\n",
       "    </tr>\n",
       "  </tbody>\n",
       "</table>\n",
       "</div>"
      ],
      "text/plain": [
       "                  0          1\n",
       "Intercept -9.874231  30.856309\n",
       "cubeRTpop  0.027058   0.033534\n",
       "Burglary   2.856416   3.077061"
      ]
     },
     "execution_count": 37,
     "metadata": {},
     "output_type": "execute_result"
    }
   ],
   "source": [
    "linear_formula4 = 'Propertycrime ~ cubeRTpop+Burglary'\n",
    "\n",
    "lm5 = smf.ols(formula=linear_formula4, data=crime).fit()\n",
    "\n",
    "print('Parameters \\n\\n{}'.format(lm5.params))\n",
    "print('\\n\\nP values \\n\\n{}'.format(lm5.pvalues))\n",
    "print('\\nR Squared\\n\\n{}'.format(lm5.rsquared))\n",
    "\n",
    "lm5.conf_int()"
   ]
  },
  {
   "cell_type": "markdown",
   "metadata": {},
   "source": [
    "After rerunning the model, it looks like the p values, coefficients, and the r squared value are all improved. The table, which shows the confidence intervals, is also very good becasue the values in 0 and 1 do not cross zero and are a small range."
   ]
  },
  {
   "cell_type": "code",
   "execution_count": 38,
   "metadata": {
    "scrolled": false
   },
   "outputs": [
    {
     "data": {
      "text/html": [
       "<table class=\"simpletable\">\n",
       "<caption>OLS Regression Results</caption>\n",
       "<tr>\n",
       "  <th>Dep. Variable:</th>      <td>Propertycrime</td>  <th>  R-squared:         </th> <td>   0.977</td> \n",
       "</tr>\n",
       "<tr>\n",
       "  <th>Model:</th>                   <td>OLS</td>       <th>  Adj. R-squared:    </th> <td>   0.977</td> \n",
       "</tr>\n",
       "<tr>\n",
       "  <th>Method:</th>             <td>Least Squares</td>  <th>  F-statistic:       </th> <td>   7210.</td> \n",
       "</tr>\n",
       "<tr>\n",
       "  <th>Date:</th>             <td>Mon, 07 May 2018</td> <th>  Prob (F-statistic):</th> <td>1.52e-281</td>\n",
       "</tr>\n",
       "<tr>\n",
       "  <th>Time:</th>                 <td>20:07:16</td>     <th>  Log-Likelihood:    </th> <td> -2248.3</td> \n",
       "</tr>\n",
       "<tr>\n",
       "  <th>No. Observations:</th>      <td>   347</td>      <th>  AIC:               </th> <td>   4503.</td> \n",
       "</tr>\n",
       "<tr>\n",
       "  <th>Df Residuals:</th>          <td>   344</td>      <th>  BIC:               </th> <td>   4514.</td> \n",
       "</tr>\n",
       "<tr>\n",
       "  <th>Df Model:</th>              <td>     2</td>      <th>                     </th>     <td> </td>    \n",
       "</tr>\n",
       "<tr>\n",
       "  <th>Covariance Type:</th>      <td>nonrobust</td>    <th>                     </th>     <td> </td>    \n",
       "</tr>\n",
       "</table>\n",
       "<table class=\"simpletable\">\n",
       "<tr>\n",
       "      <td></td>         <th>coef</th>     <th>std err</th>      <th>t</th>      <th>P>|t|</th>  <th>[0.025</th>    <th>0.975]</th>  \n",
       "</tr>\n",
       "<tr>\n",
       "  <th>Intercept</th> <td>   10.4910</td> <td>   10.354</td> <td>    1.013</td> <td> 0.312</td> <td>   -9.874</td> <td>   30.856</td>\n",
       "</tr>\n",
       "<tr>\n",
       "  <th>cubeRTpop</th> <td>    0.0303</td> <td>    0.002</td> <td>   18.403</td> <td> 0.000</td> <td>    0.027</td> <td>    0.034</td>\n",
       "</tr>\n",
       "<tr>\n",
       "  <th>Burglary</th>  <td>    2.9667</td> <td>    0.056</td> <td>   52.893</td> <td> 0.000</td> <td>    2.856</td> <td>    3.077</td>\n",
       "</tr>\n",
       "</table>\n",
       "<table class=\"simpletable\">\n",
       "<tr>\n",
       "  <th>Omnibus:</th>       <td>140.960</td> <th>  Durbin-Watson:     </th> <td>   1.941</td>\n",
       "</tr>\n",
       "<tr>\n",
       "  <th>Prob(Omnibus):</th> <td> 0.000</td>  <th>  Jarque-Bera (JB):  </th> <td>3011.306</td>\n",
       "</tr>\n",
       "<tr>\n",
       "  <th>Skew:</th>          <td> 1.145</td>  <th>  Prob(JB):          </th> <td>    0.00</td>\n",
       "</tr>\n",
       "<tr>\n",
       "  <th>Kurtosis:</th>      <td>17.249</td>  <th>  Cond. No.          </th> <td>1.28e+04</td>\n",
       "</tr>\n",
       "</table>"
      ],
      "text/plain": [
       "<class 'statsmodels.iolib.summary.Summary'>\n",
       "\"\"\"\n",
       "                            OLS Regression Results                            \n",
       "==============================================================================\n",
       "Dep. Variable:          Propertycrime   R-squared:                       0.977\n",
       "Model:                            OLS   Adj. R-squared:                  0.977\n",
       "Method:                 Least Squares   F-statistic:                     7210.\n",
       "Date:                Mon, 07 May 2018   Prob (F-statistic):          1.52e-281\n",
       "Time:                        20:07:16   Log-Likelihood:                -2248.3\n",
       "No. Observations:                 347   AIC:                             4503.\n",
       "Df Residuals:                     344   BIC:                             4514.\n",
       "Df Model:                           2                                         \n",
       "Covariance Type:            nonrobust                                         \n",
       "==============================================================================\n",
       "                 coef    std err          t      P>|t|      [0.025      0.975]\n",
       "------------------------------------------------------------------------------\n",
       "Intercept     10.4910     10.354      1.013      0.312      -9.874      30.856\n",
       "cubeRTpop      0.0303      0.002     18.403      0.000       0.027       0.034\n",
       "Burglary       2.9667      0.056     52.893      0.000       2.856       3.077\n",
       "==============================================================================\n",
       "Omnibus:                      140.960   Durbin-Watson:                   1.941\n",
       "Prob(Omnibus):                  0.000   Jarque-Bera (JB):             3011.306\n",
       "Skew:                           1.145   Prob(JB):                         0.00\n",
       "Kurtosis:                      17.249   Cond. No.                     1.28e+04\n",
       "==============================================================================\n",
       "\n",
       "Warnings:\n",
       "[1] Standard Errors assume that the covariance matrix of the errors is correctly specified.\n",
       "[2] The condition number is large, 1.28e+04. This might indicate that there are\n",
       "strong multicollinearity or other numerical problems.\n",
       "\"\"\""
      ]
     },
     "execution_count": 38,
     "metadata": {},
     "output_type": "execute_result"
    }
   ],
   "source": [
    "lm5.summary()"
   ]
  },
  {
   "cell_type": "markdown",
   "metadata": {},
   "source": [
    "A summary shows that the revised OLS model seems to be pretty accurate. Below, I just check one last time with the 20% holdout."
   ]
  },
  {
   "cell_type": "code",
   "execution_count": 49,
   "metadata": {},
   "outputs": [
    {
     "name": "stdout",
     "output_type": "stream",
     "text": [
      "With 20% Holdout: -432.9860601786066\n",
      "Testing on Sample: 0.9767380600873643\n"
     ]
    }
   ],
   "source": [
    "data_2 = crime[['cubeRTpop', 'Population', 'Murder','Burglary']]\n",
    "target_2 = crime['Propertycrime'] \n",
    "\n",
    "# Use train_test_split to create the necessary training and test groups\n",
    "X_2_train, X_2_test, y_2_train, y_2_test = train_test_split(data, target, test_size=0.2, random_state=20)\n",
    "\n",
    "regr = linear_model.LinearRegression()\n",
    "\n",
    "print('With 20% Holdout: ' + str(regr.fit(X_2_train, y_2_train).score(X_2_test, y_2_test)))\n",
    "print('Testing on Sample: ' + str(regr.fit(data_2, target_2).score(data_2, target_2)))"
   ]
  },
  {
   "cell_type": "markdown",
   "metadata": {},
   "source": [
    "# K Nearest Neighbors Regression"
   ]
  },
  {
   "cell_type": "code",
   "execution_count": 42,
   "metadata": {},
   "outputs": [
    {
     "name": "stderr",
     "output_type": "stream",
     "text": [
      "/Library/Frameworks/Python.framework/Versions/3.6/lib/python3.6/site-packages/ipykernel_launcher.py:5: FutureWarning: reshape is deprecated and will raise in a subsequent release. Please use .values.reshape(...) instead\n",
      "  \"\"\"\n"
     ]
    },
    {
     "data": {
      "image/png": "[encoded data removed]",
      "text/plain": [
       "<matplotlib.figure.Figure at 0x1154aedd8>"
      ]
     },
     "metadata": {},
     "output_type": "display_data"
    }
   ],
   "source": [
    "from sklearn import neighbors\n",
    "\n",
    "# Build our model.\n",
    "knn = neighbors.KNeighborsRegressor(n_neighbors=10, weights='distance')\n",
    "X = crime['Burglary'].reshape(-1, 1)\n",
    "Y = crime['Propertycrime']\n",
    "knn.fit(X, Y)\n",
    "\n",
    "# Set up our prediction line.\n",
    "T = np.arange(0, 50, 0.1)[:, np.newaxis]\n",
    "\n",
    "# Trailing underscores are a common convention for a prediction.\n",
    "Y_ = knn.predict(T)\n",
    "\n",
    "plt.scatter(X, Y, c='k', label='data')\n",
    "plt.plot(T, Y_, c='g', label='prediction')\n",
    "plt.legend()\n",
    "plt.title('K=10, Unweighted')\n",
    "plt.show()"
   ]
  },
  {
   "cell_type": "markdown",
   "metadata": {},
   "source": [
    "The initital K Nearest Neighbors model used only the \"Burglary feature\". Above it shows the prediction line and the actual data points."
   ]
  },
  {
   "cell_type": "code",
   "execution_count": 44,
   "metadata": {},
   "outputs": [
    {
     "name": "stdout",
     "output_type": "stream",
     "text": [
      "Weighted Accuracy: 0.76 (+/- 0.14)\n",
      "\n",
      "With 20% Holdout: 0.8477538776093082\n",
      "Testing on Sample: 0.9951617776684435\n"
     ]
    }
   ],
   "source": [
    "score = cross_val_score(knn, X, Y, cv=5)\n",
    "print(\"Weighted Accuracy: %0.2f (+/- %0.2f)\" % (score.mean(), score.std() * 2))\n",
    "\n",
    "# w/ holdout groups\n",
    "target2 = Y\n",
    "data2 = X\n",
    "\n",
    "X_train2, X_test2, y_train2, y_test2 = train_test_split(data2, target2, test_size=0.2, random_state=20)\n",
    "\n",
    "print('\\nWith 20% Holdout: ' + str(knn.fit(X_train2, y_train2).score(X_test2, y_test2)))\n",
    "print('Testing on Sample: ' + str(knn.fit(data2, target2).score(data2, target2)))"
   ]
  },
  {
   "cell_type": "markdown",
   "metadata": {},
   "source": [
    "Using this first K Nearest Neihbors, the weighted accuracy was lower than that of the OLS regression, but using hte 20% holdout the accuracy was quite high."
   ]
  },
  {
   "cell_type": "code",
   "execution_count": 45,
   "metadata": {},
   "outputs": [
    {
     "name": "stdout",
     "output_type": "stream",
     "text": [
      "Weighted Accuracy: 0.59 (+/- 0.23)\n",
      "\n",
      "With 20% Holdout: 0.820983503890574\n",
      "Testing on Sample: 1.0\n"
     ]
    }
   ],
   "source": [
    "from sklearn import neighbors\n",
    "\n",
    "# Build our model.\n",
    "knn2 = neighbors.KNeighborsRegressor(n_neighbors=10, weights='distance')\n",
    "X2 = crime[['Burglary', 'cubeRTpop']]\n",
    "Y2 = crime['Propertycrime']\n",
    "knn2.fit(X2, Y2)\n",
    "\n",
    "score2 = cross_val_score(knn2, X2, Y2, cv=5)\n",
    "print(\"Weighted Accuracy: %0.2f (+/- %0.2f)\" % (score2.mean(), score2.std() * 2))\n",
    "\n",
    "# w/ holdout groups\n",
    "target3 = Y2\n",
    "data3 = X2\n",
    "\n",
    "X_train3, X_test3, y_train3, y_test3 = train_test_split(data3, target3, test_size=0.2, random_state=20)\n",
    "\n",
    "print('\\nWith 20% Holdout: ' + str(knn.fit(X_train3, y_train3).score(X_test3, y_test3)))\n",
    "print('Testing on Sample: ' + str(knn.fit(data3, target3).score(data3, target3)))"
   ]
  },
  {
   "cell_type": "markdown",
   "metadata": {},
   "source": [
    "It appears like adding in the second feature, the cubed root of Population, further decreases the accuracy of the model, which appears to be highly overfitted to the data."
   ]
  },
  {
   "cell_type": "markdown",
   "metadata": {},
   "source": [
    "## Model comparison"
   ]
  },
  {
   "cell_type": "markdown",
   "metadata": {},
   "source": [
    "<em>At the end in a markdown cell write a few paragraphs to describe the models' behaviors and why you favor one model or the other. Try to determine whether there is a situation where you would change your mind, or whether one is unambiguously better than the other. Lastly, try to note what it is about the data that causes the better model to outperform the weaker model. Submit a link to your notebook below.</em>"
   ]
  },
  {
   "cell_type": "code",
   "execution_count": null,
   "metadata": {},
   "outputs": [],
   "source": []
  }
 ],
 "metadata": {
  "kernelspec": {
   "display_name": "Python 3",
   "language": "python",
   "name": "python3"
  },
  "language_info": {
   "codemirror_mode": {
    "name": "ipython",
    "version": 3
   },
   "file_extension": ".py",
   "mimetype": "text/x-python",
   "name": "python",
   "nbconvert_exporter": "python",
   "pygments_lexer": "ipython3",
   "version": "3.6.0"
  }
 },
 "nbformat": 4,
 "nbformat_minor": 2
}
